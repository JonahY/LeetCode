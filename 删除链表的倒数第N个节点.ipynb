{
 "cells": [
  {
   "cell_type": "code",
   "execution_count": 28,
   "metadata": {},
   "outputs": [],
   "source": [
    "class ListNode:\n",
    "    def __init__(self, x):\n",
    "        self.val = x\n",
    "        self.next = None\n",
    "\n",
    "def removeNthFromEnd(head, n):\n",
    "    if not head:return \n",
    "    dummy = ListNode(0)    # 设置一个虚拟头结点；从虚拟头结点开始遍历\n",
    "    dummy.next = head\n",
    "    fast = dummy\n",
    "    while n:\n",
    "        fast = fast.next\n",
    "        n -= 1\n",
    "    slow = dummy\n",
    "    while  fast and fast.next:\n",
    "        fast = fast.next\n",
    "        slow = slow.next\n",
    "    slow.next = slow.next.next\n",
    "    return dummy.next"
   ]
  },
  {
   "cell_type": "markdown",
   "metadata": {},
   "source": [
    "用于生成链表："
   ]
  },
  {
   "cell_type": "code",
   "execution_count": 55,
   "metadata": {},
   "outputs": [],
   "source": [
    "def generateList(l: list) -> ListNode:\n",
    "    prenode = ListNode(0)\n",
    "    lastnode = prenode\n",
    "    for val in l:\n",
    "        lastnode.next = ListNode(val)\n",
    "#         lastnode = lastnode.next\n",
    "        lastnode = ListNode(val)\n",
    "    return prenode.next"
   ]
  },
  {
   "cell_type": "markdown",
   "metadata": {},
   "source": [
    "用于显示链表："
   ]
  },
  {
   "cell_type": "code",
   "execution_count": 52,
   "metadata": {},
   "outputs": [],
   "source": [
    "def printList(l: ListNode):\n",
    "    while l:\n",
    "        print(\"%d\" %(l.val), end='')\n",
    "        l = l.next"
   ]
  },
  {
   "cell_type": "code",
   "execution_count": 56,
   "metadata": {},
   "outputs": [],
   "source": [
    "solution = Solution()\n",
    "list = [1,2,3,4,5]\n",
    "head = generateList(list)\n",
    "n = 2\n",
    "listnode = solution.removeNthFromEnd(head, n)\n",
    "printList(listnode)"
   ]
  }
 ],
 "metadata": {
  "kernelspec": {
   "display_name": "Python [conda env:root] *",
   "language": "python",
   "name": "conda-root-py"
  },
  "language_info": {
   "codemirror_mode": {
    "name": "ipython",
    "version": 3
   },
   "file_extension": ".py",
   "mimetype": "text/x-python",
   "name": "python",
   "nbconvert_exporter": "python",
   "pygments_lexer": "ipython3",
   "version": "3.7.3"
  }
 },
 "nbformat": 4,
 "nbformat_minor": 2
}
