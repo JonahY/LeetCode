{
 "cells": [
  {
   "cell_type": "markdown",
   "metadata": {},
   "source": [
    "**[LeetCode Link](https://leetcode-cn.com/problems/symmetric-tree/solution/dfs-shen-ru-qian-chu-101-dui-cheng-er-cha-shu-by-f/)**"
   ]
  },
  {
   "cell_type": "markdown",
   "metadata": {},
   "source": [
    "###  递归\n",
    "* 它们的两个根结点具有相同的值\n",
    "* 每个树的右子树都与另一个树的左子树镜像对称\n",
    "\n",
    "#### 复杂度分析\n",
    "* 时间复杂度：O(N)，其中 N 为节点数。\n",
    "* 间复杂度：递归的深度最高为节点数，因此空间复杂度是 O(N)，其中 N 为节点数。"
   ]
  },
  {
   "cell_type": "code",
   "execution_count": null,
   "metadata": {},
   "outputs": [],
   "source": [
    "class Solution:\n",
    "    def isSymmetric(self, root: TreeNode) -> bool:\n",
    "        \n",
    "        def equal(tree1, tree2):\n",
    "            if not tree1 and not tree2:\n",
    "                return True\n",
    "            if not tree1 or not tree2:\n",
    "                return False\n",
    "            if tree1.val == tree2.val:\n",
    "                outer = equal(tree1.left, tree2.right)\n",
    "                inner = equal(tree1.right, tree2.left)\n",
    "                return outer and inner\n",
    "            return False\n",
    "        \n",
    "        if not root:\n",
    "            return True\n",
    "        return equal(root.left, root.right)"
   ]
  }
 ],
 "metadata": {
  "kernelspec": {
   "display_name": "Python [default]",
   "language": "python",
   "name": "python3"
  },
  "language_info": {
   "codemirror_mode": {
    "name": "ipython",
    "version": 3
   },
   "file_extension": ".py",
   "mimetype": "text/x-python",
   "name": "python",
   "nbconvert_exporter": "python",
   "pygments_lexer": "ipython3",
   "version": "3.6.5"
  },
  "varInspector": {
   "cols": {
    "lenName": 16,
    "lenType": 16,
    "lenVar": 40
   },
   "kernels_config": {
    "python": {
     "delete_cmd_postfix": "",
     "delete_cmd_prefix": "del ",
     "library": "var_list.py",
     "varRefreshCmd": "print(var_dic_list())"
    },
    "r": {
     "delete_cmd_postfix": ") ",
     "delete_cmd_prefix": "rm(",
     "library": "var_list.r",
     "varRefreshCmd": "cat(var_dic_list()) "
    }
   },
   "types_to_exclude": [
    "module",
    "function",
    "builtin_function_or_method",
    "instance",
    "_Feature"
   ],
   "window_display": false
  }
 },
 "nbformat": 4,
 "nbformat_minor": 2
}
