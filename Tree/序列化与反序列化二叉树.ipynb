{
 "cells": [
  {
   "cell_type": "markdown",
   "metadata": {},
   "source": [
    "**[LeetCode Link](https://leetcode-cn.com/problems/serialize-and-deserialize-binary-tree/solution/ceng-xu-bian-li-by-tinylife/)**\n",
    "\n",
    "**[LeetCode Link](https://leetcode-cn.com/problems/serialize-and-deserialize-binary-tree/solution/shou-hui-tu-jie-gei-chu-dfshe-bfsliang-chong-jie-f/)**"
   ]
  },
  {
   "cell_type": "markdown",
   "metadata": {},
   "source": [
    "## 层序遍历\n",
    "* **序列化：**例子给的序列化过程是二叉树的层序遍历(广度优先)过程，那我也用层序遍历吧，实际上，你可以采用任意方式，比如深度优先的方式，不会层序遍历可以做一做102题二叉树的层序遍历，我们利用队列依次将每一层的节点压入和弹出，保证了层序，压入过程压入该层节点的所有子节点，弹出过程弹出该层所有节点，因为这里只需要序列化，我们不必知道节点是哪一层的，所以只需要清空队列即可。\n",
    "* **反序列化：**反序列化的过程同样需要队列，这个过程是我们模拟序列化的过程，然后依次将val值给我们构建的二叉树节点。\n",
    "* **留意函数输入和输出数据的类型：**序列化输出字符串，反序列化输入为字符串，不是直接拿来就用，或者直接返回数组就行，要进行一次字符串和数组的转换。"
   ]
  },
  {
   "cell_type": "code",
   "execution_count": null,
   "metadata": {},
   "outputs": [],
   "source": [
    "class Codec:\n",
    "\n",
    "    def serialize(self, root):\n",
    "        \"\"\"Encodes a tree to a single string.\n",
    "        \n",
    "        :type root: TreeNode\n",
    "        :rtype: str\n",
    "        \"\"\"\n",
    "        if not root: return '[]'\n",
    "        queue = collections.deque()\n",
    "        queue.append(root)\n",
    "        res = []\n",
    "        while queue:\n",
    "            node = queue.popleft()\n",
    "            if node:\n",
    "                res.append(str(node.val))\n",
    "                queue.append(node.left)\n",
    "                queue.append(node.right)\n",
    "            else: res.append(\"null\")\n",
    "        return '[' + ','.join(res) + ']'\n",
    "\n",
    "\n",
    "    def deserialize(self, data):\n",
    "        \"\"\"Decodes your encoded data to tree.\n",
    "        \n",
    "        :type data: str\n",
    "        :rtype: TreeNode\n",
    "        \"\"\"\n",
    "        if data == '[]':\n",
    "            return None\n",
    "        root = TreeNode(data[1:-1].split(',')[0])\n",
    "        data = deque(data[1:-1].split(',')[1:])\n",
    "        stack = deque([root])\n",
    "        while stack:\n",
    "            cur = stack.popleft()\n",
    "            left = data.popleft()\n",
    "            right = data.popleft()\n",
    "            if left != 'null':\n",
    "                left = TreeNode(left)\n",
    "                cur.left = left\n",
    "                stack.append(left)\n",
    "            if right != 'null':\n",
    "                right = TreeNode(right)\n",
    "                cur.right = right\n",
    "                stack.append(right)\n",
    "        return root"
   ]
  },
  {
   "cell_type": "markdown",
   "metadata": {},
   "source": [
    "## DFS前序遍历"
   ]
  },
  {
   "cell_type": "code",
   "execution_count": null,
   "metadata": {},
   "outputs": [],
   "source": [
    "class Codec:\n",
    "    res = str()\n",
    "    def serialize(self, root: TreeNode) -> str:\n",
    "        \"\"\"Encodes a tree to a single string.\n",
    "        \"\"\"\n",
    "        if root == None: return 'null,'\n",
    "        leftserilized = self.serialize(root.left)\n",
    "        rightserilized = self.serialize(root.right)\n",
    "        return str(root.val) + ',' + leftserilized + rightserilized\n",
    "        \n",
    "\n",
    "    def deserialize(self, data):\n",
    "        \"\"\"Decodes your encoded data to tree.\n",
    "        \n",
    "        :type data: str\n",
    "        :rtype: TreeNode\n",
    "        \"\"\"\n",
    "        data = data.split(',')\n",
    "        data = deque(data)\n",
    "        root = self.buildTree(data)\n",
    "        return root \n",
    "\n",
    "    \n",
    "    def buildTree(self,data):\n",
    "        val = data.popleft()\n",
    "        if val == 'null': return None\n",
    "        node = TreeNode(val)\n",
    "        node.left = self.buildTree(data)\n",
    "        node.right = self.buildTree(data)\n",
    "        return node"
   ]
  }
 ],
 "metadata": {
  "kernelspec": {
   "display_name": "Python [default]",
   "language": "python",
   "name": "python3"
  },
  "language_info": {
   "codemirror_mode": {
    "name": "ipython",
    "version": 3
   },
   "file_extension": ".py",
   "mimetype": "text/x-python",
   "name": "python",
   "nbconvert_exporter": "python",
   "pygments_lexer": "ipython3",
   "version": "3.6.5"
  },
  "varInspector": {
   "cols": {
    "lenName": 16,
    "lenType": 16,
    "lenVar": 40
   },
   "kernels_config": {
    "python": {
     "delete_cmd_postfix": "",
     "delete_cmd_prefix": "del ",
     "library": "var_list.py",
     "varRefreshCmd": "print(var_dic_list())"
    },
    "r": {
     "delete_cmd_postfix": ") ",
     "delete_cmd_prefix": "rm(",
     "library": "var_list.r",
     "varRefreshCmd": "cat(var_dic_list()) "
    }
   },
   "types_to_exclude": [
    "module",
    "function",
    "builtin_function_or_method",
    "instance",
    "_Feature"
   ],
   "window_display": false
  }
 },
 "nbformat": 4,
 "nbformat_minor": 4
}
