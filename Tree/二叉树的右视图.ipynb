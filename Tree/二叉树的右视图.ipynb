{
 "cells": [
  {
   "cell_type": "markdown",
   "metadata": {},
   "source": [
    "**[LeetCode Link](https://leetcode-cn.com/problems/binary-tree-right-side-view/solution/er-cha-shu-de-you-shi-tu-by-leetcode-solution/)**"
   ]
  },
  {
   "cell_type": "markdown",
   "metadata": {},
   "source": [
    "## DFS\n",
    "### 思路\n",
    "我们对树进行深度优先搜索，在搜索过程中，我们总是先访问右子树。那么对于每一层来说，我们在这层见到的第一个结点一定是最右边的结点。\n",
    "### 杂度分析\n",
    "* 时间复杂度 : O(n)。深度优先搜索最多访问每个结点一次，因此是线性复杂度。\n",
    "* 空间复杂度 : O(n)。最坏情况下，栈内会包含接近树高度的结点数量，占用 O(n) 的空间。"
   ]
  },
  {
   "cell_type": "code",
   "execution_count": null,
   "metadata": {},
   "outputs": [],
   "source": [
    "class Solution(object):\n",
    "    def rightSideView(self, root):\n",
    "        rightmost_value_at_depth = dict() # 深度为索引，存放节点的值\n",
    "        max_depth = -1\n",
    "\n",
    "        stack = [(root, 0)]\n",
    "        while stack:\n",
    "            node, depth = stack.pop()\n",
    "\n",
    "            if node is not None:\n",
    "                # 维护二叉树的最大深度\n",
    "                max_depth = max(max_depth, depth)\n",
    "\n",
    "                # 如果不存在对应深度的节点我们才插入\n",
    "                rightmost_value_at_depth.setdefault(depth, node.val)\n",
    "\n",
    "                stack.append((node.left, depth+1))\n",
    "                stack.append((node.right, depth+1))\n",
    "\n",
    "        return [rightmost_value_at_depth[depth] for depth in range(max_depth+1)]"
   ]
  },
  {
   "cell_type": "code",
   "execution_count": null,
   "metadata": {},
   "outputs": [],
   "source": [
    "class Solution(object):\n",
    "    def rightSideView(self, root):\n",
    "        res = []\n",
    "        depth = 0\n",
    "        def helper(root, cur):\n",
    "            nonlocal depth\n",
    "            if not root: return\n",
    "            if cur == depth: \n",
    "                res.append(root.val) \n",
    "                depth += 1\n",
    "            helper(root.right, cur + 1)\n",
    "            helper(root.left, cur + 1)\n",
    "        helper(root, 0)\n",
    "        return res"
   ]
  },
  {
   "cell_type": "markdown",
   "metadata": {},
   "source": [
    "## BFS\n",
    "### 思路\n",
    "我们可以对二叉树进行层次遍历，那么对于每层来说，最右边的结点一定是最后被遍历到的。二叉树的层次遍历可以用广度优先搜索实现。\n",
    "### 复杂度分析\n",
    "* 时间复杂度 : O(n)。 每个节点最多进队列一次，出队列一次，因此广度优先搜索的复杂度为线性。\n",
    "* 空间复杂度 : O(n)。每个节点最多进队列一次，所以队列长度最大不不超过 n，所以这里的空间代价为 O(n)。\n",
    "\n",
    "### 注释\n",
    "deque 数据类型来自于collections 模块，支持从头和尾部的常数时间 append/pop 操作。若使用 Python 的 list，通过 list.pop(0) 去除头部会消耗 O(n) 的时间。"
   ]
  },
  {
   "cell_type": "code",
   "execution_count": null,
   "metadata": {},
   "outputs": [],
   "source": [
    "from collections import deque\n",
    "\n",
    "class Solution(object):\n",
    "    def rightSideView(self, root):\n",
    "        rightmost_value_at_depth = dict() # 深度为索引，存放节点的值\n",
    "        max_depth = -1\n",
    "\n",
    "        queue = deque([(root, 0)])\n",
    "        while queue:\n",
    "            node, depth = queue.popleft()\n",
    "\n",
    "            if node is not None:\n",
    "                # 维护二叉树的最大深度\n",
    "                max_depth = max(max_depth, depth)\n",
    "\n",
    "                # 由于每一层最后一个访问到的节点才是我们要的答案，因此不断更新对应深度的信息即可\n",
    "                rightmost_value_at_depth[depth] = node.val\n",
    "\n",
    "                queue.append((node.left, depth+1))\n",
    "                queue.append((node.right, depth+1))\n",
    "\n",
    "        return [rightmost_value_at_depth[depth] for depth in range(max_depth+1)]"
   ]
  }
 ],
 "metadata": {
  "kernelspec": {
   "display_name": "Python 3",
   "language": "python",
   "name": "python3"
  },
  "language_info": {
   "codemirror_mode": {
    "name": "ipython",
    "version": 3
   },
   "file_extension": ".py",
   "mimetype": "text/x-python",
   "name": "python",
   "nbconvert_exporter": "python",
   "pygments_lexer": "ipython3",
   "version": "3.7.6"
  }
 },
 "nbformat": 4,
 "nbformat_minor": 4
}
