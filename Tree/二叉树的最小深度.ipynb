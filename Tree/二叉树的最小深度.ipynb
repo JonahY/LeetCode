{
 "cells": [
  {
   "cell_type": "markdown",
   "metadata": {},
   "source": [
    "**[LeetCode Link](https://leetcode-cn.com/problems/minimum-depth-of-binary-tree/solution/er-cha-shu-de-zui-xiao-shen-du-by-leetcode/)**"
   ]
  },
  {
   "cell_type": "markdown",
   "metadata": {},
   "source": [
    "## DFS递归\n",
    "递归结束条件\n",
    "* 叶子节点的定义是左孩子和右孩子都为 null 时叫做叶子节点\n",
    "* 当 root 节点左右孩子都为空时，返回 1\n",
    "* 当 root 节点左右孩子有一个为空时，返回不为空的孩子节点的深度\n",
    "* 当 root 节点左右孩子都不为空时，返回左右孩子较小深度的节点值\n",
    "\n",
    "### 复杂度分析\n",
    "* 时间复杂度：我们访问每个节点一次，时间复杂度为 O(N) ，其中 N 是节点个数。\n",
    "* 空间复杂度：最坏情况下，整棵树是非平衡的，例如每个节点都只有一个孩子，递归会调用 N （树的高度）次，因此栈的空间开销是 O(N) 。但在最好情况下，树是完全平衡的，高度只有log(N)，因此在这种情况下空间复杂度只有 O(log(N)) 。"
   ]
  },
  {
   "cell_type": "code",
   "execution_count": null,
   "metadata": {},
   "outputs": [],
   "source": [
    "class Solution:\n",
    "    def minDepth(self, root: TreeNode) -> int:\n",
    "        return self.recur(root)\n",
    "\n",
    "    def recur(self, root):\n",
    "        if not root: return 0\n",
    "        left = self.recur(root.left)\n",
    "        right = self.recur(root.right)\n",
    "        # 如果左孩子和右孩子有为空的情况，直接返回left + right + 1\n",
    "        if not root.left or not root.right: \n",
    "            return left + right + 1\n",
    "        # 如果都不为空，返回较小深度+1\n",
    "        else: \n",
    "            return min(left, right) + 1"
   ]
  },
  {
   "cell_type": "markdown",
   "metadata": {},
   "source": [
    "## DFS迭代\n",
    "对于每个节点，按照深度优先搜索的策略访问，同时在访问到叶子节点时更新最小深度。\n",
    "* 从一个包含根节点的栈开始，当前深度为 1 。\n",
    "* 然后开始迭代：弹出当前栈顶元素，将它的孩子节点压入栈中。当遇到叶子节点时更新最小深度。\n",
    "\n",
    "### 复杂度分析\n",
    "* 时间复杂度：每个节点恰好被访问一遍，复杂度为 O(N)。\n",
    "* 空间复杂度：最坏情况下我们会在栈中保存整棵树，此时空间复杂度为 O(N)。"
   ]
  },
  {
   "cell_type": "code",
   "execution_count": null,
   "metadata": {},
   "outputs": [],
   "source": [
    "class Solution:\n",
    "    def minDepth(self, root):\n",
    "        \"\"\"\n",
    "        :type root: TreeNode\n",
    "        :rtype: int\n",
    "        \"\"\"\n",
    "        if not root:\n",
    "            return 0\n",
    "        else:\n",
    "            stack, min_depth = [(1, root),], float('inf')\n",
    "\n",
    "        while stack:\n",
    "            depth, root = stack.pop()\n",
    "            children = [root.left, root.right]\n",
    "            if not any(children):\n",
    "                min_depth = min(depth, min_depth)\n",
    "            for c in children:\n",
    "                if c:\n",
    "                    stack.append((depth + 1, c))\n",
    "\n",
    "        return min_depth"
   ]
  },
  {
   "cell_type": "markdown",
   "metadata": {},
   "source": [
    "## BFS迭代\n",
    "利用广度优先搜索，我们按照树的层去迭代，第一个访问到的叶子就是最小深度的节点，这样就不用遍历所有的节点了。\n",
    "\n",
    "### 复杂度分析\n",
    "* 时间复杂度：最坏情况下，这是一棵平衡树，我们需要按照树的层次一层一层的访问完所有节点，除去最后一层的节点。这样访问了 N/2 个节点，因此复杂度是 O(N)。\n",
    "* 空间复杂度：和时间复杂度相同，也是 O(N)。"
   ]
  },
  {
   "cell_type": "code",
   "execution_count": null,
   "metadata": {},
   "outputs": [],
   "source": [
    "from collections import deque\n",
    "class Solution:\n",
    "    def minDepth(self, root):\n",
    "        \"\"\"\n",
    "        :type root: TreeNode\n",
    "        :rtype: int\n",
    "        \"\"\"\n",
    "        if not root:\n",
    "            return 0\n",
    "        else:\n",
    "            node_deque = deque([(1, root),])\n",
    "\n",
    "        while node_deque:\n",
    "            depth, root = node_deque.popleft()\n",
    "            children = [root.left, root.right]\n",
    "            if not any(children):\n",
    "                return depth\n",
    "            for c in children:\n",
    "                if c:\n",
    "                    node_deque.append((depth + 1, c))"
   ]
  }
 ],
 "metadata": {
  "kernelspec": {
   "display_name": "Python [default]",
   "language": "python",
   "name": "python3"
  },
  "language_info": {
   "codemirror_mode": {
    "name": "ipython",
    "version": 3
   },
   "file_extension": ".py",
   "mimetype": "text/x-python",
   "name": "python",
   "nbconvert_exporter": "python",
   "pygments_lexer": "ipython3",
   "version": "3.6.5"
  },
  "varInspector": {
   "cols": {
    "lenName": 16,
    "lenType": 16,
    "lenVar": 40
   },
   "kernels_config": {
    "python": {
     "delete_cmd_postfix": "",
     "delete_cmd_prefix": "del ",
     "library": "var_list.py",
     "varRefreshCmd": "print(var_dic_list())"
    },
    "r": {
     "delete_cmd_postfix": ") ",
     "delete_cmd_prefix": "rm(",
     "library": "var_list.r",
     "varRefreshCmd": "cat(var_dic_list()) "
    }
   },
   "types_to_exclude": [
    "module",
    "function",
    "builtin_function_or_method",
    "instance",
    "_Feature"
   ],
   "window_display": false
  }
 },
 "nbformat": 4,
 "nbformat_minor": 2
}
