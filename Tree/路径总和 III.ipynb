{
 "cells": [
  {
   "cell_type": "markdown",
   "metadata": {},
   "source": [
    "**[LeetCode Link](https://leetcode-cn.com/problems/path-sum-iii/solution/437zhi-xu-yi-ci-di-gui-wu-xing-dai-ma-yong-lie-bia/)**\n",
    "\n",
    "**[LeetCode Link](https://leetcode-cn.com/problems/path-sum-iii/solution/qian-zhui-he-di-gui-hui-su-by-shi-huo-de-xia-tian/)**\n"
   ]
  },
  {
   "cell_type": "markdown",
   "metadata": {},
   "source": [
    "## DFS双递归\n",
    "* `sumlist[]`记录当前路径上的和，在如下样例中：\n",
    "```\n",
    "       10\n",
    "      /  \\\n",
    "     5   -3\n",
    "    / \\    \\\n",
    "   3   2   11\n",
    " / \\   \\\n",
    "3  -2   1\n",
    "```\n",
    "当DFS刚走到2时，此时`sumlist[]`从根节点10到2的变化过程为：\n",
    "```\n",
    "    10\n",
    "    15 5\n",
    "    17 7 2\n",
    "```\n",
    "当DFS继续走到1时，此时`sumlist[]`从节点2到1的变化为：\n",
    "```\n",
    "    18 8 3 1   \n",
    "```\n",
    "因此，只需计算每一步中，`sum`在数组`sumlist`中出现的次数，然后与每一轮递归的结果相加即可\n",
    "\n",
    "* `count = sumlist.count(sum)`等价于：\n",
    "```\n",
    " count = 0\n",
    " for num in sumlist:\n",
    "     if num == sum:\n",
    "         count += 1\n",
    "```\n",
    "count计算本轮`sum`在数组`sumlist`中出现的次数\n"
   ]
  },
  {
   "cell_type": "code",
   "execution_count": null,
   "metadata": {},
   "outputs": [],
   "source": [
    "class Solution:\n",
    "    def pathSum(self, root: TreeNode, sum: int) -> int:\n",
    "\n",
    "        def dfs(root, sumlist):\n",
    "            if root is None:\n",
    "                return 0\n",
    "            sumlist = [num+root.val for num in sumlist]\n",
    "            sumlist.append(root.val)\n",
    "            count = sumlist.count(sum)\n",
    "            return count + dfs(root.left, sumlist) + dfs(root.right, sumlist)\n",
    "\n",
    "        return dfs(root, [])"
   ]
  },
  {
   "cell_type": "markdown",
   "metadata": {},
   "source": [
    "## 回溯+单层递归\n",
    "如果两个数的**前缀总和**是相同的，那么这些**节点之间的元素总和为零**。进一步扩展相同的想法，如果前缀总和currSum，在节点A和节点B处相差target，则位于节点A和节点B之间的元素之和是target。\n",
    "\n",
    "因为本题中的路径是一棵树，从根往任一节点的路径上(不走回头路)，**有且仅有一条路径**，因为**不存在环**。(如果存在环，前缀和就不能用了，需要改造算法)\n",
    "\n",
    "抵达当前节点(即B节点)后，将前缀和累加，然后查找在前缀和上，有没有**前缀和currSum-target的节点**(即A节点)，存在即表示从A到B有一条路径之和满足条件的情况。结果加上满足**前缀和currSum-target的节点**的数量。然后递归进入左右子树。\n",
    "\n",
    "左右子树遍历完成之后，回到当前层，需要把当前节点添加的前缀和去除。避免回溯之后影响上一层。因为思想是前缀和，不属于前缀的，我们就要去掉它。\n",
    "\n",
    "### 复杂度分析\n",
    "* 时间复杂度：每个节点只遍历一次,$\\mathcal{O}(N)$.\n",
    "* 空间复杂度：开辟了一个hashMap,$\\mathcal{O}(N)$."
   ]
  },
  {
   "cell_type": "code",
   "execution_count": null,
   "metadata": {},
   "outputs": [],
   "source": [
    "class Solution:\n",
    "    def pathSum(self, root: TreeNode, sum: int) -> int:\n",
    "        def dfs(root, sums, psums):\n",
    "            if root:\n",
    "                psums += root.val\n",
    "                res[0] += d.get(psums - sums, 0)\n",
    "                d[psums] = d.get(psums, 0) + 1\n",
    "                dfs(root.left, sums, psums)\n",
    "                dfs(root.right, sums, psums)\n",
    "                # 回溯：保证在递归完左右子树后，将‘该根节点的前缀和’本次出现的次数抹去\n",
    "                d[psums] = d.get(psums, 0) - 1\n",
    "        d = {0: 1}\n",
    "        res = [0]\n",
    "        dfs(root, sum, 0)\n",
    "        return res[0]"
   ]
  }
 ],
 "metadata": {
  "kernelspec": {
   "display_name": "Python [conda root]",
   "language": "python",
   "name": "conda-root-py"
  },
  "language_info": {
   "codemirror_mode": {
    "name": "ipython",
    "version": 3
   },
   "file_extension": ".py",
   "mimetype": "text/x-python",
   "name": "python",
   "nbconvert_exporter": "python",
   "pygments_lexer": "ipython3",
   "version": "3.6.5"
  },
  "varInspector": {
   "cols": {
    "lenName": 16,
    "lenType": 16,
    "lenVar": 40
   },
   "kernels_config": {
    "python": {
     "delete_cmd_postfix": "",
     "delete_cmd_prefix": "del ",
     "library": "var_list.py",
     "varRefreshCmd": "print(var_dic_list())"
    },
    "r": {
     "delete_cmd_postfix": ") ",
     "delete_cmd_prefix": "rm(",
     "library": "var_list.r",
     "varRefreshCmd": "cat(var_dic_list()) "
    }
   },
   "types_to_exclude": [
    "module",
    "function",
    "builtin_function_or_method",
    "instance",
    "_Feature"
   ],
   "window_display": false
  }
 },
 "nbformat": 4,
 "nbformat_minor": 2
}
