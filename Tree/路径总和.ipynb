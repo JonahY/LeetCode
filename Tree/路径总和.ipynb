{
 "cells": [
  {
   "cell_type": "markdown",
   "metadata": {},
   "source": [
    "**[LeetCode Link](https://leetcode-cn.com/problems/path-sum/solution/lu-jing-zong-he-by-leetcode-solution/)**"
   ]
  },
  {
   "cell_type": "markdown",
   "metadata": {},
   "source": [
    "## DFS（栈）\n",
    "保存节点和到这个节点的路径和``` (路径和，节点)```。"
   ]
  },
  {
   "cell_type": "code",
   "execution_count": null,
   "metadata": {},
   "outputs": [],
   "source": [
    "class Solution:\n",
    "    def hasPathSum(self, root: TreeNode, sum: int) -> bool:\n",
    "        \n",
    "        if not root:\n",
    "            return False\n",
    "        \n",
    "        stack = [(root.val, root),]\n",
    "        \n",
    "        while stack:\n",
    "            cur_sum, root = stack.pop(0)\n",
    "            children = [root.left, root.right]\n",
    "            if not any(children):\n",
    "                if cur_sum == sum:\n",
    "                    return True\n",
    "            for c in children:\n",
    "                if c:\n",
    "                        new_sum = cur_sum + c.val\n",
    "                        stack.append((new_sum, c))\n",
    "        return False\n",
    "    \n",
    "# class Solution:\n",
    "#     def hasPathSum(self, root: TreeNode, sum_: int) -> List[List[int]]:\n",
    "#         if not root: return False\n",
    "#         stack = [([root.val], root)]\n",
    "#         while stack:\n",
    "#             tmp, node = stack.pop()\n",
    "#             if not node.right and not node.left and sum(tmp) == sum_:\n",
    "#                 return True\n",
    "#             if node.right:\n",
    "#                 stack.append((tmp + [node.right.val], node.right))\n",
    "#             if node.left:\n",
    "#                 stack.append((tmp + [node.left.val], node.left))\n",
    "#         return False"
   ]
  },
  {
   "cell_type": "markdown",
   "metadata": {},
   "source": [
    "## 递归\n",
    "假定从根节点到当前节点的值之和为```val```，我们可以将这个大问题转化为一个小问题：是否存在从当前节点的子节点到叶子的路径，满足其路径和为```sum - val```。\n",
    "### 复杂度分析\n",
    "* 时间复杂度：O(N)，其中 N 是树的节点数。对每个节点访问一次。\n",
    "* 空间复杂度：O(H)，其中 H 是树的高度。空间复杂度主要取决于递归时栈空间的开销，最坏情况下，树呈现链状，空间复杂度为 O(N)。平均情况下树的高度与节点数的对数正相关，空间复杂度为O(logN)。"
   ]
  },
  {
   "cell_type": "code",
   "execution_count": null,
   "metadata": {},
   "outputs": [],
   "source": [
    "class Solution:\n",
    "    def hasPathSum(self, root: TreeNode, sum: int) -> bool:\n",
    "        if not root:\n",
    "            return False\n",
    "        if not root.left and not root.right:\n",
    "            return sum == root.val\n",
    "        return self.hasPathSum(root.left, sum - root.val) or self.hasPathSum(root.right, sum - root.val)"
   ]
  }
 ],
 "metadata": {
  "kernelspec": {
   "display_name": "Python [default]",
   "language": "python",
   "name": "python3"
  },
  "language_info": {
   "codemirror_mode": {
    "name": "ipython",
    "version": 3
   },
   "file_extension": ".py",
   "mimetype": "text/x-python",
   "name": "python",
   "nbconvert_exporter": "python",
   "pygments_lexer": "ipython3",
   "version": "3.6.5"
  },
  "varInspector": {
   "cols": {
    "lenName": 16,
    "lenType": 16,
    "lenVar": 40
   },
   "kernels_config": {
    "python": {
     "delete_cmd_postfix": "",
     "delete_cmd_prefix": "del ",
     "library": "var_list.py",
     "varRefreshCmd": "print(var_dic_list())"
    },
    "r": {
     "delete_cmd_postfix": ") ",
     "delete_cmd_prefix": "rm(",
     "library": "var_list.r",
     "varRefreshCmd": "cat(var_dic_list()) "
    }
   },
   "types_to_exclude": [
    "module",
    "function",
    "builtin_function_or_method",
    "instance",
    "_Feature"
   ],
   "window_display": false
  }
 },
 "nbformat": 4,
 "nbformat_minor": 2
}
