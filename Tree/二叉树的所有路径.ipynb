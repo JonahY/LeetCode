{
 "cells": [
  {
   "cell_type": "markdown",
   "metadata": {},
   "source": [
    "**[LeetCode Link](https://leetcode-cn.com/problems/binary-tree-paths/solution/er-cha-shu-de-suo-you-lu-jing-by-leetcode/)**"
   ]
  },
  {
   "cell_type": "markdown",
   "metadata": {},
   "source": [
    "## 递归\n",
    "在递归遍历二叉树时，需要考虑当前的节点和它的孩子节点。如果当前的节点不是叶子节点，则在当前的路径末尾添加该节点，并递归遍历该节点的每一个孩子节点。如果当前的节点是叶子节点，则在当前的路径末尾添加该节点后，就得到了一条从根节点到叶子节点的路径，可以把该路径加入到答案中。\n",
    "### 复杂度分析\n",
    "* 时间复杂度：每个节点只会被访问一次，因此时间复杂度为 $\\mathcal{O}(N)$，其中 N 表示节点数目。\n",
    "* 空间复杂度：$\\mathcal{O}(N)$。这里不考虑存储答案 paths 使用的空间，仅考虑额外的空间复杂度。额外的空间复杂度为递归时使用的栈空间，在最坏情况下，当二叉树中每个节点只有一个孩子节点时，递归的层数为 N，此时空间复杂度为 $\\mathcal{O}(N)$。在最好情况下，当二叉树为平衡二叉树时，它的高度为 $\\mathcal{log}(N)$，此时空间复杂度为 $\\mathcal{O}({log}(N))$。"
   ]
  },
  {
   "cell_type": "code",
   "execution_count": null,
   "metadata": {},
   "outputs": [],
   "source": [
    "class Solution:\n",
    "    def binaryTreePaths(self, root):\n",
    "        \"\"\"\n",
    "        :type root: TreeNode\n",
    "        :rtype: List[str]\n",
    "        \"\"\"\n",
    "        def construct_paths(root, path):\n",
    "            if root:\n",
    "                path += str(root.val)\n",
    "                if not root.left and not root.right:  # 当前节点是叶子节点\n",
    "                    paths.append(path)  # 把路径加入到答案中\n",
    "                else:\n",
    "                    path += '->'  # 当前节点不是叶子节点，继续递归遍历\n",
    "                    construct_paths(root.left, path)\n",
    "                    construct_paths(root.right, path)\n",
    "\n",
    "        paths = []\n",
    "        construct_paths(root, '')\n",
    "        return paths"
   ]
  },
  {
   "cell_type": "markdown",
   "metadata": {},
   "source": [
    "## 迭代\n",
    "维护一个栈，存储节点以及根到该节点的路径。一开始这个栈里只有根节点。在每一步迭代中，我们取出栈中的首节点，如果它是一个叶子节点，则将它对应的路径加入到答案中。如果它不是一个叶子节点，则将它的所有孩子节点加入到栈的末尾。当栈为空时，迭代结束。\n",
    "### 复杂度分析\n",
    "时间复杂度：$\\mathcal{O}(N)$，每个节点只会被访问一次。\n",
    "空间复杂度：$\\mathcal{O}(N)$，在最坏情况下，队列中有 N 个节点。"
   ]
  },
  {
   "cell_type": "code",
   "execution_count": null,
   "metadata": {},
   "outputs": [],
   "source": [
    "class Solution:\n",
    "    def binaryTreePaths(self, root):\n",
    "        \"\"\"\n",
    "        :type root: TreeNode\n",
    "        :rtype: List[str]\n",
    "        \"\"\"\n",
    "        if not root:\n",
    "            return []\n",
    "        \n",
    "        paths = []\n",
    "        stack = [(root, str(root.val))]\n",
    "        while stack:\n",
    "            node, path = stack.pop()\n",
    "            if not node.left and not node.right:\n",
    "                paths.append(path)\n",
    "            if node.left:\n",
    "                stack.append((node.left, path + '->' + str(node.left.val)))\n",
    "            if node.right:\n",
    "                stack.append((node.right, path + '->' + str(node.right.val)))\n",
    "        \n",
    "        return paths"
   ]
  }
 ],
 "metadata": {
  "kernelspec": {
   "display_name": "Python 3",
   "language": "python",
   "name": "python3"
  },
  "language_info": {
   "codemirror_mode": {
    "name": "ipython",
    "version": 3
   },
   "file_extension": ".py",
   "mimetype": "text/x-python",
   "name": "python",
   "nbconvert_exporter": "python",
   "pygments_lexer": "ipython3",
   "version": "3.7.6"
  }
 },
 "nbformat": 4,
 "nbformat_minor": 4
}
