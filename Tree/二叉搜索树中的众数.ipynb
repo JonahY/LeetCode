{
 "cells": [
  {
   "cell_type": "markdown",
   "metadata": {},
   "source": [
    "**[LeetCode Link](https://leetcode-cn.com/problems/find-mode-in-binary-search-tree/solution/lian-di-gui-du-bu-yong-de-chang-shu-kong-jian-fu-z/)**"
   ]
  },
  {
   "cell_type": "markdown",
   "metadata": {},
   "source": [
    "## DFS"
   ]
  },
  {
   "cell_type": "code",
   "execution_count": null,
   "metadata": {},
   "outputs": [],
   "source": [
    "class Solution:\n",
    "    def findMode(self, root: TreeNode) -> List[int]:\n",
    "        if not root: return []\n",
    "        dic = collections.defaultdict(int)\n",
    "        stack = collections.deque([root])\n",
    "        while stack:\n",
    "            node = stack.popleft()\n",
    "            dic[node.val] += 1\n",
    "            if node.left:\n",
    "                stack.append(node.left)\n",
    "            if node.right:\n",
    "                stack.append(node.right)\n",
    "        plural = max(dic.values())\n",
    "        return [k for k,v in dic.items() if v == plural]"
   ]
  },
  {
   "cell_type": "markdown",
   "metadata": {},
   "source": [
    "## Morris中序遍历\n",
    "### 分析\n",
    "本题中二叉搜索树的中序遍历结果是一个非递减的序列，所以进行中序遍历，通过比较前一个元素`pre`和当前元素`cur`的值确定是否执行操作，具体如下\n",
    "* 如果`pre`不存在，说明目前是在第一个元素的位置，所以将计数置为1，并添加当前元素进入结果数组\n",
    "* 如果`pre`存在，先分两种情况计数\n",
    "    * 如果`pre->val == cur->val`：说明当前值和前一个相同，计数加1,`count++`\n",
    "    * 如果`pre->val ！= cur->val`：说明当前值和前一个不同，计数置为1,`count = 1`\n",
    "\n",
    "在得到计数`count`后，与当前最大计数`maxnum`比较：\n",
    "* 如果`count > maxnum` : 更新`maxnum`，清空结果数组`res`，添加`cur->val`\n",
    "* 如果`count == maxnum` ：只需添加`cur->val`\n",
    "\n",
    "### 复杂度分析\n",
    "* 时间复杂度：每个结点访问了2次，因此时间复杂度为$\\mathcal{O}(n)$\n",
    "* 空间复杂度：只使用了常数空间，因此空间复杂度为$\\mathcal{O}(1)$"
   ]
  },
  {
   "cell_type": "code",
   "execution_count": null,
   "metadata": {},
   "outputs": [],
   "source": [
    "class Solution:\n",
    "    def findMode(self, root: TreeNode) -> List[int]:\n",
    "        cur = root\n",
    "        pre = None\n",
    "        count, maxnum = 0, 0\n",
    "        res = []\n",
    "        while cur:\n",
    "            if not cur.left:\n",
    "                if pre and pre.val == cur.val:\n",
    "                    count += 1\n",
    "                else:\n",
    "                    count = 1\n",
    "                if count > maxnum:\n",
    "                    maxnum = count\n",
    "                    res = []\n",
    "                    res.append(cur.val)\n",
    "                elif count == maxnum:\n",
    "                    res.append(cur.val)\n",
    "                pre = cur\n",
    "                cur = cur.right\n",
    "            else:\n",
    "                preceesor = cur.left\n",
    "                while preceesor.right and preceesor.right != cur:\n",
    "                    preceesor = preceesor.right\n",
    "                if preceesor.right == cur:\n",
    "                    if pre and pre.val == cur.val:\n",
    "                        count += 1\n",
    "                    else:\n",
    "                        count = 1\n",
    "                    if count > maxnum:\n",
    "                        maxnum = count\n",
    "                        res = []\n",
    "                        res.append(cur.val)\n",
    "                    elif count == maxnum:\n",
    "                        res.append(cur.val)\n",
    "                    preceesor.right = None\n",
    "                    pre = cur\n",
    "                    cur = cur.right\n",
    "                else:\n",
    "                    preceesor.right = cur\n",
    "                    cur = cur.left\n",
    "        return res"
   ]
  }
 ],
 "metadata": {
  "kernelspec": {
   "display_name": "Python [conda root]",
   "language": "python",
   "name": "conda-root-py"
  },
  "language_info": {
   "codemirror_mode": {
    "name": "ipython",
    "version": 3
   },
   "file_extension": ".py",
   "mimetype": "text/x-python",
   "name": "python",
   "nbconvert_exporter": "python",
   "pygments_lexer": "ipython3",
   "version": "3.6.5"
  },
  "varInspector": {
   "cols": {
    "lenName": 16,
    "lenType": 16,
    "lenVar": 40
   },
   "kernels_config": {
    "python": {
     "delete_cmd_postfix": "",
     "delete_cmd_prefix": "del ",
     "library": "var_list.py",
     "varRefreshCmd": "print(var_dic_list())"
    },
    "r": {
     "delete_cmd_postfix": ") ",
     "delete_cmd_prefix": "rm(",
     "library": "var_list.r",
     "varRefreshCmd": "cat(var_dic_list()) "
    }
   },
   "types_to_exclude": [
    "module",
    "function",
    "builtin_function_or_method",
    "instance",
    "_Feature"
   ],
   "window_display": false
  }
 },
 "nbformat": 4,
 "nbformat_minor": 2
}
