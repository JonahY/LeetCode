{
 "cells": [
  {
   "cell_type": "markdown",
   "metadata": {},
   "source": [
    "**[LeetCode Link](https://leetcode-cn.com/problems/path-sum-ii/solution/dfsfei-di-gui-python3-by-baiyizhe/)**"
   ]
  },
  {
   "cell_type": "markdown",
   "metadata": {},
   "source": [
    "## DFS迭代（栈）"
   ]
  },
  {
   "cell_type": "code",
   "execution_count": null,
   "metadata": {},
   "outputs": [],
   "source": [
    "class Solution:\n",
    "    def pathSum(self, root: TreeNode, sum_: int) -> List[List[int]]:\n",
    "        if not root: return []\n",
    "        stack = [([root.val], root)]\n",
    "        res = []\n",
    "        while stack:\n",
    "            tmp, node = stack.pop()\n",
    "            if not node.right and not node.left and sum(tmp) == sum_:\n",
    "                res.append(tmp)\n",
    "            if node.right:\n",
    "                stack.append((tmp + [node.right.val], node.right))\n",
    "            if node.left:\n",
    "                stack.append((tmp + [node.left.val], node.left))\n",
    "        return res"
   ]
  },
  {
   "cell_type": "markdown",
   "metadata": {},
   "source": [
    "## DFS递归（栈）"
   ]
  },
  {
   "cell_type": "code",
   "execution_count": null,
   "metadata": {},
   "outputs": [],
   "source": [
    "class Solution:\n",
    "    def pathSum(self, root: TreeNode, sum_: int) -> List[List[int]]:\n",
    "        def helper(root, tmp, sum_):\n",
    "            if not root:\n",
    "                return \n",
    "            if not root.left and not root.right and sum_ - root.val == 0:\n",
    "                tmp += [root.val]\n",
    "                res.append(tmp)\n",
    "            helper(root.left, tmp + [root.val], sum_ - root.val)\n",
    "            helper(root.right, tmp + [root.val], sum_ - root.val)\n",
    "        res = []\n",
    "        helper(root, [], sum_)\n",
    "        return res"
   ]
  }
 ],
 "metadata": {
  "kernelspec": {
   "display_name": "Python [default]",
   "language": "python",
   "name": "python3"
  },
  "language_info": {
   "codemirror_mode": {
    "name": "ipython",
    "version": 3
   },
   "file_extension": ".py",
   "mimetype": "text/x-python",
   "name": "python",
   "nbconvert_exporter": "python",
   "pygments_lexer": "ipython3",
   "version": "3.6.5"
  },
  "varInspector": {
   "cols": {
    "lenName": 16,
    "lenType": 16,
    "lenVar": 40
   },
   "kernels_config": {
    "python": {
     "delete_cmd_postfix": "",
     "delete_cmd_prefix": "del ",
     "library": "var_list.py",
     "varRefreshCmd": "print(var_dic_list())"
    },
    "r": {
     "delete_cmd_postfix": ") ",
     "delete_cmd_prefix": "rm(",
     "library": "var_list.r",
     "varRefreshCmd": "cat(var_dic_list()) "
    }
   },
   "types_to_exclude": [
    "module",
    "function",
    "builtin_function_or_method",
    "instance",
    "_Feature"
   ],
   "window_display": false
  }
 },
 "nbformat": 4,
 "nbformat_minor": 2
}
