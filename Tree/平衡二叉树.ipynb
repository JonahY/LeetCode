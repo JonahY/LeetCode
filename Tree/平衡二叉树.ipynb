{
 "cells": [
  {
   "cell_type": "markdown",
   "metadata": {},
   "source": [
    "**[LeetCode Link](https://leetcode-cn.com/problems/balanced-binary-tree/solution/balanced-binary-tree-di-gui-fang-fa-by-jin40789108/)**"
   ]
  },
  {
   "cell_type": "markdown",
   "metadata": {},
   "source": [
    "## 从底至顶（提前阻断）\n",
    "思路是对二叉树做先序遍历，从底至顶返回子树最大高度，若判定某子树不是平衡树则 “剪枝” ，直接向上返回。\n",
    "### 算法流程：\n",
    "**recur(root):**\n",
    "* 递归返回值：\n",
    "    * 当节点root 左 / 右子树的高度差 <2 ：则返回以节点root为根节点的子树的最大高度，即节点 root 的左右子树中最大高度加 1 （ max(left, right) + 1 ）；\n",
    "    * 当节点root 左 / 右子树的高度差 ≥2 ：则返回 −1 ，代表此子树不是平衡树 。\n",
    "* 递归终止条件：\n",
    "    * 当越过叶子节点时，返回高度 0 ；\n",
    "    * 当左（右）子树高度 left== -1 时，代表此子树的 左（右）子树不是平衡树，因此直接返回 -1 。\n",
    "\n",
    "**isBalanced(root) ：**\n",
    "* 返回值： 若 recur(root) != -1 ，则说明此树平衡，返回 true ； 否则返回 false 。\n",
    "\n",
    "### 复杂度分析：\n",
    "* 时间复杂度 O(N)： N 为树的节点数；最差情况下，需要递归遍历树的所有节点。\n",
    "* 空间复杂度 O(N)： 最差情况下（树退化为链表时），系统递归需要使用 O(N) 的栈空间。"
   ]
  },
  {
   "cell_type": "code",
   "execution_count": null,
   "metadata": {},
   "outputs": [],
   "source": [
    "class Solution:\n",
    "    def isBalanced(self, root: TreeNode) -> bool:\n",
    "        return self.recur(root) != -1\n",
    "\n",
    "    def recur(self, root):\n",
    "        if not root: return 0\n",
    "        left = self.recur(root.left)\n",
    "        if left == -1: return -1\n",
    "        right = self.recur(root.right)\n",
    "        if right == -1: return -1\n",
    "        return max(left, right) + 1 if abs(left - right) < 2 else -1"
   ]
  },
  {
   "cell_type": "markdown",
   "metadata": {},
   "source": [
    "## 从顶至底（暴力法）\n",
    "思路是构造一个获取当前节点最大深度的方法 depth(root) ，通过比较此子树的左右子树的最大高度差abs(depth(root.left) - depth(root.right))，来判断此子树是否是二叉平衡树。若树的所有子树都平衡时，此树才平衡。\n",
    "### 算法流程：\n",
    "**isBalanced(root) ：判断树 root 是否平衡**\n",
    "* 特例处理： 若树根节点 root 为空，则直接返回 truetrue ；\n",
    "* 返回值： 所有子树都需要满足平衡树性质，因此以下三者使用与逻辑 && 连接；\n",
    "    * abs(self.depth(root.left) - self.depth(root.right)) <= 1 ：判断 当前子树 是否是平衡树；\n",
    "    * self.isBalanced(root.left) ： 先序遍历递归，判断 当前子树的左子树 是否是平衡树；\n",
    "    * self.isBalanced(root.right) ： 先序遍历递归，判断 当前子树的右子树 是否是平衡树；\n",
    "**depth(root) ： 计算树 root 的最大高度**\n",
    "* 终止条件： 当 root 为空，即越过叶子节点，则返回高度 0 ；\n",
    "* 返回值： 返回左 / 右子树的最大高度加 1 。\n",
    "\n",
    "### 复杂度分析：\n",
    "* 时间复杂度 O(Nlog2_N)： 最差情况下， isBalanced(root) 遍历树所有节点，占用 O(N)；判断每个节点的最大高度 depth(root) 需要遍历各子树的所有节点 ，子树的节点数的复杂度为O(log2_N)。\n",
    "* 空间复杂度 O(N)： 最差情况下（树退化为链表时），系统递归需要使用 O(N) 的栈空间。"
   ]
  },
  {
   "cell_type": "code",
   "execution_count": null,
   "metadata": {},
   "outputs": [],
   "source": [
    "class Solution:\n",
    "    def isBalanced(self, root: TreeNode) -> bool:\n",
    "        if not root: return True\n",
    "        return abs(self.depth(root.left) - self.depth(root.right)) <= 1 and \\\n",
    "            self.isBalanced(root.left) and self.isBalanced(root.right)\n",
    "\n",
    "    def depth(self, root):\n",
    "        if not root: return 0\n",
    "        return max(self.depth(root.left), self.depth(root.right)) + 1"
   ]
  }
 ],
 "metadata": {
  "kernelspec": {
   "display_name": "Python [default]",
   "language": "python",
   "name": "python3"
  },
  "language_info": {
   "codemirror_mode": {
    "name": "ipython",
    "version": 3
   },
   "file_extension": ".py",
   "mimetype": "text/x-python",
   "name": "python",
   "nbconvert_exporter": "python",
   "pygments_lexer": "ipython3",
   "version": "3.6.5"
  },
  "varInspector": {
   "cols": {
    "lenName": 16,
    "lenType": 16,
    "lenVar": 40
   },
   "kernels_config": {
    "python": {
     "delete_cmd_postfix": "",
     "delete_cmd_prefix": "del ",
     "library": "var_list.py",
     "varRefreshCmd": "print(var_dic_list())"
    },
    "r": {
     "delete_cmd_postfix": ") ",
     "delete_cmd_prefix": "rm(",
     "library": "var_list.r",
     "varRefreshCmd": "cat(var_dic_list()) "
    }
   },
   "types_to_exclude": [
    "module",
    "function",
    "builtin_function_or_method",
    "instance",
    "_Feature"
   ],
   "window_display": false
  }
 },
 "nbformat": 4,
 "nbformat_minor": 2
}
