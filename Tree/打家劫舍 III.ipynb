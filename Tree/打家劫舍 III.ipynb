{
 "cells": [
  {
   "cell_type": "markdown",
   "metadata": {},
   "source": [
    "**[LeetCode Link](https://leetcode-cn.com/problems/house-robber-iii/solution/san-chong-fang-fa-jie-jue-shu-xing-dong-tai-gui-hu/)**"
   ]
  },
  {
   "cell_type": "markdown",
   "metadata": {},
   "source": [
    "## 暴力递归 - 最优子结构\n",
    "使用**爷爷、两个孩子、4 个孙子**来说明问题，首先来定义这个问题的状态，爷爷节点获取到最大的偷取的钱数\n",
    "* 首先要明确相邻的节点不能偷，也就是爷爷选择偷，儿子就不能偷了，但是孙子可以偷\n",
    "* 二叉树只有左右两个孩子，一个爷爷最多 2 个儿子，4 个孙子\n",
    "\n",
    "根据以上条件，我们可以得出单个节点的钱该怎么算:\n",
    "* 4 个孙子偷的钱 + 爷爷的钱 VS 两个儿子偷的钱 哪个组合钱多，就当做当前节点能偷的最大钱数。这就是动态规划里面的最优子结构"
   ]
  },
  {
   "cell_type": "code",
   "execution_count": null,
   "metadata": {},
   "outputs": [],
   "source": [
    "class Solution:\n",
    "    def rob(self, root: TreeNode) -> int:\n",
    "        if not root: return 0\n",
    "        money = root.val\n",
    "        if root.left:\n",
    "            money += self.rob(root.left.left) + self.rob(root.left.right)\n",
    "        if root.right:\n",
    "            money += self.rob(root.right.left) + self.rob(root.right.right)       \n",
    "        return max(money, self.rob(root.left) + self.rob(root.right))"
   ]
  },
  {
   "cell_type": "markdown",
   "metadata": {},
   "source": [
    "## 记忆化 - 解决重复子问题\n",
    "针对解法一种速度太慢的问题，经过分析其实现，我们发现爷爷在计算自己能偷多少钱的时候，同时计算了 4 个孙子能偷多少钱，也计算了 2 个儿子能偷多少钱。这样在儿子当爷爷时，就会产生重复计算一遍孙子节点。\n",
    "\n",
    "于是乎我们发现了一个动态规划的关键优化点\n",
    "* **重复子问题**\n",
    "\n",
    "由于二叉树不适合拿数组当缓存，我们这次使用哈希表来存储结果，TreeNode 当做 key，能偷的钱当做 value"
   ]
  },
  {
   "cell_type": "code",
   "execution_count": null,
   "metadata": {},
   "outputs": [],
   "source": [
    "class Solution:\n",
    "    memo = {}\n",
    "    def rob(self, root: TreeNode) -> int:\n",
    "        if not root:\n",
    "            return 0\n",
    "        if root in self.memo:\n",
    "            return self.memo[root]\n",
    "        withoutRoot = root.val \\\n",
    "            + (self.rob(root.left.left)+self.rob(root.left.right) if root.left else 0)\\\n",
    "            + (self.rob(root.right.left)+self.rob(root.right.right) if root.right else 0)\n",
    "        withRoot = self.rob(root.left) + self.rob(root.right)\n",
    "        res = max(withoutRoot,withRoot)\n",
    "        self.memo[root] = res\n",
    "        return res"
   ]
  },
  {
   "cell_type": "markdown",
   "metadata": {},
   "source": [
    "## 终极解法\n",
    "每个节点可选择偷或者不偷两种状态，根据题目意思，相连节点不能一起偷\n",
    "* 当前节点选择偷时，那么两个孩子节点就不能选择偷了\n",
    "* 当前节点选择不偷时，两个孩子节点只需要拿最多的钱出来就行(两个孩子节点偷不偷没关系)\n",
    "\n",
    "我们使用一个大小为 2 的数组来表示 ```[0, 0]``` 0 代表不偷，1 代表偷\n",
    "\n",
    "**任何一个节点能偷到的最大钱的状态可以定义为**\n",
    "* 当前节点选择不偷：当前节点能偷到的最大钱数 = 左孩子能偷到的钱 + 右孩子能偷到的钱\n",
    "* 当前节点选择偷：当前节点能偷到的最大钱数 = 左孩子选择自己不偷时能得到的钱 + 右孩子选择不偷时能得到的钱 + 当前节点的钱数"
   ]
  },
  {
   "cell_type": "code",
   "execution_count": null,
   "metadata": {},
   "outputs": [],
   "source": [
    "\n",
    "class Solution:\n",
    "    def rob(self, root: TreeNode) -> int:\n",
    "        if not root:\n",
    "            return 0\n",
    "        return self.helper(root)[1]\n",
    "        \n",
    "    def helper(self, root):\n",
    "        if not root:\n",
    "            return [0, 0]\n",
    "        left = self.helper(root.left)\n",
    "        right = self.helper(root.right)\n",
    "        withoutRoot = left[1] + right[1]\n",
    "        withRoot = root.val + left[0] + right[0]\n",
    "        return [withoutRoot, max(withoutRoot, withRoot)]"
   ]
  }
 ],
 "metadata": {
  "kernelspec": {
   "display_name": "Python [conda root]",
   "language": "python",
   "name": "conda-root-py"
  },
  "language_info": {
   "codemirror_mode": {
    "name": "ipython",
    "version": 3
   },
   "file_extension": ".py",
   "mimetype": "text/x-python",
   "name": "python",
   "nbconvert_exporter": "python",
   "pygments_lexer": "ipython3",
   "version": "3.6.5"
  },
  "varInspector": {
   "cols": {
    "lenName": 16,
    "lenType": 16,
    "lenVar": 40
   },
   "kernels_config": {
    "python": {
     "delete_cmd_postfix": "",
     "delete_cmd_prefix": "del ",
     "library": "var_list.py",
     "varRefreshCmd": "print(var_dic_list())"
    },
    "r": {
     "delete_cmd_postfix": ") ",
     "delete_cmd_prefix": "rm(",
     "library": "var_list.r",
     "varRefreshCmd": "cat(var_dic_list()) "
    }
   },
   "types_to_exclude": [
    "module",
    "function",
    "builtin_function_or_method",
    "instance",
    "_Feature"
   ],
   "window_display": false
  }
 },
 "nbformat": 4,
 "nbformat_minor": 2
}
