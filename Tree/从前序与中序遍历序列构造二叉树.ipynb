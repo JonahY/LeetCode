{
 "cells": [
  {
   "cell_type": "markdown",
   "metadata": {},
   "source": [
    "**[LeetCode Link](https://leetcode-cn.com/problems/construct-binary-tree-from-preorder-and-inorder-traversal/solution/cong-qian-xu-yu-zhong-xu-bian-li-xu-lie-gou-zao-9/)**"
   ]
  },
  {
   "cell_type": "markdown",
   "metadata": {},
   "source": [
    "## 递归（分治法）\n",
    "对于任意一颗树而言，前序遍历的形式总是\n",
    "```\n",
    "[ 根节点, [左子树的前序遍历结果], [右子树的前序遍历结果] ]\n",
    "```\n",
    "即根节点总是前序遍历中的第一个节点。而中序遍历的形式总是\n",
    "```\n",
    "[ [左子树的中序遍历结果], 根节点, [右子树的中序遍历结果] ]\n",
    "```\n",
    "* 只要我们在中序遍历中**定位**到根节点，那么我们就可以分别知道左子树和右子树中的节点数目。由于同一颗子树的前序遍历和中序遍历的长度显然是相同的，因此我们就可以对应到前序遍历的结果中，对上述形式中的所有**左右括号**进行定位。\n",
    "* 这样以来，我们就知道了左子树的前序遍历和中序遍历结果，以及右子树的前序遍历和中序遍历结果，我们就可以递归地对构造出左子树和右子树，再将这两颗子树接到根节点的左右位置。\n",
    "\n",
    "### 复杂度分析\n",
    "* 时间复杂度：O(n)，其中 n 是树中的节点个数。\n",
    "* 空间复杂度：O(n)，除去返回的答案需要的 O(n) 空间之外，我们还需要使用 O(n) 的空间存储哈希映射，以及 O(h)（其中 h 是树的高度）的空间表示递归时栈空间。这里 h < n，所以总空间复杂度为 O(n)。"
   ]
  },
  {
   "cell_type": "code",
   "execution_count": null,
   "metadata": {
    "code_folding": []
   },
   "outputs": [],
   "source": [
    "class Solution:\n",
    "    def buildTree(self, preorder: List[int], inorder: List[int]) -> TreeNode:\n",
    "        def myBuildTree(preorder_left: int, preorder_right: int, inorder_left: int, inorder_right: int):\n",
    "            if preorder_left > preorder_right:\n",
    "                return None\n",
    "            \n",
    "            # 前序遍历中的第一个节点就是根节点\n",
    "            preorder_root = preorder_left\n",
    "            # 在中序遍历中定位根节点\n",
    "            inorder_root = index[preorder[preorder_root]]\n",
    "            \n",
    "            # 先把根节点建立出来\n",
    "            root = TreeNode(preorder[preorder_root])\n",
    "            # 得到左子树中的节点数目\n",
    "            size_left_subtree = inorder_root - inorder_left\n",
    "            # 递归地构造左子树，并连接到根节点\n",
    "            # 先序遍历中「从 左边界+1 开始的 size_left_subtree」个元素就对应了中序遍历中「从 左边界 开始到 根节点定位-1」的元素\n",
    "            root.left = myBuildTree(preorder_left + 1, preorder_left + size_left_subtree, inorder_left, inorder_root - 1)\n",
    "            # 递归地构造右子树，并连接到根节点\n",
    "            # 先序遍历中「从 左边界+1+左子树节点数目 开始到 右边界」的元素就对应了中序遍历中「从 根节点定位+1 到 右边界」的元素\n",
    "            root.right = myBuildTree(preorder_left + size_left_subtree + 1, preorder_right, inorder_root + 1, inorder_right)\n",
    "            return root\n",
    "        \n",
    "        n = len(preorder)\n",
    "        # 构造哈希映射，帮助我们快速定位根节点\n",
    "        index = {element: i for i, element in enumerate(inorder)}\n",
    "        return myBuildTree(0, n - 1, 0, n - 1)"
   ]
  },
  {
   "cell_type": "markdown",
   "metadata": {},
   "source": [
    "## 迭代\n",
    "### 思路\n",
    "对于前序遍历中的任意两个连续节点 uu 和 vv，根据前序遍历的流程，我们可以知道 uu 和 vv 只有两种可能的关系：\n",
    "* v 是 u 的左儿子。这是因为在遍历到 u 之后，下一个遍历的节点就是 u 的左儿子，即 v；\n",
    "* u 没有左儿子，并且 v 是 u 的某个祖先节点（或者 u 本身）的右儿子。如果 u 没有左儿子，那么下一个遍历的节点就是 u 的右儿子。如果 u 没有右儿子，我们就会向上回溯，直到遇到第一个有右儿子（且 u 不在它的右儿子的子树中）的节点 u_a ，那么 v 就是 u_a 的右儿子。\n",
    "\n",
    "### 复杂度分析\n",
    "* 时间复杂度：O(n)，其中 n 是树中的节点个数。\n",
    "* 空间复杂度：O(n)，除去返回的答案需要的 O(n) 空间之外，我们还需要使用 O(h)（其中 h 是树的高度）的空间存储栈。这里 h < n，所以（在最坏情况下）总空间复杂度为 O(n)。"
   ]
  },
  {
   "cell_type": "code",
   "execution_count": null,
   "metadata": {},
   "outputs": [],
   "source": [
    "class Solution:\n",
    "    def buildTree(self, preorder: List[int], inorder: List[int]) -> TreeNode:\n",
    "        if not preorder:\n",
    "            return None\n",
    "\n",
    "        root = TreeNode(preorder[0])\n",
    "        stack = [root]\n",
    "        inorderIndex = 0\n",
    "        for i in range(1, len(preorder)):\n",
    "            preorderVal = preorder[i]\n",
    "            node = stack[-1]\n",
    "            if node.val != inorder[inorderIndex]:\n",
    "                node.left = TreeNode(preorderVal)\n",
    "                stack.append(node.left)\n",
    "            else:\n",
    "                while stack and stack[-1].val == inorder[inorderIndex]:\n",
    "                    node = stack.pop()\n",
    "                    inorderIndex += 1\n",
    "                node.right = TreeNode(preorderVal)\n",
    "                stack.append(node.right)\n",
    "\n",
    "        return root"
   ]
  }
 ],
 "metadata": {
  "kernelspec": {
   "display_name": "Python [default]",
   "language": "python",
   "name": "python3"
  },
  "language_info": {
   "codemirror_mode": {
    "name": "ipython",
    "version": 3
   },
   "file_extension": ".py",
   "mimetype": "text/x-python",
   "name": "python",
   "nbconvert_exporter": "python",
   "pygments_lexer": "ipython3",
   "version": "3.6.5"
  },
  "varInspector": {
   "cols": {
    "lenName": 16,
    "lenType": 16,
    "lenVar": 40
   },
   "kernels_config": {
    "python": {
     "delete_cmd_postfix": "",
     "delete_cmd_prefix": "del ",
     "library": "var_list.py",
     "varRefreshCmd": "print(var_dic_list())"
    },
    "r": {
     "delete_cmd_postfix": ") ",
     "delete_cmd_prefix": "rm(",
     "library": "var_list.r",
     "varRefreshCmd": "cat(var_dic_list()) "
    }
   },
   "types_to_exclude": [
    "module",
    "function",
    "builtin_function_or_method",
    "instance",
    "_Feature"
   ],
   "window_display": false
  }
 },
 "nbformat": 4,
 "nbformat_minor": 2
}
