{
 "cells": [
  {
   "cell_type": "markdown",
   "metadata": {},
   "source": [
    "**[LeetCode Link](https://leetcode-cn.com/problems/n-ary-tree-level-order-traversal/solution/ncha-shu-de-ceng-xu-bian-li-by-leetcode/)**"
   ]
  },
  {
   "cell_type": "markdown",
   "metadata": {},
   "source": [
    "## 迭代\n",
    "### 算法\n",
    "参考二叉树层序遍历\n",
    "### 复杂度分析\n",
    "* 时间复杂度：$\\mathcal{O}(n)$。 $\\mathcal{n}$ 指的是节点的数量。\n",
    "* 空间复杂度：$\\mathcal{O}(n)$。"
   ]
  },
  {
   "cell_type": "code",
   "execution_count": null,
   "metadata": {},
   "outputs": [],
   "source": [
    "class Solution:\n",
    "    def levelOrder(self, root: 'Node') -> List[List[int]]:\n",
    "        if not root: return []\n",
    "        queue = collections.deque([root])\n",
    "        res = []\n",
    "        while queue:\n",
    "            level = []\n",
    "            for _ in range(len(queue)):\n",
    "                node = queue.popleft()\n",
    "                level.append(node.val)\n",
    "                queue.extend(node.children)\n",
    "            res.append(level)\n",
    "        return res\n",
    "\n",
    "\n",
    "class Solution:\n",
    "    def levelOrder(self, root: 'Node') -> List[List[int]]:\n",
    "        if root is None: return []\n",
    "        stack = [root]\n",
    "        res = []\n",
    "        while len(stack) > 0:\n",
    "            next = []\n",
    "            cur = []\n",
    "            for node in stack:\n",
    "                if node is None:\n",
    "                    continue\n",
    "                cur.append(node.val)\n",
    "                for i in node.children:\n",
    "                    next.append(i)\n",
    "            res.append(cur)\n",
    "            stack = next\n",
    "\n",
    "        return res"
   ]
  },
  {
   "cell_type": "markdown",
   "metadata": {},
   "source": [
    "## 递归\n",
    "### 算法：\n",
    "我们可以使用递归来解决这个问题，通常我们不能使用递归进行广度优先搜索。这是因为广度优先搜索基于队列，而递归运行时使用堆栈，适合深度优先搜索。但是在本题中，我们可以以不同的顺序添加到最终列表中，只要我们知道节点在哪一层并确保在那一层的列表顺序正确就可以了。\n",
    "### 复杂度分析\n",
    "* 时间复杂度：$\\mathcal{O}(n)$。$\\mathcal{n}$ 指的是节点的数量\n",
    "* 空间复杂度：正常情况 $\\mathcal{O}({log}n)$，最坏情况 $\\mathcal{O}(n)$。运行时在堆栈上的空间。"
   ]
  },
  {
   "cell_type": "code",
   "execution_count": null,
   "metadata": {},
   "outputs": [],
   "source": [
    "class Solution:\n",
    "    def levelOrder(self, root: 'Node') -> List[List[int]]:\n",
    "        def traverse_node(node, level):\n",
    "            # 为下一层节点添加新队列\n",
    "            if len(result) == level:\n",
    "                result.append([])\n",
    "            result[level].append(node.val)\n",
    "            for child in node.children:\n",
    "                traverse_node(child, level + 1)\n",
    "\n",
    "        result = []\n",
    "        if root is not None:\n",
    "            traverse_node(root, 0)\n",
    "        return result"
   ]
  }
 ],
 "metadata": {
  "kernelspec": {
   "display_name": "Python [conda root]",
   "language": "python",
   "name": "conda-root-py"
  },
  "language_info": {
   "codemirror_mode": {
    "name": "ipython",
    "version": 3
   },
   "file_extension": ".py",
   "mimetype": "text/x-python",
   "name": "python",
   "nbconvert_exporter": "python",
   "pygments_lexer": "ipython3",
   "version": "3.6.5"
  },
  "varInspector": {
   "cols": {
    "lenName": 16,
    "lenType": 16,
    "lenVar": 40
   },
   "kernels_config": {
    "python": {
     "delete_cmd_postfix": "",
     "delete_cmd_prefix": "del ",
     "library": "var_list.py",
     "varRefreshCmd": "print(var_dic_list())"
    },
    "r": {
     "delete_cmd_postfix": ") ",
     "delete_cmd_prefix": "rm(",
     "library": "var_list.r",
     "varRefreshCmd": "cat(var_dic_list()) "
    }
   },
   "types_to_exclude": [
    "module",
    "function",
    "builtin_function_or_method",
    "instance",
    "_Feature"
   ],
   "window_display": false
  }
 },
 "nbformat": 4,
 "nbformat_minor": 2
}
