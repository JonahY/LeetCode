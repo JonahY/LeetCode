{
 "cells": [
  {
   "cell_type": "markdown",
   "metadata": {},
   "source": [
    "**[LeetCode Link](https://leetcode-cn.com/problems/recover-binary-search-tree/solution/hui-fu-er-cha-sou-suo-shu-by-leetcode/)**"
   ]
  },
  {
   "cell_type": "markdown",
   "metadata": {},
   "source": [
    "## 迭代中序遍历\n",
    "### 算法：\n",
    "* 迭代顺序很简单：尽可能的向左走，然后向右走一步，重复一直到结束。\n",
    "* 若要找到交换的节点，就记录中序遍历中的最后一个节点 pred（即当前节点的前置节点），并与当前节点的值进行比较。如果当前节点的值小于前置节点 pred 的值，说明该节点是交换节点之一。\n",
    "* 交换的节点只有两个，因此在确定了第二个交换节点以后，可以终止遍历。\n",
    "\n",
    "### 复杂度分析\n",
    "* 时间复杂度：最好的情况下是 O(1)；最坏的情况下是交换节点之一是最右边的叶节点时，此时是 O(N)。\n",
    "* 空间复杂度：最大是 O(H) 来维持栈的大小，其中 H 指的是树的高度。"
   ]
  },
  {
   "cell_type": "code",
   "execution_count": null,
   "metadata": {},
   "outputs": [],
   "source": [
    "class Solution:\n",
    "    def recoverTree(self, root: TreeNode):\n",
    "        \"\"\"\n",
    "        :rtype: void Do not return anything, modify root in-place instead.\n",
    "        \"\"\"\n",
    "        stack = []\n",
    "        x = y = pred = None\n",
    "        \n",
    "        while stack or root:\n",
    "            while root:\n",
    "                stack.append(root)\n",
    "                root = root.left\n",
    "            root = stack.pop()\n",
    "            if pred and root.val < pred.val:\n",
    "                y = root\n",
    "                if x is None:\n",
    "                    x = pred \n",
    "                else:\n",
    "                    break\n",
    "            pred = root\n",
    "            root = root.right\n",
    "\n",
    "        x.val, y.val = y.val, x.val"
   ]
  },
  {
   "cell_type": "markdown",
   "metadata": {},
   "source": [
    "## 递归中序遍历\n",
    "### 算法：\n",
    "递归中序遍历很简单：遵循 Left->Node->Right 方向，即对左子节点进行递归调用，然后判断该节点是否被交换，然后对右子节点执行递归调用。\n",
    "\n",
    "### 复杂度分析\n",
    "* 时间复杂度：最好的情况下是 O(1)；最坏的情况下是交换节点之一是最右边的叶节点时，此时是 O(N)。\n",
    "* 空间复杂度：最大是 O(H) 来维持递归调用堆栈的大小，其中 H 指的是树的高度。"
   ]
  },
  {
   "cell_type": "code",
   "execution_count": null,
   "metadata": {},
   "outputs": [],
   "source": [
    "class Solution:\n",
    "    def recoverTree(self, root):\n",
    "        \"\"\"\n",
    "        :type root: TreeNode\n",
    "        :rtype: void Do not return anything, modify root in-place instead.\n",
    "        \"\"\"\n",
    "        def find_two_swapped(root: TreeNode):\n",
    "            nonlocal x, y, pred\n",
    "            if root is None:\n",
    "                return\n",
    "            \n",
    "            find_two_swapped(root.left)\n",
    "            if pred and root.val < pred.val:\n",
    "                y = root\n",
    "                # first swap occurence\n",
    "                if x is None:\n",
    "                    x = pred \n",
    "                # second swap occurence\n",
    "                else:\n",
    "                    return\n",
    "            pred = root\n",
    "            find_two_swapped(root.right)\n",
    "        \n",
    "        x = y = pred = None\n",
    "        find_two_swapped(root)\n",
    "        x.val, y.val = y.val, x.val"
   ]
  }
 ],
 "metadata": {
  "kernelspec": {
   "display_name": "Python 3",
   "language": "python",
   "name": "python3"
  },
  "language_info": {
   "codemirror_mode": {
    "name": "ipython",
    "version": 3
   },
   "file_extension": ".py",
   "mimetype": "text/x-python",
   "name": "python",
   "nbconvert_exporter": "python",
   "pygments_lexer": "ipython3",
   "version": "3.7.6"
  }
 },
 "nbformat": 4,
 "nbformat_minor": 4
}
