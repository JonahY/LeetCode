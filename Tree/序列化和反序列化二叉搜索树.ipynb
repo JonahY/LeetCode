{
 "cells": [
  {
   "cell_type": "markdown",
   "metadata": {
    "ExecuteTime": {
     "end_time": "2020-07-21T08:35:06.668527Z",
     "start_time": "2020-07-21T08:35:06.660581Z"
    }
   },
   "source": [
    "**[LeetCode Link](https://leetcode-cn.com/problems/serialize-and-deserialize-bst/solution/xu-lie-hua-he-fan-xu-lie-hua-er-cha-sou-suo-shu-2/)**"
   ]
  },
  {
   "cell_type": "markdown",
   "metadata": {},
   "source": [
    "## DFS后续遍历\n",
    "### 复杂度分析\n",
    "* 时间复杂度：序列化和反序列都使用了 $\\mathcal{O}(N)$ 的时间。\n",
    "* 空间复杂度：$\\mathcal{O}(N)$，我们存储了整个树。编码序列：需要 (N - 1) 个分隔符和 N 个节点的值。树的结构和顺序不占用空间。"
   ]
  },
  {
   "cell_type": "code",
   "execution_count": null,
   "metadata": {},
   "outputs": [],
   "source": [
    "class Codec:\n",
    "    def serialize(self, root):\n",
    "        \"\"\"\n",
    "        Encodes a tree to a single string.\n",
    "        \"\"\"\n",
    "        def postorder(root):\n",
    "            return postorder(root.left) + postorder(root.right) + [root.val] if root else []\n",
    "        return ' '.join(map(str, postorder(root)))\n",
    "\n",
    "    def deserialize(self, data):\n",
    "        \"\"\"\n",
    "        Decodes your encoded data to tree.\n",
    "        \"\"\"\n",
    "        def helper(lower = float('-inf'), upper = float('inf')):\n",
    "            if not data or data[-1] < lower or data[-1] > upper:\n",
    "                return None\n",
    "            \n",
    "            val = data.pop()\n",
    "            root = TreeNode(val)\n",
    "            root.right = helper(val, upper)\n",
    "            root.left = helper(lower, val)\n",
    "            return root\n",
    "        \n",
    "        data = [int(x) for x in data.split(' ') if x]\n",
    "        return helper()"
   ]
  }
 ],
 "metadata": {
  "kernelspec": {
   "display_name": "Python [conda root]",
   "language": "python",
   "name": "conda-root-py"
  },
  "language_info": {
   "codemirror_mode": {
    "name": "ipython",
    "version": 3
   },
   "file_extension": ".py",
   "mimetype": "text/x-python",
   "name": "python",
   "nbconvert_exporter": "python",
   "pygments_lexer": "ipython3",
   "version": "3.6.5"
  },
  "varInspector": {
   "cols": {
    "lenName": 16,
    "lenType": 16,
    "lenVar": 40
   },
   "kernels_config": {
    "python": {
     "delete_cmd_postfix": "",
     "delete_cmd_prefix": "del ",
     "library": "var_list.py",
     "varRefreshCmd": "print(var_dic_list())"
    },
    "r": {
     "delete_cmd_postfix": ") ",
     "delete_cmd_prefix": "rm(",
     "library": "var_list.r",
     "varRefreshCmd": "cat(var_dic_list()) "
    }
   },
   "types_to_exclude": [
    "module",
    "function",
    "builtin_function_or_method",
    "instance",
    "_Feature"
   ],
   "window_display": false
  }
 },
 "nbformat": 4,
 "nbformat_minor": 2
}
