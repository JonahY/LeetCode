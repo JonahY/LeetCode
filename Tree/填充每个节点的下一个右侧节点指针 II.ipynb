{
 "cells": [
  {
   "cell_type": "markdown",
   "metadata": {},
   "source": []
  },
  {
   "cell_type": "markdown",
   "metadata": {},
   "source": [
    "## 迭代\n",
    "纵向是二叉树，横向是链表，两层嵌套循环，主循环处理各层，子循环处理每层节点的各子节点。\n",
    "\n",
    "定义3个变量，分别标记：下一层头节点head，下一层已遍历到的前置节点pre，以及当前层处理的游标cur：\n",
    "* 总初始化：下一层要处理的头节点```head=root```\n",
    "* 各层初始化：当前层处理游标节点cur用head更新赋值，而后```pre=head=None```，表示下一层尚未找到前置和头节点\n",
    "* 对当前层游标节点cur进行处理，对左右子节点分别判断：\n",
    "    * 如果下一层尚未找到前置节点，则意味着该左/右子节点就是下一层的头节点，于是更新```pre=head=该子节点```\n",
    "    * 如果pre已赋值，则直接更新pre的next到当前的左/右子节点，然后pre更新到其next值\n",
    "    * cur游标更新到下一个值\n",
    "* 根据更新后的head，处理下一层\n",
    "\n",
    "### 复杂度分析\n",
    "* 时间复杂度：O(N)，每个节点只处理一次。\n",
    "* 空间复杂度：O(1)，不使用额外空间。"
   ]
  },
  {
   "cell_type": "code",
   "execution_count": null,
   "metadata": {},
   "outputs": [],
   "source": [
    "class Solution:\n",
    "    def connect(self, root: 'Node') -> 'Node':\n",
    "        head = root\n",
    "        while head:#当前层的头节点\n",
    "            cur = head #当前层处理节点\n",
    "            pre = head = None#初始化下一层头节点和前置节点\n",
    "            while cur:\n",
    "                if cur.left:\n",
    "                    if not pre:#若尚未找到下一层前置节点，则同步更新下一层头节点和前置节点\n",
    "                        pre = head =cur.left\n",
    "                    else:#已找到下一层前置节点，则将前置节点指向当前子节点，并前移pre\n",
    "                        pre.next = cur.left\n",
    "                        pre = pre.next\n",
    "                if cur.right:\n",
    "                    if not pre:\n",
    "                        pre = head = cur.right\n",
    "                    else:\n",
    "                        pre.next = cur.right\n",
    "                        pre = pre.next\n",
    "                cur = cur.next\n",
    "        return root"
   ]
  },
  {
   "cell_type": "markdown",
   "metadata": {},
   "source": [
    "## 迭代\n",
    "* 对于每行，先初始化一个哑结点\n",
    "* 若根节点存在\n",
    "    * 若当前根节点的左右子节点都存在，将哑结点与左儿子连接，再与右儿子连接，并将```dummy.next=cur.left```\n",
    "    * 若当前根节点的右子节点不存在，将哑结点与左儿子连接，并将```dummy.next=cur.left```\n",
    "    * 若当前根节点的左子节点不存在，将哑结点与右儿子连接，并将```dummy.next=cur.right```\n",
    "    * 对该行根节点进行遍历，依赖于上一行遍历的节点关系\n",
    "* 按照如上关系，将当前行与哑结点连接的根节点置为下一行的初始根节点"
   ]
  },
  {
   "cell_type": "code",
   "execution_count": null,
   "metadata": {},
   "outputs": [],
   "source": [
    "class Solution:\n",
    "    def connect(self, root: 'Node') -> 'Node':\n",
    "        if not root:\n",
    "            return\n",
    "        cur = root\n",
    "        while cur:\n",
    "            dummy = Node() # 每行初始化一个哑节点\n",
    "            past = dummy\n",
    "            while cur:\n",
    "                if cur.left and cur.right: # 左右子节点都存在，则dummy.next=cur.left\n",
    "                    past.next = cur.left\n",
    "                    past = cur.left\n",
    "                    past.next = cur.right\n",
    "                    past = cur.right\n",
    "                elif cur.left: # 右子节点不存在，则dummy.next=cur.left\n",
    "                    past.next = cur.left\n",
    "                    past = cur.left\n",
    "                elif cur.right: # 左子节点不存在，则dummy.next=cur.right\n",
    "                    past.next = cur.right\n",
    "                    past = cur.right\n",
    "                cur = cur.next # 对该行节点进行遍历，依赖于上一行遍历的节点关系\n",
    "            \n",
    "            cur = dummy.next\n",
    "        return root"
   ]
  }
 ],
 "metadata": {
  "kernelspec": {
   "display_name": "Python [default]",
   "language": "python",
   "name": "python3"
  },
  "language_info": {
   "codemirror_mode": {
    "name": "ipython",
    "version": 3
   },
   "file_extension": ".py",
   "mimetype": "text/x-python",
   "name": "python",
   "nbconvert_exporter": "python",
   "pygments_lexer": "ipython3",
   "version": "3.6.5"
  },
  "varInspector": {
   "cols": {
    "lenName": 16,
    "lenType": 16,
    "lenVar": 40
   },
   "kernels_config": {
    "python": {
     "delete_cmd_postfix": "",
     "delete_cmd_prefix": "del ",
     "library": "var_list.py",
     "varRefreshCmd": "print(var_dic_list())"
    },
    "r": {
     "delete_cmd_postfix": ") ",
     "delete_cmd_prefix": "rm(",
     "library": "var_list.r",
     "varRefreshCmd": "cat(var_dic_list()) "
    }
   },
   "types_to_exclude": [
    "module",
    "function",
    "builtin_function_or_method",
    "instance",
    "_Feature"
   ],
   "window_display": false
  }
 },
 "nbformat": 4,
 "nbformat_minor": 2
}
