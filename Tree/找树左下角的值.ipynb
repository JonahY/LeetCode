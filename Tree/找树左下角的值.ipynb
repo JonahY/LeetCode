{
 "cells": [
  {
   "cell_type": "markdown",
   "metadata": {},
   "source": [
    "**[LeetCode Link](https://leetcode-cn.com/problems/find-bottom-left-tree-value/submissions/)**"
   ]
  },
  {
   "cell_type": "markdown",
   "metadata": {},
   "source": [
    "## DFS"
   ]
  },
  {
   "cell_type": "code",
   "execution_count": null,
   "metadata": {},
   "outputs": [],
   "source": [
    "class Solution:\n",
    "    def findBottomLeftValue(self, root: TreeNode) -> int:\n",
    "        if not root: return\n",
    "        h = self.depth(root)\n",
    "        stack = collections.deque([(root, 1)])\n",
    "        while stack:\n",
    "            node, level = stack.popleft()\n",
    "            if level == h: return node.val\n",
    "            if node.left: stack.append([node.left, level+1])\n",
    "            if node.right: stack.append([node.right, level+1])\n",
    "\n",
    "    def depth(self, root):\n",
    "        if not root: return 0\n",
    "        return max(self.depth(root.left), self.depth(root.right)) + 1"
   ]
  },
  {
   "cell_type": "markdown",
   "metadata": {},
   "source": [
    "## BFS"
   ]
  },
  {
   "cell_type": "code",
   "execution_count": null,
   "metadata": {},
   "outputs": [],
   "source": [
    "class Solution:\n",
    "    def findBottomLeftValue(self, root: TreeNode) -> int:\n",
    "        queue = [root]\n",
    "        while queue:\n",
    "            temp = []\n",
    "            for node in queue:\n",
    "                if node.left:\n",
    "                    temp.append(node.left)\n",
    "                if node.right:\n",
    "                    temp.append(node.right)\n",
    "            if not temp:\n",
    "                return queue[0].val\n",
    "            else:\n",
    "                queue = temp"
   ]
  }
 ],
 "metadata": {
  "kernelspec": {
   "display_name": "Python [conda root]",
   "language": "python",
   "name": "conda-root-py"
  },
  "language_info": {
   "codemirror_mode": {
    "name": "ipython",
    "version": 3
   },
   "file_extension": ".py",
   "mimetype": "text/x-python",
   "name": "python",
   "nbconvert_exporter": "python",
   "pygments_lexer": "ipython3",
   "version": "3.6.5"
  },
  "varInspector": {
   "cols": {
    "lenName": 16,
    "lenType": 16,
    "lenVar": 40
   },
   "kernels_config": {
    "python": {
     "delete_cmd_postfix": "",
     "delete_cmd_prefix": "del ",
     "library": "var_list.py",
     "varRefreshCmd": "print(var_dic_list())"
    },
    "r": {
     "delete_cmd_postfix": ") ",
     "delete_cmd_prefix": "rm(",
     "library": "var_list.r",
     "varRefreshCmd": "cat(var_dic_list()) "
    }
   },
   "types_to_exclude": [
    "module",
    "function",
    "builtin_function_or_method",
    "instance",
    "_Feature"
   ],
   "window_display": false
  }
 },
 "nbformat": 4,
 "nbformat_minor": 2
}
