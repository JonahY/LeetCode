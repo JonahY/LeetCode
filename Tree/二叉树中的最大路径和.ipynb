{
 "cells": [
  {
   "cell_type": "markdown",
   "metadata": {},
   "source": [
    "**[LeetCode Link](https://leetcode-cn.com/problems/binary-tree-maximum-path-sum/solution/er-cha-shu-zhong-de-zui-da-lu-jing-he-by-leetcode-/)**"
   ]
  },
  {
   "cell_type": "markdown",
   "metadata": {},
   "source": [
    "## 递归\n",
    "首先，考虑实现一个简化的函数```maxGain(node)```，该函数计算二叉树中的一个节点的最大贡献值，具体而言，就是在以该节点为根节点的子树中寻找以该节点为起点的一条路径，使得该路径上的节点值之和最大。\n",
    "\n",
    "具体而言，该函数的计算如下。\n",
    "* 空节点的最大贡献值等于 0。\n",
    "* 非空节点的最大贡献值等于节点值与其子节点中的最大贡献值之和（对于叶节点而言，最大贡献值等于节点值）。\n",
    "\n",
    "对于二叉树中的一个节点，该节点的最大路径和取决于该节点的值与该节点的左右子节点的最大贡献值，如果子节点的最大贡献值为正，则计入该节点的最大路径和，否则不计入该节点的最大路径和。维护一个全局变量 maxSum 存储最大路径和，在递归过程中更新 maxSum 的值，最后得到的 maxSum 的值即为二叉树中的最大路径和。\n",
    "\n",
    "### 复杂度分析\n",
    "* 时间复杂度：O(N)，其中 N 是二叉树中的节点个数。对每个节点访问不超过 2 次。\n",
    "* 空间复杂度：O(N)，其中 N 是二叉树中的节点个数。空间复杂度主要取决于递归调用层数，最大层数等于二叉树的高度，最坏情况下，二叉树的高度等于二叉树中的节点个数。"
   ]
  },
  {
   "cell_type": "code",
   "execution_count": null,
   "metadata": {},
   "outputs": [],
   "source": [
    "class Solution:\n",
    "    def __init__(self):\n",
    "        self.maxSum = float(\"-inf\")\n",
    "\n",
    "    def maxPathSum(self, root: TreeNode) -> int:\n",
    "        def maxGain(node):\n",
    "            if not node:\n",
    "                return 0\n",
    "\n",
    "            # 递归计算左右子节点的最大贡献值\n",
    "            # 只有在最大贡献值大于 0 时，才会选取对应子节点\n",
    "            leftGain = max(maxGain(node.left), 0)\n",
    "            rightGain = max(maxGain(node.right), 0)\n",
    "            \n",
    "            # 节点的最大路径和取决于该节点的值与该节点的左右子节点的最大贡献值\n",
    "            priceNewpath = node.val + leftGain + rightGain\n",
    "            \n",
    "            # 更新答案\n",
    "            self.maxSum = max(self.maxSum, priceNewpath)\n",
    "        \n",
    "            # 返回节点的最大贡献值\n",
    "            return node.val + max(leftGain, rightGain)\n",
    "   \n",
    "        maxGain(root)\n",
    "        return self.maxSum"
   ]
  }
 ],
 "metadata": {
  "kernelspec": {
   "display_name": "Python 3",
   "language": "python",
   "name": "python3"
  },
  "language_info": {
   "codemirror_mode": {
    "name": "ipython",
    "version": 3
   },
   "file_extension": ".py",
   "mimetype": "text/x-python",
   "name": "python",
   "nbconvert_exporter": "python",
   "pygments_lexer": "ipython3",
   "version": "3.7.6"
  }
 },
 "nbformat": 4,
 "nbformat_minor": 4
}
