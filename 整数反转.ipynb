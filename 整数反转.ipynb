{
 "cells": [
  {
   "cell_type": "markdown",
   "metadata": {},
   "source": [
    "算法思路： 对当前数取对10的余数，再一项项填入res尾部，即可完成翻转。\n",
    "\n",
    "边界情况处理： 如果翻转数字溢出，则立即返回0。\n",
    "    \n",
    "    Python： 存储数字理论上是无限长度，因此每次计算完后判断res与of的大小关系即可；\n",
    "\n",
    "Python的坑： 由于Python的//操作是向下取整，导致正负数取余%操作结果不一致，因此需要将原数字转为正数操作。"
   ]
  },
  {
   "cell_type": "code",
   "execution_count": 6,
   "metadata": {},
   "outputs": [],
   "source": [
    "def reverse(x: int):\n",
    "    y, res = abs(x), 0\n",
    "    of = (1 << 31) - 1 if x > 0 else 1 << 31    # 1 << 31表示：1*2^31\n",
    "    while y != 0:\n",
    "        res = res * 10 + y % 10\n",
    "        if res > of: return 0\n",
    "        y //= 10\n",
    "    return res if x > 0 else -res"
   ]
  },
  {
   "cell_type": "code",
   "execution_count": 7,
   "metadata": {},
   "outputs": [
    {
     "data": {
      "text/plain": [
       "895"
      ]
     },
     "execution_count": 7,
     "metadata": {},
     "output_type": "execute_result"
    }
   ],
   "source": [
    "x = 5980\n",
    "reverse(x)"
   ]
  }
 ],
 "metadata": {
  "kernelspec": {
   "display_name": "Python [conda env:root] *",
   "language": "python",
   "name": "conda-root-py"
  },
  "language_info": {
   "codemirror_mode": {
    "name": "ipython",
    "version": 3
   },
   "file_extension": ".py",
   "mimetype": "text/x-python",
   "name": "python",
   "nbconvert_exporter": "python",
   "pygments_lexer": "ipython3",
   "version": "3.7.3"
  }
 },
 "nbformat": 4,
 "nbformat_minor": 2
}
