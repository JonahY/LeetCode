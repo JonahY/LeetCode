{
 "cells": [
  {
   "cell_type": "markdown",
   "metadata": {},
   "source": [
    "**[LeetCode Link](https://leetcode-cn.com/problems/valid-sudoku/solution/you-xiao-de-shu-du-by-leetcode/)**"
   ]
  },
  {
   "cell_type": "markdown",
   "metadata": {},
   "source": [
    "## 哈希表\n",
    "***利用 value -> count 哈希映射来跟踪所有已经遇到的值。***\n",
    "* 遍历数独。\n",
    "* 检查看到每个单元格值是否已经在当前的行 / 列 / 子数独中出现过：\n",
    "    * 如果出现重复，返回 false。\n",
    "    * 如果没有，则保留此值以进行进一步跟踪。\n",
    "* 返回 true。"
   ]
  },
  {
   "cell_type": "code",
   "execution_count": 26,
   "metadata": {},
   "outputs": [],
   "source": [
    "class Solution:\n",
    "    def isValidSudoku(self, board) -> bool:\n",
    "        rows = [{} for i in range(len(board))]\n",
    "        columns = [{} for i in range(len(board))]\n",
    "        boxes = [{} for i in range(len(board))]\n",
    "        for i in range(len(board)):\n",
    "            for j in range(len(board[i])):\n",
    "                num = board[i][j]\n",
    "                box_index = (i // 3 ) * (len(board) // 3) + j // 3\n",
    "                if num != '.':\n",
    "                    num = int(num)\n",
    "                    rows[i][num] = rows[i].get(num,0) + 1\n",
    "                    columns[j][num] = columns[j].get(num,0) + 1\n",
    "                    boxes[box_index][num] = boxes[box_index].get(num,0) + 1\n",
    "                    if rows[i][num] > 1 or columns[j][num] > 1 or boxes[box_index][num] > 1:\n",
    "                        return False\n",
    "        return True"
   ]
  },
  {
   "cell_type": "code",
   "execution_count": 27,
   "metadata": {},
   "outputs": [
    {
     "data": {
      "text/plain": [
       "True"
      ]
     },
     "execution_count": 27,
     "metadata": {},
     "output_type": "execute_result"
    }
   ],
   "source": [
    "solve = Solution()\n",
    "board = [[\".\",\"8\",\"7\",\"6\",\"5\",\"4\",\"3\",\"2\",\"1\"],[\"2\",\".\",\".\",\".\",\".\",\".\",\".\",\".\",\".\"],[\"3\",\".\",\".\",\".\",\".\",\".\",\".\",\".\",\".\"],[\"4\",\".\",\".\",\".\",\".\",\".\",\".\",\".\",\".\"],[\"5\",\".\",\".\",\".\",\".\",\".\",\".\",\".\",\".\"],[\"6\",\".\",\".\",\".\",\".\",\".\",\".\",\".\",\".\"],[\"7\",\".\",\".\",\".\",\".\",\".\",\".\",\".\",\".\"],[\"8\",\".\",\".\",\".\",\".\",\".\",\".\",\".\",\".\"],[\"9\",\".\",\".\",\".\",\".\",\".\",\".\",\".\",\".\"]]\n",
    "solve.isValidSudoku(board)"
   ]
  }
 ],
 "metadata": {
  "kernelspec": {
   "display_name": "Python 3",
   "language": "python",
   "name": "python3"
  },
  "language_info": {
   "codemirror_mode": {
    "name": "ipython",
    "version": 3
   },
   "file_extension": ".py",
   "mimetype": "text/x-python",
   "name": "python",
   "nbconvert_exporter": "python",
   "pygments_lexer": "ipython3",
   "version": "3.7.6"
  }
 },
 "nbformat": 4,
 "nbformat_minor": 4
}
