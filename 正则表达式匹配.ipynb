{
 "cells": [
  {
   "cell_type": "markdown",
   "metadata": {},
   "source": [
    "基于递归实现正则表达式：\n",
    "    \n",
    "    处理点号「.」通配符：点号可以匹配任意一个字符，万金油\n",
    "    \n",
    "    处理「*」通配符：不管重复次数N是多少，当前的选择只有两个：匹配0次、匹配1次。\n",
    "    \n",
    "        所以可以这样处理：分两种情况，一种是当前匹配0次，即接着比较text和pattern[2:]；或者匹配一次，即接着比较text[1:]和pattern，相当于向后推移text。这两种情况满足其一即可，故用or连接"
   ]
  },
  {
   "cell_type": "code",
   "execution_count": 28,
   "metadata": {},
   "outputs": [],
   "source": [
    "def isMatch(text, pattern) -> bool:\n",
    "    if not pattern: \n",
    "        return not text\n",
    "\n",
    "    first = bool(text) and pattern[0] in {text[0], '.'}\n",
    "\n",
    "    if len(pattern) >= 2 and pattern[1] == '*':\n",
    "        print(1)\n",
    "        return isMatch(text, pattern[2:]) or first and isMatch(text[1:], pattern)\n",
    "    else:\n",
    "        return first and isMatch(text[1:], pattern[1:])"
   ]
  },
  {
   "cell_type": "code",
   "execution_count": 29,
   "metadata": {
    "scrolled": false
   },
   "outputs": [
    {
     "name": "stdout",
     "output_type": "stream",
     "text": [
      "1\n",
      "1\n",
      "1\n",
      "1\n",
      "1\n",
      "1\n"
     ]
    },
    {
     "data": {
      "text/plain": [
       "True"
      ]
     },
     "execution_count": 29,
     "metadata": {},
     "output_type": "execute_result"
    }
   ],
   "source": [
    "text = \"aafd\"\n",
    "pattern = \"a*.*\"\n",
    "isMatch(text, pattern)"
   ]
  },
  {
   "cell_type": "code",
   "execution_count": 31,
   "metadata": {},
   "outputs": [
    {
     "data": {
      "text/plain": [
       "True"
      ]
     },
     "execution_count": 31,
     "metadata": {},
     "output_type": "execute_result"
    }
   ],
   "source": [
    "text = \"\"\n",
    "pattern = \"\"\n",
    "isMatch(text, pattern)"
   ]
  },
  {
   "cell_type": "code",
   "execution_count": 26,
   "metadata": {},
   "outputs": [],
   "source": [
    "def isMatch(text, pattern):\n",
    "    memo = {}\n",
    "    def dp(i, j):\n",
    "        if (i, j) not in memo:\n",
    "            if j == len(pattern):\n",
    "                ans = i == len(text)\n",
    "            else:\n",
    "                first_match = i < len(text) and pattern[j] in {text[i], '.'}\n",
    "                if j+1 < len(pattern) and pattern[j+1] == '*':\n",
    "                    ans = dp(i, j+2) or first_match and dp(i+1, j)\n",
    "                else:\n",
    "                    ans = first_match and dp(i+1, j+1)\n",
    "\n",
    "            memo[i, j] = ans\n",
    "            print(memo)\n",
    "        return memo[i, j]\n",
    "    return dp(0, 0)"
   ]
  },
  {
   "cell_type": "code",
   "execution_count": 27,
   "metadata": {},
   "outputs": [
    {
     "name": "stdout",
     "output_type": "stream",
     "text": [
      "{(0, 4): False}\n",
      "{(0, 4): False, (1, 4): False}\n",
      "{(0, 4): False, (1, 4): False, (2, 4): False}\n",
      "{(0, 4): False, (1, 4): False, (2, 4): False, (3, 4): False}\n",
      "{(0, 4): False, (1, 4): False, (2, 4): False, (3, 4): False, (4, 4): True}\n",
      "{(0, 4): False, (1, 4): False, (2, 4): False, (3, 4): False, (4, 4): True, (4, 2): True}\n",
      "{(0, 4): False, (1, 4): False, (2, 4): False, (3, 4): False, (4, 4): True, (4, 2): True, (3, 2): True}\n",
      "{(0, 4): False, (1, 4): False, (2, 4): False, (3, 4): False, (4, 4): True, (4, 2): True, (3, 2): True, (2, 2): True}\n",
      "{(0, 4): False, (1, 4): False, (2, 4): False, (3, 4): False, (4, 4): True, (4, 2): True, (3, 2): True, (2, 2): True, (1, 2): True}\n",
      "{(0, 4): False, (1, 4): False, (2, 4): False, (3, 4): False, (4, 4): True, (4, 2): True, (3, 2): True, (2, 2): True, (1, 2): True, (0, 2): True}\n",
      "{(0, 4): False, (1, 4): False, (2, 4): False, (3, 4): False, (4, 4): True, (4, 2): True, (3, 2): True, (2, 2): True, (1, 2): True, (0, 2): True, (0, 0): True}\n"
     ]
    },
    {
     "data": {
      "text/plain": [
       "True"
      ]
     },
     "execution_count": 27,
     "metadata": {},
     "output_type": "execute_result"
    }
   ],
   "source": [
    "text = \"aafd\"\n",
    "pattern = \"a*.*\"\n",
    "isMatch(text, pattern)"
   ]
  }
 ],
 "metadata": {
  "kernelspec": {
   "display_name": "Python [conda root]",
   "language": "python",
   "name": "conda-root-py"
  },
  "language_info": {
   "codemirror_mode": {
    "name": "ipython",
    "version": 3
   },
   "file_extension": ".py",
   "mimetype": "text/x-python",
   "name": "python",
   "nbconvert_exporter": "python",
   "pygments_lexer": "ipython3",
   "version": "3.6.5"
  }
 },
 "nbformat": 4,
 "nbformat_minor": 2
}
