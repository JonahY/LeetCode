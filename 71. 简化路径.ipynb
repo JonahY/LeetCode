{
 "cells": [
  {
   "cell_type": "markdown",
   "metadata": {},
   "source": [
    "### **[LeetCode Link](https://leetcode-cn.com/problems/simplify-path/solution/2020040371medianzhan-zi-fu-shu-zu-ke-bian-zi-fu-ch/)**"
   ]
  },
  {
   "cell_type": "markdown",
   "metadata": {},
   "source": [
    "## \n",
    "### 本题使用了三种容器来求解绝对路径\n",
    "* 首先定义栈用来存储路径信息\n",
    "* 依次遍历用 “/” 分割出的内容\n",
    " * 如果是 “..” 还要再判断是否为空才能弹出栈\n",
    " * 如果不为空也不为 “.” 这说明当前元素是路径信息，入栈即可\n",
    "* 遍历完后，将栈中元素用 “/” 连接"
   ]
  },
  {
   "cell_type": "code",
   "execution_count": null,
   "metadata": {},
   "outputs": [],
   "source": [
    "class Solution:\n",
    "    def simplifyPath(self, path: str) -> str:\n",
    "        stack = []\n",
    "        path = path.split(\"/\")\n",
    "        print(path)\n",
    "        for item in path:\n",
    "            if item == \"..\":\n",
    "                if stack : stack.pop()\n",
    "            elif item and item != \".\":\n",
    "                stack.append(item)\n",
    "        return \"/\" + \"/\".join(stack)"
   ]
  }
 ],
 "metadata": {
  "kernelspec": {
   "display_name": "Python 3",
   "language": "python",
   "name": "python3"
  },
  "language_info": {
   "codemirror_mode": {
    "name": "ipython",
    "version": 3
   },
   "file_extension": ".py",
   "mimetype": "text/x-python",
   "name": "python",
   "nbconvert_exporter": "python",
   "pygments_lexer": "ipython3",
   "version": "3.8.5"
  }
 },
 "nbformat": 4,
 "nbformat_minor": 4
}
