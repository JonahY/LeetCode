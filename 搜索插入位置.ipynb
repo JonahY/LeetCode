{
 "cells": [
  {
   "cell_type": "markdown",
   "metadata": {},
   "source": [
    "**[LeetCode Link](https://leetcode-cn.com/problems/search-insert-position/solution/hua-jie-suan-fa-35-sou-suo-cha-ru-wei-zhi-by-guanp/)**"
   ]
  },
  {
   "cell_type": "markdown",
   "metadata": {},
   "source": [
    "## 二分查找\n",
    "* 如果该题目暴力解决的话需要O(n)的时间复杂度，但是如果二分的话则可以降低到O(logn)的时间复杂度\n",
    "* 整体思路和普通的二分查找几乎没有区别，先设定左侧下标left和右侧下标right，再计算中间下标mid\n",
    "* 每次根据nums[mid]和target之间的大小进行判断，相等则直接返回下标，nums[mid]<target则left右移，nums[mid]>target则right左移\n",
    "* 查找结束如果没有相等值则返回left，该值为插入位置\n",
    "* 二分查找的思路不难理解，但是边界条件容易出错，比如 循环结束条件中left和right的关系，更新left和right位置时要不要加1减1。"
   ]
  },
  {
   "cell_type": "code",
   "execution_count": 35,
   "metadata": {},
   "outputs": [],
   "source": [
    "class Solution:\n",
    "    def searchInsert(self, nums, target) -> int:\n",
    "        l = 0\n",
    "        r = len(nums) - 1\n",
    "        while l <= r:\n",
    "            i = (l+r) // 2\n",
    "            if target == nums[i]:\n",
    "                return i\n",
    "            elif nums[i] < target:\n",
    "                l = i + 1\n",
    "            else:\n",
    "                r = i - 1\n",
    "        return l"
   ]
  },
  {
   "cell_type": "code",
   "execution_count": 43,
   "metadata": {},
   "outputs": [],
   "source": [
    "class Solution:\n",
    "    def searchInsert(self, nums, target) -> int:\n",
    "        l = 0\n",
    "        r = len(nums) - 1\n",
    "        while l <= r:\n",
    "            i = (l+r) // 2\n",
    "            if target == nums[i]:\n",
    "                return i\n",
    "            elif nums[i] < target < nums[r]:\n",
    "                l = i\n",
    "                if r-i == 1:\n",
    "                    return r\n",
    "            elif nums[l] < target < nums[i]:\n",
    "                r = i\n",
    "                if i-l == 1:\n",
    "                    return i\n",
    "            elif nums[l] >= target:\n",
    "                return l\n",
    "            elif nums[r] <= target:\n",
    "                if nums[r] == target:\n",
    "                    return r\n",
    "                else:\n",
    "                    return r+1\n",
    "            else:\n",
    "                return r"
   ]
  },
  {
   "cell_type": "code",
   "execution_count": 44,
   "metadata": {
    "scrolled": true
   },
   "outputs": [
    {
     "data": {
      "text/plain": [
       "0"
      ]
     },
     "execution_count": 44,
     "metadata": {},
     "output_type": "execute_result"
    }
   ],
   "source": [
    "solve = Solution()\n",
    "nums = [1]\n",
    "target = 1\n",
    "solve.searchInsert(nums, target)"
   ]
  }
 ],
 "metadata": {
  "kernelspec": {
   "display_name": "Python 3",
   "language": "python",
   "name": "python3"
  },
  "language_info": {
   "codemirror_mode": {
    "name": "ipython",
    "version": 3
   },
   "file_extension": ".py",
   "mimetype": "text/x-python",
   "name": "python",
   "nbconvert_exporter": "python",
   "pygments_lexer": "ipython3",
   "version": "3.7.6"
  }
 },
 "nbformat": 4,
 "nbformat_minor": 4
}
