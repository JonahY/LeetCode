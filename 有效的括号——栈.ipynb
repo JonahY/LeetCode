{
 "cells": [
  {
   "cell_type": "code",
   "execution_count": 56,
   "metadata": {},
   "outputs": [],
   "source": [
    "def isValid(s):\n",
    "    if len(s)%2==1: return False\n",
    "    # 加‘？’是为了防止第一个元素不满足时stack无法删除组元的问题\n",
    "    dic = {'{': '}',  '[': ']', '(': ')', '?':'?'}\n",
    "    stack = ['?']\n",
    "    for c in s:\n",
    "        if c in dic: stack.append(c)\n",
    "        elif dic[stack.pop()] != c: return False \n",
    "    return len(stack) == 1"
   ]
  },
  {
   "cell_type": "code",
   "execution_count": 57,
   "metadata": {},
   "outputs": [
    {
     "data": {
      "text/plain": [
       "False"
      ]
     },
     "execution_count": 57,
     "metadata": {},
     "output_type": "execute_result"
    }
   ],
   "source": [
    "s=\"){\"\n",
    "isValid(s)"
   ]
  }
 ],
 "metadata": {
  "kernelspec": {
   "display_name": "Python [conda root]",
   "language": "python",
   "name": "conda-root-py"
  },
  "language_info": {
   "codemirror_mode": {
    "name": "ipython",
    "version": 3
   },
   "file_extension": ".py",
   "mimetype": "text/x-python",
   "name": "python",
   "nbconvert_exporter": "python",
   "pygments_lexer": "ipython3",
   "version": "3.6.5"
  }
 },
 "nbformat": 4,
 "nbformat_minor": 2
}
