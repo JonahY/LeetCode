{
 "cells": [
  {
   "cell_type": "code",
   "execution_count": null,
   "metadata": {},
   "outputs": [],
   "source": [
    "def longestPalindrome(self, s: str) -> str:\n",
    "    k = len(s)\n",
    "    matrix = [[0 for i in range(k)] for i in range(k)]\n",
    "    logestSubStr = \"\"\n",
    "    logestLen = 0\n",
    "\n",
    "    for j in range(0, k):\n",
    "        for i in range(0, j+1):\n",
    "            if j - i <= 1:\n",
    "                if s[i] == s[j]:\n",
    "                    matrix[i][j] = 1\n",
    "                    if logestLen < j - i + 1:\n",
    "                        logestSubStr = s[i:j+1]\n",
    "                        logestLen = j - i + 1\n",
    "            else:\n",
    "                if s[i] == s[j] and matrix[i+1][j-1]:\n",
    "                    matrix[i][j] = 1\n",
    "                    if logestLen < j - i + 1:\n",
    "                        logestSubStr = s[i:j+1]\n",
    "                        logestLen = j - i + 1\n",
    "    return logestSubStr"
   ]
  }
 ],
 "metadata": {
  "kernelspec": {
   "display_name": "Python [conda env:root] *",
   "language": "python",
   "name": "conda-root-py"
  },
  "language_info": {
   "codemirror_mode": {
    "name": "ipython",
    "version": 3
   },
   "file_extension": ".py",
   "mimetype": "text/x-python",
   "name": "python",
   "nbconvert_exporter": "python",
   "pygments_lexer": "ipython3",
   "version": "3.7.3"
  }
 },
 "nbformat": 4,
 "nbformat_minor": 2
}
