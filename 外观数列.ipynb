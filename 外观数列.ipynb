{
 "cells": [
  {
   "cell_type": "markdown",
   "metadata": {},
   "source": [
    "**[LeetCode Link](https://leetcode-cn.com/problems/count-and-say/solution/tong-guo-zheng-ze-he-bing-xiang-tong-yuan-su-wan-c/)**"
   ]
  },
  {
   "cell_type": "markdown",
   "metadata": {},
   "source": [
    "## 双指针递归"
   ]
  },
  {
   "cell_type": "code",
   "execution_count": 156,
   "metadata": {},
   "outputs": [],
   "source": [
    "from collections import defaultdict\n",
    "class Solution:\n",
    "    \n",
    "    def countAndSay(self, n: int) -> str:\n",
    "        \"\"\"\n",
    "        根据上一个列表ls转换为下一个列表Ls\n",
    "        \"\"\"\n",
    "        def convertList(ls):\n",
    "            i, j, Ls = 0, 1, ''\n",
    "            dd = defaultdict(lambda: 1) # 定义一个默认值为1的字典\n",
    "            nouse = {dd[i] for i in list(set(ls))} # 将ls去重后的元素添加到该字典中\n",
    "            while True:\n",
    "                if j == len(ls):\n",
    "                    if ls[j-1] != ls[j-2]: # 这里注意，若最后两位数字不相等\n",
    "                        dd[ls[i]] = 1      # 需将最后一位数字出现的次数归一\n",
    "                    Ls += '{}{}'.format(dd[ls[i]], ls[i])\n",
    "                    break\n",
    "                elif ls[i] != ls[j]:\n",
    "                    Ls += '{}{}'.format(dd[ls[i]], ls[i])\n",
    "                    i = j\n",
    "                    j += 1\n",
    "                    dd[ls[i]] = 1 # 同理，将新一轮判断的指针i上的数出现的次数归一\n",
    "                else:\n",
    "                    dd[ls[i]] += 1\n",
    "                    j += 1\n",
    "            return Ls\n",
    "\n",
    "        ls = '1'\n",
    "        if n > 1:\n",
    "            for i in range(2,n+1):\n",
    "                ls = convertList(ls)\n",
    "        return ls"
   ]
  },
  {
   "cell_type": "markdown",
   "metadata": {},
   "source": [
    "## 正则表达式"
   ]
  },
  {
   "cell_type": "code",
   "execution_count": null,
   "metadata": {},
   "outputs": [],
   "source": []
  },
  {
   "cell_type": "code",
   "execution_count": 157,
   "metadata": {},
   "outputs": [
    {
     "data": {
      "text/plain": [
       "'11131221133112132113212221'"
      ]
     },
     "execution_count": 157,
     "metadata": {},
     "output_type": "execute_result"
    }
   ],
   "source": [
    "solve = Solution()\n",
    "n = 11\n",
    "solve.countAndSay(n)"
   ]
  }
 ],
 "metadata": {
  "kernelspec": {
   "display_name": "Python 3",
   "language": "python",
   "name": "python3"
  },
  "language_info": {
   "codemirror_mode": {
    "name": "ipython",
    "version": 3
   },
   "file_extension": ".py",
   "mimetype": "text/x-python",
   "name": "python",
   "nbconvert_exporter": "python",
   "pygments_lexer": "ipython3",
   "version": "3.7.6"
  }
 },
 "nbformat": 4,
 "nbformat_minor": 4
}
