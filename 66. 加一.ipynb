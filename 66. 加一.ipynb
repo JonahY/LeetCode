{
 "cells": [
  {
   "cell_type": "markdown",
   "metadata": {},
   "source": [
    "### **[LeetCode Link](https://leetcode-cn.com/problems/plus-one/solution/java-shu-xue-jie-ti-by-yhhzw/)**"
   ]
  },
  {
   "cell_type": "code",
   "execution_count": null,
   "metadata": {},
   "outputs": [],
   "source": [
    "class Solution:\n",
    "    def plusOne(self, digits: List[int]) -> List[int]:\n",
    "        n = len(digits) - 1\n",
    "        for idx, i in enumerate(digits[::-1]):\n",
    "            if i < 9:\n",
    "                digits[n - idx] = i + 1\n",
    "                return digits\n",
    "            else:\n",
    "                digits[n - idx] = 0\n",
    "                if n - idx  == 0:\n",
    "                    digits.insert(0, 1)\n",
    "        return digits"
   ]
  },
  {
   "cell_type": "code",
   "execution_count": null,
   "metadata": {},
   "outputs": [],
   "source": [
    "class Solution:\n",
    "    def plusOne(self, digits: List[int]) -> List[int]:\n",
    "        newlst = []\n",
    "        while digits and digits[-1] == 9:\n",
    "            digits.pop()\n",
    "            newlst.append(0)\n",
    "        if not digits:\n",
    "            return [1] + newlst\n",
    "        else:\n",
    "            digits[-1] += 1\n",
    "            return digits + newlst"
   ]
  }
 ],
 "metadata": {
  "kernelspec": {
   "display_name": "Python 3",
   "language": "python",
   "name": "python3"
  },
  "language_info": {
   "codemirror_mode": {
    "name": "ipython",
    "version": 3
   },
   "file_extension": ".py",
   "mimetype": "text/x-python",
   "name": "python",
   "nbconvert_exporter": "python",
   "pygments_lexer": "ipython3",
   "version": "3.8.5"
  }
 },
 "nbformat": 4,
 "nbformat_minor": 4
}
