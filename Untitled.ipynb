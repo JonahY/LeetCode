{
 "cells": [
  {
   "cell_type": "code",
   "execution_count": 10,
   "metadata": {
    "ExecuteTime": {
     "end_time": "2021-09-06T11:55:50.939253Z",
     "start_time": "2021-09-06T11:55:50.933252Z"
    }
   },
   "outputs": [],
   "source": [
    "class Solution:\n",
    "    def sort_data(self, list_data) :\n",
    "        # write code here\n",
    "        if len(list_data) <= 1:\n",
    "            return list_data\n",
    "\n",
    "        i, j = 0, 0\n",
    "        pre = True if list_data[0] else False\n",
    "        while j <= i < len(list_data):\n",
    "            print(i, j)\n",
    "            if (not list_data[i] and not pre) or (list_data[i] and pre):\n",
    "                i += 1\n",
    "            elif list_data[i] and not pre:\n",
    "                j = i\n",
    "                i += 1\n",
    "                pre = True\n",
    "            elif not list_data[i] and pre:\n",
    "                print(list_data)\n",
    "                list_data.insert(j, list_data[i])\n",
    "                print(list_data)\n",
    "                list_data.pop(i+1)\n",
    "                print(list_data)\n",
    "                j += 1\n",
    "                i += 1\n",
    "        return list_data"
   ]
  },
  {
   "cell_type": "code",
   "execution_count": 11,
   "metadata": {
    "ExecuteTime": {
     "end_time": "2021-09-06T11:55:51.457367Z",
     "start_time": "2021-09-06T11:55:51.451365Z"
    }
   },
   "outputs": [
    {
     "name": "stdout",
     "output_type": "stream",
     "text": [
      "0 0\n",
      "1 0\n",
      "2 1\n",
      "[0, 3, 0, 2, 1, 0, 0]\n",
      "[0, 0, 3, 0, 2, 1, 0, 0]\n",
      "[0, 0, 3, 2, 1, 0, 0]\n",
      "3 2\n",
      "4 2\n",
      "5 2\n",
      "[0, 0, 3, 2, 1, 0, 0]\n",
      "[0, 0, 0, 3, 2, 1, 0, 0]\n",
      "[0, 0, 0, 3, 2, 1, 0]\n",
      "6 3\n",
      "[0, 0, 0, 3, 2, 1, 0]\n",
      "[0, 0, 0, 0, 3, 2, 1, 0]\n",
      "[0, 0, 0, 0, 3, 2, 1]\n"
     ]
    },
    {
     "data": {
      "text/plain": [
       "[0, 0, 0, 0, 3, 2, 1]"
      ]
     },
     "execution_count": 11,
     "metadata": {},
     "output_type": "execute_result"
    }
   ],
   "source": [
    "solution = Solution()\n",
    "solution.sort_data([0,3,0,2,1,0,0])"
   ]
  },
  {
   "cell_type": "code",
   "execution_count": 1,
   "metadata": {
    "ExecuteTime": {
     "end_time": "2021-09-06T12:16:52.878223Z",
     "start_time": "2021-09-06T12:16:52.872222Z"
    }
   },
   "outputs": [],
   "source": [
    "class Solution:\n",
    "    def camelCase(self, newString) :\n",
    "        # write code here\n",
    "\n",
    "        if not newString:\n",
    "            return 'shopee'\n",
    "        \n",
    "        res = ''\n",
    "        head = False\n",
    "        for idx, i in enumerate(newString):\n",
    "            print(res, head)\n",
    "            if i.isalpha():\n",
    "                if i.isupper() and newString[idx - 1].islower():\n",
    "                    head = True\n",
    "                if head:\n",
    "                    res += i.upper()\n",
    "                    head = False\n",
    "                else:\n",
    "                    res += i.lower()\n",
    "            elif i.isdigit():\n",
    "                res += i\n",
    "                head = False\n",
    "            else:\n",
    "                head = True\n",
    "                continue\n",
    "        return res[0].lower() + res[1:] if res else 'shopee'"
   ]
  },
  {
   "cell_type": "code",
   "execution_count": 3,
   "metadata": {
    "ExecuteTime": {
     "end_time": "2021-09-06T12:17:19.174108Z",
     "start_time": "2021-09-06T12:17:19.169108Z"
    }
   },
   "outputs": [
    {
     "name": "stdout",
     "output_type": "stream",
     "text": [
      " False\n",
      "T False\n",
      "Th False\n",
      "Thi False\n",
      "This False\n",
      "This True\n",
      "ThisI False\n",
      "ThisIs False\n",
      "ThisIs True\n",
      "ThisIs5 False\n",
      "ThisIs5t False\n",
      "ThisIs5th False\n",
      "ThisIs5th True\n",
      "ThisIs5thE False\n",
      "ThisIs5thEx False\n",
      "ThisIs5thExa False\n",
      "ThisIs5thExam False\n",
      "ThisIs5thExamp False\n",
      "ThisIs5thExampl False\n"
     ]
    },
    {
     "data": {
      "text/plain": [
       "True"
      ]
     },
     "execution_count": 3,
     "metadata": {},
     "output_type": "execute_result"
    }
   ],
   "source": [
    "solution = Solution()\n",
    "# solution.camelCase(\"__UPPER__CASE__\")\n",
    "solution.camelCase(\"This is 5th example\") == 'thisIs5thExample'"
   ]
  }
 ],
 "metadata": {
  "kernelspec": {
   "display_name": "Python 3",
   "language": "python",
   "name": "python3"
  },
  "language_info": {
   "codemirror_mode": {
    "name": "ipython",
    "version": 3
   },
   "file_extension": ".py",
   "mimetype": "text/x-python",
   "name": "python",
   "nbconvert_exporter": "python",
   "pygments_lexer": "ipython3",
   "version": "3.7.3"
  },
  "toc": {
   "base_numbering": 1,
   "nav_menu": {},
   "number_sections": true,
   "sideBar": true,
   "skip_h1_title": false,
   "title_cell": "Table of Contents",
   "title_sidebar": "Contents",
   "toc_cell": false,
   "toc_position": {},
   "toc_section_display": true,
   "toc_window_display": false
  },
  "varInspector": {
   "cols": {
    "lenName": 16,
    "lenType": 16,
    "lenVar": 40
   },
   "kernels_config": {
    "python": {
     "delete_cmd_postfix": "",
     "delete_cmd_prefix": "del ",
     "library": "var_list.py",
     "varRefreshCmd": "print(var_dic_list())"
    },
    "r": {
     "delete_cmd_postfix": ") ",
     "delete_cmd_prefix": "rm(",
     "library": "var_list.r",
     "varRefreshCmd": "cat(var_dic_list()) "
    }
   },
   "types_to_exclude": [
    "module",
    "function",
    "builtin_function_or_method",
    "instance",
    "_Feature"
   ],
   "window_display": false
  }
 },
 "nbformat": 4,
 "nbformat_minor": 2
}
