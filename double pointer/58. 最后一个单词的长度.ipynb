{
 "cells": [
  {
   "cell_type": "markdown",
   "metadata": {},
   "source": [
    "### **[LeetCode Link](https://leetcode-cn.com/problems/length-of-last-word/solution/hua-jie-suan-fa-58-zui-hou-yi-ge-dan-ci-de-chang-d/)**"
   ]
  },
  {
   "cell_type": "markdown",
   "metadata": {},
   "source": [
    "## 遍历\n",
    "### 思路\n",
    "* 从字符串末尾开始向前遍历，其中主要有两种情况\n",
    "* 第一种情况，以字符串 `\"Hello World\"` 为例，从后向前遍历直到遍历到头或者遇到空格为止，即为最后一个单词 `\"World\"` 的长度 5\n",
    "* 第二种情况，以字符串 `\"Hello World \"` 为例，需要先将末尾的空格过滤掉，再进行第一种情况的操作，即认为最后一个单词为 `\"World\"` ，长度为 5\n",
    "* 所以完整过程为先从后过滤掉空格找到单词尾部，再从尾部向前遍历，找到单词头部，最后两者相减，即为单词的长度\n",
    "\n",
    "###  复杂度分析\n",
    "* 时间复杂度：$O(n)$， $n$ 为结尾空格和结尾单词总体长度"
   ]
  },
  {
   "cell_type": "code",
   "execution_count": null,
   "metadata": {},
   "outputs": [],
   "source": [
    "class Solution:\n",
    "    def lengthOfLastWord(self, s: str) -> int:\n",
    "        length = 0\n",
    "        for i in s[::-1]:\n",
    "            if length == 0 and i == \" \":\n",
    "                continue\n",
    "            if length != 0 and i == \" \":\n",
    "                return length\n",
    "            if i != \" \":\n",
    "                length += 1\n",
    "        return length"
   ]
  }
 ],
 "metadata": {
  "kernelspec": {
   "display_name": "Python 3",
   "language": "python",
   "name": "python3"
  },
  "language_info": {
   "codemirror_mode": {
    "name": "ipython",
    "version": 3
   },
   "file_extension": ".py",
   "mimetype": "text/x-python",
   "name": "python",
   "nbconvert_exporter": "python",
   "pygments_lexer": "ipython3",
   "version": "3.8.5"
  }
 },
 "nbformat": 4,
 "nbformat_minor": 4
}
