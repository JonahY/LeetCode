{
 "cells": [
  {
   "cell_type": "markdown",
   "metadata": {},
   "source": [
    "### **[LeetCode link](https://leetcode-cn.com/problems/rotate-image/solution/xuan-zhuan-tu-xiang-by-leetcode/)**"
   ]
  },
  {
   "cell_type": "markdown",
   "metadata": {},
   "source": [
    "## 转置加翻转\n",
    "最直接的想法是先转置矩阵，然后翻转每一行。这个简单的方法已经能达到最优的时间复杂度 $O(N^2)$。\n",
    "### 复杂度分析：\n",
    "* 时间复杂度：$O(N^2)$.\n",
    "* 空间复杂度：$O(1)$ 由于旋转操作是 `就地` 完成的。"
   ]
  },
  {
   "cell_type": "code",
   "execution_count": null,
   "metadata": {},
   "outputs": [],
   "source": [
    "class Solution:\n",
    "    def rotate(self, matrix):\n",
    "        \"\"\"\n",
    "        :type matrix: List[List[int]]\n",
    "        :rtype: void Do not return anything, modify matrix in-place instead.\n",
    "        \"\"\"\n",
    "        n = len(matrix[0])        \n",
    "        # transpose matrix\n",
    "        for i in range(n):\n",
    "            for j in range(i, n):\n",
    "                matrix[j][i], matrix[i][j] = matrix[i][j], matrix[j][i] \n",
    "        \n",
    "        # reverse each row\n",
    "        for i in range(n):\n",
    "            matrix[i].reverse()"
   ]
  },
  {
   "cell_type": "markdown",
   "metadata": {},
   "source": [
    "## 旋转四个矩形\n",
    "### 直观想法\n",
    "* 方法 1 使用了两次矩阵操作，但是有只使用一次操作的方法完成旋转。\n",
    "* 为了实现这一点，我们来研究每个元素在旋转的过程中如何移动。\n",
    "<div align=center><img src='1.png' width=\"500\"></div>\n",
    "\n",
    "### 复杂度分析\n",
    "* 时间复杂度：$O(N^2)$ 是两重循环的复杂度。\n",
    "* 空间复杂度：$O(1)$ 由于我们在一次循环中的操作是 *就地* 完成的，并且我们只用了长度为 `4` 的临时列表做辅助。"
   ]
  },
  {
   "cell_type": "code",
   "execution_count": null,
   "metadata": {},
   "outputs": [],
   "source": [
    "class Solution:\n",
    "    def rotate(self, matrix):\n",
    "        \"\"\"\n",
    "        :type matrix: List[List[int]]\n",
    "        :rtype: void Do not return anything, modify matrix in-place instead.\n",
    "        \"\"\"\n",
    "        n = len(matrix[0])\n",
    "        for i in range(n // 2 + n % 2):\n",
    "            for j in range(n // 2):\n",
    "                tmp = [0] * 4\n",
    "                row, col = i, j\n",
    "                # store 4 elements in tmp\n",
    "                for k in range(4):\n",
    "                    tmp[k] = matrix[row][col]\n",
    "                    row, col = col, n - 1 - row\n",
    "                # rotate 4 elements   \n",
    "                for k in range(4):\n",
    "                    matrix[row][col] = tmp[(k - 1) % 4]\n",
    "                    row, col = col, n - 1 - row"
   ]
  },
  {
   "cell_type": "markdown",
   "metadata": {},
   "source": [
    "## 在单次循环中旋转 4 个矩形\n",
    "该想法和方法 2 相同，但是所有的操作可以在单次循环内完成并且这是更精简的方法。\n",
    "### 复杂度分析\n",
    "* 时间复杂度：$O(N^2)$ 是两重循环的复杂度。\n",
    "* 空间复杂度：$O(1)$ 由于我们在一次循环中的操作是 *就地* 完成的，并且我们只用了长度为 `4` 的临时列表做辅助。"
   ]
  },
  {
   "cell_type": "code",
   "execution_count": null,
   "metadata": {},
   "outputs": [],
   "source": [
    "class Solution:\n",
    "    def rotate(self, matrix):\n",
    "        \"\"\"\n",
    "        :type matrix: List[List[int]]\n",
    "        :rtype: void Do not return anything, modify matrix in-place instead.\n",
    "        \"\"\"\n",
    "        n = len(matrix[0])        \n",
    "        for i in range(n // 2 + n % 2):\n",
    "            for j in range(n // 2):\n",
    "                tmp = matrix[n - 1 - j][i]\n",
    "                matrix[n - 1 - j][i] = matrix[n - 1 - i][n - j - 1]\n",
    "                matrix[n - 1 - i][n - j - 1] = matrix[j][n - 1 -i]\n",
    "                matrix[j][n - 1 - i] = matrix[i][j]\n",
    "                matrix[i][j] = tmp"
   ]
  }
 ],
 "metadata": {
  "kernelspec": {
   "display_name": "Python 3",
   "language": "python",
   "name": "python3"
  },
  "language_info": {
   "codemirror_mode": {
    "name": "ipython",
    "version": 3
   },
   "file_extension": ".py",
   "mimetype": "text/x-python",
   "name": "python",
   "nbconvert_exporter": "python",
   "pygments_lexer": "ipython3",
   "version": "3.8.5"
  }
 },
 "nbformat": 4,
 "nbformat_minor": 4
}
