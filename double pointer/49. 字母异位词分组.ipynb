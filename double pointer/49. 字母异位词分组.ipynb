{
 "cells": [
  {
   "cell_type": "markdown",
   "metadata": {},
   "source": [
    "### **[LeetCode Link](https://leetcode-cn.com/problems/group-anagrams/solution/zi-mu-yi-wei-ci-fen-zu-by-leetcode/)**"
   ]
  },
  {
   "cell_type": "markdown",
   "metadata": {},
   "source": [
    "## 排序数组分类\n",
    "### 思路\n",
    "当且仅当它们的排序字符串相等时，两个字符串是字母异位词。\n",
    "### 算法\n",
    "* 维护一个映射 ans : {String -> List}，其中每个键 \\text{K}K 是一个排序字符串，每个值是初始输入的字符串列表，排序后等于 \\text{K}K。\n",
    "* 在 Python 中，我们将键存储为散列化元组，例如，('c', 'o', 'd', 'e')。\n",
    "<center><img src='2.png' width=500></center>\n",
    "\n",
    "### 复杂度分析\n",
    "* 时间复杂度：$O(NK \\log K)$，其中 $N$ 是 `strs` 的长度，而 $K$ 是 `strs` 中字符串的最大长度。当我们遍历每个字符串时，外部循环具有的复杂度为 $O(N)$。然后，我们在 $O(K \\log K)$ 的时间内对每个字符串排序。\n",
    "* 空间复杂度：$O(NK)$，排序存储在 `ans` 中的全部信息内容。"
   ]
  },
  {
   "cell_type": "code",
   "execution_count": null,
   "metadata": {},
   "outputs": [],
   "source": [
    "import collections\n",
    "class Solution(object):\n",
    "    def groupAnagrams(self, strs):\n",
    "        ans = collections.defaultdict(list)\n",
    "        for s in strs:\n",
    "            ans[tuple(sorted(s))].append(s)\n",
    "        return list(ans.values())"
   ]
  },
  {
   "cell_type": "markdown",
   "metadata": {},
   "source": [
    "## 按计数分类\n",
    "### 思路\n",
    "当且仅当它们的字符计数（每个字符的出现次数）相同时，两个字符串是字母异位词。\n",
    "### 算法\n",
    "* 我们可以将每个字符串 $\\text{s}$ 转换为字符数 $\\text{count}$，由26个非负整数组成，表示 $\\text{a}$，$\\text{b}$，$\\text{c}$ 的数量等。我们使用这些计数作为哈希映射的基础。\n",
    "* 在 python 中，表示将是一个计数的元组。 例如，`abbccc` 将表示为 `(1,2,3,0,0，...，0)`，其中总共有 26 个条目。\n",
    "<center><img src='3.jpg' width=500></center>\n",
    "\n",
    "### 复杂度分析\n",
    "* 时间复杂度：$O(NK \\log K)$，其中 $N$ 是 `strs` 的长度，而 $K$ 是 `strs` 中字符串的最大长度。计算每个字符串的字符串大小是线性的，我们统计每个字符串。\n",
    "* 空间复杂度：$O(NK)$，排序存储在 `ans` 中的全部信息内容。"
   ]
  },
  {
   "cell_type": "code",
   "execution_count": null,
   "metadata": {},
   "outputs": [],
   "source": [
    "import collections\n",
    "class Solution:\n",
    "    def groupAnagrams(self, strs):\n",
    "        ans = collections.defaultdict(list)\n",
    "        for s in strs:\n",
    "            count = [0] * 26\n",
    "            for c in s:\n",
    "                count[ord(c) - ord('a')] += 1\n",
    "            ans[tuple(count)].append(s)\n",
    "        return list(ans.values())"
   ]
  }
 ],
 "metadata": {
  "kernelspec": {
   "display_name": "Python 3",
   "language": "python",
   "name": "python3"
  },
  "language_info": {
   "codemirror_mode": {
    "name": "ipython",
    "version": 3
   },
   "file_extension": ".py",
   "mimetype": "text/x-python",
   "name": "python",
   "nbconvert_exporter": "python",
   "pygments_lexer": "ipython3",
   "version": "3.8.5"
  }
 },
 "nbformat": 4,
 "nbformat_minor": 4
}
