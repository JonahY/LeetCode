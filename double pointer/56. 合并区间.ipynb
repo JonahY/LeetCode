{
 "cells": [
  {
   "cell_type": "markdown",
   "metadata": {},
   "source": [
    "### **[LeetCode Link](https://leetcode-cn.com/problems/merge-intervals/solution/tan-xin-suan-fa-java-by-liweiwei1419-3/)**"
   ]
  },
  {
   "cell_type": "markdown",
   "metadata": {},
   "source": [
    "## 双指针\n",
    "只需要对所有的区间**按照左端点升序排序**，然后遍历。\n",
    "* 如果当前遍历到的区间的左端点 > 结果集中最后一个区间的右端点，说明它们没有交集，此时把区间添加到结果集；\n",
    "* 如果当前遍历到的区间的左端点 <= 结果集中最后一个区间的右端点，说明它们有交集，此时产生合并操作，即：对结果集中最后一个区间的右端点更新（取两个区间的最大值）。\n",
    "\n",
    "### 复杂度分析：\n",
    "* 时间复杂度：$O(N \\log N)$，这里 $N$ 是区间的长度；\n",
    "* 空间复杂度：$O(1)$。"
   ]
  },
  {
   "cell_type": "code",
   "execution_count": null,
   "metadata": {},
   "outputs": [],
   "source": [
    "class Solution:\n",
    "    def merge(self, intervals: List[List[int]]) -> List[List[int]]:\n",
    "        intervals.sort(key=lambda x: x[0])\n",
    "        i, j = 0, 1\n",
    "        while i < j < len(intervals) and len(intervals) > 1:\n",
    "            if intervals[i][1] < intervals[j][0]:\n",
    "                i += 1\n",
    "                j = i + 1\n",
    "                continue\n",
    "            else:\n",
    "                intervals[i] = list([intervals[i][0], max(intervals[j][1], intervals[i][1])])\n",
    "                intervals.pop(j)\n",
    "        return intervals"
   ]
  },
  {
   "cell_type": "markdown",
   "metadata": {},
   "source": [
    "## 排序\n",
    "### 思路\n",
    "如果我们按照区间的左端点排序，那么在排完序的列表中，可以合并的区间一定是连续的。\n",
    "### 算法\n",
    "我们用数组 `merged` 存储最终的答案。\n",
    "\n",
    "首先，我们将列表中的区间按照左端点升序排序。然后我们将第一个区间加入 `merged` 数组中，并按顺序依次考虑之后的每个区间：\n",
    "* 如果当前区间的左端点在数组 `merged` 中最后一个区间的右端点之后，那么它们不会重合，我们可以直接将这个区间加入数组 `merged` 的末尾；\n",
    "* 否则，它们重合，我们需要用当前区间的右端点更新数组 `merged` 中最后一个区间的右端点，将其置为二者的较大值。\n",
    "\n",
    "### 复杂度分析\n",
    "* 时间复杂度：$O(n\\log n)$，其中 $n$ 为区间的数量。除去排序的开销，我们只需要一次线性扫描，所以主要的时间开销是排序的 $O(n\\log n)$。\n",
    "* 空间复杂度：$O(\\log n)$，其中 $n$ 为区间的数量。这里计算的是存储答案之外，使用的额外空间。$O(\\log n)$ 即为排序所需要的空间复杂度。"
   ]
  },
  {
   "cell_type": "code",
   "execution_count": null,
   "metadata": {},
   "outputs": [],
   "source": [
    "class Solution:\n",
    "    def merge(self, intervals: List[List[int]]) -> List[List[int]]:\n",
    "        intervals.sort(key=lambda x: x[0])\n",
    "\n",
    "        merged = []\n",
    "        for interval in intervals:\n",
    "            # 如果列表为空，或者当前区间与上一区间不重合，直接添加\n",
    "            if not merged or merged[-1][1] < interval[0]:\n",
    "                merged.append(interval)\n",
    "            else:\n",
    "                # 否则的话，我们就可以与上一区间进行合并\n",
    "                merged[-1][1] = max(merged[-1][1], interval[1])\n",
    "\n",
    "        return merged"
   ]
  }
 ],
 "metadata": {
  "kernelspec": {
   "display_name": "Python 3",
   "language": "python",
   "name": "python3"
  },
  "language_info": {
   "codemirror_mode": {
    "name": "ipython",
    "version": 3
   },
   "file_extension": ".py",
   "mimetype": "text/x-python",
   "name": "python",
   "nbconvert_exporter": "python",
   "pygments_lexer": "ipython3",
   "version": "3.8.5"
  }
 },
 "nbformat": 4,
 "nbformat_minor": 4
}
