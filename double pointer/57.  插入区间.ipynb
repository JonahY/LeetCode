{
 "cells": [
  {
   "cell_type": "markdown",
   "metadata": {},
   "source": [
    "### **[LeetCode Link](https://leetcode-cn.com/problems/insert-interval/solution/cha-ru-qu-jian-by-leetcode/)**"
   ]
  },
  {
   "cell_type": "markdown",
   "metadata": {},
   "source": [
    "## 贪心\n",
    "### 贪心算法：\n",
    "贪心算法一般用来解决需要 “找到要做某事的最小数量” 或 “找到在某些情况下适合的最大物品数量” 的问题，且提供的是无序的输入。\n",
    "\n",
    "贪心算法的思想是每一步都选择最佳解决方案，最终获得全局最佳的解决方案。\n",
    "\n",
    "标准解决方案具有 $\\mathcal{O}(N \\log N)$ 的时间复杂度且由以下两部分组成：\n",
    "\n",
    "* 思考如何排序输入数据（$\\mathcal{O}(N \\log N)$ 的时间复杂度）。\n",
    "* 思考如何解析排序后的数据（$\\mathcal{O}(N)$ 的时间复杂度）\n",
    "\n",
    "如果输入数据本身有序，则我们不需要进行排序，那么该贪心算法具有 $\\mathcal{O}(N)$ 的时间复杂度。\n",
    "\n",
    "### 算法：\n",
    "* 将 `newInterval` 之前开始的区间添加到输出。\n",
    "* 添加 `newInterval` 到输出，若 `newInterval` 与输出中的最后一个区间重合则合并他们。\n",
    "* 一个个添加区间到输出，若有重叠部分则合并他们。\n",
    "\n",
    "### 复杂度分析\n",
    "* 时间复杂度：$\\mathcal{O}(N)$。我们只遍历了一次输入元素。\n",
    "* 空间复杂度：$\\mathcal{O}(N)$，输出答案所使用的空间。"
   ]
  },
  {
   "cell_type": "code",
   "execution_count": null,
   "metadata": {},
   "outputs": [],
   "source": [
    "class Solution:\n",
    "    def insert(self, intervals: List[List[int]], newInterval: List[int]) -> List[List[int]]:\n",
    "        n = len(intervals)\n",
    "        start, end, flag = n, n + 1, False\n",
    "        for i, interval in enumerate(intervals):\n",
    "            if interval[1] < newInterval[0]:\n",
    "                continue\n",
    "            elif not flag:\n",
    "                start, flag = i, True\n",
    "            if interval[0] > newInterval[1]:\n",
    "                end = i\n",
    "                break\n",
    "            newInterval[0] = min(newInterval[0], interval[0])\n",
    "            newInterval[1] = max(newInterval[1], interval[1])\n",
    "        intervals[start:end] = [newInterval]\n",
    "        return intervals"
   ]
  }
 ],
 "metadata": {
  "kernelspec": {
   "display_name": "Python 3",
   "language": "python",
   "name": "python3"
  },
  "language_info": {
   "codemirror_mode": {
    "name": "ipython",
    "version": 3
   },
   "file_extension": ".py",
   "mimetype": "text/x-python",
   "name": "python",
   "nbconvert_exporter": "python",
   "pygments_lexer": "ipython3",
   "version": "3.8.5"
  }
 },
 "nbformat": 4,
 "nbformat_minor": 4
}
