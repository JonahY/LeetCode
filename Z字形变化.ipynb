{
 "cells": [
  {
   "cell_type": "code",
   "execution_count": 12,
   "metadata": {},
   "outputs": [],
   "source": [
    "def convert(s: str, numRows: int):\n",
    "    if numRows < 2: \n",
    "        return s\n",
    "    res = [\"\" for _ in range(numRows)]\n",
    "    \n",
    "    # i代表行索引，模拟行索引的变化得到，是先从0增大到numRows-1，再从numRows-1递减为0\n",
    "    i, flag = 0, -1\n",
    "    for c in s:\n",
    "        res[i] += c\n",
    "        if i == 0 or i == numRows - 1: \n",
    "            flag = -flag\n",
    "        i += flag\n",
    "    return \"\".join(res)"
   ]
  },
  {
   "cell_type": "code",
   "execution_count": 15,
   "metadata": {},
   "outputs": [
    {
     "data": {
      "text/plain": [
       "'acsxvdvxexc'"
      ]
     },
     "execution_count": 15,
     "metadata": {},
     "output_type": "execute_result"
    }
   ],
   "source": [
    "s = 'asdecxvxcvx'\n",
    "numRows = 5\n",
    "convert(s, numRows)"
   ]
  }
 ],
 "metadata": {
  "kernelspec": {
   "display_name": "Python [conda root]",
   "language": "python",
   "name": "conda-root-py"
  },
  "language_info": {
   "codemirror_mode": {
    "name": "ipython",
    "version": 3
   },
   "file_extension": ".py",
   "mimetype": "text/x-python",
   "name": "python",
   "nbconvert_exporter": "python",
   "pygments_lexer": "ipython3",
   "version": "3.6.5"
  }
 },
 "nbformat": 4,
 "nbformat_minor": 2
}
