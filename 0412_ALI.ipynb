{
 "cells": [
  {
   "cell_type": "code",
   "execution_count": null,
   "metadata": {
    "ExecuteTime": {
     "end_time": "2021-04-12T11:29:13.085265Z",
     "start_time": "2021-04-12T11:29:13.081265Z"
    }
   },
   "outputs": [],
   "source": [
    "matrix_A = [[], [[str(0), str(1)], [str(1), str(1)]], ]\n",
    "\n",
    "N = 3\n",
    "for i in range(2, N + 1):\n",
    "    B_rows = pow(2, i-1)\n",
    "    B = [[str(0) for _ in range(B_rows)] for _ in range(B_rows)]\n",
    "    tmp_A = matrix_A[i - 1]\n",
    "    tmp_1 = B + tmp_A\n",
    "    tmp_2 = tmp_A + tmp_A\n",
    "    if i != N:\n",
    "        matrix_A.append([j + k for j, k in zip(tmp_1, tmp_2)])\n",
    "    else:\n",
    "        for row_tmp in [j + k for j, k in zip(tmp_1, tmp_2)]:\n",
    "            print(' '.join(row_tmp))"
   ]
  },
  {
   "cell_type": "markdown",
   "metadata": {},
   "source": []
  }
 ],
 "metadata": {
  "kernelspec": {
   "display_name": "Python 3",
   "language": "python",
   "name": "python3"
  },
  "language_info": {
   "codemirror_mode": {
    "name": "ipython",
    "version": 3
   },
   "file_extension": ".py",
   "mimetype": "text/x-python",
   "name": "python",
   "nbconvert_exporter": "python",
   "pygments_lexer": "ipython3",
   "version": "3.7.3"
  },
  "toc": {
   "base_numbering": 1,
   "nav_menu": {},
   "number_sections": true,
   "sideBar": true,
   "skip_h1_title": false,
   "title_cell": "Table of Contents",
   "title_sidebar": "Contents",
   "toc_cell": false,
   "toc_position": {},
   "toc_section_display": true,
   "toc_window_display": false
  },
  "varInspector": {
   "cols": {
    "lenName": 16,
    "lenType": 16,
    "lenVar": 40
   },
   "kernels_config": {
    "python": {
     "delete_cmd_postfix": "",
     "delete_cmd_prefix": "del ",
     "library": "var_list.py",
     "varRefreshCmd": "print(var_dic_list())"
    },
    "r": {
     "delete_cmd_postfix": ") ",
     "delete_cmd_prefix": "rm(",
     "library": "var_list.r",
     "varRefreshCmd": "cat(var_dic_list()) "
    }
   },
   "types_to_exclude": [
    "module",
    "function",
    "builtin_function_or_method",
    "instance",
    "_Feature"
   ],
   "window_display": false
  }
 },
 "nbformat": 4,
 "nbformat_minor": 2
}
