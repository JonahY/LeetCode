{
 "cells": [
  {
   "cell_type": "markdown",
   "metadata": {},
   "source": [
    "### **[LeetCode Link](https://leetcode-cn.com/problems/jump-game/solution/tiao-yue-you-xi-by-leetcode-solution/)**"
   ]
  },
  {
   "cell_type": "markdown",
   "metadata": {},
   "source": [
    "## 贪心\n",
    "### 解题思路：\n",
    "* 如果某一个作为 `起跳点` 的格子可以跳跃的距离是 `3`，那么表示后面 `3` 个格子都可以作为 起跳点。\n",
    "* 可以对每一个能作为 `起跳点` 的格子都尝试跳一次，把 `能跳到最远的距离` 不断更新。\n",
    "* 如果可以一直跳到最后，就成功了。\n",
    "\n",
    "### 复杂度分析\n",
    "* 时间复杂度：$O(n)$，其中 $n$ 为数组的大小。只需要访问 `nums` 数组一遍，共 $n$ 个位置。\n",
    "* 空间复杂度：$O(1)$，不需要额外的空间开销。"
   ]
  },
  {
   "cell_type": "code",
   "execution_count": 20,
   "metadata": {
    "ExecuteTime": {
     "end_time": "2020-09-27T00:48:01.458757Z",
     "start_time": "2020-09-27T00:48:01.450751Z"
    }
   },
   "outputs": [
    {
     "data": {
      "text/plain": [
       "True"
      ]
     },
     "execution_count": 20,
     "metadata": {},
     "output_type": "execute_result"
    }
   ],
   "source": [
    "class Solution:\n",
    "    def canJump(self, nums: List[int]) -> bool:\n",
    "        n, rightmost = len(nums), 0\n",
    "        for i in range(n):\n",
    "            if i <= rightmost:\n",
    "                rightmost = max(rightmost, i + nums[i])\n",
    "                if rightmost >= n - 1:\n",
    "                    return True\n",
    "        return False"
   ]
  }
 ],
 "metadata": {
  "kernelspec": {
   "display_name": "Python 3",
   "language": "python",
   "name": "python3"
  },
  "language_info": {
   "codemirror_mode": {
    "name": "ipython",
    "version": 3
   },
   "file_extension": ".py",
   "mimetype": "text/x-python",
   "name": "python",
   "nbconvert_exporter": "python",
   "pygments_lexer": "ipython3",
   "version": "3.8.5"
  }
 },
 "nbformat": 4,
 "nbformat_minor": 4
}
