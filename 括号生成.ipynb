{
 "cells": [
  {
   "cell_type": "markdown",
   "metadata": {},
   "source": [
    "**暴力法**\n",
    "\n",
    "为了生成所有序列，我们使用递归。长度为 n 的序列就是 '(' 加上所有长度为 n-1 的序列，以及 ')' 加上所有长度为 n-1 的序列。\n",
    "\n",
    "为了检查序列是否为有效的，我们会跟踪 平衡，也就是左括号的数量减去右括号的数量的净值。如果这个值始终小于零或者不以零结束，该序列就是无效的，否则它是有效的。"
   ]
  },
  {
   "cell_type": "code",
   "execution_count": 21,
   "metadata": {},
   "outputs": [],
   "source": [
    "def generateParenthesis(n):\n",
    "    def generate(A = []):\n",
    "        if len(A) == 2*n:\n",
    "            if valid(A):\n",
    "                ans.append(\"\".join(A))\n",
    "        else:\n",
    "            A.append('(')\n",
    "            print('a')\n",
    "            print(A)\n",
    "            generate(A)\n",
    "            A.pop()\n",
    "            A.append(')')\n",
    "            print('b')\n",
    "            print(A)\n",
    "            generate(A)\n",
    "            A.pop()\n",
    "\n",
    "    def valid(A):\n",
    "        bal = 0\n",
    "        for c in A:\n",
    "            if c == '(': bal += 1\n",
    "            else: bal -= 1\n",
    "            if bal < 0: return False\n",
    "        return bal == 0\n",
    "\n",
    "    ans = []\n",
    "    generate()\n",
    "    return ans"
   ]
  },
  {
   "cell_type": "markdown",
   "metadata": {},
   "source": [
    "**回溯法**\n",
    "\n",
    "只有在我们知道序列仍然保持有效时才添加 '(' or ')'"
   ]
  },
  {
   "cell_type": "code",
   "execution_count": 47,
   "metadata": {},
   "outputs": [],
   "source": [
    "def generateParenthesis(N):\n",
    "    ans = []\n",
    "    def backtrack(S = '', left = 0, right = 0):\n",
    "        print(left, right)\n",
    "        print(S)\n",
    "        if len(S) == 2 * N:\n",
    "            ans.append(S)\n",
    "            return\n",
    "        print('left < N')\n",
    "        if left < N:\n",
    "            print('a')\n",
    "            backtrack(S+'(', left+1, right)\n",
    "        print('right < left')\n",
    "        if right < left:    # 在上一条判断递归结束后转入改条判断\n",
    "            print('b')\n",
    "            backtrack(S+')', left, right+1)\n",
    "\n",
    "    backtrack()\n",
    "    return ans"
   ]
  },
  {
   "cell_type": "code",
   "execution_count": 48,
   "metadata": {
    "scrolled": true
   },
   "outputs": [
    {
     "name": "stdout",
     "output_type": "stream",
     "text": [
      "0 0\n",
      "\n",
      "left < N\n",
      "a\n",
      "1 0\n",
      "(\n",
      "left < N\n",
      "a\n",
      "2 0\n",
      "((\n",
      "left < N\n",
      "right < left\n",
      "b\n",
      "2 1\n",
      "(()\n",
      "left < N\n",
      "right < left\n",
      "b\n",
      "2 2\n",
      "(())\n",
      "right < left\n",
      "b\n",
      "1 1\n",
      "()\n",
      "left < N\n",
      "a\n",
      "2 1\n",
      "()(\n",
      "left < N\n",
      "right < left\n",
      "b\n",
      "2 2\n",
      "()()\n",
      "right < left\n",
      "right < left\n"
     ]
    },
    {
     "data": {
      "text/plain": [
       "['(())', '()()']"
      ]
     },
     "execution_count": 48,
     "metadata": {},
     "output_type": "execute_result"
    }
   ],
   "source": [
    "generateParenthesis(2)"
   ]
  },
  {
   "cell_type": "markdown",
   "metadata": {},
   "source": [
    "**动态规划**\n",
    "\n"
   ]
  },
  {
   "cell_type": "code",
   "execution_count": 62,
   "metadata": {},
   "outputs": [],
   "source": [
    "def generateParenthesis(n):\n",
    "        if n == 0:\n",
    "            return []\n",
    "        total_l = []\n",
    "        total_l.append([None])    # 0组括号时记为None\n",
    "        total_l.append([\"()\"])    # 1组括号只有一种情况\n",
    "        for i in range(2,n+1):    # 开始计算i组括号时的括号组合\n",
    "            l = []        \n",
    "            for j in range(i):    # 开始遍历 p q ，其中p+q=i-1 , j 作为索引\n",
    "                now_list1 = total_l[j]    # p = j 时的括号组合情况\n",
    "                now_list2 = total_l[i-1-j]    # q = (i-1) - j 时的括号组合情况\n",
    "                print(now_list1)\n",
    "                print(now_list2)\n",
    "                for k1 in now_list1:\n",
    "                    for k2 in now_list2:\n",
    "                        if k1 == None:\n",
    "                            k1 = \"\"\n",
    "                        if k2 == None:\n",
    "                            k2 = \"\"\n",
    "                        el = \"(\" + k1 + \")\" + k2\n",
    "                        l.append(el)    # 把所有可能的情况添加到 l 中\n",
    "            total_l.append(l)    # l这个list就是i组括号的所有情况，添加到total_l中，继续求解i=i+1的情况\n",
    "            print(total_l)\n",
    "        return total_l[n]"
   ]
  },
  {
   "cell_type": "code",
   "execution_count": 63,
   "metadata": {},
   "outputs": [
    {
     "name": "stdout",
     "output_type": "stream",
     "text": [
      "[None]\n",
      "['()']\n",
      "['()']\n",
      "[None]\n",
      "[[None], ['()'], ['()()', '(())']]\n",
      "[None]\n",
      "['()()', '(())']\n",
      "['()']\n",
      "['()']\n",
      "['()()', '(())']\n",
      "[None]\n",
      "[[None], ['()'], ['()()', '(())'], ['()()()', '()(())', '(())()', '(()())', '((()))']]\n"
     ]
    },
    {
     "data": {
      "text/plain": [
       "['()()()', '()(())', '(())()', '(()())', '((()))']"
      ]
     },
     "execution_count": 63,
     "metadata": {},
     "output_type": "execute_result"
    }
   ],
   "source": [
    "generateParenthesis(3)"
   ]
  }
 ],
 "metadata": {
  "kernelspec": {
   "display_name": "Python [conda root]",
   "language": "python",
   "name": "conda-root-py"
  },
  "language_info": {
   "codemirror_mode": {
    "name": "ipython",
    "version": 3
   },
   "file_extension": ".py",
   "mimetype": "text/x-python",
   "name": "python",
   "nbconvert_exporter": "python",
   "pygments_lexer": "ipython3",
   "version": "3.6.5"
  }
 },
 "nbformat": 4,
 "nbformat_minor": 2
}
