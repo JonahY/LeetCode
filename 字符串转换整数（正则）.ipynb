{
 "cells": [
  {
   "cell_type": "code",
   "execution_count": 72,
   "metadata": {},
   "outputs": [],
   "source": [
    "import re"
   ]
  },
  {
   "cell_type": "markdown",
   "metadata": {},
   "source": [
    "^[\\+\\-]?\\d+\n",
    "\n",
    "^ 表示匹配字符串开头，我们匹配的就是 +  -  号\n",
    "\n",
    "[] 表示匹配包含的任一字符，比如[0-9]就是匹配数字字符 0 - 9 中的一个\n",
    "\n",
    "? 表示前面一个字符出现零次或者一次，这里用 ? 是因为 '+' 号可以省略\n",
    "\n",
    "\\d 表示一个数字 0 - 9 范围\n",
    "\n",
    "+表示前面一个字符出现一次或者多次，\\\\d+ 合一起就能匹配一连串数字了\n",
    "\n",
    "*表示解包"
   ]
  },
  {
   "cell_type": "code",
   "execution_count": 106,
   "metadata": {},
   "outputs": [],
   "source": [
    "def myAtoi(s: str):\n",
    "    return max(min(int(*re.findall('^[\\+\\-]?\\d+', s.lstrip())), 2**31 - 1), -2**31)"
   ]
  },
  {
   "cell_type": "code",
   "execution_count": 108,
   "metadata": {},
   "outputs": [
    {
     "data": {
      "text/plain": [
       "-3"
      ]
     },
     "execution_count": 108,
     "metadata": {},
     "output_type": "execute_result"
    }
   ],
   "source": [
    "str = \" -3.14159\"\n",
    "myAtoi(str)"
   ]
  }
 ],
 "metadata": {
  "kernelspec": {
   "display_name": "Python [conda root]",
   "language": "python",
   "name": "conda-root-py"
  },
  "language_info": {
   "codemirror_mode": {
    "name": "ipython",
    "version": 3
   },
   "file_extension": ".py",
   "mimetype": "text/x-python",
   "name": "python",
   "nbconvert_exporter": "python",
   "pygments_lexer": "ipython3",
   "version": "3.6.5"
  }
 },
 "nbformat": 4,
 "nbformat_minor": 2
}
