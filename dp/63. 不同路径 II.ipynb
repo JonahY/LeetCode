{
 "cells": [
  {
   "cell_type": "markdown",
   "metadata": {},
   "source": [
    "### **[LeetCode Link](https://leetcode-cn.com/problems/unique-paths-ii/solution/jian-dan-dpbi-xu-miao-dong-by-sweetiee/)**"
   ]
  },
  {
   "cell_type": "markdown",
   "metadata": {},
   "source": [
    "## 动态规划\n",
    "### 递归思路：\n",
    "假设我们定义到达右下角的走法数为 $f(m, n)$, 因为右下角只能由它上方或者左方的格子走过去，因此可以很容易的写出递归求解式，即 $f(m, n) = f(m - 1, n) + f(m, n - 1)$，最后加上递归终止条件，SO EASY 看起来大功告成啦！\n",
    "\n",
    "然而事情并木有结束～ 因为这样自底向上的递归会存在大量的重复计算，所以我们将其改写为在二维数组中自顶向下的递推即可，即 $dp[i, j] = dp[i - 1, j] + dp[i, j - 1]$。\n",
    "1. 状态定义：\n",
    "$dp[i][j]$ 表示走到格子 $(i, j)$ 的方法数。\n",
    "2. 状态转移：\n",
    "如果网格 $(i, j)$ 上有障碍物，则 $dp[i][j]$ 值为 $0$，表示走到该格子的方法数为 $0$；\n",
    "否则网格 $(i, j)$ 可以从网格 $(i - 1, j)$ 或者 网格 $(i, j - 1)$ 走过来，因此走到该格子的方法数为走到网格 $(i - 1, j)$ 和网格 $(i, j - 1)$ 的方法数之和，即 $dp[i, j] = dp[i - 1, j] + dp[i, j - 1]$。\n",
    "\n",
    "  状态转移方程如下：\n",
    "\n",
    "<center>$d p[i][j]=\\left\\{\\begin{array}{ll}d p[i-1, j]+d p[i, j-1] & (i, j) \\text { 上无障碍物 } \\\\ 0 & (i, j) \\text { 上有障碍物 }\\end{array}\\right.$</center>\n",
    "\n",
    "3. 初始条件\n",
    " * 第 1 列的格子只有从其上边格子走过去这一种走法，因此初始化 dp[i][0] 值为  1，存在障碍物时为 0；\n",
    " * 第 1 行的格子只有从其左边格子走过去这一种走法，因此初始化 dp[0][j] 值为 1，存在障碍物时为 0。"
   ]
  },
  {
   "cell_type": "code",
   "execution_count": null,
   "metadata": {},
   "outputs": [],
   "source": [
    "class Solution(object):\n",
    "    def uniquePathsWithObstacles(self, obstacleGrid):\n",
    "        \"\"\"\n",
    "        :type obstacleGrid: List[List[int]]\n",
    "        :rtype: int\n",
    "        \"\"\"\n",
    "        # 定义状态：即数据元素的含义：dp表示当前位置的路径条数\n",
    "        # 建立状态转移方程：dp[i] = dp[i]+dp[i-1]\n",
    "        # 设定初始值：增加初始值1，即dp = [1] + [0]*n\n",
    "        # 状态压缩：即优化数组空间,将二维数组压缩到一维数组,逐行计算当前最新路径条数，并覆盖上一行对应的路径条数\n",
    "        # 选取dp[-2]表示到达finish位置路径总条数,因为一开始新增加的1,因此最终值要往前推一个\n",
    "        \n",
    "        m, n = len(obstacleGrid), len(obstacleGrid[0])\n",
    "        dp = [1] + [0] * n\n",
    "        for i in range(m):\n",
    "            for j in range(n):\n",
    "                dp[j] = 0 if obstacleGrid[i][j] else dp[j]+dp[j-1]\n",
    "        return dp[-2]"
   ]
  }
 ],
 "metadata": {
  "kernelspec": {
   "display_name": "Python 3",
   "language": "python",
   "name": "python3"
  },
  "language_info": {
   "codemirror_mode": {
    "name": "ipython",
    "version": 3
   },
   "file_extension": ".py",
   "mimetype": "text/x-python",
   "name": "python",
   "nbconvert_exporter": "python",
   "pygments_lexer": "ipython3",
   "version": "3.8.5"
  }
 },
 "nbformat": 4,
 "nbformat_minor": 4
}
