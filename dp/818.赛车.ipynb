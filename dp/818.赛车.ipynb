{
 "cells": [
  {
   "cell_type": "markdown",
   "metadata": {},
   "source": [
    "## **[LeetCode Link](https://leetcode-cn.com/problems/race-car/solution/di-gui-dong-tai-gui-hua-jie-jue-sai-che-wen-ti-by-/)**"
   ]
  },
  {
   "cell_type": "markdown",
   "metadata": {},
   "source": [
    "## 动态规划\n",
    "> ***n个A指令可以走到位置2^n-1，执行一次R即为反向。***\n",
    "\n",
    "通过 $\\mathcal{log_2(target})$ 求出 $n$ 后，两种情况：\n",
    "  * 如果 $target$ 正好为 $\\mathcal{2^{n}-1}$，则执行 $n$ 次 $A$ 即可；\n",
    "  * 不正好的话，有两种走法：\n",
    "    1. 直接前进通过 $target$ ：$n$ 次 $A$ 走到$\\mathcal{2^{n}}-1$,然后 1 次 $R$ 反向，递归走剩余的 $\\mathcal{2^{n}-1-target}$;\n",
    "    2. 前进直到下一次会通过 $target$ ： $n-1$ 次 $A$ 走到 $\\mathcal{2^{n-1}-1}$，然后 1 次 $R$ 反向，反向走 $m$ 个 $A$ ，再 1 次 $R$ 反向，递归走剩余的 $\\mathcal{target-(2^{n-1}-2^m)}$。"
   ]
  },
  {
   "cell_type": "code",
   "execution_count": null,
   "metadata": {},
   "outputs": [],
   "source": [
    "from math import log\n",
    "class Solution:\n",
    "    def racecar(self, target: int) -> int:\n",
    "        dp = [float('-inf')] * (target+10)\n",
    "        \n",
    "        def helper(target):\n",
    "            if dp[target] > 0 : return dp[target]\n",
    "            n = int(log(target,2)) +1 \n",
    "            if target == 2**n-1:\n",
    "                dp[target] = n\n",
    "            else:\n",
    "                dp[target] = n + 1 + helper( (2**n) - 1 -target )\n",
    "                for m in range(n-1):\n",
    "                    dp[target]= min(dp[target], n + m + 1 + helper(target - (2**(n - 1)) + (2**m)))\n",
    "            return dp[target]\n",
    "        \n",
    "        return helper(target)"
   ]
  },
  {
   "cell_type": "code",
   "execution_count": null,
   "metadata": {},
   "outputs": [],
   "source": [
    "class Solution {\n",
    "    public int racecar(int target) {\n",
    "        //处理边界\n",
    "        if (target <= 0) {\n",
    "            return 0;\n",
    "        }\n",
    "        \n",
    "        int[] dp = new int[target + 2];\n",
    "        //dp[0]=0\n",
    "        dp[1]=1; //A\n",
    "        dp[2]=4; //AARA 或者 ARRA\n",
    "\n",
    "        int k = 2;\n",
    "        // S记录连续k个A指令，达到的位置\n",
    "        int S = 3;\n",
    "        for (int i = 3; i <= target; i++) {\n",
    "            if(i == S) {\n",
    "                dp[i] = k++;\n",
    "                // 2^k - 1\n",
    "                S = (1<<k) - 1;\n",
    "            } else {\n",
    "                // 情况1：连续k个A后，回退\n",
    "                dp[i] = k + 1 + dp[S-i];\n",
    "                // 情况2：连续k-1个A后，回退(0/1/.../k-2)步后，再前进\n",
    "                for (int back = 0; back <= k-2; back++) {\n",
    "                    // 回退后还需前进的距离：i+S(back)-S(k-1)\n",
    "                    int distance = i + (1<<back) - (1<<(k-1));\n",
    "                    dp[i] = Math.min(dp[i], (k-1)+2+back+dp[distance]);\n",
    "                }\n",
    "            }\n",
    "        }\n",
    "        return dp[target];\n",
    "    }\n",
    "}"
   ]
  }
 ],
 "metadata": {
  "kernelspec": {
   "display_name": "Python 3",
   "language": "python",
   "name": "python3"
  },
  "language_info": {
   "codemirror_mode": {
    "name": "ipython",
    "version": 3
   },
   "file_extension": ".py",
   "mimetype": "text/x-python",
   "name": "python",
   "nbconvert_exporter": "python",
   "pygments_lexer": "ipython3",
   "version": "3.8.5"
  },
  "toc": {
   "base_numbering": 1,
   "nav_menu": {},
   "number_sections": true,
   "sideBar": true,
   "skip_h1_title": false,
   "title_cell": "Table of Contents",
   "title_sidebar": "Contents",
   "toc_cell": false,
   "toc_position": {},
   "toc_section_display": true,
   "toc_window_display": false
  },
  "varInspector": {
   "cols": {
    "lenName": 16,
    "lenType": 16,
    "lenVar": 40
   },
   "kernels_config": {
    "python": {
     "delete_cmd_postfix": "",
     "delete_cmd_prefix": "del ",
     "library": "var_list.py",
     "varRefreshCmd": "print(var_dic_list())"
    },
    "r": {
     "delete_cmd_postfix": ") ",
     "delete_cmd_prefix": "rm(",
     "library": "var_list.r",
     "varRefreshCmd": "cat(var_dic_list()) "
    }
   },
   "types_to_exclude": [
    "module",
    "function",
    "builtin_function_or_method",
    "instance",
    "_Feature"
   ],
   "window_display": false
  }
 },
 "nbformat": 4,
 "nbformat_minor": 4
}
