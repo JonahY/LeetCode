{
 "cells": [
  {
   "cell_type": "markdown",
   "metadata": {},
   "source": [
    "### **[LeetCode Link](https://leetcode-cn.com/problems/stone-game/solution/shi-zi-you-xi-by-leetcode-solution/)**"
   ]
  },
  {
   "cell_type": "markdown",
   "metadata": {},
   "source": [
    "## 动态规划\n",
    "* 由于每次只能从行的开始或结束处取走整堆石子，因此可以保证剩下的石子堆一定是连续的。\n",
    "* 如果只剩下一堆石子，则当前玩家只能取走这堆石子。如果剩下多堆石子，则当前玩家可以选择从行的开始或结束处取走整堆石子，然后轮到另一个玩家在剩下的石子堆中取走石子。这是一个递归的过程，因此可以使用递归进行求解，递归过程中维护一个总数，表示 $\\text{Alex}$ 和 $\\text{Lee}$ 的石子数量之差，当游戏结束时，如果总数大于 $0$，则 $\\text{Alex}$ 赢得比赛，否则 $\\text{Lee}$ 赢得比赛。\n",
    "* 如果有 $n$ 堆石子，则递归的时间复杂度为 $O(2^n)$，无法通过所有的测试用例。递归的时间复杂度高的原因是存在大量重复计算。由于存在重复子问题，因此可以使用动态规划降低时间复杂度。\n",
    "\n",
    "定义二维数组 $\\textit{dp}$，其行数和列数都等于石子的堆数，$\\textit{dp}[i][j]$ 表示当剩下的石子堆为下标 $i$ 到下标 $j$ 时，当前玩家与另一个玩家的石子数量之差的最大值，注意当前玩家不一定是先手 $\\text{Alex}$。\n",
    "\n",
    "* 只有当 $i \\le j$ 时，剩下的石子堆才有意义，因此当 $i>j$ 时，$\\textit{dp}[i][j]=0$。\n",
    "* 当 $i=j$ 时，只剩下一堆石子，当前玩家只能取走这堆石子，因此对于所有 $0 \\le i < \\textit{nums}.\\text{length}$，都有 $\\textit{dp}[i][i]=\\textit{piles}[i]$。\n",
    "* 当 $i<j$ 时，当前玩家可以选择取走 $\\textit{piles}[i]$ 或 $\\textit{piles}[j]$，然后轮到另一个玩家在剩下的石子堆中取走石子。在两种方案中，当前玩家会选择最优的方案，使得自己的石子数量最大化。因此可以得到如下状态转移方程：\n",
    "<center>$\\textit{dp}[i][j]=\\max(\\textit{piles}[i] - \\textit{dp}[i + 1][j], \\textit{piles}[j] - \\textit{dp}[i][j - 1])$</center>\n",
    "* 最后判断 $\\textit{dp}[0][\\textit{piles}.\\text{length}-1]$ 的值，如果大于 $0$，则 $\\text{Alex}$ 的石子数量大于 $\\text{Lee}$ 的石子数量，因此 $\\text{Alex}$ 赢得比赛，否则 $\\text{Lee}$ 赢得比赛。"
   ]
  },
  {
   "cell_type": "code",
   "execution_count": null,
   "metadata": {},
   "outputs": [],
   "source": [
    "class Solution:\n",
    "    def stoneGame(self, piles: List[int]) -> bool:\n",
    "        length = len(piles)\n",
    "        dp = [[0] * length for _ in range(length)]\n",
    "        for i, pile in enumerate(piles):\n",
    "            dp[i][i] = pile\n",
    "        for i in range(length - 2, -1, -1):\n",
    "            for j in range(i + 1, length):\n",
    "                dp[i][j] = max(piles[i] - dp[i + 1][j], piles[j] - dp[i][j - 1])\n",
    "        return dp[0][length - 1] > 0"
   ]
  },
  {
   "cell_type": "markdown",
   "metadata": {},
   "source": [
    "上述代码中使用了二维数组 $\\textit{dp}$。分析状态转移方程可以看到，$\\textit{dp}[i][j]$ 的值只和 $\\textit{dp}[i + 1][j]$ 与 $\\textit{dp}[i][j - 1]$ 有关，即在计算 $\\textit{dp}$ 的第 $i$ 行的值时，只需要使用到 $\\textit{dp}$ 的第 $i$ 行和第 $i+1$ 行的值，因此可以使用一维数组代替二维数组，对空间进行优化。\n",
    "### 复杂度分析\n",
    "* 时间复杂度：$O(n^2)$，其中 $n$ 是数组的长度。需要计算每个子数组对应的 $\\textit{dp}$ 的值，共有 $\\frac{n(n+1)}{2}$ 个子数组。\n",
    "* 空间复杂度：$O(n)$，其中 $n$ 是数组的长度。空间复杂度取决于额外创建的数组 $\\textit{dp}$，如果不优化空间，则空间复杂度是 $O(n^2)$，使用一维数组优化之后空间复杂度可以降至 $O(n)$。"
   ]
  },
  {
   "cell_type": "code",
   "execution_count": null,
   "metadata": {},
   "outputs": [],
   "source": [
    "class Solution:\n",
    "    def stoneGame(self, piles: List[int]) -> bool:\n",
    "        length = len(piles)\n",
    "        dp = [0] * length\n",
    "        for i, pile in enumerate(piles):\n",
    "            dp[i] = pile\n",
    "        for i in range(length - 2, -1, -1):\n",
    "            for j in range(i + 1, length):\n",
    "                dp[j] = max(piles[i] - dp[j], piles[j] - dp[j - 1])\n",
    "        return dp[length - 1] > 0"
   ]
  }
 ],
 "metadata": {
  "kernelspec": {
   "display_name": "Python 3",
   "language": "python",
   "name": "python3"
  },
  "language_info": {
   "codemirror_mode": {
    "name": "ipython",
    "version": 3
   },
   "file_extension": ".py",
   "mimetype": "text/x-python",
   "name": "python",
   "nbconvert_exporter": "python",
   "pygments_lexer": "ipython3",
   "version": "3.8.5"
  }
 },
 "nbformat": 4,
 "nbformat_minor": 4
}
