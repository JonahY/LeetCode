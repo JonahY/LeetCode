{
 "cells": [
  {
   "cell_type": "markdown",
   "metadata": {},
   "source": [
    "### **[LeetCode Link](https://leetcode-cn.com/problems/minimum-path-sum/solution/zui-xiao-lu-jing-he-dong-tai-gui-hua-gui-fan-liu-c/)**"
   ]
  },
  {
   "cell_type": "markdown",
   "metadata": {},
   "source": [
    "## 动态规划\n",
    "### 解题思路：\n",
    "此题是典型的动态规划题目。\n",
    "* **状态定义：**\n",
    " * 设 $dp$ 为大小 $m \\times n$ 矩阵，其中 $dp[i][j]$ 的值代表直到走到 $(i,j)$ 的最小路径和。\n",
    "* **转移方程：**\n",
    ">题目要求，只能向右或向下走，换句话说，当前单元格 $(i,j)$ 只能从左方单元格 $(i-1,j)$ 或上方单元格 $(i,j-1)$ 走到，因此只需要考虑矩阵左边界和上边界。\n",
    " * 走到当前单元格 $(i,j)$ 的最小路径和 == “从左方单元格 $(i-1,j)$ 与 从上方单元格 $(i,j-1)$ 走来的 两个最小路径和中较小的 ” $+$ 当前单元格值 $grid[i][j]$ 。具体分为以下 $4$ 种情况：\n",
    "  1. 当左边和上边都不是矩阵边界时： 即当$i \\not= 0$, $j \\not= 0$时，dp[i][j] = min(dp[i - 1][j], dp[i][j - 1]) + grid[i][j]dp[i][j]=min(dp[i−1][j],dp[i][j−1])+grid[i][j] ；\n",
    "  2. 当只有左边是矩阵边界时： 只能从上面来，即当$i = 0$, $j \\not= 0$时， $dp[i][j] = dp[i][j - 1] + grid[i][j]$；\n",
    "  3. 当只有上边是矩阵边界时： 只能从左面来，即当$i \\not= 0$, $j = 0$时， $dp[i][j] = dp[i - 1][j] + grid[i][j]$；\n",
    "  4. 当左边和上边都是矩阵边界时： 即当$i = 0$, $j = 0$时，其实就是起点， $dp[i][j] = grid[i][j]$；\n",
    "* **初始状态：**\n",
    " * $dp$ 初始化即可，不需要修改初始 $0$ 值。\n",
    "* **返回值：**\n",
    " * 返回 $dp$ 矩阵右下角值，即走到终点的最小路径和。\n",
    "\n",
    "其实我们完全不需要建立 $dp$ 矩阵浪费额外空间，直接遍历 $grid[i][j]$ 修改即可。这是因为：$grid[i][j] = min(grid[i - 1][j], grid[i][j - 1]) + grid[i][j]$ ；原 $grid$ 矩阵元素中被覆盖为 $dp$ 元素后（都处于当前遍历点的左上方），不会再被使用到。\n",
    "\n",
    "### 复杂度分析：\n",
    "* **时间复杂度** $O(M \\times N)$ ： 遍历整个 $grid$ 矩阵元素。\n",
    "* **空间复杂度** $O(1)$ ： 直接修改原矩阵，不使用额外空间。"
   ]
  },
  {
   "cell_type": "code",
   "execution_count": null,
   "metadata": {
    "ExecuteTime": {
     "end_time": "2020-10-15T02:11:08.269876Z",
     "start_time": "2020-10-15T02:11:08.253866Z"
    }
   },
   "outputs": [],
   "source": [
    "class Solution:\n",
    "    def minPathSum(self, grid: [[int]]) -> int:\n",
    "        for i in range(len(grid)):\n",
    "            for j in range(len(grid[0])):\n",
    "                if i == j == 0: continue\n",
    "                elif i == 0:  grid[i][j] = grid[i][j - 1] + grid[i][j]\n",
    "                elif j == 0:  grid[i][j] = grid[i - 1][j] + grid[i][j]\n",
    "                else: grid[i][j] = min(grid[i - 1][j], grid[i][j - 1]) + grid[i][j]\n",
    "        return grid[-1][-1]"
   ]
  },
  {
   "cell_type": "code",
   "execution_count": null,
   "metadata": {},
   "outputs": [],
   "source": [
    "public class Solution {\n",
    "    public int minPathSum(int[][] grid) {\n",
    "        for (int i = 0; i < grid.length; i++) {\n",
    "            for (int j = 0; j < grid[0].length; j++) {\n",
    "                if (i == 0 && j == 0) continue;\n",
    "                else if (i == 0) grid[i][j] = grid[i][j - 1] + grid[i][j];\n",
    "                else if (j == 0) grid[i][j] = grid[i - 1][j] + grid[i][j];\n",
    "                else grid[i][j] = Math.min(grid[i - 1][j], grid[i][j - 1]) + grid[i][j];\n",
    "            }\n",
    "        }\n",
    "        return grid[grid.length - 1][grid[0].length - 1];\n",
    "    }\n",
    "}"
   ]
  },
  {
   "cell_type": "markdown",
   "metadata": {},
   "source": [
    "## DFS（超时）"
   ]
  },
  {
   "cell_type": "code",
   "execution_count": null,
   "metadata": {},
   "outputs": [],
   "source": [
    "class Solution:\n",
    "    def minPathSum(self, grid: List[List[int]]) -> int:\n",
    "        moves = [[0, 1], [1, 0]]\n",
    "        m, n = len(grid), len(grid[0])\n",
    "        res = []\n",
    "\n",
    "        def dfs(x, y, sumz):\n",
    "            if x == m - 1 and y == n - 1:\n",
    "                res.append(sumz)\n",
    "                return\n",
    "            for i, j in moves:\n",
    "                if x + i < m and y + j < n:\n",
    "                    dfs(x + i, y + j, sumz + grid[x + i][y + j])\n",
    "\n",
    "        dfs(0, 0, grid[0][0])\n",
    "\n",
    "        return min(res)"
   ]
  }
 ],
 "metadata": {
  "kernelspec": {
   "display_name": "Python 3",
   "language": "python",
   "name": "python3"
  },
  "language_info": {
   "codemirror_mode": {
    "name": "ipython",
    "version": 3
   },
   "file_extension": ".py",
   "mimetype": "text/x-python",
   "name": "python",
   "nbconvert_exporter": "python",
   "pygments_lexer": "ipython3",
   "version": "3.8.5"
  },
  "toc": {
   "base_numbering": 1,
   "nav_menu": {},
   "number_sections": true,
   "sideBar": true,
   "skip_h1_title": false,
   "title_cell": "Table of Contents",
   "title_sidebar": "Contents",
   "toc_cell": false,
   "toc_position": {},
   "toc_section_display": true,
   "toc_window_display": false
  },
  "varInspector": {
   "cols": {
    "lenName": 16,
    "lenType": 16,
    "lenVar": 40
   },
   "kernels_config": {
    "python": {
     "delete_cmd_postfix": "",
     "delete_cmd_prefix": "del ",
     "library": "var_list.py",
     "varRefreshCmd": "print(var_dic_list())"
    },
    "r": {
     "delete_cmd_postfix": ") ",
     "delete_cmd_prefix": "rm(",
     "library": "var_list.r",
     "varRefreshCmd": "cat(var_dic_list()) "
    }
   },
   "types_to_exclude": [
    "module",
    "function",
    "builtin_function_or_method",
    "instance",
    "_Feature"
   ],
   "window_display": false
  }
 },
 "nbformat": 4,
 "nbformat_minor": 4
}
