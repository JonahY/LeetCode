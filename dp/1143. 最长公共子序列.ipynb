{
 "cells": [
  {
   "cell_type": "markdown",
   "metadata": {},
   "source": [
    "### **[LeetCode Link](https://leetcode-cn.com/problems/longest-common-subsequence/solution/dong-tai-gui-hua-zhi-zui-chang-gong-gong-zi-xu-lie/)**"
   ]
  },
  {
   "cell_type": "markdown",
   "metadata": {},
   "source": [
    "## 动态规划\n",
    "### 明确 dp 数组的含义\n",
    "比如说对于字符串 `s1` 和 `s2`，一般来说都要构造一个这样的 DP table：\n",
    "<center><img src=1.png width=\"50%\"></center>\n",
    "\n",
    "### 定义 base case\n",
    "\n",
    "我们专门让索引为 0 的行和列表示空串，`dp[0][..]` 和 `dp[..][0]` 都应该初始化为 0，这就是 base case。\n",
    "\n",
    "比如说，按照刚才 dp 数组的定义，`dp[0][3]=0` 的含义是：对于字符串 `\"\"` 和 `\"bab\"`，其 LCS 的长度为 0。因为有一个字符串是空串，它们的最长公共子序列的长度显然应该是 0。\n",
    "\n",
    "### 状态转移方程。\n",
    "状态转移说简单些就是做选择，比如说这个问题，是求 s1 和 s2 的最长公共子序列，不妨称这个子序列为 LCS。那么对于 `s1` 和 `s2` 中的每个字符，有什么选择？很简单，两种选择，要么在 LCS 中，要么不在。\n",
    "<center><img src=2.png width=\"50%\"></center>\n",
    "这个「在」和「不在」就是选择，关键是，应该如何选择呢？这个需要动点脑筋：如果某个字符应该在 LCS 中，那么这个字符肯定同时存在于 `s1` 和 `s2` 中，因为 LCS 是最长公共子序列嘛。所以本题的思路是这样：\n",
    "\n",
    "用两个指针 `i` 和 `j` 从后往前遍历 `s1` 和 `s2`，如果 `s1[i]==s2[j]`，那么这个字符一定在 LCS 中；否则的话，`s1[i]` 和 `s2[j]` 这两个字符至少有一个不在 LCS 中，需要丢弃一个。"
   ]
  },
  {
   "cell_type": "markdown",
   "metadata": {},
   "source": [
    "### 递归解法（超时）"
   ]
  },
  {
   "cell_type": "code",
   "execution_count": null,
   "metadata": {},
   "outputs": [],
   "source": [
    "def longestCommonSubsequence(str1, str2) -> int:\n",
    "    def dp(i, j):\n",
    "        # 空串的 base case\n",
    "        if i == -1 or j == -1:\n",
    "            return 0\n",
    "        if str1[i] == str2[j]:\n",
    "            # 这边找到一个 lcs 的元素，继续往前找\n",
    "            return dp(i - 1, j - 1) + 1\n",
    "        else:\n",
    "            # 谁能让 lcs 最长，就听谁的\n",
    "            return max(dp(i-1, j), dp(i, j-1))\n",
    "        \n",
    "    # i 和 j 初始化为最后一个索引\n",
    "    return dp(len(str1)-1, len(str2)-1)"
   ]
  },
  {
   "cell_type": "markdown",
   "metadata": {},
   "source": [
    "### 迭代解法"
   ]
  },
  {
   "cell_type": "code",
   "execution_count": null,
   "metadata": {},
   "outputs": [],
   "source": [
    "def longestCommonSubsequence(str1, str2) -> int:\n",
    "    m, n = len(str1), len(str2)\n",
    "    # 构建 DP table 和 base case\n",
    "    dp = [[0] * (n + 1) for _ in range(m + 1)]\n",
    "    # 进行状态转移\n",
    "    for i in range(1, m + 1):\n",
    "        for j in range(1, n + 1):\n",
    "            if str1[i - 1] == str2[j - 1]:\n",
    "                # 找到一个 lcs 中的字符\n",
    "                dp[i][j] = 1 + dp[i-1][j-1]\n",
    "            else:\n",
    "                dp[i][j] = max(dp[i-1][j], dp[i][j-1])\n",
    "        \n",
    "    return dp[-1][-1]"
   ]
  },
  {
   "cell_type": "code",
   "execution_count": null,
   "metadata": {},
   "outputs": [],
   "source": [
    "class Solution {\n",
    "    public int longestCommonSubsequence(String text1, String text2) {\n",
    "        int n1 = text1.length();\n",
    "        int n2 = text2.length();\n",
    "        int[][] dp = new int [n1 + 1][n2 + 1];\n",
    "\n",
    "        for (int i = 1; i < n1 + 1; i++) {\n",
    "            for (int j = 1; j < n2 + 1; j++) {\n",
    "                dp[i][j] = text1.charAt(i - 1) == text2.charAt(j - 1) ? dp[i - 1][j - 1] + 1 : Math.max(dp[i][j - 1], dp[i - 1][j]);\n",
    "            }\n",
    "        }\n",
    "        return dp[n1][n2];\n",
    "        }\n",
    "    }"
   ]
  },
  {
   "cell_type": "code",
   "execution_count": null,
   "metadata": {},
   "outputs": [],
   "source": [
    "class Solution {\n",
    "    public int longestCommonSubsequence(String text1, String text2) {\n",
    "        int n = text1.length();\n",
    "        int m = text2.length();\n",
    "        char[] t1 = text1.toCharArray();\n",
    "        char[] t2 = text2.toCharArray();\n",
    "        int pre = 0;\n",
    "        int k = 0;\n",
    "        int[] dp = new int[m];\n",
    "        \n",
    "        for(int i = 0; i < n; i++){\n",
    "            pre = 0;\n",
    "            k = 0;\n",
    "            for(int j = 0; j < m; j++){\n",
    "                if(t1[i] == t2[j])\n",
    "                    k = pre + 1;\n",
    "                else\n",
    "                    k = Math.max(dp[j], k);\n",
    "                pre = dp[j];\n",
    "                dp[j] = k;\n",
    "            }\n",
    "        }\n",
    "        return dp[m-1];\n",
    "    }\n",
    "}"
   ]
  }
 ],
 "metadata": {
  "kernelspec": {
   "display_name": "Python 3",
   "language": "python",
   "name": "python3"
  },
  "language_info": {
   "codemirror_mode": {
    "name": "ipython",
    "version": 3
   },
   "file_extension": ".py",
   "mimetype": "text/x-python",
   "name": "python",
   "nbconvert_exporter": "python",
   "pygments_lexer": "ipython3",
   "version": "3.8.5"
  },
  "toc": {
   "base_numbering": 1,
   "nav_menu": {},
   "number_sections": true,
   "sideBar": true,
   "skip_h1_title": false,
   "title_cell": "Table of Contents",
   "title_sidebar": "Contents",
   "toc_cell": false,
   "toc_position": {},
   "toc_section_display": true,
   "toc_window_display": false
  },
  "varInspector": {
   "cols": {
    "lenName": 16,
    "lenType": 16,
    "lenVar": 40
   },
   "kernels_config": {
    "python": {
     "delete_cmd_postfix": "",
     "delete_cmd_prefix": "del ",
     "library": "var_list.py",
     "varRefreshCmd": "print(var_dic_list())"
    },
    "r": {
     "delete_cmd_postfix": ") ",
     "delete_cmd_prefix": "rm(",
     "library": "var_list.r",
     "varRefreshCmd": "cat(var_dic_list()) "
    }
   },
   "types_to_exclude": [
    "module",
    "function",
    "builtin_function_or_method",
    "instance",
    "_Feature"
   ],
   "window_display": false
  }
 },
 "nbformat": 4,
 "nbformat_minor": 4
}
