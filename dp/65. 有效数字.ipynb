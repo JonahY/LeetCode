{
 "cells": [
  {
   "cell_type": "markdown",
   "metadata": {},
   "source": [
    "### **[LeetCode Link](https://leetcode-cn.com/problems/valid-number/solution/python3jue-dui-jian-ji-yi-dong-de-jie-fa-by-cheng-/)**"
   ]
  },
  {
   "cell_type": "markdown",
   "metadata": {},
   "source": [
    "### 解题思路\n",
    "我们从列举所有的情况入手是非常困难的，因为符号之间互相组合的情况实在是很多，一一列举全并且用代码实现的代价很大。我们先把这些烦人的情况放在一边，我们先来思考一下问题所在。\n",
    "\n",
    "这个问题的核心就是判断浮点数是否合法，合法的浮点数的情况也是不少的，但这些情况虽然多，彼此之间是有联系的。最起码我们可以发现符号之间的顺序，如果我们把一个合法的浮点数进行拆分，它大概可以分成以下几个部分。\n",
    "\n",
    "首先是符号位，表示这个数是正数还是负数。题目当中没有明说，但是我们可以猜测出来，正数用正号表示也是合法的。第二个部分是科学记数法的前半部分，它可以是一个小数。第三个部分是e，即科学记数法当中的e。最后一个部分是整数部分，表示e的指数。\n",
    "\n",
    "当我们把这四个部分列举出来之后，再来进行判断就容易多了。因为这四个部分是有顺序的，我们只需要判断它们顺序的合理性就可以了。根据顺序的合理性，我们可以进一步推测出每一个符号允许出现的位置，所有和预期位置不符的符号都是非法的。\n",
    "\n",
    "根据这一点我们可以推导出一些结论：\n",
    "\n",
    "1. 空格只能出现在首尾，出现在中间一定是非法的。\n",
    "2. 正负号只能出现在两个地方，第一个地方是数字的最前面，表示符号。第二个位置是e后面，表示指数的正负。如果出现在其他的位置一定也是非法的。\n",
    "3. 数字，数字没有特别的判断，本题当中没有前导0的问题。\n",
    "4. e只能出现一次，并且e之后一定要有数字才是合法的，123e这种也是非法的。\n",
    "5. 小数点，由于e之后的指数一定是整数，所以小数点最多只能出现一次，并且一定要在e之前。所以如果之前出现过小数点或者是e，再次出现小数点就是非法的。\n",
    "\n",
    "当我们把每一个符号合法的情况梳理清楚之后，会发现其实也没有那么复杂，情况也没有那么多。这其实也是常用套路，我们把互相耦合的一些变量拆分开了，彼此互不影响。这样我们就可以单独考虑这其中的每个零件，而不用面对它们互相耦合的复杂情况了。"
   ]
  },
  {
   "cell_type": "code",
   "execution_count": null,
   "metadata": {},
   "outputs": [],
   "source": [
    "class Solution:\n",
    "    def isNumber(self, s: str) -> bool:\n",
    "        s = s.strip()\n",
    "        numbers = [str(i) for i in range(10)]\n",
    "        n = len(s)\n",
    "        \n",
    "        e_show_up, dot_show_up, num_show_up, num_after_e = False, False, False, False\n",
    "        \n",
    "        for i in range(n):\n",
    "            c = s[i]\n",
    "            if c in numbers:\n",
    "                num_show_up = True\n",
    "                num_after_e = True\n",
    "            elif c in ('+', '-'):\n",
    "                if i > 0 and s[i-1] != 'e':\n",
    "                    return False\n",
    "            elif c == '.':\n",
    "                if dot_show_up or e_show_up:\n",
    "                    return False\n",
    "                dot_show_up = True\n",
    "            elif c == 'e':\n",
    "                if e_show_up or not num_show_up:\n",
    "                    return False\n",
    "                e_show_up = True\n",
    "                num_show_up = False\n",
    "            else:\n",
    "                return False\n",
    "            \n",
    "        return num_show_up and num_after_e"
   ]
  }
 ],
 "metadata": {
  "kernelspec": {
   "display_name": "Python 3",
   "language": "python",
   "name": "python3"
  },
  "language_info": {
   "codemirror_mode": {
    "name": "ipython",
    "version": 3
   },
   "file_extension": ".py",
   "mimetype": "text/x-python",
   "name": "python",
   "nbconvert_exporter": "python",
   "pygments_lexer": "ipython3",
   "version": "3.8.5"
  }
 },
 "nbformat": 4,
 "nbformat_minor": 4
}
