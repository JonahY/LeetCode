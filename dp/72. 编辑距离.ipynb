{
 "cells": [
  {
   "cell_type": "markdown",
   "metadata": {},
   "source": [
    "### **[LeetCode Link](https://leetcode-cn.com/problems/edit-distance/solution/bian-ji-ju-chi-by-leetcode-solution/)**"
   ]
  },
  {
   "cell_type": "markdown",
   "metadata": {},
   "source": [
    "## 【编辑距离】动态规划\n",
    "### 思路和算法\n",
    "我们可以对任意一个单词进行三种操作：\n",
    "* 插入一个字符；\n",
    "* 删除一个字符；\n",
    "* 替换一个字符。\n",
    "\n",
    "题目给定了两个单词，设为 A 和 B，这样我们就能够六种操作方法。但我们可以发现，本质不同的操作实际上只有三种：\n",
    "* 在单词 A 中插入一个字符；\n",
    "* 在单词 B 中插入一个字符；\n",
    "* 修改单词 A 的一个字符。\n",
    "\n",
    "如上所述，当我们获得 `D[i][j-1]，D[i-1][j] 和 D[i-1][j-1]` 的值之后就可以计算出 `D[i][j]`。\n",
    "* `D[i][j-1]` 为 `A` 的前 `i` 个字符和 `B` 的前 `j - 1` 个字符编辑距离的子问题。即对于 `B` 的第 `j` 个字符，我们在 `A` 的末尾添加了一个相同的字符，那么 `D[i][j]` 最小可以为 `D[i][j-1] + 1`；\n",
    "* `D[i-1][j]` 为 `A` 的前 `i - 1` 个字符和 `B` 的前 `j` 个字符编辑距离的子问题。即对于 `A` 的第 `i` 个字符，我们在 `B` 的末尾添加了一个相同的字符，那么 `D[i][j]` 最小可以为 `D[i-1][j] + 1`；\n",
    "* `D[i-1][j-1]` 为` A` 前 `i - 1` 个字符和 `B` 的前 `j - 1` 个字符编辑距离的子问题。即对于 `B` 的第 `j` 个字符，我们修改 `A` 的第 `i` 个字符使它们相同，那么 `D[i][j]` 最小可以为 `D[i-1][j-1] + 1`。特别地，如果 `A` 的第 `i` 个字符和 `B` 的第 `j` 个字符原本就相同，那么我们实际上不需要进行修改操作。在这种情况下，`D[i][j]` 最小可以为 `D[i-1][j-1]`。\n",
    "\n",
    "那么我们可以写出如下的状态转移方程：\n",
    "* 若 A 和 B 的最后一个字母相同：\n",
    "<center>$\\begin{aligned} D[i][j] &= \\min(D[i][j - 1] + 1, D[i - 1][j]+1, D[i - 1][j - 1])\\\\ &= 1 + \\min(D[i][j - 1], D[i - 1][j], D[i - 1][j - 1] - 1) \\end{aligned}$</center>\n",
    "\n",
    "* 若 A 和 B 的最后一个字母不同：\n",
    "<center>$D[i][j] = 1 + \\min(D[i][j - 1], D[i - 1][j], D[i - 1][j - 1])$</center>\n",
    "\n",
    "### 复杂度分析\n",
    "* 时间复杂度 ：$\\mathcal{O}(m \\times n)$，其中 $m$ 为 `word1` 的长度，$n$ 为 `word2` 的长度。\n",
    "* 空间复杂度 ：$\\mathcal{O}(m \\times n)$，我们需要大小为 $\\mathcal{O}(m \\times n)$ 的 $D$ 数组来记录状态值。"
   ]
  },
  {
   "cell_type": "code",
   "execution_count": null,
   "metadata": {},
   "outputs": [],
   "source": [
    "class Solution:\n",
    "    def minDistance(self, word1: str, word2: str) -> int:\n",
    "        n1 = len(word1)\n",
    "        n2 = len(word2)\n",
    "        dp = [[0] * (n2 + 1) for _ in range(n1 + 1)]\n",
    "        # 第一行\n",
    "        for j in range(1, n2 + 1):\n",
    "            dp[0][j] = dp[0][j-1] + 1\n",
    "        # 第一列\n",
    "        for i in range(1, n1 + 1):\n",
    "            dp[i][0] = dp[i-1][0] + 1\n",
    "        for i in range(1, n1 + 1):\n",
    "            for j in range(1, n2 + 1):\n",
    "                if word1[i-1] == word2[j-1]:\n",
    "                    dp[i][j] = dp[i-1][j-1]\n",
    "                else:\n",
    "                    dp[i][j] = min(dp[i][j-1], dp[i-1][j], dp[i-1][j-1] ) + 1\n",
    "        return dp[-1][-1]"
   ]
  },
  {
   "cell_type": "markdown",
   "metadata": {},
   "source": [
    "### **[LeeCode Link](https://leetcode-cn.com/problems/edit-distance/solution/bian-ji-ju-chi-by-leetcode-solution/331399)**"
   ]
  },
  {
   "cell_type": "markdown",
   "metadata": {},
   "source": [
    "* 由定理二可知，`dp[i][j]` 只和 `dp[i-1][j],dp[i][j-1],dp[i-1][j-1]` 三个量有关，即二维数组中，当前元素的左边，上边，左上角三个元素。\n",
    "* 那我们不用这么大的二维数组存啊！我们就用一维数组，表示原来二维数组中的一行，然后我们就反复覆盖里面的值。`dp[i-1][j]` 就是我当前左边的元素，`dp[i][j-1]` 是没覆盖前我这里的值，`dp[i-1][j-1]` 好像找不见了？那我们就单独用一个变量存着它，我们把它叫`lu（left up）` \n",
    "\n",
    "### 复杂度分析：\n",
    "* 时间复杂度 ：$O(m \\times n)$，其中 $m$ 为 `word1` 的长度，$n$ 为 `word2` 的长度\n",
    "* 空间复杂度 ：$O(n)$，(这里可以比较 `word1` 和 `word2` 的长度，让 $n$ 是 $m$ $n$ 里较小的那一个)"
   ]
  },
  {
   "cell_type": "code",
   "execution_count": null,
   "metadata": {},
   "outputs": [],
   "source": [
    "class Solution:\n",
    "    def minDistance(self, word1: str, word2: str) -> int:\n",
    "        m=len(word1)\n",
    "        n=len(word2)\n",
    "        dp=list(range(n+1))\n",
    "        for i in range(m):\n",
    "            lu=dp[0]\n",
    "            dp[0]=i+1\n",
    "            for j in range(n):\n",
    "                dp[j+1],lu=min(dp[j]+1,dp[j+1]+1,lu+int(word1[i]!=word2[j])),dp[j+1]\n",
    "        return dp[-1]"
   ]
  }
 ],
 "metadata": {
  "kernelspec": {
   "display_name": "Python 3",
   "language": "python",
   "name": "python3"
  },
  "language_info": {
   "codemirror_mode": {
    "name": "ipython",
    "version": 3
   },
   "file_extension": ".py",
   "mimetype": "text/x-python",
   "name": "python",
   "nbconvert_exporter": "python",
   "pygments_lexer": "ipython3",
   "version": "3.8.5"
  }
 },
 "nbformat": 4,
 "nbformat_minor": 4
}
