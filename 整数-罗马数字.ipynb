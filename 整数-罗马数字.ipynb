{
 "cells": [
  {
   "cell_type": "markdown",
   "metadata": {},
   "source": [
    "整数转罗马数字："
   ]
  },
  {
   "cell_type": "markdown",
   "metadata": {},
   "source": [
    "    贪心算法"
   ]
  },
  {
   "cell_type": "code",
   "execution_count": 5,
   "metadata": {},
   "outputs": [],
   "source": [
    "def intToRoman(num):\n",
    "    # 把阿拉伯数字与罗马数字可能出现的所有情况和对应关系，放在两个数组中\n",
    "    # 并且按照阿拉伯数字的大小降序排列，这是贪心选择思想\n",
    "    nums = [1000, 900, 500, 400, 100, 90, 50, 40, 10, 9, 5, 4, 1]\n",
    "    romans = [\"M\", \"CM\", \"D\", \"CD\", \"C\", \"XC\", \"L\", \"XL\", \"X\", \"IX\", \"V\", \"IV\", \"I\"]\n",
    "\n",
    "    index = 0\n",
    "    res = ''\n",
    "    while index < 13:\n",
    "        # 注意：这里是等于号，表示尽量使用大的\"面值\"\n",
    "        while num >= nums[index]:\n",
    "            res += romans[index]\n",
    "            num -= nums[index]\n",
    "        index += 1\n",
    "    return res"
   ]
  },
  {
   "cell_type": "markdown",
   "metadata": {},
   "source": [
    "    哈希算法"
   ]
  },
  {
   "cell_type": "code",
   "execution_count": 16,
   "metadata": {},
   "outputs": [],
   "source": [
    "def intToRoman(num):\n",
    "    lookup = {\n",
    "        1:'I',\n",
    "        4:'IV',\n",
    "        5:'V',\n",
    "        9:'IX',\n",
    "        10:'X',\n",
    "        40:'XL',\n",
    "        50:'L',\n",
    "        90:'XC',\n",
    "        100:'C',\n",
    "        400:'CD',\n",
    "        500:'D',\n",
    "        900:'CM',\n",
    "        1000:'M'     \n",
    "    }\n",
    "    res = \"\"\n",
    "    for key in sorted(lookup.keys())[::-1]:\n",
    "        a = num // key\n",
    "        if a == 0:\n",
    "            continue\n",
    "        res += (lookup[key] * a)\n",
    "        num -= a * key\n",
    "        if num == 0:\n",
    "            break\n",
    "    return res"
   ]
  },
  {
   "cell_type": "code",
   "execution_count": 17,
   "metadata": {},
   "outputs": [],
   "source": [
    "num = 2994"
   ]
  },
  {
   "cell_type": "code",
   "execution_count": 18,
   "metadata": {},
   "outputs": [
    {
     "data": {
      "text/plain": [
       "'MMCMXCIV'"
      ]
     },
     "execution_count": 18,
     "metadata": {},
     "output_type": "execute_result"
    }
   ],
   "source": [
    "intToRoman(num)"
   ]
  },
  {
   "cell_type": "markdown",
   "metadata": {},
   "source": [
    "罗马数字转整数："
   ]
  },
  {
   "cell_type": "markdown",
   "metadata": {},
   "source": [
    "构建一个字典记录所有罗马数字子串，注意长度为2的子串记录的值是（实际值 - 子串内左边罗马数字代表的数值）\n",
    "\n",
    "这样一来，遍历整个 s 的时候判断当前位置和前一个位置的两个字符组成的字符串是否在字典内，如果在就记录值，不在就说明当前位置不存在小数字在前面的情况，直接记录当前位置字符对应值\n",
    "\n",
    "举个例子，遍历经过 IV 的时候先记录 I 的对应值 1 再往前移动一步记录 IV 的值 3，加起来正好是 IV 的真实值 4。max 函数在这里是为了防止遍历第一个字符的时候出现 [−1:0] 的情况"
   ]
  },
  {
   "cell_type": "code",
   "execution_count": 22,
   "metadata": {},
   "outputs": [],
   "source": [
    "def romanToInt(s):\n",
    "    d = {'I':1, 'IV':3, 'V':5, 'IX':8, 'X':10, 'XL':30, 'L':50, 'XC':80, 'C':100, 'CD':300, 'D':500, 'CM':800, 'M':1000}\n",
    "    return sum(d.get(s[max(i-1, 0):i+1], d[n]) for i, n in enumerate(s))"
   ]
  },
  {
   "cell_type": "code",
   "execution_count": 23,
   "metadata": {},
   "outputs": [
    {
     "data": {
      "text/plain": [
       "2994"
      ]
     },
     "execution_count": 23,
     "metadata": {},
     "output_type": "execute_result"
    }
   ],
   "source": [
    "s = 'MMCMXCIV'\n",
    "romanToInt(s)"
   ]
  }
 ],
 "metadata": {
  "kernelspec": {
   "display_name": "Python [conda root]",
   "language": "python",
   "name": "conda-root-py"
  },
  "language_info": {
   "codemirror_mode": {
    "name": "ipython",
    "version": 3
   },
   "file_extension": ".py",
   "mimetype": "text/x-python",
   "name": "python",
   "nbconvert_exporter": "python",
   "pygments_lexer": "ipython3",
   "version": "3.6.5"
  }
 },
 "nbformat": 4,
 "nbformat_minor": 2
}
