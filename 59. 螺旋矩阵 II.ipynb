{
 "cells": [
  {
   "cell_type": "markdown",
   "metadata": {},
   "source": [
    "### **[LeetCode Link](https://leetcode-cn.com/problems/spiral-matrix-ii/solution/spiral-matrix-ii-mo-ni-fa-she-ding-bian-jie-qing-x/)**"
   ]
  },
  {
   "cell_type": "markdown",
   "metadata": {},
   "source": [
    "### 整体采用构建矩阵，填充矩阵的思路，填充过程分为四种情况：\n",
    "1. 从左到右填充一行；\n",
    "2. 从上到下填充一列；\n",
    "3. 从右到左填充一行，注意只有一行的情况；\n",
    "4. 从下到上填充一列，注意只有一列的情况。\n",
    "\n",
    "### 复杂度分析\n",
    "* 时间复杂度：$O(n^2)$ 我们填充时遍历一次矩阵，矩阵元素个数为 $n^2$（其中 $n$ 为参数），所以时间复杂度为 $n^2$；\n",
    "* 空间复杂度：$O(n^2)$。"
   ]
  },
  {
   "cell_type": "code",
   "execution_count": null,
   "metadata": {},
   "outputs": [],
   "source": [
    "def generateMatrix(self, n: int) -> List[List[int]]:\n",
    "    res = [[None for _ in range(n)] for _ in range(n)]\n",
    "    num = 1\n",
    "    ter = pow(n, 2)\n",
    "    for layer in range((n + 1) // 2):\n",
    "        for i in range(n - 2 * layer):\n",
    "            res[layer][layer + i] = num\n",
    "            num += 1\n",
    "        # 剪枝：在n为奇的时候最后会多赋值一次\n",
    "        if num >= ter:\n",
    "            break\n",
    "        for i in range(1, n - 1 - 2 * layer):\n",
    "            res[layer + i][n - layer - 1] = num\n",
    "            num += 1\n",
    "        for i in range(n - 1 - 2 * layer, -1, -1):\n",
    "            res[n - layer - 1][i + layer] = num\n",
    "            num += 1\n",
    "        for i in range(n - 2 - 2 * layer, 0, -1):\n",
    "            res[i + layer][layer] = num\n",
    "            num += 1\n",
    "    return res"
   ]
  },
  {
   "cell_type": "markdown",
   "metadata": {},
   "source": [
    "## 模拟法\n",
    "### 思路：\n",
    "* 生成一个 $n \\times n$ 空矩阵 `mat`，随后模拟整个向内环绕的填入过程：\n",
    " * 定义当前左右上下边界 `l,r,t,b`，初始值 `num = 1`，迭代终止值 `tar = n * n`；\n",
    " * 当 `num <= tar` 时，始终按照 **从左到右 从上到下 从右到左 从下到上** 填入顺序循环，每次填入后：\n",
    "  * 执行 `num += 1`：得到下一个需要填入的数字；\n",
    "  * 更新边界：例如从左到右填完后，上边界 `t += 1`，相当于上边界向内缩 1。\n",
    " * 使用 `num <= tar` 而不是 `l < r || t < b` 作为迭代条件，是为了解决当n为奇数时，矩阵中心数字无法在迭代过程中被填充的问题。\n",
    "* 最终返回 `mat` 即可。\n",
    "\n",
    "### 复杂度分析\n",
    "* 时间复杂度：$O(n^2)$ 我们填充时遍历一次矩阵，矩阵元素个数为 $n^2$（其中 $n$ 为参数），所以时间复杂度为 $n^2$；\n",
    "* 空间复杂度：$O(n^2)$。"
   ]
  },
  {
   "cell_type": "code",
   "execution_count": null,
   "metadata": {},
   "outputs": [],
   "source": [
    "def generateMatrix(self, n: int) -> List[List[int]]:\n",
    "    res = [[None for _ in range(n)] for _ in range(n)]\n",
    "    num = 1\n",
    "    ter = pow(n, 2)\n",
    "    l, r, t, b = 0, n - 1, 0, n - 1\n",
    "    while num <= ter:\n",
    "        for i in range(l, r + 1):\n",
    "            res[t][i] = num\n",
    "            num += 1\n",
    "        t += 1\n",
    "        for i in range(t, b + 1):\n",
    "            res[i][r] = num\n",
    "            num += 1\n",
    "        r -= 1\n",
    "        for i in range(r, l - 1, -1):\n",
    "            res[b][i] = num\n",
    "            num += 1\n",
    "        b -= 1\n",
    "        for i in range(b, t - 1, -1):\n",
    "            res[i][l] = num\n",
    "            num += 1\n",
    "        l += 1\n",
    "    return res"
   ]
  }
 ],
 "metadata": {
  "kernelspec": {
   "display_name": "Python 3",
   "language": "python",
   "name": "python3"
  },
  "language_info": {
   "codemirror_mode": {
    "name": "ipython",
    "version": 3
   },
   "file_extension": ".py",
   "mimetype": "text/x-python",
   "name": "python",
   "nbconvert_exporter": "python",
   "pygments_lexer": "ipython3",
   "version": "3.8.5"
  }
 },
 "nbformat": 4,
 "nbformat_minor": 4
}
