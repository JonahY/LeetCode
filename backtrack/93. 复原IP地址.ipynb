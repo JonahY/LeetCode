{
 "cells": [
  {
   "cell_type": "markdown",
   "metadata": {},
   "source": [
    "### **[LeetCode Link](https://leetcode-cn.com/problems/restore-ip-addresses/solution/hui-su-suan-fa-hua-tu-fen-xi-jian-zhi-tiao-jian-by/)**"
   ]
  },
  {
   "cell_type": "markdown",
   "metadata": {},
   "source": [
    "## 回溯\n",
    "![](8.png)\n",
    "### 分析剪枝条件：\n",
    "1. 一开始，字符串的长度小于 4 或者大于 12 ，一定不能拼凑出合法的 ip 地址（这一点可以一般化到中间结点的判断中，以产生剪枝行为）；\n",
    "2. 每一个结点可以选择截取的方法只有 3 种：截 1 位、截 2 位、截 3 位，因此每一个结点可以生长出的分支最多只有 3 条分支；\n",
    "\n",
    "根据截取出来的字符串判断是否是合理的 ip 段，这里写法比较多，可以先截取，再转换成 int ，再判断。我采用的做法是先转成 int，是合法的 ip 段数值以后，再截取。\n",
    "\n",
    "3. 由于 ip 段最多就 4 个段，因此这棵三叉树最多 4 层，这个条件作为递归终止条件之一；\n",
    "4. 每一个结点表示了求解这个问题的不同阶段，需要的状态变量有：\n",
    " * `splitTimes`：已经分割出多少个 ip 段；\n",
    " * `begin`：截取 ip 段的起始位置；\n",
    " * `path`：记录从根结点到叶子结点的一个路径（回溯算法常规变量，是一个栈）；\n",
    " * `res`：记录结果集的变量，常规变量。\n",
    "\n",
    "### 复杂度分析：\n",
    "* 时间复杂度：因为这个问题限制在有效 IP 段内，因此需要截取和检查的次数有上限，分析清楚这个复杂度在我的能力范围之外（欢迎大家指导）。很多回溯问题的复杂度分析都比较 “复杂”，所以我选择暂时搁浅。\n",
    "* 空间复杂度：$O(h)$，也是由于这个问题限制在有效 IP 段内，树最多 4 层，保存的结果集也是有限个，基于一般性，需要记录递归过程的信息，这个空间大小是递归树的高度 $h$。"
   ]
  },
  {
   "cell_type": "code",
   "execution_count": null,
   "metadata": {},
   "outputs": [],
   "source": [
    "class Solution:\n",
    "    def restoreIpAddresses(self, s: str) -> List[str]:\n",
    "        size = len(s)\n",
    "        if size < 4 or size > 12:\n",
    "            return []\n",
    "\n",
    "        path = []\n",
    "        res = []\n",
    "        self.__dfs(s, size, 0, 0, path, res)\n",
    "        return res\n",
    "\n",
    "    def __dfs(self, s, size, split_times, begin, path, res):\n",
    "        if begin == size:\n",
    "            if split_times == 4:\n",
    "                res.append('.'.join(path))\n",
    "            return\n",
    "\n",
    "        if size - begin < (4 - split_times) or size - begin > 3 * (4 - split_times):\n",
    "            return\n",
    "\n",
    "        for i in range(3):\n",
    "            if begin + i >= size:\n",
    "                break\n",
    "\n",
    "            ip_segment = self.__judge_if_ip_segment(s, begin, begin + i)\n",
    "\n",
    "            if ip_segment != -1:\n",
    "                path.append(str(ip_segment))\n",
    "                self.__dfs(s, size, split_times + 1, begin + i + 1, path, res)\n",
    "                path.pop()\n",
    "\n",
    "    def __judge_if_ip_segment(self, s, left, right):\n",
    "        size = right - left + 1\n",
    "\n",
    "        if size > 1 and s[left] == '0':\n",
    "            return -1\n",
    "\n",
    "        res = int(s[left:right + 1])\n",
    "\n",
    "        if res > 255:\n",
    "            return - 1\n",
    "        return res"
   ]
  },
  {
   "cell_type": "code",
   "execution_count": null,
   "metadata": {},
   "outputs": [],
   "source": [
    "class Solution:\n",
    "    def restoreIpAddresses(self, s: str) -> List[str]:\n",
    "        result = []\n",
    "        len_s = len(s)\n",
    "        if len_s < 4 or len_s > 12:\n",
    "            return result\n",
    "        for dot1 in range(len_s - 3):\n",
    "            for dot2 in range(dot1 + 1, len_s - 2):\n",
    "                for dot3 in range(dot2 + 1, len_s - 1):\n",
    "                    tmp_result = [s[:dot1 + 1], s[dot1 + 1:dot2 + 1], s[dot2 + 1:dot3 + 1], s[dot3 + 1:]]\n",
    "                    calc_flag = True\n",
    "                    for tmp in tmp_result:\n",
    "                        if (len(tmp) > 3) or (len(tmp) > 1 and tmp[0] == '0') or int(tmp) > 255:\n",
    "                            calc_flag = False\n",
    "                            break\n",
    "                    if calc_flag:\n",
    "                        result.append('.'.join(tmp_result))\n",
    "        return result"
   ]
  }
 ],
 "metadata": {
  "kernelspec": {
   "display_name": "Python 3",
   "language": "python",
   "name": "python3"
  },
  "language_info": {
   "codemirror_mode": {
    "name": "ipython",
    "version": 3
   },
   "file_extension": ".py",
   "mimetype": "text/x-python",
   "name": "python",
   "nbconvert_exporter": "python",
   "pygments_lexer": "ipython3",
   "version": "3.8.5"
  }
 },
 "nbformat": 4,
 "nbformat_minor": 4
}
