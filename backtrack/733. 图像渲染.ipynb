{
 "cells": [
  {
   "cell_type": "markdown",
   "metadata": {},
   "source": [
    "### **[LeetCode Link](https://leetcode-cn.com/problems/flood-fill/solution/tu-xiang-xuan-ran-by-leetcode-solution/)**"
   ]
  },
  {
   "cell_type": "markdown",
   "metadata": {},
   "source": [
    "## 广度优先搜索\n",
    "### 思路及算法\n",
    "我们从给定的起点开始，进行广度优先搜索。每次搜索到一个方格时，如果其与初始位置的方格颜色相同，就将该方格加入队列，并将该方格的颜色更新，以防止重复入队。\n",
    "\n",
    ">注意：因为初始位置的颜色会被修改，所以我们需要保存初始位置的颜色，以便于之后的更新操作。\n",
    "\n",
    "### 复杂度分析\n",
    "* 时间复杂度：$O(n\\times m)$，其中 $n$ 和 $m$ 分别是二维数组的行数和列数。最坏情况下需要遍历所有的方格一次。\n",
    "* 空间复杂度：$O(n\\times m)$，其中 $n$ 和 $m$ 分别是二维数组的行数和列数。主要为队列的开销。"
   ]
  },
  {
   "cell_type": "code",
   "execution_count": null,
   "metadata": {},
   "outputs": [],
   "source": [
    "class Solution:\n",
    "    def floodFill(self, image: List[List[int]], sr: int, sc: int, newColor: int) -> List[List[int]]:\n",
    "        cur_color = image[sr][sc]\n",
    "        if cur_color == newColor:\n",
    "            return image\n",
    "\n",
    "        hang = len(image)\n",
    "        lie = len(image[0])\n",
    "        que = collections.deque([(sr, sc)])\n",
    "        image[sr][sc] = newColor\n",
    "        while que:\n",
    "            x, y = que.popleft()\n",
    "            for mx, my in [(x-1, y), (x+1, y), (x, y-1), (x, y+1)]:\n",
    "                if 0 <= mx < hang and 0 <= my < lie and image[mx][my] == cur_color:\n",
    "                    que.append((mx, my))\n",
    "                    image[mx][my] = newColor\n",
    "\n",
    "        return image"
   ]
  },
  {
   "cell_type": "markdown",
   "metadata": {},
   "source": [
    "## 深度优先搜索\n",
    "### 思路及算法\n",
    "我们从给定的起点开始，进行深度优先搜索。每次搜索到一个方格时，如果其与初始位置的方格颜色相同，就将该方格的颜色更新，以防止重复搜索；如果不相同，则进行回溯。\n",
    "\n",
    "> 注意：因为初始位置的颜色会被修改，所以我们需要保存初始位置的颜色，以便于之后的更新操作。\n",
    "\n",
    "### 复杂度分析\n",
    "* 时间复杂度：$O(n\\times m)$，其中 $n$ 和 $m$ 分别是二维数组的行数和列数。最坏情况下需要遍历所有的方格一次。\n",
    "* 空间复杂度：$O(n\\times m)$，其中 $n$ 和 $m$ 分别是二维数组的行数和列数。主要为队列的开销。"
   ]
  },
  {
   "cell_type": "code",
   "execution_count": null,
   "metadata": {},
   "outputs": [],
   "source": [
    "class Solution:\n",
    "    def floodFill(self, image: List[List[int]], sr: int, sc: int, newColor: int) -> List[List[int]]:\n",
    "        n, m = len(image), len(image[0])\n",
    "        currColor = image[sr][sc]\n",
    "\n",
    "        def dfs(x: int, y: int):\n",
    "            if image[x][y] == currColor:\n",
    "                image[x][y] = newColor\n",
    "                for mx, my in [(x - 1, y), (x + 1, y), (x, y - 1), (x, y + 1)]:\n",
    "                    if 0 <= mx < n and 0 <= my < m and image[mx][my] == currColor:\n",
    "                        dfs(mx, my)\n",
    "\n",
    "        if currColor != newColor:\n",
    "            dfs(sr, sc)\n",
    "        return image"
   ]
  }
 ],
 "metadata": {
  "kernelspec": {
   "display_name": "Python 3",
   "language": "python",
   "name": "python3"
  },
  "language_info": {
   "codemirror_mode": {
    "name": "ipython",
    "version": 3
   },
   "file_extension": ".py",
   "mimetype": "text/x-python",
   "name": "python",
   "nbconvert_exporter": "python",
   "pygments_lexer": "ipython3",
   "version": "3.8.5"
  }
 },
 "nbformat": 4,
 "nbformat_minor": 4
}
