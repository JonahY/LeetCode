{
 "cells": [
  {
   "cell_type": "markdown",
   "metadata": {},
   "source": [
    "### **[LeetCode Link](https://leetcode-cn.com/problems/letter-combinations-of-a-phone-number/solution/hui-su-dui-lie-tu-jie-by-ml-zimingmeng/)**"
   ]
  },
  {
   "cell_type": "markdown",
   "metadata": {},
   "source": [
    "## 回溯\n",
    "当题目中出现 “所有组合” 等类似字眼时，我们第一感觉就要想到用回溯。\n",
    "\n",
    "定义函数 `backtrack(combination, nextdigit)`，当 `nextdigit` 非空时，对于 `nextdigit[0]` 中的每一个字母 `letter`，执行回溯 `backtrack(combination + letter,nextdigit[1:]`，直至 `nextdigit` 为空。最后将 `combination` 加入到结果中。\n",
    "\n",
    "### 复杂度分析\n",
    "* 时间复杂度：$O(3^M×4^N)$。$M$ 是对应三个字母的数字个数，$N$ 是对应四个字母的数字个数。\n",
    "* 空间复杂度：$O(3^M×4^N)$。一共要生成 $3^M×4^N$ 个结果。"
   ]
  },
  {
   "cell_type": "code",
   "execution_count": null,
   "metadata": {},
   "outputs": [],
   "source": [
    "class Solution:\n",
    "    def letterCombinations(self, digits: str) -> List[str]:\n",
    "        if not digits: return []\n",
    "        hash = ['', '', 'abc', 'def', 'ghi', 'jkl', 'mno', 'pqrs', 'tuv', 'wxyz']\n",
    "\n",
    "        def backtrack(conbination,nextdigit):\n",
    "            if len(nextdigit) == 0:\n",
    "                res.append(conbination)\n",
    "            else:\n",
    "                for letter in hash[int(nextdigit[0])]:\n",
    "                    backtrack(conbination + letter,nextdigit[1:])\n",
    "\n",
    "        res = []\n",
    "        backtrack('',digits)\n",
    "        return res"
   ]
  },
  {
   "cell_type": "markdown",
   "metadata": {},
   "source": [
    "## 队列\n",
    "我们也可以使用队列，先将输入的 `digits` 中第一个数字对应的每一个字母入队，然后将出队的元素与第二个数字对应的每一个字母组合后入队...直到遍历到 `digits` 的结尾。最后队列中的元素就是所求结果。\n",
    "\n",
    "### 复杂度分析\n",
    "* 时间复杂度：$O(3^M×4^N)$。$M$ 是对应三个字母的数字个数，$N$ 是对应四个字母的数字个数。\n",
    "* 空间复杂度：$O(3^M×4^N)$。一共要生成 $3^M×4^N$ 个结果。"
   ]
  },
  {
   "cell_type": "code",
   "execution_count": null,
   "metadata": {},
   "outputs": [],
   "source": [
    "class Solution:\n",
    "    def letterCombinations(self, digits: str) -> List[str]:\n",
    "        if not digits: return []\n",
    "        phone = ['abc','def','ghi','jkl','mno','pqrs','tuv','wxyz']\n",
    "        queue = ['']  # 初始化队列\n",
    "        for digit in digits:\n",
    "            for _ in range(len(queue)):\n",
    "                tmp = queue.pop(0)\n",
    "                for letter in phone[ord(digit)-50]:# 这里我们不使用 int() 转换字符串，使用ASCII码\n",
    "                    queue.append(tmp + letter)\n",
    "        return queue"
   ]
  }
 ],
 "metadata": {
  "kernelspec": {
   "display_name": "Python 3",
   "language": "python",
   "name": "python3"
  },
  "language_info": {
   "codemirror_mode": {
    "name": "ipython",
    "version": 3
   },
   "file_extension": ".py",
   "mimetype": "text/x-python",
   "name": "python",
   "nbconvert_exporter": "python",
   "pygments_lexer": "ipython3",
   "version": "3.8.5"
  }
 },
 "nbformat": 4,
 "nbformat_minor": 4
}
