{
 "cells": [
  {
   "cell_type": "markdown",
   "metadata": {},
   "source": [
    "### **[LeetCode Link](https://leetcode-cn.com/problems/permutation-sequence/solution/hui-su-jian-zhi-python-dai-ma-java-dai-ma-by-liwei/)**"
   ]
  },
  {
   "cell_type": "markdown",
   "metadata": {},
   "source": [
    "## 有序数组（链表）模拟\n",
    "### 思路分析：\n",
    "* 以 `n = 4，k = 6`，为例，现在确定第 1 个数字填啥。如果第 `k` 个数恰好是后面的数字个数的阶乘，那么第 1 个数字就只能填最小的 1。\n",
    "* 如果 `n = 4，k = 16`，现在确定第 1 个数字填啥。如果 `k` > 后面的数字个数的阶乘。数一数，可以跳过几个阶乘数。\n",
    "\n",
    "### 算法流程设计：\n",
    "* 把候选数放在一个 有序列表 里，从左到右根据「剩下的数的阶乘数」确定每一位填谁，公式 `k` / (后面几位的阶乘数) 的值 恰好等于候选数组的下标；\n",
    "* 选出一个数以后，`k` 就需要减去相应跳过的阶乘数的倍数；\n",
    "已经填好的数需要从候选列表里删除，注意保持列表的有序性（因为排列的定义是按照字典序）；\n",
    "* 由于这里考虑的是下标，第 k 个数，下标为 `k - 1`，一开始的时候，`k - 1`。\n",
    "\n",
    "下面看算法是如何在示例 2 上工作的：\n",
    "![](6.png)\n",
    "\n",
    "### 复杂度分析：\n",
    "* 时间复杂度：$O(N^2)$，这里 $N$ 是数组的长度；\n",
    "* 空间复杂度：$O(N)$。"
   ]
  },
  {
   "cell_type": "code",
   "execution_count": 37,
   "metadata": {
    "ExecuteTime": {
     "end_time": "2020-09-14T09:00:13.049508Z",
     "start_time": "2020-09-14T09:00:13.039562Z"
    }
   },
   "outputs": [],
   "source": [
    "class Solution:\n",
    "    def getPermutation(self, n: int, k: int) -> str:\n",
    "        factorial = [1, 1]\n",
    "        for i in range(2, n+1):\n",
    "            factorial.append(factorial[-1]*i)\n",
    "\n",
    "        nums, k, res = list(range(1, n+1)), k-1, \"\"\n",
    "        for i in range(len(nums)-1, -1, -1):\n",
    "            res += str(nums[k // factorial[i]])\n",
    "            del nums[k // factorial[i]]\n",
    "            k %= factorial[i] # 用除法加快这一步骤\n",
    "        return res"
   ]
  },
  {
   "cell_type": "markdown",
   "metadata": {},
   "source": [
    "## 回溯搜索算法 + 剪枝 ，直接来到叶子结点\n",
    "### 思路分析：\n",
    "容易想到，使用同「力扣」第 46 题： 全排列 的回溯搜索算法，依次得到全排列，输出第 $k$ 个全排列即可。事实上，我们不必求出所有的全排列。\n",
    "\n",
    "基于以下几点考虑：\n",
    "* 所求排列 一定在叶子结点处得到，进入每一个分支，可以根据已经选定的数的个数，进而计算还未选定的数的个数，然后计算阶乘，就知道这一个分支的 叶子结点 的个数：\n",
    " * 如果 $k$ 大于这一个分支将要产生的叶子结点数，直接跳过这个分支，这个操作叫「剪枝」；\n",
    " * 如果 $k$ 小于等于这一个分支将要产生的叶子结点数，那说明所求的全排列一定在这一个分支将要产生的叶子结点里，需要递归求解。\n",
    "\n",
    "![](7.png)\n",
    "\n",
    "### 复杂度分析：\n",
    "* 时间复杂度：$O({N^2})$；\n",
    "* 空间复杂度：$O(N)$，`nums`、`used`、`path` 都与 $N$ 等长，`factorial` 数组就 $10$ 个数，是常数级别的。"
   ]
  },
  {
   "cell_type": "code",
   "execution_count": null,
   "metadata": {},
   "outputs": [],
   "source": [
    "class Solution:\n",
    "    def getPermutation(self, n: int, k: int) -> str:\n",
    "        def dfs(n, k, index, path):\n",
    "            if index == n:\n",
    "                return\n",
    "            cnt = factorial[n - 1 - index]\n",
    "            for i in range(1, n + 1):\n",
    "                if used[i]:\n",
    "                    continue\n",
    "                if cnt < k:\n",
    "                    k -= cnt\n",
    "                    continue\n",
    "                path.append(i)\n",
    "                used[i] = True\n",
    "                dfs(n, k, index + 1, path)\n",
    "                # 注意：这里要加 return，后面的数没有必要遍历去尝试了\n",
    "                return\n",
    "\n",
    "        if n == 0:\n",
    "            return \"\"\n",
    "\n",
    "        used = [False for _ in range(n + 1)]\n",
    "        path = []\n",
    "        factorial = [1 for _ in range(n + 1)]\n",
    "        for i in range(2, n + 1):\n",
    "            factorial[i] = factorial[i - 1] * i\n",
    "\n",
    "        dfs(n, k, 0, path)\n",
    "        return ''.join([str(num) for num in path])"
   ]
  }
 ],
 "metadata": {
  "kernelspec": {
   "display_name": "Python 3",
   "language": "python",
   "name": "python3"
  },
  "language_info": {
   "codemirror_mode": {
    "name": "ipython",
    "version": 3
   },
   "file_extension": ".py",
   "mimetype": "text/x-python",
   "name": "python",
   "nbconvert_exporter": "python",
   "pygments_lexer": "ipython3",
   "version": "3.8.5"
  }
 },
 "nbformat": 4,
 "nbformat_minor": 4
}
