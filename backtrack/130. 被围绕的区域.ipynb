{
 "cells": [
  {
   "cell_type": "markdown",
   "metadata": {},
   "source": [
    "### **[LeetCode Link](https://leetcode-cn.com/problems/surrounded-regions/solution/bei-wei-rao-de-qu-yu-by-leetcode-solution/)**"
   ]
  },
  {
   "cell_type": "markdown",
   "metadata": {},
   "source": [
    "## 深度优先搜索\n",
    "### 思路及解法\n",
    "我们可以使用深度优先搜索实现标记操作。在下面的代码中，我们把标记过的字母 O 修改为字母 A。\n",
    "### 复杂度分析\n",
    "* 时间复杂度：$O(n \\times m)$，其中 $n$ 和 $m$ 分别为矩阵的行数和列数。深度优先搜索过程中，每一个点至多只会被标记一次。\n",
    "* 空间复杂度：$O(n \\times m)$，其中 $n$ 和 $m$ 分别为矩阵的行数和列数。主要为深度优先搜索的栈的开销。"
   ]
  },
  {
   "cell_type": "code",
   "execution_count": null,
   "metadata": {},
   "outputs": [],
   "source": [
    "class Solution:\n",
    "    def solve(self, board: List[List[str]]) -> None:\n",
    "        if not board:\n",
    "            return\n",
    "        \n",
    "        n, m = len(board), len(board[0])\n",
    "\n",
    "        def dfs(x, y):\n",
    "            if not 0 <= x < n or not 0 <= y < m or board[x][y] != 'O':\n",
    "                return\n",
    "            \n",
    "            board[x][y] = \"A\"\n",
    "            dfs(x + 1, y)\n",
    "            dfs(x - 1, y)\n",
    "            dfs(x, y + 1)\n",
    "            dfs(x, y - 1)\n",
    "        \n",
    "        for i in range(n):\n",
    "            dfs(i, 0)\n",
    "            dfs(i, m - 1)\n",
    "        \n",
    "        for i in range(m - 1):\n",
    "            dfs(0, i)\n",
    "            dfs(n - 1, i)\n",
    "        \n",
    "        for i in range(n):\n",
    "            for j in range(m):\n",
    "                if board[i][j] == \"A\":\n",
    "                    board[i][j] = \"O\"\n",
    "                elif board[i][j] == \"O\":\n",
    "                    board[i][j] = \"X\""
   ]
  },
  {
   "cell_type": "markdown",
   "metadata": {},
   "source": [
    "## 广度优先搜索\n",
    "### 思路及解法\n",
    "我们可以使用广度优先搜索实现标记操作。在下面的代码中，我们把标记过的字母 O 修改为字母 A。\n",
    "### 复杂度分析\n",
    "* 时间复杂度：$O(n \\times m)$，其中 $n$ 和 $m$ 分别为矩阵的行数和列数。深度优先搜索过程中，每一个点至多只会被标记一次。\n",
    "* 空间复杂度：$O(n \\times m)$，其中 $n$ 和 $m$ 分别为矩阵的行数和列数。主要为深度优先搜索的栈的开销。"
   ]
  },
  {
   "cell_type": "code",
   "execution_count": null,
   "metadata": {},
   "outputs": [],
   "source": [
    "class Solution:\n",
    "    def solve(self, board: List[List[str]]) -> None:\n",
    "        if not board:\n",
    "            return\n",
    "        \n",
    "        n, m = len(board), len(board[0])\n",
    "        que = collections.deque()\n",
    "        for i in range(n):\n",
    "            if board[i][0] == \"O\":\n",
    "                que.append((i, 0))\n",
    "            if board[i][m - 1] == \"O\":\n",
    "                que.append((i, m - 1))\n",
    "        for i in range(m - 1):\n",
    "            if board[0][i] == \"O\":\n",
    "                que.append((0, i))\n",
    "            if board[n - 1][i] == \"O\":\n",
    "                que.append((n - 1, i))\n",
    "        \n",
    "        while que:\n",
    "            x, y = que.popleft()\n",
    "            board[x][y] = \"A\"\n",
    "            for mx, my in [(x - 1, y), (x + 1, y), (x, y - 1), (x, y + 1)]:\n",
    "                if 0 <= mx < n and 0 <= my < m and board[mx][my] == \"O\":\n",
    "                    que.append((mx, my))\n",
    "        \n",
    "        for i in range(n):\n",
    "            for j in range(m):\n",
    "                if board[i][j] == \"A\":\n",
    "                    board[i][j] = \"O\"\n",
    "                elif board[i][j] == \"O\":\n",
    "                    board[i][j] = \"X\""
   ]
  },
  {
   "cell_type": "markdown",
   "metadata": {},
   "source": [
    "## 并查集\n",
    "并查集的思想就是，同一个连通区域内的所有点的根节点是同一个。将每个点映射成一个数字。先假设每个点的根节点就是他们自己，然后我们以此输入连通的点对，然后将其中一个点的根节点赋成另一个节点的根节点，这样这两个点所在连通区域又相互连通了。\n",
    "\n",
    "并查集的主要操作有：\n",
    "* `find(m: int)`：这是并查集的基本操作，查找m的根节点。\n",
    "* `union(m: int, n: int)`：合并m和n两个点所在的连通区域。\n",
    "\n",
    "按照上面的思路，我们把所有在边界上的O放在一个连通区域，不在边界上的O放在另一个连通区域。"
   ]
  },
  {
   "cell_type": "code",
   "execution_count": null,
   "metadata": {},
   "outputs": [],
   "source": [
    "class Solution:\n",
    "    def solve(self, board: List[List[str]]) -> None:\n",
    "        \"\"\"\n",
    "        Do not return anything, modify board in-place instead.\n",
    "        \"\"\"\n",
    "        f = {}\n",
    "        def find(x):\n",
    "            f.setdefault(x, x)\n",
    "            if f[x] != x:\n",
    "                f[x] = find(f[x])\n",
    "            return f[x]\n",
    "        def union(x, y):\n",
    "            f[find(y)] = find(x)\n",
    "\n",
    "            \n",
    "            \n",
    "        if not board or not board[0]:\n",
    "            return\n",
    "        row = len(board)\n",
    "        col = len(board[0])\n",
    "        dummy = row * col\n",
    "        for i in range(row):\n",
    "            for j in range(col):\n",
    "                if board[i][j] == \"O\":\n",
    "                    if i == 0 or i == row - 1 or j == 0 or j == col - 1:\n",
    "                        union(i * col + j, dummy)\n",
    "                    else:\n",
    "                        for x, y in [(-1, 0), (1, 0), (0, -1), (0, 1)]:\n",
    "                            if board[i + x][j + y] == \"O\":\n",
    "                                union(i * col + j, (i + x) * col + (j + y))\n",
    "        for i in range(row):\n",
    "            for j in range(col):\n",
    "                if find(dummy) == find(i * col + j):\n",
    "                    board[i][j] = \"O\"\n",
    "                else:\n",
    "                    board[i][j] = \"X\""
   ]
  }
 ],
 "metadata": {
  "kernelspec": {
   "display_name": "Python 3",
   "language": "python",
   "name": "python3"
  },
  "language_info": {
   "codemirror_mode": {
    "name": "ipython",
    "version": 3
   },
   "file_extension": ".py",
   "mimetype": "text/x-python",
   "name": "python",
   "nbconvert_exporter": "python",
   "pygments_lexer": "ipython3",
   "version": "3.8.5"
  }
 },
 "nbformat": 4,
 "nbformat_minor": 4
}
