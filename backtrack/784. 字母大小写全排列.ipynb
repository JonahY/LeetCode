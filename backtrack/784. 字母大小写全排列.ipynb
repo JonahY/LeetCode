{
 "cells": [
  {
   "cell_type": "markdown",
   "metadata": {},
   "source": [
    "### **[LeetCode Link](https://leetcode-cn.com/problems/letter-case-permutation/solution/zi-mu-da-xiao-xie-quan-pai-lie-by-leetcode/)**"
   ]
  },
  {
   "cell_type": "markdown",
   "metadata": {},
   "source": [
    "## 回溯\n",
    "### 技巧：\n",
    "使用异或运算转换字母大小写\n",
    "![](1.png)\n",
    "（中间省略）\n",
    "![](2.png)\n",
    "\n",
    "我们发现大写字符与其对应的小写字符的 ASCII 的差为 32，32 这个值如果敏感的话，它是 $2^5$ ，在编程语言中，可以表示为 `1 << 5`。而\n",
    "\n",
    "变换大小写这件事等价于：\n",
    "1. 如果字符是小写字符，减去 32 得到大写字符；\n",
    "2. 如果字符是大写字符，加上 32 得到小写字符。\n",
    "\n",
    "而这两者合并起来，就是给这个字符做一次不进位的加法，即异或上 `1 << 5`。\n",
    "\n",
    "### 复杂度分析\n",
    "* 时间复杂度：$O(2^{N} \\times N)$，其中 $N$ 是 `S` 的长度。\n",
    "* 空间复杂度：$O(2^{N} \\times N)$。"
   ]
  },
  {
   "cell_type": "code",
   "execution_count": null,
   "metadata": {
    "ExecuteTime": {
     "end_time": "2020-09-16T00:53:47.885753Z",
     "start_time": "2020-09-16T00:53:47.836201Z"
    }
   },
   "outputs": [],
   "source": [
    "class Solution:\n",
    "    def letterCasePermutation(self, S: str) -> List[str]:\n",
    "        if not S: return []\n",
    "        num = [str(i) for i in range(10)]\n",
    "        res = []\n",
    "\n",
    "        def backtrack(idx, tmp):\n",
    "            if idx == len(S):\n",
    "                return res.append(tmp)\n",
    "            if S[idx] in num:\n",
    "                backtrack(idx + 1, tmp + S[idx])\n",
    "            else:\n",
    "                backtrack(idx + 1, tmp + S[idx].lower())\n",
    "                backtrack(idx + 1, tmp + S[idx].upper())\n",
    "        \n",
    "        backtrack(0, '')\n",
    "\n",
    "        return res"
   ]
  },
  {
   "cell_type": "markdown",
   "metadata": {},
   "source": [
    "## 内置函数库\n",
    "### 思路和算法\n",
    "集合的笛卡尔乘积是从所有集合中选择每种可能的组合。例如 `{1, 2 } x {a, b, c} = {1a, 1b, 1c, 2a, 2b, 2c}`。\n",
    "\n",
    "对于具有内置函数来计算笛卡尔积的语言，可以直接调用内置函数减少工作量。\n",
    "\n",
    "### 复杂度分析\n",
    "* 时间和空间复杂度：$O(2^{N} \\times N)$，其中 $N$ 是 `S` 的长度。"
   ]
  },
  {
   "cell_type": "code",
   "execution_count": null,
   "metadata": {},
   "outputs": [],
   "source": [
    "class Solution(object):\n",
    "    def letterCasePermutation(self, S):\n",
    "        f = lambda x: (x.lower(), x.upper()) if x.isalpha() else x\n",
    "        return map(\"\".join, itertools.product(*map(f, S)))"
   ]
  }
 ],
 "metadata": {
  "kernelspec": {
   "display_name": "Python 3",
   "language": "python",
   "name": "python3"
  },
  "language_info": {
   "codemirror_mode": {
    "name": "ipython",
    "version": 3
   },
   "file_extension": ".py",
   "mimetype": "text/x-python",
   "name": "python",
   "nbconvert_exporter": "python",
   "pygments_lexer": "ipython3",
   "version": "3.8.5"
  }
 },
 "nbformat": 4,
 "nbformat_minor": 4
}
