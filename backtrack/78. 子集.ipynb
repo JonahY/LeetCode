{
 "cells": [
  {
   "cell_type": "markdown",
   "metadata": {},
   "source": [
    "### **[LeetCode Link](https://leetcode-cn.com/problems/subsets/solution/zi-ji-by-leetcode/)**"
   ]
  },
  {
   "cell_type": "markdown",
   "metadata": {},
   "source": [
    "## 递归\n",
    "### 思路\n",
    "开始假设输出子集为空，每一步都向子集添加新的整数，并生成新的子集。\n",
    "![](3.png)\n",
    "\n",
    "### 复杂度分析\n",
    "* 时间复杂度：$\\mathcal{O}(N \\times 2^N)$，生成所有子集，并复制到输出结果中。\n",
    "* 空间复杂度：$\\mathcal{O}(N \\times 2^N)$，这是子集的数量。\n",
    " * 对于给定的任意元素，它在子集中有两种情况，存在或者不存在（对应二进制中的 0 和 1）。因此，$N$ 个数字共有 $2^N$ 个子集。"
   ]
  },
  {
   "cell_type": "code",
   "execution_count": null,
   "metadata": {},
   "outputs": [],
   "source": [
    "class Solution:\n",
    "    def subsets(self, nums: List[int]) -> List[List[int]]:\n",
    "        res = [[]]\n",
    "        for i in nums:\n",
    "            res = res + [[i] + num for num in res]\n",
    "        return res"
   ]
  },
  {
   "cell_type": "markdown",
   "metadata": {},
   "source": [
    "## 回溯\n",
    "### 算法\n",
    "> 幂集是所有长度从 0 到 n 所有子集的组合。\n",
    "\n",
    "根据定义，该问题可以看作是从序列中生成幂集。\n",
    "\n",
    "遍历 ***子集长度***，通过 ***回溯*** 生成所有给定长度的子集。\n",
    "![](4.png)\n",
    "\n",
    "### 复杂度分析\n",
    "* 时间复杂度：$\\mathcal{O}(N \\times 2^N)$，生成所有子集，并复制到输出结果中。\n",
    "* 空间复杂度：$\\mathcal{O}(N \\times 2^N)$，存储所有子集，共 $n$ 个元素，每个元素都有可能存在或者不存在。"
   ]
  },
  {
   "cell_type": "code",
   "execution_count": null,
   "metadata": {},
   "outputs": [],
   "source": [
    "class Solution:\n",
    "    def subsets(self, nums: List[int]) -> List[List[int]]:\n",
    "        res = []\n",
    "        n = len(nums)\n",
    "        \n",
    "        def helper(i, tmp):\n",
    "            res.append(tmp)\n",
    "            for j in range(i, n):\n",
    "                helper(j + 1,tmp + [nums[j]] )\n",
    "        helper(0, [])\n",
    "        return res"
   ]
  },
  {
   "cell_type": "markdown",
   "metadata": {},
   "source": [
    "## 库函数"
   ]
  },
  {
   "cell_type": "code",
   "execution_count": null,
   "metadata": {},
   "outputs": [],
   "source": [
    "class Solution:\n",
    "    def subsets(self, nums: List[int]) -> List[List[int]]:\n",
    "        res = []\n",
    "        for i in range(len(nums)+1):\n",
    "            for tmp in itertools.combinations(nums, i):\n",
    "                res.append(tmp)\n",
    "        return res"
   ]
  },
  {
   "cell_type": "markdown",
   "metadata": {},
   "source": [
    "## 字典排序（二进制排序） 子集\n",
    "### 思路\n",
    "该方法思路来自于 Donald E. Knuth。\n",
    "> 将每个子集映射到长度为 n 的位掩码中，其中第 i 位掩码 nums[i] 为 1，表示第 i 个元素在子集中；如果第 i 位掩码 nums[i] 为 0，表示第 i 个元素不在子集中。\n",
    "\n",
    "![](5.png)\n",
    "\n",
    "### 算法\n",
    "* 生成所有长度为 n 的二进制位掩码。\n",
    "* 将每个子集都映射到一个位掩码数：位掩码中第 i 位如果是 1 表示子集中存在 nums[i]，0 表示子集中不存在 nums[i]。\n",
    "* 返回子集列表。\n",
    "\n",
    "### 复杂度分析\n",
    "* 时间复杂度：$\\mathcal{O}(N \\times 2^N)$，生成所有子集，并复制到输出结果中。\n",
    "* 空间复杂度：$\\mathcal{O}(N \\times 2^N)$，存储所有子集，共 $n$ 个元素，每个元素都有可能存在或者不存在。"
   ]
  },
  {
   "cell_type": "code",
   "execution_count": null,
   "metadata": {
    "ExecuteTime": {
     "end_time": "2020-09-14T07:33:59.898712Z",
     "start_time": "2020-09-14T07:33:59.891731Z"
    }
   },
   "outputs": [],
   "source": [
    "class Solution:\n",
    "    def subsets(self, nums: List[int]) -> List[List[int]]:\n",
    "        n = len(nums)\n",
    "        output = []\n",
    "        \n",
    "        for i in range(2**n, 2**(n + 1)):\n",
    "            # generate bitmask, from 0..00 to 1..11\n",
    "            bitmask = bin(i)[3:]\n",
    "            \n",
    "            # append subset corresponding to that bitmask\n",
    "            output.append([nums[j] for j in range(n) if bitmask[j] == '1'])\n",
    "        \n",
    "        return output"
   ]
  }
 ],
 "metadata": {
  "kernelspec": {
   "display_name": "Python 3",
   "language": "python",
   "name": "python3"
  },
  "language_info": {
   "codemirror_mode": {
    "name": "ipython",
    "version": 3
   },
   "file_extension": ".py",
   "mimetype": "text/x-python",
   "name": "python",
   "nbconvert_exporter": "python",
   "pygments_lexer": "ipython3",
   "version": "3.8.5"
  }
 },
 "nbformat": 4,
 "nbformat_minor": 4
}
