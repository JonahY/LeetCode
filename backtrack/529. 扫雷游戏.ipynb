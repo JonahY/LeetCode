{
 "cells": [
  {
   "cell_type": "markdown",
   "metadata": {},
   "source": [
    "### **[LeetCode Link](https://leetcode-cn.com/problems/minesweeper/solution/sao-lei-you-xi-by-leetcode-solution/)**"
   ]
  },
  {
   "cell_type": "markdown",
   "metadata": {},
   "source": [
    "## 深度优先搜索 + 模拟\n",
    "### 思路与算法\n",
    "着眼于题目的规则，会发现总共分两种情况：\n",
    "1. 当前点击的是「未挖出的地雷」，我们将其值改为 $\\text{X}$ 即可。\n",
    "2. 当前点击的是「未挖出的空方块」，我们需要统计它周围相邻的方块里地雷的数量 $\\textit{cnt}$（即 $\\text{M}$ 的数量）。如果 $\\textit{cnt}$ 为零，即执行规则 $2$，此时需要将其改为 $\\text{B}$，且递归地处理周围的八个未挖出的方块，递归终止条件即为规则 $4$，没有更多方块可被揭露的时候。否则执行规则 $3$，将其修改为数字即可。\n",
    "\n",
    "整体看来，一次点击过程会从一个位置出发，逐渐向外圈扩散，所以这引导我们利用「搜索」的方式来实现。这里以深度优先搜索为例：我们定义递归函数 `dfs(x, y)` 表示当前在 $(x,y)$ 点，执行扫雷规则的情况，我们只要按照上面理出来的情况来进行模拟即可，在 $\\textit{cnt}$ 为零的时候，对当前点相邻的未挖出的方块调用递归函数，否则将其改为数字，结束递归。\n",
    "\n",
    "### 复杂度分析\n",
    "* 时间复杂度：$O(nm)$，其中 $n$ 和 $m$ 分别代表面板的宽和高。最坏情况下会遍历整个面板。\n",
    "* 空间复杂度：$O(nm)$。空间复杂度取决于递归的栈深度，而递归栈深度在最坏情况下有可能遍历整个面板而达到 $O(nm)$。"
   ]
  },
  {
   "cell_type": "code",
   "execution_count": null,
   "metadata": {},
   "outputs": [],
   "source": [
    "class Solution:\n",
    "    def updateBoard(self, board: List[List[str]], click: List[int]) -> List[List[str]]:\n",
    "        #准备) \n",
    "        click_i, click_j = click[0], click[1]\n",
    "        direction = ((-1,-1),(0,-1),(1,-1),(-1,0),(1,0),(-1,1),(0,1),(1,1)) #定义方向\n",
    "        self.m, self.n = len(board), len(board[0]) #列数可以通过取board中第一个元素的长度来获得\n",
    "        \n",
    "        #1) 当用户click后，首先判断是否这格是地雷\n",
    "        if board[click_i][click_j] == 'M':\n",
    "            board[click_i][click_j] = 'X'\n",
    "            return board\n",
    "        \n",
    "        #2) 只要click的不是地雷，我们需要用dfs对点击的这一格周围进行搜索。\n",
    "        # 判断某一格周围的格子的状态\n",
    "        def check(i,j):\n",
    "            c = 0 #周围雷数的计数器\n",
    "            for x, y in direction:\n",
    "                x = x + i\n",
    "                y = y + j\n",
    "                if 0<=x<self.m and 0<=y<self.n and board[x][y]=='M':\n",
    "                    c = c + 1\n",
    "            return c\n",
    "        # 深度遍历\n",
    "        def deepfirstsearch(i,j):\n",
    "            num = check(i,j)#周围雷数\n",
    "            #这时如果周围check出来有雷则不再继续进行搜索，并改写该格为数字\n",
    "            if num!=0:\n",
    "                board[i][j] = str(num)\n",
    "            #只有当num为0的时候会继续搜索周围,翻开未揭示的'E'\n",
    "            else:\n",
    "                board[i][j] = 'B'\n",
    "                for x,y in direction:\n",
    "                    x = x + i\n",
    "                    y = y + j\n",
    "                    if 0<=x<self.m and 0<=y<self.n and board[x][y]=='E':\n",
    "                        deepfirstsearch(x,y)\n",
    "\n",
    "        deepfirstsearch(click_i,click_j)\n",
    "        #3) 返回board\n",
    "        return board"
   ]
  },
  {
   "cell_type": "markdown",
   "metadata": {},
   "source": [
    "## 广度优先搜索 + 模拟\n",
    "### 思路与算法\n",
    "同样地，我们也可以将深度优先搜索改为广度优先搜索来模拟，我们只要在$\\textit{cnt}$ 为零的时候，将当前点相邻的未挖出的方块加入广度优先搜索的队列里即可，其他情况不加入队列，这里不再赘述。\n",
    "\n",
    "### 复杂度分析\n",
    "* 时间复杂度：$O(nm)$，其中 $n$ 和 $m$ 分别代表面板的宽和高。最坏情况下会遍历整个面板。\n",
    "* 空间复杂度：$O(nm)$。我们需要 $O(nm)$ 的标记数组来标记当前位置是否已经被加入队列防止重复计算。"
   ]
  },
  {
   "cell_type": "code",
   "execution_count": null,
   "metadata": {},
   "outputs": [],
   "source": []
  }
 ],
 "metadata": {
  "kernelspec": {
   "display_name": "Python 3",
   "language": "python",
   "name": "python3"
  },
  "language_info": {
   "codemirror_mode": {
    "name": "ipython",
    "version": 3
   },
   "file_extension": ".py",
   "mimetype": "text/x-python",
   "name": "python",
   "nbconvert_exporter": "python",
   "pygments_lexer": "ipython3",
   "version": "3.8.5"
  }
 },
 "nbformat": 4,
 "nbformat_minor": 4
}
