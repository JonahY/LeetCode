{
 "cells": [
  {
   "cell_type": "markdown",
   "metadata": {},
   "source": [
    "### **[LeetCode Link](https://leetcode-cn.com/problems/n-queens/solution/gen-ju-di-46-ti-quan-pai-lie-de-hui-su-suan-fa-si-/)**"
   ]
  },
  {
   "cell_type": "markdown",
   "metadata": {},
   "source": [
    "## 回溯搜索算法（深度优先遍历）\n",
    "### 解题思路：\n",
    "一句话题解：回溯算法是一种遍历算法，以 **深度优先遍历** 的方式尝试所有的可能性。回溯算法是 **有方向地** 搜索，区别于多层循环实现的暴力法。\n",
    "### 考虑对角线（找规律）\n",
    "![](1.png)\n",
    "为了保证至少两个皇后不同时出现在 **同一主对角线方向** 或者 **同一副对角线方向**。检查策略是，只要「检测」到新摆放的「皇后」与已经摆放好的「皇后」冲突，就尝试摆放同一行的下一个位置，到行尾还不能放置皇后，**就退回到上一行。**\n",
    "### 复杂度分析\n",
    "* 时间复杂度：$O(N!)$，其中 $N$ 是皇后数量。\n",
    "* 空间复杂度：$O(N)$，其中 $N$ 是皇后数量。空间复杂度主要取决于递归调用层数、记录每行放置的皇后的列下标的数组以及三个集合，递归调用层数不会超过 $N$，数组的长度为 NN，每个集合的元素个数都不会超过 $N$。"
   ]
  },
  {
   "cell_type": "code",
   "execution_count": null,
   "metadata": {
    "ExecuteTime": {
     "end_time": "2020-09-17T01:34:42.353974Z",
     "start_time": "2020-09-17T01:34:42.335014Z"
    }
   },
   "outputs": [],
   "source": [
    "class Solution:\n",
    "    def solveNQueens(self, n: int) -> List[List[str]]:\n",
    "        diagonal = collections.defaultdict(list)\n",
    "        res = []\n",
    "        column = set()\n",
    "        main_diagonal = set()\n",
    "        sub_diagonal = set()\n",
    "\n",
    "        def backtrack(x, y, count):\n",
    "            if x in diagonal['row'] or y in diagonal['column'] or visited[x][y] == 'Q':\n",
    "                return \n",
    "            visited[x] = visited[x][:y] + 'Q' + visited[x][y+1:]\n",
    "            column.add(y)\n",
    "            main_diagonal.add(x - y)\n",
    "            sub_diagonal.add(x + y)\n",
    "            if count == n-1:\n",
    "                res.append(visited[:])\n",
    "            for i in range(n):\n",
    "                if i in column or x + 1 - i in main_diagonal or x + 1 + i in sub_diagonal:\n",
    "                    continue\n",
    "                backtrack(x + 1, i, count + 1)\n",
    "            visited[x] = visited[x][:y] + '.' + visited[x][y+1:]\n",
    "            column.remove(y)\n",
    "            main_diagonal.remove(x - y)\n",
    "            sub_diagonal.remove(x + y)\n",
    "\n",
    "        for i in range(n):\n",
    "            visited = ['.' * n] * n\n",
    "            backtrack(0, i, 0)\n",
    "        return res"
   ]
  },
  {
   "cell_type": "markdown",
   "metadata": {},
   "source": [
    "### **[LeetCode Link](https://leetcode-cn.com/problems/n-queens-ii/solution/dfs-wei-yun-suan-jian-zhi-by-makeex/275321)**"
   ]
  },
  {
   "cell_type": "markdown",
   "metadata": {},
   "source": [
    "## 使用 bitmap 回溯\n",
    "### 核心思路：\n",
    "* 使用常规深度优先一层层搜索\n",
    "* 使用三个整形分别标记每一层哪些格子可以放置皇后，这三个整形分别代表列、左斜下、右斜下`(_col, ld, rd_)`，二进制位为 1 代表不能放置，0 代表可以放置\n",
    "* 核心两个位运算：\n",
    " 1. x & -x 代表除最后一位 1 保留，其它位全部为 0\n",
    " 2. x & (x - 1) 代表将最后一位 1 变成 0\n",
    " \n",
    "### 复杂度分析\n",
    "* 时间复杂度：$\\mathcal{O}(N!)$.\n",
    "* 空间复杂度：$\\mathcal{O}(N)$."
   ]
  },
  {
   "cell_type": "code",
   "execution_count": 70,
   "metadata": {
    "ExecuteTime": {
     "end_time": "2020-09-22T03:04:44.832997Z",
     "start_time": "2020-09-22T03:04:44.817066Z"
    }
   },
   "outputs": [],
   "source": [
    "class Solution:\n",
    "    def totalNQueens(self, n: int) -> int:\n",
    "        \"\"\"\n",
    "        :type n: int\n",
    "        :rtype: int\n",
    "        \"\"\"\n",
    "        def backtrack(row = 0, hills = 0, next_row = 0, dales = 0, count = 0):\n",
    "            \"\"\"\n",
    "            :type row: 当前放置皇后的行号\n",
    "            :type hills: 主对角线占据情况 [1 = 被占据，0 = 未被占据]\n",
    "            :type next_row: 下一行被占据的情况 [1 = 被占据，0 = 未被占据]\n",
    "            :type dales: 次对角线占据情况 [1 = 被占据，0 = 未被占据]\n",
    "            :rtype: 所有可行解的个数\n",
    "            \"\"\"\n",
    "            if row == n:  # 如果已经放置了 n 个皇后\n",
    "                count += 1  # 累加可行解\n",
    "            else:\n",
    "                # 当前行可用的列\n",
    "                # ! 表示 0 和 1 的含义对于变量 hills, next_row and dales的含义是相反的\n",
    "                # [1 = 未被占据，0 = 被占据]\n",
    "                free_columns = columns & ~(hills | next_row | dales)\n",
    "                # 找到可以放置下一个皇后的列\n",
    "                while free_columns:\n",
    "                    # free_columns 的第一个为 '1' 的位\n",
    "                    # 在该列我们放置当前皇后\n",
    "                    curr_column = - free_columns & free_columns\n",
    "\n",
    "                    # 放置皇后\n",
    "                    # 并且排除对应的列\n",
    "                    free_columns ^= curr_column\n",
    "\n",
    "                    count = backtrack(row + 1, \n",
    "                                    (hills | curr_column) << 1, \n",
    "                                    next_row | curr_column, \n",
    "                                    (dales | curr_column) >> 1, \n",
    "                                    count)\n",
    "            return count\n",
    "\n",
    "        # 棋盘所有的列都可放置，\n",
    "        # 即，按位表示为 n 个 '1'\n",
    "        # bin(cols) = 0b1111 (n = 4), bin(cols) = 0b111 (n = 3)\n",
    "        # [1 = 可放置]\n",
    "        columns = (1 << n) - 1\n",
    "        return backtrack()"
   ]
  }
 ],
 "metadata": {
  "kernelspec": {
   "display_name": "Python 3",
   "language": "python",
   "name": "python3"
  },
  "language_info": {
   "codemirror_mode": {
    "name": "ipython",
    "version": 3
   },
   "file_extension": ".py",
   "mimetype": "text/x-python",
   "name": "python",
   "nbconvert_exporter": "python",
   "pygments_lexer": "ipython3",
   "version": "3.8.5"
  }
 },
 "nbformat": 4,
 "nbformat_minor": 4
}
