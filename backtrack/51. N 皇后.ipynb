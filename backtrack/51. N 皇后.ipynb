{
 "cells": [
  {
   "cell_type": "markdown",
   "metadata": {},
   "source": [
    "### **[LeetCode Link](https://leetcode-cn.com/problems/n-queens/solution/gen-ju-di-46-ti-quan-pai-lie-de-hui-su-suan-fa-si-/)**"
   ]
  },
  {
   "cell_type": "markdown",
   "metadata": {},
   "source": [
    "## 回溯搜索算法（深度优先遍历）\n",
    "### 解题思路：\n",
    "一句话题解：回溯算法是一种遍历算法，以 **深度优先遍历** 的方式尝试所有的可能性。回溯算法是 **有方向地** 搜索，区别于多层循环实现的暴力法。\n",
    "### 考虑对角线（找规律）\n",
    "![](1.png)\n",
    "为了保证至少两个皇后不同时出现在 **同一主对角线方向** 或者 **同一副对角线方向**。检查策略是，只要「检测」到新摆放的「皇后」与已经摆放好的「皇后」冲突，就尝试摆放同一行的下一个位置，到行尾还不能放置皇后，**就退回到上一行。**\n",
    "### 复杂度分析\n",
    "* 时间复杂度：$O(N!)$，其中 $N$ 是皇后数量。\n",
    "* 空间复杂度：$O(N)$，其中 $N$ 是皇后数量。空间复杂度主要取决于递归调用层数、记录每行放置的皇后的列下标的数组以及三个集合，递归调用层数不会超过 $N$，数组的长度为 NN，每个集合的元素个数都不会超过 $N$。"
   ]
  },
  {
   "cell_type": "code",
   "execution_count": null,
   "metadata": {
    "ExecuteTime": {
     "end_time": "2020-09-17T01:34:42.353974Z",
     "start_time": "2020-09-17T01:34:42.335014Z"
    }
   },
   "outputs": [],
   "source": [
    "class Solution:\n",
    "    def solveNQueens(self, n: int) -> List[List[str]]:\n",
    "        diagonal = collections.defaultdict(list)\n",
    "        res = []\n",
    "        column = set()\n",
    "        main_diagonal = set()\n",
    "        sub_diagonal = set()\n",
    "\n",
    "        def backtrack(x, y, count):\n",
    "            if x in diagonal['row'] or y in diagonal['column'] or visited[x][y] == 'Q':\n",
    "                return \n",
    "            visited[x] = visited[x][:y] + 'Q' + visited[x][y+1:]\n",
    "            column.add(y)\n",
    "            main_diagonal.add(x - y)\n",
    "            sub_diagonal.add(x + y)\n",
    "            if count == n-1:\n",
    "                res.append(visited[:])\n",
    "            for i in range(n):\n",
    "                if i in column or x + 1 - i in main_diagonal or x + 1 + i in sub_diagonal:\n",
    "                    continue\n",
    "                backtrack(x + 1, i, count + 1)\n",
    "            visited[x] = visited[x][:y] + '.' + visited[x][y+1:]\n",
    "            column.remove(y)\n",
    "            main_diagonal.remove(x - y)\n",
    "            sub_diagonal.remove(x + y)\n",
    "\n",
    "        for i in range(n):\n",
    "            visited = ['.' * n] * n\n",
    "            backtrack(0, i, 0)\n",
    "        return res"
   ]
  }
 ],
 "metadata": {
  "kernelspec": {
   "display_name": "Python 3",
   "language": "python",
   "name": "python3"
  },
  "language_info": {
   "codemirror_mode": {
    "name": "ipython",
    "version": 3
   },
   "file_extension": ".py",
   "mimetype": "text/x-python",
   "name": "python",
   "nbconvert_exporter": "python",
   "pygments_lexer": "ipython3",
   "version": "3.8.5"
  }
 },
 "nbformat": 4,
 "nbformat_minor": 4
}
