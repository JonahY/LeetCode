{
 "cells": [
  {
   "cell_type": "markdown",
   "metadata": {},
   "source": [
    "### **[LeetCode Link](https://leetcode-cn.com/problems/combinations/solution/hui-su-suan-fa-jian-zhi-python-dai-ma-java-dai-ma-/)**"
   ]
  },
  {
   "cell_type": "markdown",
   "metadata": {},
   "source": [
    "## 回溯剪枝\n",
    "既然是树形问题上的 深度优先遍历，因此首先画出树形结构。例如输入：n = 4, k = 2，我们可以发现如下递归结构：\n",
    "* 如果组合里有 1 ，那么需要在 `[2, 3, 4]` 里再找 1 个数；\n",
    "* 如果组合里有 2 ，那么需要在 `[3, 4]` 里再找 1数。注意：这里不能再考虑 1，因为包含 1 的组合，在第 1 种情况中已经包含。\n",
    "\n",
    "依次类推（后面部分省略），以上描述体现的 递归 结构是：在以 $n$ 结尾的候选数组里，选出若干个元素。画出递归结构如下图：\n",
    "![title](1.png)\n",
    "\n",
    "### 说明：\n",
    "* 叶子结点的信息体现在从根结点到叶子结点的路径上，因此需要一个表示路径的变量 `path`，它是一个列表，特别地，`path` 是一个栈；\n",
    "* 每一个结点递归地在做同样的事情，区别在于搜索起点，因此需要一个变量 `start` ，表示在区间 `[begin, n]` 里选出若干个数的组合；\n",
    "* 可能有一些分支没有必要执行，我们放在优化中介绍。\n",
    "\n",
    "友情提示：对于这一类问题，画图帮助分析是非常重要的解题方法。\n",
    "\n",
    "**容易知道：搜索起点和当前还需要选几个数有关，而当前还需要选几个数与已经选了几个数有关，即与 `path` 的长度相关。**\n",
    "\n",
    "可以归纳出：\n",
    "```\n",
    "搜索起点的上界 + 接下来要选择的元素个数 - 1 = n\n",
    "```\n",
    "其中，接下来要选择的元素个数 = k - len(path)，整理得到：\n",
    "```\n",
    "搜索起点的上界 = n - (k - len(path)) + 1\n",
    "```\n",
    "所以，我们的剪枝过程就是：把 `i <= n` 改成 `i <= n - (k - len(path)) + 1`"
   ]
  },
  {
   "cell_type": "code",
   "execution_count": null,
   "metadata": {},
   "outputs": [],
   "source": [
    "class Solution:\n",
    "    def combine(self, n: int, k: int) -> List[List[int]]:\n",
    "\n",
    "        def dfs(size, path, res, start):\n",
    "            if size == k:\n",
    "                res.append(path[:])\n",
    "                return \n",
    "            for i in range(start,  n - (k - len(path)) + 2):\n",
    "                path.append(i)\n",
    "                dfs(size + 1, path, res, i + 1)\n",
    "                path.pop()\n",
    "        if n == 0: return []\n",
    "        res = []\n",
    "        dfs(0, [], res, 1)\n",
    "        return res"
   ]
  },
  {
   "cell_type": "markdown",
   "metadata": {},
   "source": [
    "## 数学方法，利用组合公式\n",
    "我们在《概率论和数理统计》学过：\n",
    "<center>$C_{n}^{k}=C_{n-1}^{k-1}+C_{n-1}^{k}$</center>\n",
    "\n",
    "等式左边表示从 n 个元素中选 k 个元素，等式右边表示实现这个过程的一种方式：\n",
    "* 任意选择一个元素作为特殊元素，于是从 n 中选 k 个元素就可以分为：包不包含这个特殊元素：\n",
    " * 包含，就相当于，从 n-1 个元素中选出 k-1 个元素，即 $C_{n-1}^{k-1}$\n",
    " * 不包含，就相当于，从 n-1 个元素中选出 k 个元素，即 $C_{n-1}^{k}$\n",
    "\n",
    "为了方便，我选择当前集合中最大的那个数，作为特殊元素，选进我们的部分解中。如下图所示。![title](2.png)"
   ]
  },
  {
   "cell_type": "code",
   "execution_count": null,
   "metadata": {},
   "outputs": [],
   "source": [
    "class Solution:\n",
    "    def combine(self, n: int, k: int) -> List[List[int]]:\n",
    "        if n < k or n < 1:\n",
    "            return []\n",
    "        if k == 0:\n",
    "            return [[]]\n",
    "        if n == k:\n",
    "            return [[i for i in range(1, n+1)]]\n",
    "        ans1 = self.combine(n-1, k-1)\n",
    "        ans2 = self.combine(n-1, k)\n",
    "        if ans1:\n",
    "            for i in ans1:\n",
    "                i.append(n)\n",
    "        return ans2 + ans1"
   ]
  }
 ],
 "metadata": {
  "kernelspec": {
   "display_name": "Python 3",
   "language": "python",
   "name": "python3"
  },
  "language_info": {
   "codemirror_mode": {
    "name": "ipython",
    "version": 3
   },
   "file_extension": ".py",
   "mimetype": "text/x-python",
   "name": "python",
   "nbconvert_exporter": "python",
   "pygments_lexer": "ipython3",
   "version": "3.8.5"
  }
 },
 "nbformat": 4,
 "nbformat_minor": 4
}
