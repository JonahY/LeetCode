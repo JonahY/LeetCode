{
 "cells": [
  {
   "cell_type": "markdown",
   "metadata": {},
   "source": [
    "### **[LeetCode Link](https://leetcode-cn.com/problems/word-search/solution/zai-er-wei-ping-mian-shang-shi-yong-hui-su-fa-pyth/)**"
   ]
  },
  {
   "cell_type": "markdown",
   "metadata": {},
   "source": [
    "## 回溯\n",
    "* 先进行判断 board 列表中含有的 word 字符串元素个数是否大于 word 本身，此处能够在测试中大量剪枝；\n",
    "* 预寻找与word字符串开头字母匹配的初始位置；\n",
    "* 回溯法进行字符串匹配。"
   ]
  },
  {
   "cell_type": "code",
   "execution_count": 60,
   "metadata": {
    "ExecuteTime": {
     "end_time": "2020-09-15T02:57:47.985137Z",
     "start_time": "2020-09-15T02:57:47.977146Z"
    }
   },
   "outputs": [],
   "source": [
    "class Solution:\n",
    "    def exist(self, board, word: str):\n",
    "        r, c, w = len(board), len(board[0]), len(word)\n",
    "        \n",
    "        # 最主要两行提速\n",
    "        need = Counter(word)\n",
    "        cout = sum(1 for i in range(r) for j in range(c) if need[board[i][j]])\n",
    "        if w > cout: return False\n",
    "\n",
    "        # 预寻找与word字符串开头字母匹配的初始位置\n",
    "        init = []\n",
    "        visited = [[False] * c for _ in range(r)]\n",
    "        for i,j in enumerate(board):\n",
    "            for k,l in enumerate(j):\n",
    "                if board[i][k] == word[0]:\n",
    "                    init.append([i,k])\n",
    "        if len(init) == 0: \n",
    "            return False\n",
    "\n",
    "        def dfs(x, y, idx):\n",
    "            if board[x][y] != word[idx]:\n",
    "                return False\n",
    "\n",
    "            if idx == w - 1:\n",
    "                return True\n",
    "\n",
    "            # 先标记\n",
    "            visited[x][y] = True\n",
    "\n",
    "            # 找到符合的字母时开始向四个方向扩散搜索\n",
    "            for i, j in [[x - 1, y], [x + 1, y], [x, y - 1], [x, y + 1]]:\n",
    "                if 0 <= i < r and 0 <= j < c and not visited[i][j] and dfs(i, j, idx+1):\n",
    "                    return True\n",
    "            # 扩散未搜索对应的字母，释放标记\n",
    "            # 继续往其他方位搜索\n",
    "            visited[x][y] = False\n",
    "            return False\n",
    "\n",
    "        for (x, y) in init:\n",
    "            if dfs(x, y, 0):\n",
    "                return True\n",
    "        return False"
   ]
  }
 ],
 "metadata": {
  "kernelspec": {
   "display_name": "Python 3",
   "language": "python",
   "name": "python3"
  },
  "language_info": {
   "codemirror_mode": {
    "name": "ipython",
    "version": 3
   },
   "file_extension": ".py",
   "mimetype": "text/x-python",
   "name": "python",
   "nbconvert_exporter": "python",
   "pygments_lexer": "ipython3",
   "version": "3.8.5"
  }
 },
 "nbformat": 4,
 "nbformat_minor": 4
}
