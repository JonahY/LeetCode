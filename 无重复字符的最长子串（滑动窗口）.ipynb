{
 "cells": [
  {
   "cell_type": "code",
   "execution_count": 1,
   "metadata": {},
   "outputs": [],
   "source": [
    "class Solution:\n",
    "    def lengthOfLongestSubstring(self, s: str) -> int:\n",
    "        if not s:\n",
    "            return 0\n",
    "        left = 0\n",
    "        lookup = set()\n",
    "        n = len(s)\n",
    "        max_len = 0\n",
    "        for i in range(n):\n",
    "            while s[i] in lookup:\n",
    "                lookup.remove(s[left])\n",
    "                left += 1\n",
    "            lookup.add(s[i])\n",
    "            max_len = max(len(lookup), max_len)\n",
    "        return max_len"
   ]
  },
  {
   "cell_type": "code",
   "execution_count": 6,
   "metadata": {},
   "outputs": [
    {
     "data": {
      "text/plain": [
       "3"
      ]
     },
     "execution_count": 6,
     "metadata": {},
     "output_type": "execute_result"
    }
   ],
   "source": [
    "l = 'abcabcbb'\n",
    "\n",
    "s = Solution()\n",
    "s.lengthOfLongestSubstring(l)"
   ]
  }
 ],
 "metadata": {
  "kernelspec": {
   "display_name": "Python [conda root]",
   "language": "python",
   "name": "conda-root-py"
  },
  "language_info": {
   "codemirror_mode": {
    "name": "ipython",
    "version": 3
   },
   "file_extension": ".py",
   "mimetype": "text/x-python",
   "name": "python",
   "nbconvert_exporter": "python",
   "pygments_lexer": "ipython3",
   "version": "3.6.5"
  }
 },
 "nbformat": 4,
 "nbformat_minor": 2
}
