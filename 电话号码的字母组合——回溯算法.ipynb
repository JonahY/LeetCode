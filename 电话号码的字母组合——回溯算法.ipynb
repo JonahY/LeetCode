{
 "cells": [
  {
   "cell_type": "code",
   "execution_count": 3,
   "metadata": {},
   "outputs": [],
   "source": [
    "def letterCombinations(digits):\n",
    "    \"\"\"\n",
    "    :type digits: str\n",
    "    :rtype: List[str]\n",
    "    \"\"\"\n",
    "    phone = {'2': ['a', 'b', 'c'],\n",
    "             '3': ['d', 'e', 'f'],\n",
    "             '4': ['g', 'h', 'i'],\n",
    "             '5': ['j', 'k', 'l'],\n",
    "             '6': ['m', 'n', 'o'],\n",
    "             '7': ['p', 'q', 'r', 's'],\n",
    "             '8': ['t', 'u', 'v'],\n",
    "             '9': ['w', 'x', 'y', 'z']}\n",
    "\n",
    "    def backtrack(combination, next_digits):\n",
    "        # if there is no more digits to check\n",
    "        if len(next_digits) == 0:\n",
    "            # the combination is done\n",
    "            output.append(combination)\n",
    "        # if there are still digits to check\n",
    "        else:\n",
    "            # iterate over all letters which map \n",
    "            # the next available digit\n",
    "            for letter in phone[next_digits[0]]:\n",
    "                # append the current letter to the combination\n",
    "                # and proceed to the next digits\n",
    "                print(combination + letter)\n",
    "                backtrack(combination + letter, next_digits[1:])\n",
    "\n",
    "    output = []\n",
    "    if digits:\n",
    "        backtrack(\"\", digits)\n",
    "    return output"
   ]
  },
  {
   "cell_type": "code",
   "execution_count": 4,
   "metadata": {},
   "outputs": [
    {
     "name": "stdout",
     "output_type": "stream",
     "text": [
      "a\n",
      "ad\n",
      "ae\n",
      "af\n",
      "b\n",
      "bd\n",
      "be\n",
      "bf\n",
      "c\n",
      "cd\n",
      "ce\n",
      "cf\n"
     ]
    },
    {
     "data": {
      "text/plain": [
       "['ad', 'ae', 'af', 'bd', 'be', 'bf', 'cd', 'ce', 'cf']"
      ]
     },
     "execution_count": 4,
     "metadata": {},
     "output_type": "execute_result"
    }
   ],
   "source": [
    "digits=\"23\"\n",
    "letterCombinations(digits)"
   ]
  }
 ],
 "metadata": {
  "kernelspec": {
   "display_name": "Python [conda env:root] *",
   "language": "python",
   "name": "conda-root-py"
  },
  "language_info": {
   "codemirror_mode": {
    "name": "ipython",
    "version": 3
   },
   "file_extension": ".py",
   "mimetype": "text/x-python",
   "name": "python",
   "nbconvert_exporter": "python",
   "pygments_lexer": "ipython3",
   "version": "3.7.3"
  }
 },
 "nbformat": 4,
 "nbformat_minor": 2
}
