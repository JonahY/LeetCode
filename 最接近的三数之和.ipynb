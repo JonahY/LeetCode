{
 "cells": [
  {
   "cell_type": "code",
   "execution_count": 12,
   "metadata": {},
   "outputs": [],
   "source": [
    "def threeSumClosest(nums, target):\n",
    "    n = len(nums)\n",
    "    if not nums or n < 3 :\n",
    "        return []\n",
    "    res = float(\"inf\")\n",
    "    nums.sort()\n",
    "    for i in range(n):\n",
    "        if(i > 0 and nums[i] == nums[i-1]):\n",
    "            continue\n",
    "        L = i + 1\n",
    "        R = n - 1\n",
    "        while(L<R):\n",
    "            cur_sum = nums[i] + nums[L] + nums[R]\n",
    "            if(cur_sum==target):\n",
    "                return target\n",
    "            if(abs(cur_sum-target)<abs(res-target)):\n",
    "                res=cur_sum\n",
    "            if(cur_sum-target<0):\n",
    "                L+=1\n",
    "            else:\n",
    "                R-=1\n",
    "    return res"
   ]
  },
  {
   "cell_type": "code",
   "execution_count": 13,
   "metadata": {},
   "outputs": [
    {
     "data": {
      "text/plain": [
       "2"
      ]
     },
     "execution_count": 13,
     "metadata": {},
     "output_type": "execute_result"
    }
   ],
   "source": [
    "nums = [-1, 2, 1, -4]\n",
    "target = 1\n",
    "threeSumClosest(nums, target)"
   ]
  }
 ],
 "metadata": {
  "kernelspec": {
   "display_name": "Python [conda env:root] *",
   "language": "python",
   "name": "conda-root-py"
  },
  "language_info": {
   "codemirror_mode": {
    "name": "ipython",
    "version": 3
   },
   "file_extension": ".py",
   "mimetype": "text/x-python",
   "name": "python",
   "nbconvert_exporter": "python",
   "pygments_lexer": "ipython3",
   "version": "3.7.3"
  }
 },
 "nbformat": 4,
 "nbformat_minor": 2
}
