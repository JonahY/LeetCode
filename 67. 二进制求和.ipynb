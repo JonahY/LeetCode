{
 "cells": [
  {
   "cell_type": "markdown",
   "metadata": {},
   "source": [
    "### **[LeetCode Link](https://leetcode-cn.com/problems/add-binary/solution/er-jin-zhi-qiu-he-by-leetcode-solution/)**"
   ]
  },
  {
   "cell_type": "markdown",
   "metadata": {},
   "source": [
    "## 位运算\n",
    "### 思路和算法\n",
    "如果不允许使用加减乘除，则可以使用位运算替代上述运算中的一些加减乘除的操作。\n",
    "\n",
    "我们可以设计这样的算法来计算：\n",
    "* 把 $a$ 和 $b$ 转换成整型数字 $x$ 和 $y$，在接下来的过程中，$x$ 保存结果，$y$ 保存进位。\n",
    "* 当进位不为 $0$ 时\n",
    " * 计算当前 $x$ 和 $y$ 的无进位相加结果：`answer = x ^ y`\n",
    " * 计算当前 $x$ 和 $y$ 的进位：`carry = (x & y) << 1`\n",
    " * 完成本次循环，更新 `x = answer`，`y = carry`\n",
    "* 返回 $x$ 的二进制形式\n",
    "\n",
    "为什么这个方法是可行的呢？在第一轮计算中，`answer` 的最后一位是 $x$ 和 $y$ 相加之后的结果，`carry` 的倒数第二位是 $x$ 和 $y$ 最后一位相加的进位。接着每一轮中，由于 `carry` 是由 $x$ 和 $y$ 按位与并且左移得到的，那么最后会补零，所以在下面计算的过程中后面的数位不受影响，而每一轮都可以得到一个低 $i$ 位的答案和它向低 $i + 1$ 位的进位，也就模拟了加法的过程。\n",
    "\n",
    "### 复杂度分析\n",
    "* 时间复杂度：$O(|a| + |b| + X \\cdot \\max ({|a| + |b|}))$，字符串转化成数字需要的时间代价为 $O(|a| + |b|)$，计算的时间代价为 $O(\\max \\{ |a|, |b| \\})$，$X$ 为位运算所需的时间，因为这里用到了高精度计算，所以位运算的时间不一定为 $O(1)$。\n",
    "* 空间复杂度：这里使用了 $x$ 和 $y$ 来保存 $a$ 和 $b$ 的整数形式，如果用 Python 实现，这里用到了 Python 的高精度功能，实际的空间代价是 $O(|a| + |b|)$。"
   ]
  },
  {
   "cell_type": "code",
   "execution_count": null,
   "metadata": {},
   "outputs": [],
   "source": [
    "class Solution:\n",
    "    def addBinary(self, a, b) -> str:\n",
    "        x, y = int(a, 2), int(b, 2)\n",
    "        while y:\n",
    "            answer = x ^ y\n",
    "            carry = (x & y) << 1\n",
    "            x, y = answer, carry\n",
    "        return bin(x)[2:]"
   ]
  },
  {
   "cell_type": "markdown",
   "metadata": {},
   "source": []
  },
  {
   "cell_type": "code",
   "execution_count": null,
   "metadata": {},
   "outputs": [],
   "source": [
    "class Solution:\n",
    "    def addBinary(self, a: str, b: str) -> str:\n",
    "        i, j, res, carry = len(a) - 1, len(b) - 1, str(), 0\n",
    "        if i < j:\n",
    "            a = '0' * (j - i) + a[:]\n",
    "        else:\n",
    "            b = '0' * (i - j) + b[:]\n",
    "        idx = max(i, j)\n",
    "        while idx >= 0:\n",
    "            sumz = int(a[idx]) + int(b[idx]) + carry\n",
    "            if sumz <= 1:\n",
    "                res = str(sumz) + res[:]\n",
    "                carry = 0\n",
    "            elif sumz == 2:\n",
    "                res = '0' + res[:]\n",
    "                carry = 1\n",
    "            else:\n",
    "                res = '1' + res[:]\n",
    "                carry = 1\n",
    "            idx -= 1\n",
    "        if carry:\n",
    "            res = '1' + res[:]\n",
    "        return res"
   ]
  }
 ],
 "metadata": {
  "kernelspec": {
   "display_name": "Python 3",
   "language": "python",
   "name": "python3"
  },
  "language_info": {
   "codemirror_mode": {
    "name": "ipython",
    "version": 3
   },
   "file_extension": ".py",
   "mimetype": "text/x-python",
   "name": "python",
   "nbconvert_exporter": "python",
   "pygments_lexer": "ipython3",
   "version": "3.8.5"
  }
 },
 "nbformat": 4,
 "nbformat_minor": 4
}
