{
 "cells": [
  {
   "cell_type": "code",
   "execution_count": 21,
   "metadata": {},
   "outputs": [],
   "source": [
    "import numpy as np"
   ]
  },
  {
   "cell_type": "markdown",
   "metadata": {},
   "source": [
    "暴力搜索法"
   ]
  },
  {
   "cell_type": "code",
   "execution_count": 42,
   "metadata": {},
   "outputs": [],
   "source": [
    "def findMedianSortedArrays(nums1, nums2):\n",
    "    num = sorted(np.r_[nums1, nums2])\n",
    "    print(num)\n",
    "    n = len(num)\n",
    "    if len(num) == 0:\n",
    "        median = None\n",
    "    if len(num) == 1:\n",
    "        median = num[0]\n",
    "    elif len(num)%2 == 0:\n",
    "        median = (num[int((len(num)-1)/2)] + num[int((len(num)-1)/2) + 1])/2.0\n",
    "        print('n为偶数')\n",
    "    else:\n",
    "        median = num[int(len(num)/2.0)]\n",
    "        print('n为奇数')\n",
    "    return median"
   ]
  },
  {
   "cell_type": "markdown",
   "metadata": {},
   "source": [
    "双指针二分法找边界值"
   ]
  },
  {
   "cell_type": "code",
   "execution_count": 46,
   "metadata": {},
   "outputs": [],
   "source": [
    "def findMedianSortedArrays(nums1, nums2) -> float:\n",
    "    n1 = len(nums1)\n",
    "    n2 = len(nums2)\n",
    "    if n1 > n2:\n",
    "        return self.findMedianSortedArrays(nums2,nums1)\n",
    "    k = (n1 + n2 + 1)//2\n",
    "    left = 0\n",
    "    right = n1\n",
    "    while left < right :\n",
    "        m1 = left +(right - left)//2\n",
    "        m2 = k - m1\n",
    "        if nums1[m1] < nums2[m2-1]:\n",
    "            left = m1 + 1\n",
    "        else:\n",
    "            right = m1\n",
    "    m1 = left\n",
    "    m2 = k - m1 \n",
    "    c1 = max(nums1[m1-1] if m1 > 0 else float(\"-inf\"), nums2[m2-1] if m2 > 0 else float(\"-inf\") )\n",
    "    if (n1 + n2) % 2 == 1:\n",
    "        return c1\n",
    "    c2 = min(nums1[m1] if m1 < n1 else float(\"inf\"), nums2[m2] if m2 <n2 else float(\"inf\"))\n",
    "    return (c1 + c2) / 2"
   ]
  },
  {
   "cell_type": "code",
   "execution_count": 47,
   "metadata": {},
   "outputs": [
    {
     "data": {
      "text/plain": [
       "2.5"
      ]
     },
     "execution_count": 47,
     "metadata": {},
     "output_type": "execute_result"
    }
   ],
   "source": [
    "nums1 = [1, 2]\n",
    "nums2 = [3, 4]\n",
    "findMedianSortedArrays(nums1, nums2)"
   ]
  }
 ],
 "metadata": {
  "kernelspec": {
   "display_name": "Python [conda root]",
   "language": "python",
   "name": "conda-root-py"
  },
  "language_info": {
   "codemirror_mode": {
    "name": "ipython",
    "version": 3
   },
   "file_extension": ".py",
   "mimetype": "text/x-python",
   "name": "python",
   "nbconvert_exporter": "python",
   "pygments_lexer": "ipython3",
   "version": "3.6.5"
  }
 },
 "nbformat": 4,
 "nbformat_minor": 2
}
