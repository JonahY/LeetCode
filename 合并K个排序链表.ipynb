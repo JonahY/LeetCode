{
 "cells": [
  {
   "cell_type": "code",
   "execution_count": 1,
   "metadata": {
    "ExecuteTime": {
     "end_time": "2019-12-22T12:53:06.945360Z",
     "start_time": "2019-12-22T12:53:06.941371Z"
    }
   },
   "outputs": [],
   "source": [
    "class ListNode:\n",
    "    def __init__(self, x):\n",
    "        self.val = x\n",
    "        self.next = None\n",
    "\n",
    "def generateList(l: list) -> ListNode:\n",
    "    prenode = ListNode(0)\n",
    "    lastnode = prenode\n",
    "    for val in l:\n",
    "        lastnode.next = ListNode(val)\n",
    "        lastnode = lastnode.next\n",
    "    return prenode.next\n",
    "\n",
    "def printList(l: ListNode):\n",
    "    while l:\n",
    "        print(\"%d\" %(l.val), end = '')\n",
    "        l = l.next\n",
    "    print('')"
   ]
  },
  {
   "cell_type": "markdown",
   "metadata": {},
   "source": [
    "**分治：**\n",
    "\n",
    "将链表进行两两合并"
   ]
  },
  {
   "cell_type": "code",
   "execution_count": 2,
   "metadata": {
    "ExecuteTime": {
     "end_time": "2019-12-22T12:53:11.323677Z",
     "start_time": "2019-12-22T12:53:11.317665Z"
    }
   },
   "outputs": [],
   "source": [
    "class Solution(object):\n",
    "    def mergeKLists(self, lists):\n",
    "        \"\"\"\n",
    "        :type lists: List[ListNode]\n",
    "        :rtype: ListNode\n",
    "        \"\"\"\n",
    "        amount = len(lists)\n",
    "        interval = 1\n",
    "        while interval < amount:\n",
    "            for i in range(0, amount - interval, interval * 2):\n",
    "                lists[i] = self.merge2Lists(lists[i], lists[i + interval])\n",
    "            interval *= 2\n",
    "        return lists[0] if amount > 0 else lists\n",
    "\n",
    "    def merge2Lists(self, l1, l2):\n",
    "        head = point = ListNode(0)\n",
    "        while l1 and l2:\n",
    "            if l1.val <= l2.val:\n",
    "                point.next = l1\n",
    "                l1 = l1.next\n",
    "            else:\n",
    "                point.next = l2\n",
    "                l2 = l1\n",
    "                l1 = point.next.next\n",
    "            point = point.next\n",
    "        if not l1:\n",
    "            point.next=l2\n",
    "        else:\n",
    "            point.next=l1\n",
    "        return head.next"
   ]
  },
  {
   "cell_type": "markdown",
   "metadata": {},
   "source": [
    "**递归：**\n",
    "\n",
    "先将所有要合并的链表转换为列表进行排序，再把此列表转换为链表即可"
   ]
  },
  {
   "cell_type": "code",
   "execution_count": 4,
   "metadata": {
    "ExecuteTime": {
     "end_time": "2019-12-22T12:53:37.186472Z",
     "start_time": "2019-12-22T12:53:37.180488Z"
    }
   },
   "outputs": [],
   "source": [
    "class Solution:\n",
    "    def cover(self, a:ListNode):\n",
    "        b = []\n",
    "        while a:\n",
    "            b.append(a.val)\n",
    "            a = a.next\n",
    "        return b\n",
    "    def mergeKLists(self, lists) -> ListNode:\n",
    "        S = []\n",
    "        for i in range(len(lists)):\n",
    "            b = self.cover(lists[i])\n",
    "            S.append(b) \n",
    "        S1 = []\n",
    "        for i in range(len(S)):\n",
    "            for j in S[i]:\n",
    "                S1.append(j)\n",
    "        if len(S1) == 0:\n",
    "            return ListNode('')\n",
    "        S1.sort()\n",
    "        first = S1.pop(0)\n",
    "        result = ListNode(first)\n",
    "        node = result\n",
    "        for i in S1:\n",
    "            node.next = ListNode(i)\n",
    "            node = node.next\n",
    "        return result"
   ]
  },
  {
   "cell_type": "code",
   "execution_count": 12,
   "metadata": {
    "ExecuteTime": {
     "end_time": "2019-12-22T12:55:30.914276Z",
     "start_time": "2019-12-22T12:55:30.909290Z"
    }
   },
   "outputs": [
    {
     "name": "stdout",
     "output_type": "stream",
     "text": [
      "145\n",
      "134\n",
      "26\n",
      "11234456\n"
     ]
    }
   ],
   "source": [
    "if __name__ == \"__main__\":\n",
    "    lists = []\n",
    "    l1 = generateList([1, 4, 5])\n",
    "    l2 = generateList([1, 3, 4])\n",
    "    l3 = generateList([2, 6])\n",
    "    lists.append(l1)\n",
    "    lists.append(l2)\n",
    "    lists.append(l3)\n",
    "    printList(l1)\n",
    "    printList(l2)\n",
    "    printList(l3)\n",
    "    s = Solution()\n",
    "    sum = s.mergeKLists(lists)\n",
    "    printList(sum)"
   ]
  }
 ],
 "metadata": {
  "kernelspec": {
   "display_name": "Python [conda root]",
   "language": "python",
   "name": "conda-root-py"
  },
  "language_info": {
   "codemirror_mode": {
    "name": "ipython",
    "version": 3
   },
   "file_extension": ".py",
   "mimetype": "text/x-python",
   "name": "python",
   "nbconvert_exporter": "python",
   "pygments_lexer": "ipython3",
   "version": "3.6.5"
  },
  "varInspector": {
   "cols": {
    "lenName": 16,
    "lenType": 16,
    "lenVar": 40
   },
   "kernels_config": {
    "python": {
     "delete_cmd_postfix": "",
     "delete_cmd_prefix": "del ",
     "library": "var_list.py",
     "varRefreshCmd": "print(var_dic_list())"
    },
    "r": {
     "delete_cmd_postfix": ") ",
     "delete_cmd_prefix": "rm(",
     "library": "var_list.r",
     "varRefreshCmd": "cat(var_dic_list()) "
    }
   },
   "types_to_exclude": [
    "module",
    "function",
    "builtin_function_or_method",
    "instance",
    "_Feature"
   ],
   "window_display": false
  }
 },
 "nbformat": 4,
 "nbformat_minor": 2
}
