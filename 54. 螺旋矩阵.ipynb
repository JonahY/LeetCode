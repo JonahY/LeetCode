{
 "cells": [
  {
   "cell_type": "markdown",
   "metadata": {},
   "source": [
    "## 按层模拟\n",
    "可以将矩阵看成若干层，首先输出最外层的元素，其次输出次外层的元素，直到输出最内层的元素。\n",
    "\n",
    "对于每层，从左上方开始以顺时针的顺序遍历所有元素。假设当前层的左上角位于 $(\\textit{top}, \\textit{left})$，右下角位于 $(\\textit{bottom}, \\textit{right})$，按照如下顺序遍历当前层的元素。\n",
    "1. 从左到右遍历上侧元素，依次为 $(\\textit{top}, \\textit{left})$ 到 $(\\textit{top}, \\textit{right})$。\n",
    "2. 从上到下遍历右侧元素，依次为 $(\\textit{top} + 1, \\textit{right})$ 到 $(\\textit{bottom}, \\textit{right})$。\n",
    "3. 如果 $\\textit{left} < \\textit{right}$ 且 $\\textit{top} < \\textit{bottom}$，则从右到左遍历下侧元素，依次为 $(\\textit{bottom}, \\textit{right} - 1)$ 到 $(\\textit{bottom}, \\textit{left} + 1)$，以及从下到上遍历左侧元素，依次为 $(\\textit{bottom}, \\textit{left})$ 到 $(\\textit{top} + 1, \\textit{left})$。\n",
    "\n",
    "遍历完当前层的元素之后，将 $\\textit{left}$ 和 $\\textit{top}$ 分别增加 $1$，将 $\\textit{right}$ 和 $\\textit{bottom}$ 分别减少 $1$，进入下一层继续遍历，直到遍历完所有元素为止。\n",
    "<center><img src='1.png' width=600></center>\n",
    "\n",
    "### 复杂度分析\n",
    "* 时间复杂度：$O(mn)$，其中 $m$ 和 $n$ 分别是输入矩阵的行数和列数。矩阵中的每个元素都要被访问一次。\n",
    "* 空间复杂度：$O(1)$。除了输出数组以外，空间复杂度是常数。"
   ]
  },
  {
   "cell_type": "code",
   "execution_count": null,
   "metadata": {},
   "outputs": [],
   "source": [
    "class Solution:\n",
    "    def spiralOrder(self, matrix: List[List[int]]) -> List[int]:\n",
    "        if not matrix or not matrix[0]:\n",
    "            return list()\n",
    "        \n",
    "        rows, columns = len(matrix), len(matrix[0])\n",
    "        order = list()\n",
    "        left, right, top, bottom = 0, columns - 1, 0, rows - 1\n",
    "        while left <= right and top <= bottom:\n",
    "            for column in range(left, right + 1):\n",
    "                order.append(matrix[top][column])\n",
    "            for row in range(top + 1, bottom + 1):\n",
    "                order.append(matrix[row][right])\n",
    "            if left < right and top < bottom:\n",
    "                for column in range(right - 1, left, -1):\n",
    "                    order.append(matrix[bottom][column])\n",
    "                for row in range(bottom, top, -1):\n",
    "                    order.append(matrix[row][left])\n",
    "            left, right, top, bottom = left + 1, right - 1, top + 1, bottom - 1\n",
    "        return order"
   ]
  },
  {
   "cell_type": "markdown",
   "metadata": {},
   "source": [
    "## 旋转矩阵\n",
    "通过旋转矩阵来间接完成螺旋遍历：\n",
    "1. 先将矩阵首行元素添加到结果中，并在原矩阵中删除；\n",
    "2. 将矩阵逆时针旋转 $90^\\circ $，继续循环操作直至矩阵为空。"
   ]
  },
  {
   "cell_type": "code",
   "execution_count": 58,
   "metadata": {
    "ExecuteTime": {
     "end_time": "2020-09-22T08:31:40.343116Z",
     "start_time": "2020-09-22T08:31:40.331290Z"
    }
   },
   "outputs": [],
   "source": [
    "class Solution:\n",
    "    def spiralOrder(self, matrix: List[List[int]]) -> List[int]:\n",
    "        res = []\n",
    "        matrix = collections.deque(matrix)\n",
    "        while matrix:\n",
    "            res += matrix.popleft()\n",
    "            matrix = collections.deque(list(zip(*matrix))[::-1])\n",
    "        return res"
   ]
  }
 ],
 "metadata": {
  "kernelspec": {
   "display_name": "Python 3",
   "language": "python",
   "name": "python3"
  },
  "language_info": {
   "codemirror_mode": {
    "name": "ipython",
    "version": 3
   },
   "file_extension": ".py",
   "mimetype": "text/x-python",
   "name": "python",
   "nbconvert_exporter": "python",
   "pygments_lexer": "ipython3",
   "version": "3.8.5"
  }
 },
 "nbformat": 4,
 "nbformat_minor": 4
}
