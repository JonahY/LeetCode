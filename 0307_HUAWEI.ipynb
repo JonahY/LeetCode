{
 "cells": [
  {
   "cell_type": "code",
   "execution_count": 1,
   "metadata": {
    "ExecuteTime": {
     "end_time": "2021-04-07T12:30:40.791669Z",
     "start_time": "2021-04-07T12:30:40.787677Z"
    }
   },
   "outputs": [],
   "source": [
    "sts = [['Jack', 'Tom'],\n",
    "         ['Alice', 'John'],\n",
    "         ['Jessica', 'Leonie'],\n",
    "         ['Tom', 'Alice'],\n",
    "         ['John', 'Jack'],\n",
    "         ['Leonie', 'Jessica'],\n",
    "       ['Xiaoming', 'Xiaohong'],\n",
    "       ['Xiaohong', 'Xiaoqiang'],\n",
    "       ['Xiaoqiang', 'Xiaoming']\n",
    "      ]"
   ]
  },
  {
   "cell_type": "code",
   "execution_count": 4,
   "metadata": {
    "ExecuteTime": {
     "end_time": "2021-04-07T12:34:52.378711Z",
     "start_time": "2021-04-07T12:34:52.367708Z"
    }
   },
   "outputs": [
    {
     "data": {
      "text/plain": [
       "{'Jack': 0,\n",
       " 'Tom': 0,\n",
       " 'Alice': 0,\n",
       " 'John': 0,\n",
       " 'Jessica': 1,\n",
       " 'Leonie': 1,\n",
       " 'Xiaoming': 2,\n",
       " 'Xiaohong': 2,\n",
       " 'Xiaoqiang': 2}"
      ]
     },
     "execution_count": 4,
     "metadata": {},
     "output_type": "execute_result"
    }
   ],
   "source": [
    "hashmap_loc"
   ]
  },
  {
   "cell_type": "code",
   "execution_count": 50,
   "metadata": {
    "ExecuteTime": {
     "end_time": "2021-04-07T12:43:53.303510Z",
     "start_time": "2021-04-07T12:43:53.298518Z"
    }
   },
   "outputs": [
    {
     "data": {
      "text/plain": [
       "[True, True, True, True, True, True, False, False, False]"
      ]
     },
     "execution_count": 50,
     "metadata": {},
     "output_type": "execute_result"
    }
   ],
   "source": [
    "list(map(lambda v: v <= 1, hashmap_loc.values()))"
   ]
  },
  {
   "cell_type": "code",
   "execution_count": 48,
   "metadata": {
    "ExecuteTime": {
     "end_time": "2021-04-07T12:43:34.894197Z",
     "start_time": "2021-04-07T12:43:34.887204Z"
    }
   },
   "outputs": [
    {
     "ename": "TypeError",
     "evalue": "sorted expected 1 arguments, got 2",
     "output_type": "error",
     "traceback": [
      "\u001b[1;31m---------------------------------------------------------------------------\u001b[0m",
      "\u001b[1;31mTypeError\u001b[0m                                 Traceback (most recent call last)",
      "\u001b[1;32m<ipython-input-48-74d022c45f0c>\u001b[0m in \u001b[0;36m<module>\u001b[1;34m\u001b[0m\n\u001b[1;32m----> 1\u001b[1;33m \u001b[0msorted\u001b[0m\u001b[1;33m(\u001b[0m\u001b[1;32mlambda\u001b[0m \u001b[0mk\u001b[0m\u001b[1;33m,\u001b[0m\u001b[0mv\u001b[0m\u001b[1;33m:\u001b[0m\u001b[0mv\u001b[0m\u001b[1;33m<=\u001b[0m\u001b[0mhashmap_loc\u001b[0m\u001b[1;33m[\u001b[0m\u001b[0mst2\u001b[0m\u001b[1;33m]\u001b[0m\u001b[1;33m,\u001b[0m \u001b[0mhashmap_loc\u001b[0m\u001b[1;33m.\u001b[0m\u001b[0mitems\u001b[0m\u001b[1;33m(\u001b[0m\u001b[1;33m)\u001b[0m\u001b[1;33m)\u001b[0m\u001b[1;33m\u001b[0m\u001b[1;33m\u001b[0m\u001b[0m\n\u001b[0m",
      "\u001b[1;31mTypeError\u001b[0m: sorted expected 1 arguments, got 2"
     ]
    }
   ],
   "source": [
    "map(lambda k,v:v<=hashmap_loc[st2], hashmap_loc.items())"
   ]
  },
  {
   "cell_type": "code",
   "execution_count": 33,
   "metadata": {
    "ExecuteTime": {
     "end_time": "2021-04-07T12:40:36.779139Z",
     "start_time": "2021-04-07T12:40:36.766052Z"
    }
   },
   "outputs": [
    {
     "name": "stdout",
     "output_type": "stream",
     "text": [
      "Jack 0\n",
      "Tom 0\n",
      "Alice 0\n",
      "John 0\n",
      "Jessica 1\n",
      "Leonie 1\n",
      "Xiaoming 2\n",
      "Xiaohong 2\n",
      "Xiaoqiang 2\n"
     ]
    }
   ],
   "source": [
    "for k, v in hashmap_loc.items():\n",
    "    print(k, v)"
   ]
  },
  {
   "cell_type": "code",
   "execution_count": 3,
   "metadata": {
    "ExecuteTime": {
     "end_time": "2021-04-07T12:34:46.502619Z",
     "start_time": "2021-04-07T12:34:46.491618Z"
    }
   },
   "outputs": [
    {
     "name": "stdout",
     "output_type": "stream",
     "text": [
      "[['Jack', 'Tom']] {'Jack': 0, 'Tom': 0}\n",
      "[['Jack', 'Tom'], ['Alice', 'John']] {'Jack': 0, 'Tom': 0, 'Alice': 1, 'John': 1}\n",
      "[['Jack', 'Tom'], ['Alice', 'John'], ['Jessica', 'Leonie']] {'Jack': 0, 'Tom': 0, 'Alice': 1, 'John': 1, 'Jessica': 2, 'Leonie': 2}\n",
      "[['Jack', 'Tom', 'Alice', 'John'], ['Jessica', 'Leonie']] {'Jack': 0, 'Tom': 0, 'Alice': 0, 'John': 0, 'Jessica': 1, 'Leonie': 1}\n",
      "[['Jack', 'Tom', 'Alice', 'John'], ['Jessica', 'Leonie']] {'Jack': 0, 'Tom': 0, 'Alice': 0, 'John': 0, 'Jessica': 1, 'Leonie': 1}\n",
      "[['Jack', 'Tom', 'Alice', 'John'], ['Jessica', 'Leonie']] {'Jack': 0, 'Tom': 0, 'Alice': 0, 'John': 0, 'Jessica': 1, 'Leonie': 1}\n",
      "[['Jack', 'Tom', 'Alice', 'John'], ['Jessica', 'Leonie'], ['Xiaoming', 'Xiaohong']] {'Jack': 0, 'Tom': 0, 'Alice': 0, 'John': 0, 'Jessica': 1, 'Leonie': 1, 'Xiaoming': 2, 'Xiaohong': 2}\n",
      "[['Jack', 'Tom', 'Alice', 'John'], ['Jessica', 'Leonie'], ['Xiaoming', 'Xiaohong', 'Xiaoqiang']] {'Jack': 0, 'Tom': 0, 'Alice': 0, 'John': 0, 'Jessica': 1, 'Leonie': 1, 'Xiaoming': 2, 'Xiaohong': 2, 'Xiaoqiang': 2}\n",
      "3\n"
     ]
    }
   ],
   "source": [
    "groups = []\n",
    "hashmap_loc = {}\n",
    "\n",
    "hashmap_loc[sts[0][0]] = 0\n",
    "hashmap_loc[sts[0][1]] = 0\n",
    "groups.append([sts[0][0], sts[0][1]])\n",
    "\n",
    "for st1, st2 in sts[1:]:\n",
    "    print(groups, hashmap_loc)\n",
    "    if st1 not in hashmap_loc.keys() and st2 not in hashmap_loc.keys():\n",
    "        hashmap_loc[st1] = len(groups)\n",
    "        hashmap_loc[st2] = len(groups)\n",
    "        groups.append([st1, st2])\n",
    "    elif st1 in hashmap_loc.keys() and st2 not in hashmap_loc.keys():\n",
    "        hashmap_loc[st2] = hashmap_loc[st1]\n",
    "        groups[hashmap_loc[st1]].append(st2)\n",
    "    elif st1 not in hashmap_loc.keys() and st2 in hashmap_loc.keys():\n",
    "        hashmap_loc[st1] = hashmap_loc[st2]\n",
    "        groups[hashmap_loc[st2]].append(st1)\n",
    "    else:\n",
    "        if hashmap_loc[st1] != hashmap_loc[st2]:\n",
    "            group_tmp = groups[hashmap_loc[st2]]\n",
    "            groups.pop(hashmap_loc[st2])\n",
    "            groups[hashmap_loc[st1]] += group_tmp\n",
    "            for k, v in hashmap_loc.items():\n",
    "                if v > hashmap_loc[st2]:\n",
    "                    hashmap_loc[k] = v - 1\n",
    "                elif k in group_tmp:\n",
    "                    hashmap_loc[k] = hashmap_loc[st1]\n",
    "            hashmap_loc[st2] = hashmap_loc[st1]\n",
    "            \n",
    "print(len(groups))"
   ]
  },
  {
   "cell_type": "code",
   "execution_count": null,
   "metadata": {},
   "outputs": [],
   "source": []
  },
  {
   "cell_type": "code",
   "execution_count": null,
   "metadata": {},
   "outputs": [],
   "source": []
  }
 ],
 "metadata": {
  "kernelspec": {
   "display_name": "Python 3",
   "language": "python",
   "name": "python3"
  },
  "language_info": {
   "codemirror_mode": {
    "name": "ipython",
    "version": 3
   },
   "file_extension": ".py",
   "mimetype": "text/x-python",
   "name": "python",
   "nbconvert_exporter": "python",
   "pygments_lexer": "ipython3",
   "version": "3.7.3"
  },
  "toc": {
   "base_numbering": 1,
   "nav_menu": {},
   "number_sections": true,
   "sideBar": true,
   "skip_h1_title": false,
   "title_cell": "Table of Contents",
   "title_sidebar": "Contents",
   "toc_cell": false,
   "toc_position": {},
   "toc_section_display": true,
   "toc_window_display": false
  },
  "varInspector": {
   "cols": {
    "lenName": 16,
    "lenType": 16,
    "lenVar": 40
   },
   "kernels_config": {
    "python": {
     "delete_cmd_postfix": "",
     "delete_cmd_prefix": "del ",
     "library": "var_list.py",
     "varRefreshCmd": "print(var_dic_list())"
    },
    "r": {
     "delete_cmd_postfix": ") ",
     "delete_cmd_prefix": "rm(",
     "library": "var_list.r",
     "varRefreshCmd": "cat(var_dic_list()) "
    }
   },
   "types_to_exclude": [
    "module",
    "function",
    "builtin_function_or_method",
    "instance",
    "_Feature"
   ],
   "window_display": false
  }
 },
 "nbformat": 4,
 "nbformat_minor": 2
}
