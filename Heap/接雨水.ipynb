{
 "cells": [
  {
   "cell_type": "markdown",
   "metadata": {},
   "source": [
    "**[LeetCode Link](https://leetcode-cn.com/problems/trapping-rain-water-ii/solution/you-xian-dui-lie-de-si-lu-jie-jue-jie-yu-shui-ii-b/)**\n",
    "\n",
    "**[Youtube Link](https://www.youtube.com/watch?v=cJayBq38VYw)**"
   ]
  },
  {
   "cell_type": "markdown",
   "metadata": {},
   "source": [
    "## 优先级队列（BFS+最小堆）\n",
    "接雨水I中，我们维护了左右两个最高的墙，那么在这里，就是维护周围一个圈，用堆来维护周围这一圈中的最小元素。为什么是维护最小的元素不是最大的元素呢，因为木桶原理呀。这个最小的元素从堆里弹出来，和它四个方向的元素去比较大小，看能不能往里灌水，怎么灌水呢，如果用方向就比较复杂了，我们可以用visited数组来表示哪些遍历过，哪些没遍历过。如果当前弹出来的高度比它周围的大，他就能往矮的里面灌水了，灌水后要把下一个柱子放进去的时候，放的高度要取两者较大的，也就是灌水后的高度，不是它原来矮的时候的高度了，如果不能灌水，继续走。"
   ]
  },
  {
   "cell_type": "code",
   "execution_count": null,
   "metadata": {},
   "outputs": [],
   "source": [
    "from heapq import *\n",
    "class Solution:\n",
    "    def trapRainWater(self, heightMap: List[List[int]]) -> int:\n",
    "        \"\"\"\n",
    "        水从高出往低处流，某个位置储水量取决于四周最低高度，从最外层向里层包抄，用小顶堆动态找到未访问位置最小的高度\n",
    "        \"\"\"\n",
    "        if not heightMap:return 0\n",
    "        imax = float('-inf')\n",
    "        ans = 0\n",
    "        heap = []\n",
    "        visited = set()\n",
    "        row = len(heightMap)\n",
    "        col = len(heightMap[0])\n",
    "        # 将最外层放入小顶堆\n",
    "        # 第一行和最后一行\n",
    "        for j in range(col):\n",
    "            # 将该位置的高度、横纵坐标插入堆\n",
    "            heappush(heap, [heightMap[0][j], 0, j])  \n",
    "            heappush(heap, [heightMap[row - 1][j], row - 1, j])\n",
    "            visited.add((0, j))\n",
    "            visited.add((row - 1, j))\n",
    "        # 第一列和最后一列\n",
    "        for i in range(row):\n",
    "            heappush(heap, [heightMap[i][0], i, 0])\n",
    "            heappush(heap, [heightMap[i][col - 1], i, col - 1])\n",
    "            visited.add((i, 0))\n",
    "            visited.add((i, col - 1))\n",
    "        while heap:\n",
    "            h, i, j = heappop(heap)\n",
    "            # 之前最低高度的四周已经探索过了，所以要更新为次低高度开始探索\n",
    "            imax = max(imax, h)  \n",
    "            # 从堆顶元素出发，探索四周储水位置\n",
    "            for x, y in [[0, 1], [1, 0], [0, -1], [-1, 0]]:\n",
    "                tmp_x = x + i \n",
    "                tmp_y = y + j\n",
    "                # 是否到达边界\n",
    "                if tmp_x < 0 or tmp_y < 0 or tmp_x >= row or tmp_y >= col or (tmp_x, tmp_y) in visited:\n",
    "                    continue\n",
    "                visited.add((tmp_x, tmp_y))\n",
    "                if heightMap[tmp_x][tmp_y] < imax:\n",
    "                    ans += imax - heightMap[tmp_x][tmp_y]\n",
    "                heappush(heap, [heightMap[tmp_x][tmp_y], tmp_x, tmp_y])\n",
    "        return ans"
   ]
  }
 ],
 "metadata": {
  "kernelspec": {
   "display_name": "Python [conda root]",
   "language": "python",
   "name": "conda-root-py"
  },
  "language_info": {
   "codemirror_mode": {
    "name": "ipython",
    "version": 3
   },
   "file_extension": ".py",
   "mimetype": "text/x-python",
   "name": "python",
   "nbconvert_exporter": "python",
   "pygments_lexer": "ipython3",
   "version": "3.6.5"
  },
  "varInspector": {
   "cols": {
    "lenName": 16,
    "lenType": 16,
    "lenVar": 40
   },
   "kernels_config": {
    "python": {
     "delete_cmd_postfix": "",
     "delete_cmd_prefix": "del ",
     "library": "var_list.py",
     "varRefreshCmd": "print(var_dic_list())"
    },
    "r": {
     "delete_cmd_postfix": ") ",
     "delete_cmd_prefix": "rm(",
     "library": "var_list.r",
     "varRefreshCmd": "cat(var_dic_list()) "
    }
   },
   "types_to_exclude": [
    "module",
    "function",
    "builtin_function_or_method",
    "instance",
    "_Feature"
   ],
   "window_display": false
  }
 },
 "nbformat": 4,
 "nbformat_minor": 2
}
