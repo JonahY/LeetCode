{
 "cells": [
  {
   "cell_type": "markdown",
   "metadata": {},
   "source": [
    "### **[LeetCode Link](https://leetcode-cn.com/problems/swim-in-rising-water/solution/shui-wei-shang-sheng-de-yong-chi-zhong-you-yong-by/)**"
   ]
  },
  {
   "cell_type": "markdown",
   "metadata": {},
   "source": [
    "## 最小堆\n",
    "### 思路和算法\n",
    "用优先队列保存下一步可以游向的平台，每次都选择高度最小的平台。以这种方式到达终点时，路径中遇到的最高平台就是答案。\n",
    "### 复杂度分析\n",
    "* 时间复杂度： $O(N^2 \\log N)$。最大需要经过 $O(N^2)$ 个节点，每个节点需要 $O(\\log N)$ 的时间来完成堆操作。\n",
    "* 空间复杂度： $O(N^2)$，其为堆的最大值。"
   ]
  },
  {
   "cell_type": "code",
   "execution_count": 46,
   "metadata": {
    "ExecuteTime": {
     "end_time": "2020-08-11T07:58:30.929032Z",
     "start_time": "2020-08-11T07:58:30.924017Z"
    }
   },
   "outputs": [],
   "source": [
    "class Solution:\n",
    "    def swimInWater(self, grid) -> int:\n",
    "        N = len(grid)\n",
    "        done = {(0, 0)}\n",
    "        heap = [(grid[0][0], 0, 0)]\n",
    "        max_time = 0\n",
    "        while heap:\n",
    "            high, i, j = heapq.heappop(heap)\n",
    "            max_time = max(max_time, high)\n",
    "            print(i, j)\n",
    "            print(max_time)\n",
    "            if i == j == N - 1: return max_time\n",
    "            for x, y in ((i - 1, j), (i + 1, j), (i, j - 1), (i, j + 1)):\n",
    "                if 0 <= x < N and 0 <= y < N and (x, y) not in done:\n",
    "                    done.add((x, y))\n",
    "                    heapq.heappush(heap, (grid[x][y], x, y))\n",
    "                    print(done)\n",
    "                    print(heap)"
   ]
  },
  {
   "cell_type": "code",
   "execution_count": null,
   "metadata": {},
   "outputs": [],
   "source": [
    "class Solution {\n",
    "    public int swimInWater(int[][] grid) {\n",
    "        int N = grid.length;\n",
    "        boolean[][] visited = new boolean[N][N];\n",
    "        int maxTime = 0;\n",
    "        int[][] directions = {{0, 1}, {0, -1}, {1, 0}, {-1, 0}};\n",
    "        PriorityQueue<Entry> queue = new PriorityQueue<Entry>(new Comparator<Entry>() {\n",
    "            @Override\n",
    "            public int compare(Entry entry1, Entry entry2) {\n",
    "                return entry1.val - entry2.val;\n",
    "            }\n",
    "        });\n",
    "        queue.offer(new Entry(0, 0, grid[0][0]));\n",
    "        while (!queue.isEmpty()) {\n",
    "            Entry entry = queue.poll();\n",
    "            if (visited[entry.i][entry.j]) {\n",
    "                continue;\n",
    "            }\n",
    "            maxTime = Math.max(maxTime, entry.val);\n",
    "            visited[entry.i][entry.j] = true;\n",
    "            if (entry.i == (N - 1) && entry.j == (N - 1)) {\n",
    "                break;\n",
    "            }\n",
    "            for (int[] direction : directions) {\n",
    "                int x = entry.i + direction[0];\n",
    "                int y = entry.j + direction[1];\n",
    "                if (x >= 0 && x < N && y >= 0 && y < N && !visited[x][y]) {\n",
    "                    queue.offer(new Entry(x, y, grid[x][y]));\n",
    "                }\n",
    "            }\n",
    "        }\n",
    "        return maxTime;\n",
    "    }\n",
    "}\n",
    "\n",
    "class Entry {\n",
    "    int i;\n",
    "    int j;\n",
    "    int val;\n",
    "\n",
    "    public Entry(int i, int j, int val) {\n",
    "        this.i = i;\n",
    "        this.j = j;\n",
    "        this.val = val;\n",
    "    }\n",
    "}"
   ]
  },
  {
   "cell_type": "markdown",
   "metadata": {},
   "source": [
    "## 二分法+BFS\n",
    "### 思路和算法\n",
    "可以发现是否能完成是根据时间的单调函数，因此可以用二分搜索来找到最少耗时。即找到最小 T 使得从起点游到终点成为可能。设最少耗时为 T，用深度优先搜索来检查是否有可能从起点游到终点。\n",
    "\n",
    "  * 假设所有平台最低高度、最高高度分别为`min、max`，答案就在区间 `[min, max]` 内不过有个点要注意，起点的高度如果大于`min`，得到的结果可能是错的，说白了不允许从高平台跳水跳到低平台，\n",
    "  * 所以答案的精确区间是`[grid[0][0], max]`\n",
    "\n",
    "### 复杂度分析\n",
    "* 时间复杂度：$O(N^2 \\log N)$。深度优先搜索的复杂度为 $O(N^2)$，最多需要搜索 $O(\\log N)$ 次。\n",
    "* 空间复杂度：$O(N^2)$，栈的大小。"
   ]
  },
  {
   "cell_type": "code",
   "execution_count": null,
   "metadata": {},
   "outputs": [],
   "source": [
    "class Solution(object):\n",
    "    def swimInWater(self, grid):\n",
    "        N = len(grid)\n",
    "\n",
    "        def possible(T):\n",
    "            stack = [(0, 0)]\n",
    "            seen = {(0, 0)}\n",
    "            while stack:\n",
    "                r, c = stack.pop()\n",
    "                if r == c == N - 1: return True\n",
    "                for cr, cc in ((r - 1, c), (r + 1, c), (r, c - 1), (r, c + 1)):\n",
    "                    if (0 <= cr < N and 0 <= cc < N and (cr, cc) not in seen\n",
    "                            and grid[cr][cc] <= T):\n",
    "                        stack.append((cr, cc))\n",
    "                        seen.add((cr, cc))\n",
    "            return False\n",
    "\n",
    "        lo, hi = grid[0][0], N * N\n",
    "        while lo < hi:\n",
    "            mi = (lo + hi) / 2\n",
    "            if not possible(mi):\n",
    "                lo = mi + 1\n",
    "            else:\n",
    "                hi = mi\n",
    "        return lo"
   ]
  },
  {
   "cell_type": "code",
   "execution_count": null,
   "metadata": {},
   "outputs": [],
   "source": [
    "class Solution {\n",
    "    public int swimInWater(int[][] grid) {\n",
    "        int n = grid.length;\n",
    "        int left = 0, right = n * n - 1;\n",
    "        while (left < right) {\n",
    "            int mid = (left + right) / 2;\n",
    "            if (check(grid, mid)) {\n",
    "                right = mid;\n",
    "            } else {\n",
    "                left = mid + 1;\n",
    "            }\n",
    "        }\n",
    "        return left;\n",
    "    }\n",
    "\n",
    "    private boolean check(int[][] grid, int threshold) {\n",
    "        if (grid[0][0] > threshold) {\n",
    "            return false;\n",
    "        }\n",
    "        int n = grid.length;\n",
    "        boolean[][] visited = new boolean[n][n];\n",
    "        visited[0][0] = true;\n",
    "        Queue<int[]> queue = new LinkedList<int[]>();\n",
    "        queue.offer(new int[]{0, 0});\n",
    "\n",
    "        int[][] directions = {{0, 1}, {0, -1}, {1, 0}, {-1, 0}};\n",
    "        while (!queue.isEmpty()) {\n",
    "            int[] square = queue.poll();\n",
    "            int i = square[0], j = square[1];\n",
    "            if (i == n - 1 && j == n - 1) {\n",
    "                return true;\n",
    "            }\n",
    "            for (int[] direction : directions) {\n",
    "                int ni = i + direction[0], nj = j + direction[1];\n",
    "                if (ni >= 0 && ni < n && nj >= 0 && nj < n) {\n",
    "                    if (!visited[ni][nj] && grid[ni][nj] <= threshold) {\n",
    "                        queue.offer(new int[]{ni, nj});\n",
    "                        visited[ni][nj] = true;\n",
    "                    }\n",
    "                }\n",
    "            }\n",
    "        }\n",
    "        return false;\n",
    "    }\n",
    "}"
   ]
  }
 ],
 "metadata": {
  "kernelspec": {
   "display_name": "Python 3",
   "language": "python",
   "name": "python3"
  },
  "language_info": {
   "codemirror_mode": {
    "name": "ipython",
    "version": 3
   },
   "file_extension": ".py",
   "mimetype": "text/x-python",
   "name": "python",
   "nbconvert_exporter": "python",
   "pygments_lexer": "ipython3",
   "version": "3.8.5"
  },
  "toc": {
   "base_numbering": 1,
   "nav_menu": {},
   "number_sections": true,
   "sideBar": true,
   "skip_h1_title": false,
   "title_cell": "Table of Contents",
   "title_sidebar": "Contents",
   "toc_cell": false,
   "toc_position": {},
   "toc_section_display": true,
   "toc_window_display": false
  },
  "varInspector": {
   "cols": {
    "lenName": 16,
    "lenType": 16,
    "lenVar": 40
   },
   "kernels_config": {
    "python": {
     "delete_cmd_postfix": "",
     "delete_cmd_prefix": "del ",
     "library": "var_list.py",
     "varRefreshCmd": "print(var_dic_list())"
    },
    "r": {
     "delete_cmd_postfix": ") ",
     "delete_cmd_prefix": "rm(",
     "library": "var_list.r",
     "varRefreshCmd": "cat(var_dic_list()) "
    }
   },
   "types_to_exclude": [
    "module",
    "function",
    "builtin_function_or_method",
    "instance",
    "_Feature"
   ],
   "window_display": false
  }
 },
 "nbformat": 4,
 "nbformat_minor": 2
}
