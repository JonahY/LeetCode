{
 "cells": [
  {
   "cell_type": "markdown",
   "metadata": {},
   "source": [
    "**[LeetCode Link](https://leetcode-cn.com/problems/ugly-number-ii/solution/chou-shu-ii-by-leetcode/)**"
   ]
  },
  {
   "cell_type": "markdown",
   "metadata": {},
   "source": [
    "## 动态规划"
   ]
  },
  {
   "cell_type": "code",
   "execution_count": null,
   "metadata": {},
   "outputs": [],
   "source": [
    "class Solution:\n",
    "    def nthSuperUglyNumber(self, n: int, primes: List[int]) -> int:\n",
    "        nums = [1, ]\n",
    "        mid = [0] * len(primes)\n",
    "\n",
    "        for _ in range(n):\n",
    "            ugly = min(nums[mid[i]] * j for i, j in enumerate(primes))\n",
    "            nums.append(ugly)\n",
    "            for i, j in enumerate(primes):\n",
    "                if ugly == nums[mid[i]] * j: \n",
    "                    mid[i] += 1        \n",
    "        \n",
    "        return nums[n - 1]"
   ]
  },
  {
   "cell_type": "markdown",
   "metadata": {},
   "source": [
    "## 堆"
   ]
  },
  {
   "cell_type": "code",
   "execution_count": null,
   "metadata": {},
   "outputs": [],
   "source": [
    "class Solution:\n",
    "    def nthSuperUglyNumber(self, n: int, primes: List[int]) -> int:\n",
    "        seen = {1, }\n",
    "        self.nums = nums = []\n",
    "        heap = []\n",
    "        heappush(heap, 1)\n",
    "\n",
    "        for _ in range(n):\n",
    "            curr_ugly = heappop(heap)\n",
    "            nums.append(curr_ugly)\n",
    "            for i in primes:\n",
    "                new_ugly = curr_ugly * i\n",
    "                if new_ugly not in seen:\n",
    "                    seen.add(new_ugly)\n",
    "                    heappush(heap, new_ugly)       \n",
    "        \n",
    "        return nums[n - 1]"
   ]
  }
 ],
 "metadata": {
  "kernelspec": {
   "display_name": "Python [conda root]",
   "language": "python",
   "name": "conda-root-py"
  },
  "language_info": {
   "codemirror_mode": {
    "name": "ipython",
    "version": 3
   },
   "file_extension": ".py",
   "mimetype": "text/x-python",
   "name": "python",
   "nbconvert_exporter": "python",
   "pygments_lexer": "ipython3",
   "version": "3.6.5"
  },
  "varInspector": {
   "cols": {
    "lenName": 16,
    "lenType": 16,
    "lenVar": 40
   },
   "kernels_config": {
    "python": {
     "delete_cmd_postfix": "",
     "delete_cmd_prefix": "del ",
     "library": "var_list.py",
     "varRefreshCmd": "print(var_dic_list())"
    },
    "r": {
     "delete_cmd_postfix": ") ",
     "delete_cmd_prefix": "rm(",
     "library": "var_list.r",
     "varRefreshCmd": "cat(var_dic_list()) "
    }
   },
   "types_to_exclude": [
    "module",
    "function",
    "builtin_function_or_method",
    "instance",
    "_Feature"
   ],
   "window_display": false
  }
 },
 "nbformat": 4,
 "nbformat_minor": 2
}
