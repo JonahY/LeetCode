{
 "cells": [
  {
   "cell_type": "markdown",
   "metadata": {},
   "source": [
    "**[LeetCode Link](https://leetcode-cn.com/problems/ugly-number-ii/solution/chou-shu-ii-by-leetcode/)**"
   ]
  },
  {
   "cell_type": "markdown",
   "metadata": {},
   "source": [
    "## 动态规划\n",
    "让我们从数组中只包含一个丑数数字 1 开始，使用三个指针 $i_2$ , $i_3$ 和 $i_5$，标记所指向丑数要乘以的因子。\n",
    "\n",
    "算法很简单：在 $2\\times\\textrm{nums}[i_2]$，$3\\times\\textrm{nums}[i_3]$ 和 $5\\times\\textrm{nums}[i_5]$ 选出最小的丑数并添加到数组中。并将该丑数对应的因子指针往前走一步。重复该步骤直到计算完 $1690$ 个丑数。\n",
    "\n",
    "### 算法：\n",
    "* 预计算 $1690$ 个丑数：\n",
    "  * 初始化数组 $\\textrm{nums}$ 和三个指针 $i_2$ , $i_3$ 和 $i_5$ 。\n",
    "  * 循环计算所有丑数。每一步：\n",
    "    * 在 $2\\times\\textrm{nums}[i_2]$，$3\\times\\textrm{nums}[i_3]$ 和 $5\\times\\textrm{nums}[i_5]$ 选出最小的数字添加到数组 $\\textrm{nums}$ 中。\n",
    "    * 将该数字对应的因子指针向前移动一步。\n",
    "* 在数组中返回所需的丑数。\n",
    "\n",
    "### 复杂度分析\n",
    "* 时间复杂度：$\\mathcal{O}(1)$ 时间检索答案和大约 $1690\\times5 = 8450$ 次的预计算操作。\n",
    "* 空间复杂度：常数空间用保存 $1690$ 个丑数。"
   ]
  },
  {
   "cell_type": "code",
   "execution_count": null,
   "metadata": {},
   "outputs": [],
   "source": [
    "class Ugly:\n",
    "    def __init__(self):\n",
    "        self.nums = nums = [1, ]\n",
    "        i2 = i3 = i5 = 0\n",
    "\n",
    "        for i in range(1, 1690):\n",
    "            ugly = min(nums[i2] * 2, nums[i3] * 3, nums[i5] * 5)\n",
    "            nums.append(ugly)\n",
    "\n",
    "            if ugly == nums[i2] * 2: \n",
    "                i2 += 1\n",
    "            if ugly == nums[i3] * 3:\n",
    "                i3 += 1\n",
    "            if ugly == nums[i5] * 5:\n",
    "                i5 += 1\n",
    "            \n",
    "class Solution:\n",
    "    u = Ugly()\n",
    "    def nthUglyNumber(self, n):\n",
    "        return self.u.nums[n - 1]"
   ]
  },
  {
   "cell_type": "markdown",
   "metadata": {},
   "source": [
    "## 堆\n",
    "我们从堆中包含一个数字开始：$1$，去计算下一个丑数。将 $1$ 从堆中弹出然后将三个数字添加到堆中：$1\\times2$, $1\\times3$，和 $1\\times5$。\n",
    "\n",
    "现在堆中最小的数字是 2。为了计算下一个丑数，要将 2 从堆中弹出然后添加三个数字：$2\\times2$, $2\\times3$，和 $2\\times5$。\n",
    "\n",
    "重复该步骤计算所有丑数。在每个步骤中，弹出堆中最小的丑数 kk，并在堆中添加三个丑数：$k\\times2$, $k\\times3$，和 $k\\times5$。\n",
    "\n",
    "### 算法：\n",
    "* 预计算 $1690$ 个丑数：\n",
    "  * 初始化预计算用到的数组 `nums`，堆 `heap` 和哈希表 `seen` 跟踪在堆中出现过的元素，避免重复。\n",
    "  * 循环计算丑数，每个步骤：\n",
    "    * 弹出堆中最小的数字 `k` 并添加到数组 `nums` 中。\n",
    "    * 若 `2k，3k，5k` 不存在在哈希表中，则将其添加到栈中并更新哈希表。\n",
    "* 返回在数组中预先计算好的丑数。\n",
    "\n",
    "### 复杂度分析\n",
    "* 时间复杂度：$\\mathcal{O}(1)$ 的时间检索答案。和超过 $12\\times10^6$ 次预计算操作。\n",
    "* 空间复杂度：常数空间存储 $1690$ 个丑数，和堆中不超过 $1690\\times2$ 的元素和哈希表中不超过 $1690\\times3$ 的元素。"
   ]
  },
  {
   "cell_type": "code",
   "execution_count": null,
   "metadata": {},
   "outputs": [],
   "source": [
    "from heapq import heappop, heappush\n",
    "class Ugly:\n",
    "    def __init__(self):\n",
    "        seen = {1, }\n",
    "        self.nums = nums = []\n",
    "        heap = []\n",
    "        heappush(heap, 1)\n",
    "\n",
    "        for _ in range(1690):\n",
    "            curr_ugly = heappop(heap)\n",
    "            nums.append(curr_ugly)\n",
    "            for i in [2, 3, 5]:\n",
    "                new_ugly = curr_ugly * i\n",
    "                if new_ugly not in seen:\n",
    "                    seen.add(new_ugly)\n",
    "                    heappush(heap, new_ugly)\n",
    "    \n",
    "class Solution:\n",
    "    u = Ugly()\n",
    "    def nthUglyNumber(self, n):\n",
    "        return self.u.nums[n - 1]"
   ]
  }
 ],
 "metadata": {
  "kernelspec": {
   "display_name": "Python 3",
   "language": "python",
   "name": "python3"
  },
  "language_info": {
   "codemirror_mode": {
    "name": "ipython",
    "version": 3
   },
   "file_extension": ".py",
   "mimetype": "text/x-python",
   "name": "python",
   "nbconvert_exporter": "python",
   "pygments_lexer": "ipython3",
   "version": "3.8.5"
  },
  "varInspector": {
   "cols": {
    "lenName": 16,
    "lenType": 16,
    "lenVar": 40
   },
   "kernels_config": {
    "python": {
     "delete_cmd_postfix": "",
     "delete_cmd_prefix": "del ",
     "library": "var_list.py",
     "varRefreshCmd": "print(var_dic_list())"
    },
    "r": {
     "delete_cmd_postfix": ") ",
     "delete_cmd_prefix": "rm(",
     "library": "var_list.r",
     "varRefreshCmd": "cat(var_dic_list()) "
    }
   },
   "types_to_exclude": [
    "module",
    "function",
    "builtin_function_or_method",
    "instance",
    "_Feature"
   ],
   "window_display": false
  }
 },
 "nbformat": 4,
 "nbformat_minor": 2
}
