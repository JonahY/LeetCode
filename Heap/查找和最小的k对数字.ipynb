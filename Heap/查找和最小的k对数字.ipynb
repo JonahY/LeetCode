{
 "cells": [
  {
   "cell_type": "markdown",
   "metadata": {},
   "source": [
    "**[LeetCode Link](https://leetcode-cn.com/problems/find-k-pairs-with-smallest-sums/solution/pyhont3yi-xing-jie-fa-dao-gao-xiao-jie-fa-by-ml-zi/)**"
   ]
  },
  {
   "attachments": {
    "cba00e2cb2cf8a1158aa8caff0c42259a0263bbb5e623e99c2280da21bdd875d-%E7%BB%84%E5%90%882.png": {
     "image/png": "[encoded data removed]"
    }
   },
   "cell_type": "markdown",
   "metadata": {},
   "source": [
    "## 优先队列\n",
    "它仅从矩阵左上角的第一对开始，然后根据需要从那里开始扩展。 每当将一对选择为输出结果时，该行中的下一对就会添加到当前选项的优先队列中。 同样，如果所选对是该行中的第一对，则将下一行中的第一对添加到队列中。\n",
    "![cba00e2cb2cf8a1158aa8caff0c42259a0263bbb5e623e99c2280da21bdd875d-%E7%BB%84%E5%90%882.png](attachment:cba00e2cb2cf8a1158aa8caff0c42259a0263bbb5e623e99c2280da21bdd875d-%E7%BB%84%E5%90%882.png)"
   ]
  },
  {
   "cell_type": "code",
   "execution_count": null,
   "metadata": {
    "ExecuteTime": {
     "end_time": "2020-08-01T06:31:04.554454Z",
     "start_time": "2020-08-01T06:31:04.509544Z"
    }
   },
   "outputs": [],
   "source": [
    "class Solution:\n",
    "    def kSmallestPairs(self, nums1: List[int], nums2: List[int], k: int) -> List[List[int]]:\n",
    "        queue = []\n",
    "        \n",
    "        def push(i, j): \n",
    "            if i < len(nums1) and j < len(nums2): \n",
    "                heapq.heappush(queue, [nums1[i] + nums2[j], i, j])\n",
    "        \n",
    "        push(0, 0)\n",
    "        res = []\n",
    "        while queue and len(res) < k: \n",
    "            _, i, j = heapq.heappop(queue)\n",
    "            res.append([nums1[i], nums2[j]])\n",
    "            push(i, j + 1)\n",
    "            if j == 0: \n",
    "                push(i + 1, 0)\n",
    "        return res"
   ]
  },
  {
   "cell_type": "markdown",
   "metadata": {},
   "source": [
    "## 优化的暴力\n",
    "仍然遍历所有对，但仅使用生成器和使用大小为 k 的堆heapq.nsmallest。 因此，这仅需要 $\\mathcal{O}(k)$ 的额外内存和 $\\mathcal{O}(mn \\log k)$ 的时间。"
   ]
  },
  {
   "cell_type": "code",
   "execution_count": null,
   "metadata": {},
   "outputs": [],
   "source": [
    "import heapq\n",
    "import itertools\n",
    "class Solution:\n",
    "    def kSmallestPairs(self, nums1, nums2, k):\n",
    "        return map(list, heapq.nsmallest(k, itertools.product(nums1, nums2), key=sum))"
   ]
  },
  {
   "cell_type": "code",
   "execution_count": null,
   "metadata": {},
   "outputs": [],
   "source": [
    "import heapq\n",
    "class Solution:\n",
    "    def kSmallestPairs(self, nums1: List[int], nums2: List[int], k: int) -> List[List[int]]:\n",
    "        if not nums1 or not nums2: return []\n",
    "        res = []\n",
    "        head = []\n",
    "        for i in nums1:\n",
    "            for j in nums2:\n",
    "                heapq.heappush(head,[i+j, i, j])\n",
    "        for i in range(min(k,len(nums1)*len(nums2))):\n",
    "            res.append(heapq.heappop(head)[-2:])\n",
    "        return res"
   ]
  }
 ],
 "metadata": {
  "kernelspec": {
   "display_name": "Python [conda root]",
   "language": "python",
   "name": "conda-root-py"
  },
  "language_info": {
   "codemirror_mode": {
    "name": "ipython",
    "version": 3
   },
   "file_extension": ".py",
   "mimetype": "text/x-python",
   "name": "python",
   "nbconvert_exporter": "python",
   "pygments_lexer": "ipython3",
   "version": "3.6.5"
  },
  "varInspector": {
   "cols": {
    "lenName": 16,
    "lenType": 16,
    "lenVar": 40
   },
   "kernels_config": {
    "python": {
     "delete_cmd_postfix": "",
     "delete_cmd_prefix": "del ",
     "library": "var_list.py",
     "varRefreshCmd": "print(var_dic_list())"
    },
    "r": {
     "delete_cmd_postfix": ") ",
     "delete_cmd_prefix": "rm(",
     "library": "var_list.r",
     "varRefreshCmd": "cat(var_dic_list()) "
    }
   },
   "types_to_exclude": [
    "module",
    "function",
    "builtin_function_or_method",
    "instance",
    "_Feature"
   ],
   "window_display": false
  }
 },
 "nbformat": 4,
 "nbformat_minor": 2
}
