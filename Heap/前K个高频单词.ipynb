{
 "cells": [
  {
   "cell_type": "markdown",
   "metadata": {},
   "source": [
    "**[LeetCode Link](https://leetcode-cn.com/problems/top-k-frequent-words/solution/qian-kge-gao-pin-dan-ci-by-leetcode/)**"
   ]
  },
  {
   "cell_type": "markdown",
   "metadata": {},
   "source": [
    "## 排序\n",
    "### 算法：\n",
    "计算每个单词的频率，并使用使用这些频率的自定义排序关系对单词进行排序。然后取前 k。\n",
    "### 复杂度分析\n",
    "* 时间复杂度：$\\mathcal{O}(N \\log{N})$。其中 NN 是 words 的长度。我们用 $\\mathcal{O}(N)$ 时间计算每个单词的频率，然后用 $\\mathcal{O}(N \\log{N})$ 时间对给定的单词进行排序。\n",
    "* 空间复杂度：$\\mathcal{O}(N)$，用来存放候答案的地方"
   ]
  },
  {
   "cell_type": "code",
   "execution_count": null,
   "metadata": {},
   "outputs": [],
   "source": [
    "class Solution(object):\n",
    "    def topKFrequent(self, words, k):\n",
    "        count = collections.Counter(words)\n",
    "        candidates = count.keys()\n",
    "        return sorted(candidates, key = lambda w: (-count[w], w))[:k]"
   ]
  },
  {
   "cell_type": "markdown",
   "metadata": {},
   "source": [
    "## 堆\n",
    "### 算法：\n",
    "* 计算每个单词的频率，然后将其添加到存储到大小为 k 的小根堆中。它将频率最小的候选项放在堆的顶部。最后，我们从堆中弹出最多 k 次，并反转结果，就可以得到前 k 个高频单词。\n",
    "* 在 Python 中，我们使用 heapq\\heapify，它可以在线性时间内将列表转换为堆，从而简化了我们的工作。\n",
    "\n",
    "### 复杂度分析\n",
    "* 时间复杂度： $\\mathcal{O}(N \\log{k})$。其中 NN 是 words 的长度。我们用 $\\mathcal{O}(N)$ 的时间计算每个单词的频率，然后将 NN 个单词添加到堆中，添加每个单词的时间为 $\\mathcal{O}(\\log {k})$ 。最后，我们从堆中弹出最多 $k$ 次。因为 $k \\leq Nk≤N$ 的值，总共是 $\\mathcal{O}(N \\log{k})$。\n",
    "* 空间复杂度：$\\mathcal{O}(N)$，用于存储我们计数的空间"
   ]
  },
  {
   "cell_type": "code",
   "execution_count": null,
   "metadata": {},
   "outputs": [],
   "source": [
    "class Solution(object):\n",
    "    def topKFrequent(self, words, k):\n",
    "        count = collections.Counter(words)\n",
    "        heap = [(-freq, word) for word, freq in count.items()]\n",
    "        heapq.heapify(heap)\n",
    "        return [heapq.heappop(heap)[1] for _ in range(k)]"
   ]
  }
 ],
 "metadata": {
  "kernelspec": {
   "display_name": "Python [conda root]",
   "language": "python",
   "name": "conda-root-py"
  },
  "language_info": {
   "codemirror_mode": {
    "name": "ipython",
    "version": 3
   },
   "file_extension": ".py",
   "mimetype": "text/x-python",
   "name": "python",
   "nbconvert_exporter": "python",
   "pygments_lexer": "ipython3",
   "version": "3.6.5"
  },
  "varInspector": {
   "cols": {
    "lenName": 16,
    "lenType": 16,
    "lenVar": 40
   },
   "kernels_config": {
    "python": {
     "delete_cmd_postfix": "",
     "delete_cmd_prefix": "del ",
     "library": "var_list.py",
     "varRefreshCmd": "print(var_dic_list())"
    },
    "r": {
     "delete_cmd_postfix": ") ",
     "delete_cmd_prefix": "rm(",
     "library": "var_list.r",
     "varRefreshCmd": "cat(var_dic_list()) "
    }
   },
   "types_to_exclude": [
    "module",
    "function",
    "builtin_function_or_method",
    "instance",
    "_Feature"
   ],
   "window_display": false
  }
 },
 "nbformat": 4,
 "nbformat_minor": 2
}
