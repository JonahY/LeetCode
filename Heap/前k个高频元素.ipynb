{
 "cells": [
  {
   "cell_type": "markdown",
   "metadata": {},
   "source": [
    "**[LeetCode Link](https://leetcode-cn.com/problems/top-k-frequent-elements/solution/leetcode-di-347-hao-wen-ti-qian-k-ge-gao-pin-yuan-/)**"
   ]
  },
  {
   "cell_type": "markdown",
   "metadata": {},
   "source": [
    "## 堆\n",
    "### 算法\n",
    "* 借助 `哈希表` 来建立数字和其出现次数的映射，遍历一遍数组统计元素的频率\n",
    "* 根据元素频率建立一个最大堆\n",
    "* 弹出堆顶端的元素 $k$ 次，将弹出的元素添加进结果中\n",
    "* 最终，结果中的 $k$ 个元素即为前 $k$ 个高频元素"
   ]
  },
  {
   "cell_type": "code",
   "execution_count": null,
   "metadata": {},
   "outputs": [],
   "source": [
    "class Solution:\n",
    "    def topKFrequent(self, nums: List[int], k: int) -> List[int]:\n",
    "        dic = Counter(nums)\n",
    "        queue, res = [], []\n",
    "        for i in dic:\n",
    "            heapq.heappush(queue, (-dic[i], i))\n",
    "        for i in range(k):\n",
    "            tmp = heapq.heappop(queue)\n",
    "            res.append(tmp[1])\n",
    "        return res"
   ]
  },
  {
   "cell_type": "code",
   "execution_count": null,
   "metadata": {},
   "outputs": [],
   "source": [
    "class Solution:\n",
    "    def topKFrequent(self, nums: List[int], k: int) -> List[int]:\n",
    "        dic = Counter(nums)\n",
    "        res = sorted(dic.items(), key=lambda item:item[1], reverse=True)\n",
    "        return list(map(lambda x:x[0], res))[:k]"
   ]
  },
  {
   "cell_type": "markdown",
   "metadata": {},
   "source": [
    "## 桶排序法\n",
    "首先依旧使用哈希表统计频率，统计完成后，创建一个数组，将频率作为数组下标，对于出现频率不同的数字集合，存入对应的数组下标即可。\n",
    "\n",
    "### 复杂度分析\n",
    "* 时间复杂度：$\\mathcal{O}(n)$，$n$ 表示数组的长度。首先，遍历一遍数组统计元素的频率，这一系列操作的时间复杂度是 $\\mathcal{O}(n)$；桶的数量为$n+1$，所以桶排序的时间复杂度为 $\\mathcal{O}(n)$；因此，总的时间复杂度是 $\\mathcal{O}(n)$。\n",
    "* 空间复杂度：很明显为 $\\mathcal{O}(n)$"
   ]
  },
  {
   "cell_type": "code",
   "execution_count": 45,
   "metadata": {
    "ExecuteTime": {
     "end_time": "2020-07-31T07:50:23.872100Z",
     "start_time": "2020-07-31T07:50:23.868136Z"
    }
   },
   "outputs": [],
   "source": [
    "from collections import Counter\n",
    "class Solution:\n",
    "    def topKFrequent(self, nums, k):\n",
    "        dic = Counter(nums)\n",
    "        ls = [[] for _ in range((len(nums)+1))]\n",
    "        res = []\n",
    "        for K, V in dic.items():\n",
    "            ls[V].append(K)\n",
    "        for i in ls[::-1]:\n",
    "            if not i:\n",
    "                continue\n",
    "            else:\n",
    "                for j in i:\n",
    "                    res.append(j)\n",
    "                    k -= 1\n",
    "            if k == 0:\n",
    "                break\n",
    "        return res"
   ]
  }
 ],
 "metadata": {
  "kernelspec": {
   "display_name": "Python [conda root]",
   "language": "python",
   "name": "conda-root-py"
  },
  "language_info": {
   "codemirror_mode": {
    "name": "ipython",
    "version": 3
   },
   "file_extension": ".py",
   "mimetype": "text/x-python",
   "name": "python",
   "nbconvert_exporter": "python",
   "pygments_lexer": "ipython3",
   "version": "3.6.5"
  },
  "varInspector": {
   "cols": {
    "lenName": 16,
    "lenType": 16,
    "lenVar": 40
   },
   "kernels_config": {
    "python": {
     "delete_cmd_postfix": "",
     "delete_cmd_prefix": "del ",
     "library": "var_list.py",
     "varRefreshCmd": "print(var_dic_list())"
    },
    "r": {
     "delete_cmd_postfix": ") ",
     "delete_cmd_prefix": "rm(",
     "library": "var_list.r",
     "varRefreshCmd": "cat(var_dic_list()) "
    }
   },
   "types_to_exclude": [
    "module",
    "function",
    "builtin_function_or_method",
    "instance",
    "_Feature"
   ],
   "window_display": false
  }
 },
 "nbformat": 4,
 "nbformat_minor": 2
}
