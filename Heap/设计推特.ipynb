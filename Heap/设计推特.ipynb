{
 "cells": [
  {
   "cell_type": "markdown",
   "metadata": {},
   "source": [
    "**[LeetCode Link](https://leetcode-cn.com/problems/design-twitter/solution/ha-xi-biao-lian-biao-you-xian-dui-lie-java-by-liwe/)**"
   ]
  },
  {
   "cell_type": "markdown",
   "metadata": {},
   "source": [
    "## 哈希表 + 链表 + 优先队列"
   ]
  },
  {
   "cell_type": "code",
   "execution_count": null,
   "metadata": {},
   "outputs": [],
   "source": [
    "from collections import defaultdict\n",
    "import heapq\n",
    "\n",
    "\n",
    "class Tweet:\n",
    "\n",
    "    def __init__(self, tweetId, timestamp):\n",
    "        self.id = tweetId\n",
    "        self.timestamp = timestamp\n",
    "        self.next = None\n",
    "\n",
    "    def __lt__(self, other):\n",
    "        return self.timestamp > other.timestamp\n",
    "\n",
    "\n",
    "class Twitter:\n",
    "\n",
    "    def __init__(self):\n",
    "        self.followings = defaultdict(set)\n",
    "        self.tweets = defaultdict(lambda: None)\n",
    "        self.timestamp = 0\n",
    "\n",
    "    def postTweet(self, userId: int, tweetId: int) -> None:\n",
    "        self.timestamp += 1\n",
    "        tweet = Tweet(tweetId, self.timestamp)\n",
    "        tweet.next = self.tweets[userId]\n",
    "        self.tweets[userId] = tweet\n",
    "\n",
    "    def getNewsFeed(self, userId: int) -> List[int]:\n",
    "        tweets = []\n",
    "        heap = []\n",
    "\n",
    "        tweet = self.tweets[userId]\n",
    "        if tweet:\n",
    "            heap.append(tweet)\n",
    "\n",
    "        for user in self.followings[userId]:\n",
    "            tweet = self.tweets[user]\n",
    "            if tweet:\n",
    "                heap.append(tweet)\n",
    "        heapq.heapify(heap)\n",
    "\n",
    "        while heap and len(tweets) < 10:\n",
    "            head = heapq.heappop(heap)\n",
    "            tweets.append(head.id)\n",
    "\n",
    "            if head.next:\n",
    "                heapq.heappush(heap, head.next)\n",
    "        return tweets\n",
    "\n",
    "    def follow(self, followerId: int, followeeId: int) -> None:\n",
    "        if followerId == followeeId:\n",
    "            return\n",
    "        self.followings[followerId].add(followeeId)\n",
    "\n",
    "    def unfollow(self, followerId: int, followeeId: int) -> None:\n",
    "        if followerId == followeeId:\n",
    "            return\n",
    "        self.followings[followerId].discard(followeeId)"
   ]
  },
  {
   "cell_type": "markdown",
   "metadata": {},
   "source": [
    "**[LeetCode Link](https://leetcode-cn.com/problems/design-twitter/solution/she-ji-tui-te-by-leetcode-solution/)**"
   ]
  },
  {
   "cell_type": "markdown",
   "metadata": {},
   "source": [
    "## 双字典加排序"
   ]
  },
  {
   "cell_type": "code",
   "execution_count": null,
   "metadata": {},
   "outputs": [],
   "source": [
    "class Twitter:\n",
    "\n",
    "    def __init__(self):\n",
    "        \"\"\"\n",
    "        Initialize your data structure here.\n",
    "        \"\"\"\n",
    "        self.count=0\n",
    "        self.user_follow = collections.defaultdict(set)\n",
    "        self.user_post = collections.defaultdict(list)\n",
    "    \n",
    "    def postTweet(self, userId: int, tweetId: int) -> None:\n",
    "        \"\"\"\n",
    "        Compose a new tweet.\n",
    "        \"\"\"\n",
    "        self.user_post[userId].append([self.count,tweetId])\n",
    "        self.count+=1\n",
    "\n",
    "        \n",
    "    def getNewsFeed(self, userId: int) -> List[int]:\n",
    "        \"\"\"\n",
    "        Retrieve the 10 most recent tweet ids in the user's news feed. Each item in the news feed must be posted by users who the user followed or by the user herself. Tweets must be ordered from most recent to least recent.\n",
    "        \"\"\"\n",
    "        persons = self.user_follow[userId]\n",
    "        temp = []\n",
    "        temp.extend(self.user_post[userId])\n",
    "        for person in persons:\n",
    "            temp.extend(self.user_post[person][-10:])\n",
    "        temp.sort(key=lambda x:-x[0])\n",
    "        res = []\n",
    "        for ele in temp[:10]:\n",
    "            res.append(ele[1])\n",
    "        return res\n",
    "        \n",
    "\n",
    "    def follow(self, followerId: int, followeeId: int) -> None:\n",
    "        \"\"\"\n",
    "        Follower follows a followee. If the operation is invalid, it should be a no-op.\n",
    "        \"\"\"\n",
    "        if followeeId!=followerId:\n",
    "            self.user_follow[followerId].add(followeeId)\n",
    "\n",
    "    def unfollow(self, followerId: int, followeeId: int) -> None:\n",
    "        \"\"\"\n",
    "        Follower unfollows a followee. If the operation is invalid, it should be a no-op.\n",
    "        \"\"\"\n",
    "        if followeeId in self.user_follow[followerId]: \n",
    "            self.user_follow[followerId].remove(followeeId)"
   ]
  },
  {
   "cell_type": "markdown",
   "metadata": {},
   "source": [
    "**[LeetCode Link](https://leetcode-cn.com/problems/design-twitter/solution/mian-xiang-dui-xiang-she-ji-he-bing-k-ge-you-xu-li/)**"
   ]
  },
  {
   "cell_type": "markdown",
   "metadata": {},
   "source": [
    "## 面向对象设计"
   ]
  },
  {
   "cell_type": "code",
   "execution_count": 125,
   "metadata": {
    "ExecuteTime": {
     "end_time": "2020-08-01T05:30:16.314136Z",
     "start_time": "2020-08-01T05:30:16.309147Z"
    }
   },
   "outputs": [],
   "source": [
    "import heapq\n",
    "\n",
    "class Tweet:\n",
    "    def __init__(self, tid: int, time: int) -> None:\n",
    "        self.tid = tid\n",
    "        self.time = time\n",
    "        self.next = None\n",
    "\n",
    "class User:\n",
    "    def __init__(self, uid: int):\n",
    "        self.uid = uid\n",
    "        self.following = set()\n",
    "        self.tweetlst = None\n",
    "        self.follow(uid)\n",
    "\n",
    "    def post(self, tid: int, time: int) -> None:\n",
    "        tweet = Tweet(tid, time)\n",
    "        tweet.next = self.tweetlst\n",
    "        self.tweetlst = tweet\n",
    "\n",
    "    def follow(self, uid: int) -> None:\n",
    "        if uid not in self.following:\n",
    "            self.following.add(uid)\n",
    "\n",
    "    def unfollow(self, uid: int) -> None:\n",
    "        # one cannot unfollow itself\n",
    "        if uid != self.uid and uid in self.following:\n",
    "            self.following.remove(uid)\n",
    "\n",
    "class Twitter:\n",
    "    def __init__(self):\n",
    "        \"\"\"\n",
    "        Initialize your data structure here.\n",
    "        \"\"\"\n",
    "        self.id2user = {}\n",
    "        self.timestamp = 0\n",
    "\n",
    "    def postTweet(self, userId: int, tweetId: int) -> None:\n",
    "        \"\"\"\n",
    "        Compose a new tweet.\n",
    "        \"\"\"\n",
    "        if userId not in self.id2user: self.id2user[userId] = User(userId)\n",
    "        user = self.id2user[userId]\n",
    "        user.post(tweetId, self.timestamp)\n",
    "        self.timestamp += 1\n",
    "\n",
    "    def getNewsFeed(self, userId: int) -> List[int]:\n",
    "        \"\"\"\n",
    "        Retrieve the 10 most recent tweet ids in the user's news feed. Each item in the news feed must be posted by users who the user followed or by the user herself. Tweets must be ordered from most recent to least recent.\n",
    "        \"\"\"\n",
    "        heap, user = [], self.id2user.get(userId)\n",
    "\n",
    "        if user:\n",
    "            for uid in user.following:\n",
    "                tweets = self.id2user[uid].tweetlst\n",
    "                while tweets:\n",
    "                    heap.append(tweets)\n",
    "                    tweets = tweets.next\n",
    "            return [twt.tid for twt in heapq.nlargest(10, heap, key= lambda twt: twt.time)]\n",
    "        else: return []\n",
    "\n",
    "    def follow(self, followerId: int, followeeId: int) -> None:\n",
    "        \"\"\"\n",
    "        Follower follows a followee. If the operation is invalid, it should be a no-op.\n",
    "        \"\"\"\n",
    "        if followerId not in self.id2user:\n",
    "            self.id2user[followerId] = User(followerId)\n",
    "        if followeeId not in self.id2user:\n",
    "            self.id2user[followeeId] = User(followeeId)\n",
    "        self.id2user[followerId].follow(followeeId)\n",
    "\n",
    "    def unfollow(self, followerId: int, followeeId: int) -> None:\n",
    "        \"\"\"\n",
    "        Follower unfollows a followee. If the operation is invalid, it should be a no-op.\n",
    "        \"\"\"\n",
    "        if followerId in self.id2user:\n",
    "            self.id2user[followerId].unfollow(followeeId)"
   ]
  }
 ],
 "metadata": {
  "kernelspec": {
   "display_name": "Python [conda root]",
   "language": "python",
   "name": "conda-root-py"
  },
  "language_info": {
   "codemirror_mode": {
    "name": "ipython",
    "version": 3
   },
   "file_extension": ".py",
   "mimetype": "text/x-python",
   "name": "python",
   "nbconvert_exporter": "python",
   "pygments_lexer": "ipython3",
   "version": "3.6.5"
  },
  "varInspector": {
   "cols": {
    "lenName": 16,
    "lenType": 16,
    "lenVar": 40
   },
   "kernels_config": {
    "python": {
     "delete_cmd_postfix": "",
     "delete_cmd_prefix": "del ",
     "library": "var_list.py",
     "varRefreshCmd": "print(var_dic_list())"
    },
    "r": {
     "delete_cmd_postfix": ") ",
     "delete_cmd_prefix": "rm(",
     "library": "var_list.r",
     "varRefreshCmd": "cat(var_dic_list()) "
    }
   },
   "types_to_exclude": [
    "module",
    "function",
    "builtin_function_or_method",
    "instance",
    "_Feature"
   ],
   "window_display": false
  }
 },
 "nbformat": 4,
 "nbformat_minor": 2
}
