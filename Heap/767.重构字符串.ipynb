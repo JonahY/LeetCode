{
 "cells": [
  {
   "cell_type": "markdown",
   "metadata": {},
   "source": [
    "### **[LeetCode Link](https://leetcode-cn.com/problems/reorganize-string/solution/zhong-gou-zi-fu-chuan-by-leetcode/)**"
   ]
  },
  {
   "cell_type": "markdown",
   "metadata": {},
   "source": [
    "## 根据出现次数排序\n",
    "### 算法\n",
    "* 首先找出所有字符出现的次数，根据字符出现的次数来排序整个字符串。如果一个字符出现的次数超过了 $(N+1)/2$，那么就不存在这样一种排列。\n",
    "* 否则，按顺序间隔输出字符就可以得到满足要求的排列。\n",
    "  * 保证出现次数最多的字符都在偶数位置上（从位置 $0$ 开始）\n",
    "\n",
    "### 复杂度分析\n",
    "* 时间复杂度: $O(A(N + \\log{A}))$，其中 $N$ 是 $S$ 的长度，$A$ 是字母表的大小。如果 A 是固定的，复杂度就是 $O(N)$。\n",
    "* 空间复杂度: $O(N)$。"
   ]
  },
  {
   "cell_type": "code",
   "execution_count": 1,
   "metadata": {
    "ExecuteTime": {
     "end_time": "2020-08-11T11:19:42.018010Z",
     "start_time": "2020-08-11T11:19:42.013053Z"
    },
    "code_folding": []
   },
   "outputs": [],
   "source": [
    "class Solution(object):\n",
    "    def reorganizeString(self, S):\n",
    "        N = len(S)\n",
    "        A = []\n",
    "        for c, x in sorted((S.count(x), x) for x in set(S)):\n",
    "            if c > (N+1)//2: return \"\"\n",
    "            A.extend(c * x)\n",
    "        ans = [None] * N\n",
    "        ans[::2], ans[1::2] = A[N//2:], A[:N//2]\n",
    "        return \"\".join(ans[::-1])"
   ]
  },
  {
   "cell_type": "markdown",
   "metadata": {},
   "source": [
    "### **[LeetCode Link](https://leetcode-cn.com/problems/reorganize-string/solution/zui-you-jie-fa-tong-guo-by-18520397110-2/346943)**"
   ]
  },
  {
   "cell_type": "code",
   "execution_count": 2,
   "metadata": {
    "ExecuteTime": {
     "end_time": "2020-08-11T11:19:43.868101Z",
     "start_time": "2020-08-11T11:19:43.860124Z"
    }
   },
   "outputs": [],
   "source": [
    "from collections import defaultdict\n",
    "class Solution(object):\n",
    "    def reorganizeString(self, S):\n",
    "        N = len(S)\n",
    "        if N == 1: return \"\"\n",
    "        A = defaultdict(int)\n",
    "        for c, x in sorted((S.count(x), x) for x in set(S)):\n",
    "            if c > (N+1)//2: return \"\"\n",
    "            A[x] = c\n",
    "        ans = [None] * N\n",
    "        even = 0\n",
    "        odd = 1\n",
    "        for k, v in sorted(A.items(), key=lambda item: item[1], reverse=True):\n",
    "            while odd < N and 0 < v < (N//2 + 1):\n",
    "                ans[odd] = k\n",
    "                odd += 2\n",
    "                v -= 1\n",
    "            while v == (N//2 + 1) or v > 0:\n",
    "                ans[even] = k\n",
    "                even += 2\n",
    "                v -= 1\n",
    "        return \"\".join(ans)"
   ]
  },
  {
   "cell_type": "markdown",
   "metadata": {},
   "source": [
    "## 贪心堆\n",
    "### 思路\n",
    "方法一的延伸解法，利用了贪心的思想，每次输出剩余出现次数最多的字符就可以了。\n",
    "\n",
    "可以这么做的原因在于，只有当一个字符出现的次数超过 `(N+1) / 2` 的情况下，这个问题才无解。只要初试情况下这个条件满足，每次都输出剩余出现次数最多的字符就可以将这个条件一直保持下去。\n",
    "堆是一种天然能返回当前剩余出现次数最大字符的数据结构。\n",
    "\n",
    "### 算法\n",
    "* 在堆中存储 `(count, letter)` 这种格式的元素（在 Python 的实现中存储的是 `count` 的负数形式）。\n",
    "* 每次从堆中弹出两个元素出来（代表两个剩余次数最大和第二大的字符），接着将这两个字符中与之前输出字符不同，出现次数最大的字符输出。之后把重新计算的剩余次数和字符再压入栈中。\n",
    "* 最后，堆中可能会剩下一个元素，这个元素出现次数一定是 1。如果不是的话，那就不可能有这种排列。\n",
    "\n",
    "### 复杂度分析\n",
    "* 时间复杂度: $O(N \\log{A}))$，其中 $N$ 为 $S$ 的长度，$A$ 为字母表的大小。如果 AA 是一个定值，那么复杂度为 $O(N)$。\n",
    "* 空间复杂度: $O(A)$。如果 $A$ 是一个定值，那么复杂度为 $O(1)$。"
   ]
  },
  {
   "cell_type": "code",
   "execution_count": 100,
   "metadata": {
    "ExecuteTime": {
     "end_time": "2020-08-11T05:53:30.261052Z",
     "start_time": "2020-08-11T05:53:30.256091Z"
    }
   },
   "outputs": [],
   "source": [
    "import heapq\n",
    "class Solution(object):\n",
    "    def reorganizeString(self, S):\n",
    "        pq = [(-S.count(x), x) for x in set(S)]\n",
    "        heapq.heapify(pq)\n",
    "        if any(-nc > (len(S) + 1) / 2 for nc, x in pq):\n",
    "            return \"\"\n",
    "        ans = []\n",
    "        while len(pq) >= 2:\n",
    "            nct1, ch1 = heapq.heappop(pq)\n",
    "            nct2, ch2 = heapq.heappop(pq)\n",
    "            #This code turns out to be superfluous, but explains what is happening\n",
    "            #if not ans or ch1 != ans[-1]:\n",
    "            #    ans.extend([ch1, ch2])\n",
    "            #else:\n",
    "            #    ans.extend([ch2, ch1])\n",
    "            ans.extend([ch1, ch2])\n",
    "            if nct1 + 1: heapq.heappush(pq, (nct1 + 1, ch1))\n",
    "            if nct2 + 1: heapq.heappush(pq, (nct2 + 1, ch2))\n",
    "        return \"\".join(ans) + (pq[0][1] if pq else '')"
   ]
  },
  {
   "cell_type": "code",
   "execution_count": 3,
   "metadata": {
    "ExecuteTime": {
     "end_time": "2020-08-11T11:19:46.181123Z",
     "start_time": "2020-08-11T11:19:46.173175Z"
    }
   },
   "outputs": [
    {
     "data": {
      "text/plain": [
       "'cacababc'"
      ]
     },
     "execution_count": 3,
     "metadata": {},
     "output_type": "execute_result"
    }
   ],
   "source": [
    "s = \"aaabbccc\"\n",
    "S = Solution()\n",
    "S.reorganizeString(s)"
   ]
  }
 ],
 "metadata": {
  "kernelspec": {
   "display_name": "Python 3",
   "language": "python",
   "name": "python3"
  },
  "language_info": {
   "codemirror_mode": {
    "name": "ipython",
    "version": 3
   },
   "file_extension": ".py",
   "mimetype": "text/x-python",
   "name": "python",
   "nbconvert_exporter": "python",
   "pygments_lexer": "ipython3",
   "version": "3.8.5"
  },
  "varInspector": {
   "cols": {
    "lenName": 16,
    "lenType": 16,
    "lenVar": 40
   },
   "kernels_config": {
    "python": {
     "delete_cmd_postfix": "",
     "delete_cmd_prefix": "del ",
     "library": "var_list.py",
     "varRefreshCmd": "print(var_dic_list())"
    },
    "r": {
     "delete_cmd_postfix": ") ",
     "delete_cmd_prefix": "rm(",
     "library": "var_list.r",
     "varRefreshCmd": "cat(var_dic_list()) "
    }
   },
   "types_to_exclude": [
    "module",
    "function",
    "builtin_function_or_method",
    "instance",
    "_Feature"
   ],
   "window_display": false
  }
 },
 "nbformat": 4,
 "nbformat_minor": 2
}
