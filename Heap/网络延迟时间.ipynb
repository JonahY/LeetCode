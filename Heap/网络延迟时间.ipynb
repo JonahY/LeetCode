{
 "cells": [
  {
   "cell_type": "markdown",
   "metadata": {},
   "source": [
    "**[LeetCode Link](https://leetcode-cn.com/problems/network-delay-time/solution/wang-luo-yan-chi-shi-jian-by-leetcode/)**"
   ]
  },
  {
   "cell_type": "markdown",
   "metadata": {},
   "source": [
    "## 深度优先搜索\n",
    "让我们记录信号到达节点的时间，若有的信号提前达到，则我们不需要广播这个信号，否则我们将广播这个信号。\n",
    "### 算法：\n",
    "* `dist[node]` 记录的是信号最早到达 `node` 的时间。当我们访问 `node` 时，若经过了传递时间这个信号是最早到达该节点的，则我们广播这个信号\n",
    "* 为了加快速度，在访问每个节点时，若传递该信号的时间比已有信号到达的时间长，则我们退出该信号。\n",
    "\n",
    "### 复杂度分析\n",
    "* 时间复杂度：$\\mathcal{O}(N^N + E \\log E)$。其中 $E$ 是 `times` 的长度。\n",
    "* 空间复杂度：$\\mathcal{O}(N + E)$，图的大小是 $\\mathcal{O}(E)$ 加上 `DFS` 中隐式调用堆栈的大小 $\\mathcal{O}(N)$。"
   ]
  },
  {
   "cell_type": "code",
   "execution_count": null,
   "metadata": {},
   "outputs": [],
   "source": [
    "class Solution(object):\n",
    "    def networkDelayTime(self, times, N, K):\n",
    "        graph = collections.defaultdict(list)\n",
    "        for u, v, w in times:\n",
    "            graph[u].append((w, v))\n",
    "\n",
    "        dist = {node: float('inf') for node in range(1, N+1)}\n",
    "\n",
    "        def dfs(node, elapsed):\n",
    "            if elapsed >= dist[node]: return\n",
    "            dist[node] = elapsed\n",
    "            for time, nei in sorted(graph[node]):\n",
    "                dfs(nei, elapsed + time)\n",
    "\n",
    "        dfs(K, 0)\n",
    "        ans = max(dist.values())\n",
    "        return ans if ans < float('inf') else -1"
   ]
  },
  {
   "cell_type": "markdown",
   "metadata": {},
   "source": [
    "## 迪杰斯特拉最短路径算法（Dijkstra's）\n",
    "### 算法：\n",
    "* 我们使用 `Dijkstra's` 算法找到从源节点到所有节点的最短路径。\n",
    "* `Dijkstra's` 算法是每次扩展一个距离最短的点，更新与其相邻点的距离。\n",
    "* 在下面的代码中，我们展示了 $\\mathcal{O}(N^2)$ 的基本实现方法 和 $\\mathcal{O}(N \\log N)$ 用堆实现的方法。\n",
    "\n",
    "### 复杂度分析\n",
    "* 时间复杂度： $E$ 是 `times` 的长度。基础实现方式为 $\\mathcal{O}(N^2 + E)$。堆实现方式为 $\\mathcal{O}(E \\log E)$，因为每个边都可能添加到堆中。\n",
    "* 空间复杂度：$\\mathcal{O}(N + E)$，图的大小是 $\\mathcal{O}(E)$ 加上其他对象的大小 $\\mathcal{O}(N)$。"
   ]
  },
  {
   "cell_type": "code",
   "execution_count": null,
   "metadata": {},
   "outputs": [],
   "source": [
    "class Solution(object):\n",
    "    def networkDelayTime(self, times, N, K):\n",
    "        graph = collections.defaultdict(list)\n",
    "        for u, v, w in times:\n",
    "            graph[u].append((v, w))\n",
    "\n",
    "        dist = {node: float('inf') for node in range(1, N+1)}\n",
    "        seen = [False] * (N+1)\n",
    "        dist[K] = 0\n",
    "\n",
    "        while True:\n",
    "            cand_node = -1\n",
    "            cand_dist = float('inf')\n",
    "            for i in range(1, N+1):\n",
    "                if not seen[i] and dist[i] < cand_dist:\n",
    "                    cand_dist = dist[i]\n",
    "                    cand_node = i\n",
    "\n",
    "            if cand_node < 0: break\n",
    "            seen[cand_node] = True\n",
    "            for nei, d in graph[cand_node]:\n",
    "                dist[nei] = min(dist[nei], dist[cand_node] + d)\n",
    "\n",
    "        ans = max(dist.values())\n",
    "        return ans if ans < float('inf') else -1"
   ]
  },
  {
   "cell_type": "code",
   "execution_count": null,
   "metadata": {},
   "outputs": [],
   "source": [
    "class Solution(object):\n",
    "    def networkDelayTime(self, times, N, K):\n",
    "        graph = collections.defaultdict(list)\n",
    "        for u, v, w in times:\n",
    "            graph[u].append((v, w))\n",
    "\n",
    "        pq = [(0, K)]\n",
    "        dist = {}\n",
    "        while pq:\n",
    "            d, node = heapq.heappop(pq)\n",
    "            if node in dist: continue\n",
    "            dist[node] = d\n",
    "            for nei, d2 in graph[node]:\n",
    "                if nei not in dist:\n",
    "                    heapq.heappush(pq, (d+d2, nei))\n",
    "\n",
    "        return max(dist.values()) if len(dist) == N else -1"
   ]
  }
 ],
 "metadata": {
  "kernelspec": {
   "display_name": "Python [conda root]",
   "language": "python",
   "name": "conda-root-py"
  },
  "language_info": {
   "codemirror_mode": {
    "name": "ipython",
    "version": 3
   },
   "file_extension": ".py",
   "mimetype": "text/x-python",
   "name": "python",
   "nbconvert_exporter": "python",
   "pygments_lexer": "ipython3",
   "version": "3.6.5"
  },
  "varInspector": {
   "cols": {
    "lenName": 16,
    "lenType": 16,
    "lenVar": 40
   },
   "kernels_config": {
    "python": {
     "delete_cmd_postfix": "",
     "delete_cmd_prefix": "del ",
     "library": "var_list.py",
     "varRefreshCmd": "print(var_dic_list())"
    },
    "r": {
     "delete_cmd_postfix": ") ",
     "delete_cmd_prefix": "rm(",
     "library": "var_list.r",
     "varRefreshCmd": "cat(var_dic_list()) "
    }
   },
   "types_to_exclude": [
    "module",
    "function",
    "builtin_function_or_method",
    "instance",
    "_Feature"
   ],
   "window_display": false
  }
 },
 "nbformat": 4,
 "nbformat_minor": 2
}
