{
 "cells": [
  {
   "cell_type": "markdown",
   "metadata": {},
   "source": [
    "### **[LeetCode Link](https://leetcode-cn.com/problems/find-the-kth-smallest-sum-of-a-matrix-with-sorted-rows/solution/bao-li-jie-fa-zui-xiao-dui-by-coldme-2/)**"
   ]
  },
  {
   "cell_type": "markdown",
   "metadata": {},
   "source": [
    "## 暴力解法\n",
    "### 解题思路\n",
    "* 将“求前m行的第k个最小数组和”按动态规划的思路划分成子问题：已知前m-1行的最小数组和的列表，求前m行的第k个最小数组和。\n",
    "* 例如，`mat = [[1,10,10],[1,4,5],[2,3,6]]`，`k = 7`。已知前两行的最小数组和 `last_row = [2,5,6,11,11,14,14,15,15]`。我们截取last_row的前k个元素（因为后面的元素不再有竞争力），`last_row = [2,5,6,11,11,14,14]`。然后遍历第三行的每个元素，与last_row的每个元素求和，排序+截取后得到 `new_row = [4, 5, 7, 8, 8, 8, 9]`。返回第k个元素即可。\n",
    "### 复杂度分析\n",
    "* 时间复杂度：$O(m*(nk+nklog(nk)) = O(mnklog(nk))$。遍历每行，时间复杂度为 $O(m)$。对于每一行，遍历每一列的元素并求和为 $O(nk)$，对该行求出的数组和（长度不超过nk）排序的复杂度为 $O(nklog(nk))$。（经评论提示后已修改）\n",
    "空间复杂度：$O(k)$。每行都要存储一个长度不超过k的\"数组和\"列表。"
   ]
  },
  {
   "cell_type": "code",
   "execution_count": null,
   "metadata": {},
   "outputs": [],
   "source": [
    "class Solution:\n",
    "    def kthSmallest(self, mat: List[List[int]], k: int) -> int:\n",
    "        last_row = [0]\n",
    "        for i in range(len(mat)):\n",
    "            new_row = [] \n",
    "            for j in range(len(mat[0])):\n",
    "                for p in last_row:\n",
    "                    new_row.append(p + mat[i][j])\n",
    "            new_row.sort()\n",
    "            if len(new_row) > k:\n",
    "                last_row = new_row[ :k]\n",
    "            else:\n",
    "                last_row = new_row\n",
    "        return last_row[k - 1]"
   ]
  },
  {
   "cell_type": "markdown",
   "metadata": {},
   "source": [
    "## 最小堆\n",
    "### 解题思路\n",
    "每次从堆中弹出最小的数组和`curr_sum`和对应的指针`pointers`，然后轮流将指针`pointers`的每个索引向后移动一位，生成新的`new_sum`，加入堆中。\n",
    "### 算法流程\n",
    "* 最小堆存储的是`[curr_sum, pointers]`二元组，`pointers`是指针数组，`curr_sum`是该`pointers`指向的元素的和。初始化`pointers`全为0，求出相应的`curr_sum`，并将其入堆。\n",
    "* 重复下列步骤k次：\n",
    " * 从堆中`pop`出`curr_sum`和`pointers`。\n",
    " * 遍历`pointers`的每个索引，将该索引加一，求出新的和，如果没有出现过，`push`入堆。\n",
    "\n",
    "### 栗子\n",
    "* 以`mat = [[1,10,10],[1,4,5],[2,3,6]]`，`k = 7`为例，初始化`pointers = (0, 0, 0)，curr_sum = 4`，哈希表`seen`加入`(0, 0, 0)`\n",
    "* 从堆中`pop`出最小和，`pointers = (0, 0, 0)，curr_sum = 4`。新生成`[13, (1, 0, 0)],[7, (0, 1, 0)]，[5, (0, 0, 1)]`，在`seen`中做好标记，然后将三者入堆。重复该步骤k次。\n",
    "\n",
    "### 复杂度分析\n",
    "* 时间复杂度：$O(kmlog(k))$。堆中的元素个数不会超过 $km$个。执行$k$次循环：每次循环时，出堆操作，是$O(log(mk)))$；每次出堆后，要生成$m$个新的数组和，是$O(m)$；将新生成的的数组和入队，是$O(log(mk))$。所以总的是$O(k * (log(km) + m * log(mk))) = O(kmlog(mk)))$ 。\n",
    "* 空间复杂度：$O(km^2)$。堆中的元素个数不会超过 $km$个，每个的空间是$O(m)$"
   ]
  },
  {
   "cell_type": "code",
   "execution_count": null,
   "metadata": {},
   "outputs": [],
   "source": [
    "import heapq\n",
    "\n",
    "class Solution:\n",
    "    def kthSmallest(self, mat, k: int) -> int:\n",
    "        m, n = len(mat), len(mat[0])\n",
    "        # 初始化指针\n",
    "        pointers = [0] * m \n",
    "        # 初始化heap\n",
    "        heap = []\n",
    "        curr_sum = 0\n",
    "        for i in range(m):\n",
    "            curr_sum += mat[i][0]\n",
    "        heapq.heappush(heap, [curr_sum, tuple(pointers)])\n",
    "        # 初始化seen\n",
    "        seen = set()\n",
    "        seen.add(tuple(pointers))\n",
    "        # 执行k次\n",
    "        for _ in range(k):\n",
    "            # 从堆中pop出curr_sum(最小数组和)和pointers(指针数组)\n",
    "            curr_sum, pointers = heapq.heappop(heap)\n",
    "            # 每个指针轮流后移一位，将new_sum(新的数组和)和new_pointers(新的指针数组)push入堆\n",
    "            for i, j in enumerate(pointers):\n",
    "                if j < n - 1:\n",
    "                    new_pointers = list(pointers)\n",
    "                    new_pointers[i] = j + 1\n",
    "                    new_pointers = tuple(new_pointers)\n",
    "                    if new_pointers not in seen:\n",
    "                        new_sum = curr_sum + mat[i][j + 1]- mat[i][j]\n",
    "                        heapq.heappush(heap, [new_sum, new_pointers])\n",
    "                        seen.add(new_pointers)\n",
    "        return curr_sum"
   ]
  }
 ],
 "metadata": {
  "kernelspec": {
   "display_name": "Python 3",
   "language": "python",
   "name": "python3"
  },
  "language_info": {
   "codemirror_mode": {
    "name": "ipython",
    "version": 3
   },
   "file_extension": ".py",
   "mimetype": "text/x-python",
   "name": "python",
   "nbconvert_exporter": "python",
   "pygments_lexer": "ipython3",
   "version": "3.8.5"
  }
 },
 "nbformat": 4,
 "nbformat_minor": 4
}
