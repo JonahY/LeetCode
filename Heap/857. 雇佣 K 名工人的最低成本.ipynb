{
 "cells": [
  {
   "cell_type": "markdown",
   "metadata": {},
   "source": [
    "## **[LeetCode Link](https://leetcode-cn.com/problems/minimum-cost-to-hire-k-workers/solution/gu-yong-k-ming-gong-ren-de-zui-di-cheng-ben-by-lee/)**"
   ]
  },
  {
   "cell_type": "markdown",
   "metadata": {},
   "source": [
    "## 堆（优先队列）\n",
    "定义一个“价值”，表示工人最低期望工资与工作质量之比。例如某位工人的最低期望工资为 100，工作质量为 20，那么他的价值为 100 / 20 = 5.0。\n",
    "\n",
    "* 可以发现，如果一名工人的价值为 $R$，当他恰好拿到最低期望工资时，如果所有价值高于 $R$ 的工人都无法拿到最低期望工资，而所有价值低于 $R$ 的工人都拿得比最低期望工资多。\n",
    "* 因此，我们可以按照这些工人的价值，对他们进行升序排序。排序后的第 $i$ 名工人可以在它之前任选 $K - 1$ 名工人，并计算对应的工资总和，为 $R * sum(quality[c1] + quality[c2] + ... + quality[c{k-1}] + quality[i])$，也就是说，我们需要在前 $i$ 名工人中选择 $K$ 个工作质量最低的。我们可以使用一个大根堆来实时维护 $K$ 个最小值。"
   ]
  },
  {
   "cell_type": "code",
   "execution_count": 54,
   "metadata": {},
   "outputs": [],
   "source": [
    "class Solution(object):\n",
    "    def mincostToHireWorkers(self, quality, wage, K):\n",
    "        rate = list(map(lambda i,j:j/i,quality,wage))\n",
    "        workers = sorted(zip(rate, quality, wage))\n",
    "\n",
    "        ans = float('inf')\n",
    "        pool = []\n",
    "        sumq = 0\n",
    "        for ratio, q, w in workers:\n",
    "            heapq.heappush(pool, -q)\n",
    "            sumq += q\n",
    "\n",
    "            if len(pool) > K:\n",
    "                sumq += heapq.heappop(pool)\n",
    "\n",
    "            if len(pool) == K:\n",
    "                ans = min(ans, ratio * sumq)\n",
    "\n",
    "        return float(ans)"
   ]
  },
  {
   "cell_type": "code",
   "execution_count": null,
   "metadata": {},
   "outputs": [],
   "source": [
    "class Solution {\n",
    "    public double mincostToHireWorkers(int[] quality, int[] wage, int k) {\n",
    "        int len = quality.length;\n",
    "        Worker[] workers = new Worker[len];\n",
    "        for(int i=0; i<len; i++) {\n",
    "            workers[i] = new Worker(quality[i], wage[i]);\n",
    "        }\n",
    "        Arrays.sort(workers, (a, b)-> Double.compare(a.ratio, b.ratio));\n",
    "        PriorityQueue<Integer> queue = new PriorityQueue<>((a, b)->b-a);\n",
    "        int sumq = 0;\n",
    "        double ans = Double.MAX_VALUE;\n",
    "        for(Worker worker : workers) {\n",
    "            sumq += worker.quality;\n",
    "            queue.offer(worker.quality);\n",
    "            if(queue.size() > k) {\n",
    "                sumq -= queue.poll();\n",
    "            }\n",
    "            if(queue.size() == k) {\n",
    "                ans = Math.min(ans, sumq*worker.ratio);\n",
    "            }\n",
    "        }\n",
    "        return ans;\n",
    "    }\n",
    "\n",
    "    class Worker {\n",
    "        int quality;\n",
    "        int wage;\n",
    "        double ratio;\n",
    "        public Worker(int q, int w) {\n",
    "            this.quality = q;\n",
    "            this.wage = w;\n",
    "            this.ratio = (double)w / q;\n",
    "        }\n",
    "    }\n",
    "}"
   ]
  }
 ],
 "metadata": {
  "kernelspec": {
   "display_name": "Python 3",
   "language": "python",
   "name": "python3"
  },
  "language_info": {
   "codemirror_mode": {
    "name": "ipython",
    "version": 3
   },
   "file_extension": ".py",
   "mimetype": "text/x-python",
   "name": "python",
   "nbconvert_exporter": "python",
   "pygments_lexer": "ipython3",
   "version": "3.8.5"
  },
  "toc": {
   "base_numbering": 1,
   "nav_menu": {},
   "number_sections": true,
   "sideBar": true,
   "skip_h1_title": false,
   "title_cell": "Table of Contents",
   "title_sidebar": "Contents",
   "toc_cell": false,
   "toc_position": {},
   "toc_section_display": true,
   "toc_window_display": false
  },
  "varInspector": {
   "cols": {
    "lenName": 16,
    "lenType": 16,
    "lenVar": 40
   },
   "kernels_config": {
    "python": {
     "delete_cmd_postfix": "",
     "delete_cmd_prefix": "del ",
     "library": "var_list.py",
     "varRefreshCmd": "print(var_dic_list())"
    },
    "r": {
     "delete_cmd_postfix": ") ",
     "delete_cmd_prefix": "rm(",
     "library": "var_list.r",
     "varRefreshCmd": "cat(var_dic_list()) "
    }
   },
   "types_to_exclude": [
    "module",
    "function",
    "builtin_function_or_method",
    "instance",
    "_Feature"
   ],
   "window_display": false
  }
 },
 "nbformat": 4,
 "nbformat_minor": 4
}
