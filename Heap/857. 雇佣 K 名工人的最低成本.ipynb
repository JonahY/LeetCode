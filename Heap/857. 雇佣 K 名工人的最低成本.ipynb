{
 "cells": [
  {
   "cell_type": "markdown",
   "metadata": {},
   "source": [
    "## **[LeetCode Link](https://leetcode-cn.com/problems/minimum-cost-to-hire-k-workers/solution/gu-yong-k-ming-gong-ren-de-zui-di-cheng-ben-by-lee/)**"
   ]
  },
  {
   "cell_type": "markdown",
   "metadata": {},
   "source": [
    "## 堆（优先队列）\n",
    "定义一个“价值”，表示工人最低期望工资与工作质量之比。例如某位工人的最低期望工资为 100，工作质量为 20，那么他的价值为 100 / 20 = 5.0。\n",
    "\n",
    "* 可以发现，如果一名工人的价值为 $R$，当他恰好拿到最低期望工资时，如果所有价值高于 $R$ 的工人都无法拿到最低期望工资，而所有价值低于 $R$ 的工人都拿得比最低期望工资多。\n",
    "* 因此，我们可以按照这些工人的价值，对他们进行升序排序。排序后的第 $i$ 名工人可以在它之前任选 $K - 1$ 名工人，并计算对应的工资总和，为 $R * sum(quality[c1] + quality[c2] + ... + quality[c{k-1}] + quality[i])$，也就是说，我们需要在前 $i$ 名工人中选择 $K$ 个工作质量最低的。我们可以使用一个大根堆来实时维护 $K$ 个最小值。"
   ]
  },
  {
   "cell_type": "code",
   "execution_count": 54,
   "metadata": {},
   "outputs": [],
   "source": [
    "class Solution(object):\n",
    "    def mincostToHireWorkers(self, quality, wage, K):\n",
    "        rate = list(map(lambda i,j:j/i,quality,wage))\n",
    "        workers = sorted(zip(rate, quality, wage))\n",
    "\n",
    "        ans = float('inf')\n",
    "        pool = []\n",
    "        sumq = 0\n",
    "        for ratio, q, w in workers:\n",
    "            heapq.heappush(pool, -q)\n",
    "            sumq += q\n",
    "\n",
    "            if len(pool) > K:\n",
    "                sumq += heapq.heappop(pool)\n",
    "\n",
    "            if len(pool) == K:\n",
    "                ans = min(ans, ratio * sumq)\n",
    "\n",
    "        return float(ans)"
   ]
  }
 ],
 "metadata": {
  "kernelspec": {
   "display_name": "Python 3",
   "language": "python",
   "name": "python3"
  },
  "language_info": {
   "codemirror_mode": {
    "name": "ipython",
    "version": 3
   },
   "file_extension": ".py",
   "mimetype": "text/x-python",
   "name": "python",
   "nbconvert_exporter": "python",
   "pygments_lexer": "ipython3",
   "version": "3.8.5"
  }
 },
 "nbformat": 4,
 "nbformat_minor": 4
}
