{
 "cells": [
  {
   "cell_type": "markdown",
   "metadata": {},
   "source": [
    "## **[LeetCode Link](https://leetcode-cn.com/problems/k-th-smallest-prime-fraction/solution/di-k-ge-zui-xiao-de-su-shu-fen-shu-by-leetcode/)**"
   ]
  },
  {
   "cell_type": "markdown",
   "metadata": {},
   "source": [
    "## 堆\n",
    "### 思路\n",
    "使用一个堆记录所有以 `primes[j]` 为分母且未被弹出的最小分数。依次从堆中弹出 `K-1` 个元素，此时堆顶的分数就是结果。\n",
    "### 算法\n",
    "在 `Python` 中，使用 `(fraction, i, j)` 表示分数 `fraction = primes[i] / primes[j]` 。如果下一个分数有效（即 `i+1 < j` ），那么使用当前分数时，将下一个分数压入堆中。\n",
    "### 复杂度分析\n",
    "时间复杂度：$O(K \\log N)$，其中 `N` 是 `A` 的长度，堆中最多压入 `N` 个元素，每次弹出为 $O(\\log N)$，需要 $O(K)$ 次弹出操作。\n",
    "空间复杂度：$O(N)$，堆的大小。"
   ]
  },
  {
   "cell_type": "code",
   "execution_count": null,
   "metadata": {
    "ExecuteTime": {
     "end_time": "2020-08-12T05:08:42.481294Z",
     "start_time": "2020-08-12T05:08:42.471351Z"
    },
    "scrolled": true
   },
   "outputs": [],
   "source": [
    "def kthSmallestPrimeFraction(self, A: List[int], K: int) -> List[int]:\n",
    "        heap = [(A[0] / float(A[i]),0,i) for i in range(len(A)-1, -1, -1)]\n",
    "        for t in range(K-1):\n",
    "            now, i, j = heapq.heappop(heap)\n",
    "            if i < j + 1:\n",
    "                heapq.heappush(heap, (A[i+1] / A[j],i+1,j))\n",
    "        now, i, j = heapq.heappop(heap)\n",
    "        return [A[i], A[j]]"
   ]
  },
  {
   "cell_type": "code",
   "execution_count": null,
   "metadata": {},
   "outputs": [],
   "source": [
    "class Solution {\n",
    "    public int[] kthSmallestPrimeFraction(int[] A, int K) {\n",
    "        PriorityQueue<int[]> pq = new PriorityQueue<int[]>((a, b) ->\n",
    "                A[a[0]] * A[b[1]] - A[a[1]] * A[b[0]]);\n",
    "\n",
    "        for (int i = 1; i < A.length; ++i)\n",
    "            pq.add(new int[]{0, i});\n",
    "\n",
    "        while (--K > 0) {\n",
    "            int[] frac = pq.poll();\n",
    "            if (frac[0]++ < frac[1] + 1)\n",
    "                pq.offer(frac);\n",
    "        }\n",
    "\n",
    "        int[] ans = pq.poll();\n",
    "        return new int[]{A[ans[0]], A[ans[1]]};\n",
    "    }\n",
    "}"
   ]
  },
  {
   "cell_type": "markdown",
   "metadata": {},
   "source": [
    "## 二分查找 + DP（复杂度压缩）\n",
    "二分查找左值为最小分数，右值为最大分数，计算中值，从数组中找到所组成的分数比中值小的数对个数，并保留这些数对中最大的一组数对。\n",
    "  * 如果比中值小的数对个数等于K，那么保留的最大数对就是答案，因为他是所有数对中前K小个数对中最大的一个，也就是第K小的数对；\n",
    "  * 如果比中值小的数对个数小于K，说明中值取小了，令左值为中值；\n",
    "  * 如果比中值小的数对个数大于K，说明中值取大了，令右值为中值。\n",
    "\n",
    "使用DP计算数组中比中值小的数对个数 `count`，计算方法是从 `i` 之后找到第一个 `j` 使得 `A[i]/A[j] < mid`，此时从 `A[j]` 到 `A[n-1]` 都满足要求， `count += n - j` ，同时 `A[j]` 是能和 `A[i]` 组成最大分数的数，保留该最大数对。还有个关键的地方是 `j` 不用每次都从 `i+1` 开始循环，因为如果上一次对于 `A[i]` 第一个符合条件的是 `A[j]` ，那么对于 `A[i+1] > A[i]` ，想要让 `A[i+1]/A[x] < mid` ，那么 `x` 一定大于 `j` ，所以第一个满足 `A[i+1]` 的 `j` 一定比满足 `A[i]` 的 `j` 要大，所以 `j` 每次从上一次结束的位置继续遍历就可以。这样时间复杂度从 $\\mathcal{O}(n^2)$ 减到了 $\\mathcal{O}(n)$。\n"
   ]
  },
  {
   "cell_type": "code",
   "execution_count": null,
   "metadata": {
    "ExecuteTime": {
     "end_time": "2020-08-12T05:08:34.121243Z",
     "start_time": "2020-08-12T05:08:34.115232Z"
    },
    "code_folding": []
   },
   "outputs": [],
   "source": [
    "class Solution:\n",
    "    def kthSmallestPrimeFraction(self, A, K: int):\n",
    "        n = len(A)\n",
    "        left, right = 0, 1.0\n",
    "        while left < right:\n",
    "            mid = (left + right) / 2\n",
    "            count = 0\n",
    "            j = 0\n",
    "            mx = [0, 1]\n",
    "            for i in range(n):\n",
    "                while j<n and A[i]/A[j]>mid: \n",
    "                    j+=1\n",
    "                count += n - j\n",
    "                if j<n and A[i]/A[j]>mx[0]/mx[1]:\n",
    "                    mx = [A[i], A[j]]\n",
    "            if count<K: left = mid\n",
    "            elif count ==K: return mx\n",
    "            else: right = mid"
   ]
  },
  {
   "cell_type": "code",
   "execution_count": null,
   "metadata": {},
   "outputs": [],
   "source": [
    "class Solution {\n",
    "    public int[] kthSmallestPrimeFraction(int[] A, int K) {\n",
    "        int n = A.length;\n",
    "        double left = 0, right = 1, mid;\n",
    "        while (true) {\n",
    "            mid = (left + right) / 2;\n",
    "            int count = 0;\n",
    "            int j = 0;\n",
    "            int[] maxIndex = {0, 1};\n",
    "            for (int i = 0; i < n; i++) {\n",
    "                while (j < n && A[i] >= A[j] * mid) ++j;\n",
    "                count += n - j;\n",
    "                if (j < n && A[i] * maxIndex[1] > A[j] * maxIndex[0]) {\n",
    "                    maxIndex = new int[]{A[i], A[j]};\n",
    "                }\n",
    "            }\n",
    "            if (count > K) right = mid;\n",
    "            else if (count < K) left = mid;\n",
    "            else return maxIndex;\n",
    "        }\n",
    "    }\n",
    "}"
   ]
  }
 ],
 "metadata": {
  "kernelspec": {
   "display_name": "Python 3",
   "language": "python",
   "name": "python3"
  },
  "language_info": {
   "codemirror_mode": {
    "name": "ipython",
    "version": 3
   },
   "file_extension": ".py",
   "mimetype": "text/x-python",
   "name": "python",
   "nbconvert_exporter": "python",
   "pygments_lexer": "ipython3",
   "version": "3.8.5"
  },
  "toc": {
   "base_numbering": 1,
   "nav_menu": {},
   "number_sections": true,
   "sideBar": true,
   "skip_h1_title": false,
   "title_cell": "Table of Contents",
   "title_sidebar": "Contents",
   "toc_cell": false,
   "toc_position": {},
   "toc_section_display": true,
   "toc_window_display": false
  },
  "varInspector": {
   "cols": {
    "lenName": 16,
    "lenType": 16,
    "lenVar": 40
   },
   "kernels_config": {
    "python": {
     "delete_cmd_postfix": "",
     "delete_cmd_prefix": "del ",
     "library": "var_list.py",
     "varRefreshCmd": "print(var_dic_list())"
    },
    "r": {
     "delete_cmd_postfix": ") ",
     "delete_cmd_prefix": "rm(",
     "library": "var_list.r",
     "varRefreshCmd": "cat(var_dic_list()) "
    }
   },
   "types_to_exclude": [
    "module",
    "function",
    "builtin_function_or_method",
    "instance",
    "_Feature"
   ],
   "window_display": false
  }
 },
 "nbformat": 4,
 "nbformat_minor": 4
}
