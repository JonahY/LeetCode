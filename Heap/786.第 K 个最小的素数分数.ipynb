{
 "cells": [
  {
   "cell_type": "markdown",
   "metadata": {},
   "source": [
    "## **[LeetCode Link](https://leetcode-cn.com/problems/k-th-smallest-prime-fraction/solution/di-k-ge-zui-xiao-de-su-shu-fen-shu-by-leetcode/)**"
   ]
  },
  {
   "cell_type": "markdown",
   "metadata": {},
   "source": [
    "## 堆\n",
    "### 思路\n",
    "使用一个堆记录所有以 `primes[j]` 为分母且未被弹出的最小分数。依次从堆中弹出 `K-1` 个元素，此时堆顶的分数就是结果。\n",
    "### 算法\n",
    "在 `Python` 中，使用 `(fraction, i, j)` 表示分数 `fraction = primes[i] / primes[j]` 。如果下一个分数有效（即 `i+1 < j` ），那么使用当前分数时，将下一个分数压入堆中。\n",
    "### 复杂度分析\n",
    "时间复杂度：$O(K \\log N)$，其中 `N` 是 `A` 的长度，堆中最多压入 `N` 个元素，每次弹出为 $O(\\log N)$，需要 $O(K)$ 次弹出操作。\n",
    "空间复杂度：$O(N)$，堆的大小。"
   ]
  },
  {
   "cell_type": "code",
   "execution_count": null,
   "metadata": {
    "ExecuteTime": {
     "end_time": "2020-08-12T05:08:42.481294Z",
     "start_time": "2020-08-12T05:08:42.471351Z"
    },
    "scrolled": true
   },
   "outputs": [],
   "source": [
    "def kthSmallestPrimeFraction(self, A: List[int], K: int) -> List[int]:\n",
    "        heap = [(A[0] / float(A[i]),0,i) for i in range(len(A)-1, -1, -1)]\n",
    "        for t in range(K-1):\n",
    "            now, i, j = heapq.heappop(heap)\n",
    "            if i < j + 1:\n",
    "                heapq.heappush(heap, (A[i+1] / A[j],i+1,j))\n",
    "        now, i, j = heapq.heappop(heap)\n",
    "        return [A[i], A[j]]"
   ]
  },
  {
   "cell_type": "markdown",
   "metadata": {},
   "source": [
    "## 二分查找 + DP（复杂度压缩）\n",
    "二分查找左值为最小分数，右值为最大分数，计算中值，从数组中找到所组成的分数比中值小的数对个数，并保留这些数对中最大的一组数对。\n",
    "  * 如果比中值小的数对个数等于K，那么保留的最大数对就是答案，因为他是所有数对中前K小个数对中最大的一个，也就是第K小的数对；\n",
    "  * 如果比中值小的数对个数小于K，说明中值取小了，令左值为中值；\n",
    "  * 如果比中值小的数对个数大于K，说明中值取大了，令右值为中值。\n",
    "\n",
    "使用DP计算数组中比中值小的数对个数 `count`，计算方法是从 `i` 之后找到第一个 `j` 使得 `A[i]/A[j] < mid`，此时从 `A[j]` 到 `A[n-1]` 都满足要求， `count += n - j` ，同时 `A[j]` 是能和 `A[i]` 组成最大分数的数，保留该最大数对。还有个关键的地方是 `j` 不用每次都从 `i+1` 开始循环，因为如果上一次对于 `A[i]` 第一个符合条件的是 `A[j]` ，那么对于 `A[i+1] > A[i]` ，想要让 `A[i+1]/A[x] < mid` ，那么 `x` 一定大于 `j` ，所以第一个满足 `A[i+1]` 的 `j` 一定比满足 `A[i]` 的 `j` 要大，所以 `j` 每次从上一次结束的位置继续遍历就可以。这样时间复杂度从 $\\mathcal{O}(n^2)$ 减到了 $\\mathcal{O}(n)$。\n"
   ]
  },
  {
   "cell_type": "code",
   "execution_count": null,
   "metadata": {
    "ExecuteTime": {
     "end_time": "2020-08-12T05:08:34.121243Z",
     "start_time": "2020-08-12T05:08:34.115232Z"
    },
    "code_folding": []
   },
   "outputs": [],
   "source": [
    "class Solution:\n",
    "    def kthSmallestPrimeFraction(self, A, K: int):\n",
    "        n = len(A)\n",
    "        left, right = 0, 1.0\n",
    "        while left < right:\n",
    "            mid = (left + right) / 2\n",
    "            count = 0\n",
    "            j = 0\n",
    "            mx = [0, 1]\n",
    "            for i in range(n):\n",
    "                while j<n and A[i]/A[j]>mid: \n",
    "                    j+=1\n",
    "                count += n - j\n",
    "                if j<n and A[i]/A[j]>mx[0]/mx[1]:\n",
    "                    mx = [A[i], A[j]]\n",
    "            if count<K: left = mid\n",
    "            elif count ==K: return mx\n",
    "            else: right = mid"
   ]
  }
 ],
 "metadata": {
  "kernelspec": {
   "display_name": "Python [conda env:root] *",
   "language": "python",
   "name": "conda-root-py"
  },
  "language_info": {
   "codemirror_mode": {
    "name": "ipython",
    "version": 3
   },
   "file_extension": ".py",
   "mimetype": "text/x-python",
   "name": "python",
   "nbconvert_exporter": "python",
   "pygments_lexer": "ipython3",
   "version": "3.8.3"
  },
  "varInspector": {
   "cols": {
    "lenName": 16,
    "lenType": 16,
    "lenVar": 40
   },
   "kernels_config": {
    "python": {
     "delete_cmd_postfix": "",
     "delete_cmd_prefix": "del ",
     "library": "var_list.py",
     "varRefreshCmd": "print(var_dic_list())"
    },
    "r": {
     "delete_cmd_postfix": ") ",
     "delete_cmd_prefix": "rm(",
     "library": "var_list.r",
     "varRefreshCmd": "cat(var_dic_list()) "
    }
   },
   "types_to_exclude": [
    "module",
    "function",
    "builtin_function_or_method",
    "instance",
    "_Feature"
   ],
   "window_display": false
  }
 },
 "nbformat": 4,
 "nbformat_minor": 4
}
