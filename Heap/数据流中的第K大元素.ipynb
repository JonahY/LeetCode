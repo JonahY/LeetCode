{
 "cells": [
  {
   "cell_type": "markdown",
   "metadata": {},
   "source": [
    "**[LeetCode Link](https://leetcode-cn.com/problems/kth-largest-element-in-a-stream/solution/703-pythonshi-xian-shu-ju-liu-zhong-di-kda-xiao-di/)**"
   ]
  },
  {
   "cell_type": "markdown",
   "metadata": {},
   "source": [
    "## 小顶堆"
   ]
  },
  {
   "cell_type": "code",
   "execution_count": null,
   "metadata": {},
   "outputs": [],
   "source": [
    "import heapq\n",
    "class KthLargest:\n",
    "    def __init__(self, k: int, nums: List[int]):\n",
    "        self.k = k\n",
    "        self.nums = nums\n",
    "        heapq.heapify(self.nums)\n",
    "        while len(self.nums) > self.k :\n",
    "            heapq.heappop(self.nums)\n",
    "    def add(self, val: int) -> int:\n",
    "        heapq.heappush(self.nums,val)\n",
    "        if len(self.nums) > self.k :\n",
    "            heapq.heappop(self.nums)\n",
    "        return self.nums[0]"
   ]
  },
  {
   "cell_type": "markdown",
   "metadata": {},
   "source": [
    "**[LeetCode Link](https://leetcode-cn.com/problems/kth-largest-element-in-a-stream/solution/python3er-cha-sou-suo-shu-shu-ju-liu-zhong-de-di-k/)**"
   ]
  },
  {
   "cell_type": "markdown",
   "metadata": {},
   "source": [
    "## 二叉搜索树\n",
    "### 思路：\n",
    "* 使用二叉搜索树，左子节点数<当前节点数<右子节点数；\n",
    "* 每个节点记录：以当前节点为根节点的子树有多少（count）节点（包括自身）；\n",
    "* 每插入一个节点的同时，更新该节点以上的祖父级别节点的count；\n",
    "* 寻找第k大，故需要从右往左找（cur为当前节点）：\n",
    "  * 若k等于cur.right.count+1 ，说明当前节点为所寻节点，直接返回；\n",
    "  * 若k小于cur.right.count+1 ，说明所寻节点大于当前值，在右子树中寻找第k大元素；\n",
    "  * 若k大于cur.right.count+1 ，说明所寻节点小于当前值，在左子树中寻找第k-(cur.right.count+1)大元素；\n",
    "\n",
    "### 复杂度分析：\n",
    "* 时间复杂度：$\\mathcal{O}(H)$，$H$ 为二叉搜索树的深度；\n",
    "* 空间复杂度：$\\mathcal{O}(H)$，$H$ 为递归栈的深度，也是二叉搜索树的深度；\n",
    "* 若二叉搜索树元素个数为 $N$ ，则平均可达到 $\\mathcal{O}(logN)$ 的复杂度；\n",
    "* 故若维持的二叉搜索树元素个数较小，能较好地降低算法复杂度。"
   ]
  },
  {
   "cell_type": "code",
   "execution_count": null,
   "metadata": {},
   "outputs": [],
   "source": [
    "class TreeNode:\n",
    "    def __init__(self, x):\n",
    "        self.val = x\n",
    "        self.left = None\n",
    "        self.right = None\n",
    "        self.count=1\n",
    "\n",
    "class KthLargest:\n",
    "    def insertIntoBST(self, cur: TreeNode, val: int) -> TreeNode:\n",
    "        if not cur:#首次插入元素\n",
    "            cur=TreeNode(val)\n",
    "            return cur\n",
    "        if cur.val<val:#插入元素比当前元素大，插入至右子树\n",
    "            cur.right=self.insertIntoBST(cur.right,val)  \n",
    "        else:#插入元素比当前元素小或等于，插入至左子树\n",
    "            cur.left=self.insertIntoBST(cur.left,val)\n",
    "        cur.count+=1#若插入至子树，当前节点的count需要+1\n",
    "        return cur \n",
    "    def __init__(self, k: int, nums: List[int]):\n",
    "        self.root=None \n",
    "        self.k=k\n",
    "        self.kLarge=None#记录第k大\n",
    "        for i in nums: \n",
    "            #若根节点为空，或者根节点的count<k直接插入\n",
    "            if not self.root or self.root.count<k :\n",
    "                self.root=self.insertIntoBST(self.root,i)  \n",
    "            else:#当前二叉搜索树的元素数>=k\n",
    "                if not self.kLarge:#计算第k大\n",
    "                    self.kLarge=self.findKHelper(self.root,k).val\n",
    "                if i>self.kLarge:#如果当前值大于第k大，插入并重新寻找第k大\n",
    "                    self.root=self.insertIntoBST(self.root,i) \n",
    "                    self.kLarge=self.findKHelper(self.root,k).val\n",
    "    def findKHelper(self,cur:TreeNode,k)->TreeNode:\n",
    "        curCnt=1#如果无右节点，当前是第1大的数\n",
    "        if cur.right:#如果有右节点，则当前是cur.right.count+1大的数\n",
    "            curCnt+=cur.right.count\n",
    "        if k==curCnt:#当前值即为第k大\n",
    "            return cur\n",
    "        elif k<curCnt:#第k大在右子树\n",
    "            return self.findKHelper(cur.right,k)\n",
    "        else:#第k大在左子树，为左子树的第k-curCnt大\n",
    "            return self.findKHelper(cur.left,k-curCnt)\n",
    "    def add(self, val: int) -> int:\n",
    "        #self.kLarge没有值，或者当前值大于self.kLarge才插入\n",
    "        if self.kLarge and val>self.kLarge or not self.kLarge:\n",
    "            self.root=self.insertIntoBST(self.root,val)\n",
    "        self.kLarge=self.findKHelper(self.root,self.k).val\n",
    "        return self.kLarge"
   ]
  }
 ],
 "metadata": {
  "kernelspec": {
   "display_name": "Python [conda root]",
   "language": "python",
   "name": "conda-root-py"
  },
  "language_info": {
   "codemirror_mode": {
    "name": "ipython",
    "version": 3
   },
   "file_extension": ".py",
   "mimetype": "text/x-python",
   "name": "python",
   "nbconvert_exporter": "python",
   "pygments_lexer": "ipython3",
   "version": "3.6.5"
  },
  "varInspector": {
   "cols": {
    "lenName": 16,
    "lenType": 16,
    "lenVar": 40
   },
   "kernels_config": {
    "python": {
     "delete_cmd_postfix": "",
     "delete_cmd_prefix": "del ",
     "library": "var_list.py",
     "varRefreshCmd": "print(var_dic_list())"
    },
    "r": {
     "delete_cmd_postfix": ") ",
     "delete_cmd_prefix": "rm(",
     "library": "var_list.r",
     "varRefreshCmd": "cat(var_dic_list()) "
    }
   },
   "types_to_exclude": [
    "module",
    "function",
    "builtin_function_or_method",
    "instance",
    "_Feature"
   ],
   "window_display": false
  }
 },
 "nbformat": 4,
 "nbformat_minor": 2
}
