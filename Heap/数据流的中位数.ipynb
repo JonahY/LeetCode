{
 "cells": [
  {
   "cell_type": "markdown",
   "metadata": {},
   "source": [
    "**[LeetCode Link](https://leetcode-cn.com/problems/find-median-from-data-stream/solution/you-xian-dui-lie-python-dai-ma-java-dai-ma-by-liwe/)**"
   ]
  },
  {
   "cell_type": "markdown",
   "metadata": {},
   "source": [
    "## 优先队列\n",
    "一种最容易想到的思路是，数据流新进来一个数，都把它与已经读出来的数进行一次排序，这样中位数就可以很容易得到。这样做“不好”的地方是：\n",
    "> 排序的时间复杂度为 O(N\\log N)O(NlogN)，但事实上，我对除了中位数以外的其它位置的元素并不关心。\n",
    "\n",
    "事实上，我们只关心在中间的那两个数（或者一个数），其它数没有必要进行 “比较” 和 “交换” 的操作。\n",
    "\n",
    "在我们学习过的数据结构里，堆就有类似的性质，每次都从堆里得到一个 “最值” 而其它元素无需排序，这样就可以以 $\\mathcal{O}(\\log N)$ 的复杂度每次都从堆中取出最值。\n",
    "\n",
    "1. 数据是如何在两个堆之间流动的：为了找到添加新数据以后，数据流的中位数，我们让这个新数据在大顶堆和小顶堆中都走了一遍。而为了让大顶堆的元素多 1 个，我们让从小顶堆中又拿出一个元素“送回”给大顶堆；\n",
    "2. 将元素放入优先队列以后，优先队列会以对数时间复杂度自行调整，把“最优值”放入堆顶，这是使用优先队列解决这个问题的原因。\n",
    "\n",
    "### 复杂度分析：\n",
    "* 时间复杂度：$\\mathcal{O}(\\log N)$，优先队列的出队入队操作都是对数级别的，数据在两个堆中间来 回操作是常数级别的，综上时间复杂度是 $\\mathcal{O}(\\log N)$ 级别的。\n",
    "* 空间复杂度：$\\mathcal{O}(N)$，使用了三个辅助空间，其中两个堆的空间复杂度是 $O(\\cfrac{N}{2})$，一个表示数据流元素个数的计数器 `count`，占用空间 $\\mathcal{O}(1)$，综上空间复杂度为 $\\mathcal{O}(N)$。"
   ]
  },
  {
   "cell_type": "code",
   "execution_count": null,
   "metadata": {},
   "outputs": [],
   "source": [
    "import heapq\n",
    "\n",
    "\n",
    "class MedianFinder:\n",
    "\n",
    "    def __init__(self):\n",
    "        # 当前大顶堆和小顶堆的元素个数之和\n",
    "        self.count = 0\n",
    "        self.max_heap = []\n",
    "        self.min_heap = []\n",
    "\n",
    "    def addNum(self, num: int) -> None:\n",
    "        self.count += 1\n",
    "        # 因为 Python 中的堆默认是小顶堆，所以要传入一个 tuple，用于比较的元素需是相反数，\n",
    "        # 才能模拟出大顶堆的效果\n",
    "        heapq.heappush(self.max_heap, (-num, num))\n",
    "        _, max_heap_top = heapq.heappop(self.max_heap)\n",
    "        heapq.heappush(self.min_heap, max_heap_top)\n",
    "        if self.count & 1:\n",
    "            min_heap_top = heapq.heappop(self.min_heap)\n",
    "            heapq.heappush(self.max_heap, (-min_heap_top, min_heap_top))\n",
    "\n",
    "    def findMedian(self) -> float:\n",
    "        if self.count & 1:\n",
    "            # 如果两个堆合起来的元素个数是奇数，数据流的中位数大顶堆的堆顶元素\n",
    "            return self.max_heap[0][1]\n",
    "        else:\n",
    "            # 如果两个堆合起来的元素个数是偶数，数据流的中位数就是各自堆顶元素的平均值\n",
    "            return (self.min_heap[0] + self.max_heap[0][1]) / 2\n",
    "\n",
    "# Your MedianFinder object will be instantiated and called as such:\n",
    "# obj = MedianFinder()\n",
    "# obj.addNum(num)\n",
    "# param_2 = obj.findMedian()"
   ]
  }
 ],
 "metadata": {
  "kernelspec": {
   "display_name": "Python [conda root]",
   "language": "python",
   "name": "conda-root-py"
  },
  "language_info": {
   "codemirror_mode": {
    "name": "ipython",
    "version": 3
   },
   "file_extension": ".py",
   "mimetype": "text/x-python",
   "name": "python",
   "nbconvert_exporter": "python",
   "pygments_lexer": "ipython3",
   "version": "3.6.5"
  },
  "varInspector": {
   "cols": {
    "lenName": 16,
    "lenType": 16,
    "lenVar": 40
   },
   "kernels_config": {
    "python": {
     "delete_cmd_postfix": "",
     "delete_cmd_prefix": "del ",
     "library": "var_list.py",
     "varRefreshCmd": "print(var_dic_list())"
    },
    "r": {
     "delete_cmd_postfix": ") ",
     "delete_cmd_prefix": "rm(",
     "library": "var_list.r",
     "varRefreshCmd": "cat(var_dic_list()) "
    }
   },
   "types_to_exclude": [
    "module",
    "function",
    "builtin_function_or_method",
    "instance",
    "_Feature"
   ],
   "window_display": false
  }
 },
 "nbformat": 4,
 "nbformat_minor": 2
}
