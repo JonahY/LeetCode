{
 "cells": [
  {
   "cell_type": "markdown",
   "metadata": {},
   "source": [
    "### **[LeetCode Link](https://leetcode-cn.com/problems/distant-barcodes/solution/gai-ti-jie-fa-he-767zhong-gou-zi-fu-chuan-yi-yang-/)**"
   ]
  },
  {
   "cell_type": "markdown",
   "metadata": {},
   "source": [
    "## 排序\n",
    "### 分析\n",
    "要想让相邻的元素不重复那么可以将相同的元素间隔一个一字儿排开，排到末尾再从头开始填空就行。\n",
    "对于题目给的例子 `[1,1,1,1,2,2,3,3]`，分两步完成:\n",
    " 1. `[1, _, 1, _, 1, _, 1, _]` 其中_表示还未填写\n",
    " 2. `[1, 2, 1, 2, 1, 3, 1, 4]`\n",
    "\n",
    "这样就能保证一定不会有连续的元素存在。题目已经保证了一定存在解法。那我们需要做的是按照元素出现的次数由多到少排序好进而进行间隔插入。代码如下:"
   ]
  },
  {
   "cell_type": "code",
   "execution_count": null,
   "metadata": {
    "ExecuteTime": {
     "end_time": "2020-09-08T08:16:02.121182Z",
     "start_time": "2020-09-08T08:16:02.094060Z"
    }
   },
   "outputs": [],
   "source": [
    "class Solution:\n",
    "    def rearrangeBarcodes(self, barcodes: List[int]) -> List[int]:\n",
    "        counter = dict(collections.Counter(barcodes))\n",
    "        sortedCounter = sorted(counter.items(), key=lambda item: item[1], reverse=True)\n",
    "        barcodes = []\n",
    "        #重新排序\n",
    "        for (i, j) in sortedCounter:\n",
    "            barcodes += [i] * j\n",
    "        N = len(barcodes)\n",
    "        arrangedBarcodes = [None for _ in range(N)]\n",
    "        #间隔插入\n",
    "        arrangedBarcodes[::2] = barcodes[:(N + 1) // 2]\n",
    "        arrangedBarcodes[1::2] = barcodes[(N + 1) // 2:]\n",
    "\n",
    "        return arrangedBarcodes"
   ]
  }
 ],
 "metadata": {
  "kernelspec": {
   "display_name": "Python 3",
   "language": "python",
   "name": "python3"
  },
  "language_info": {
   "codemirror_mode": {
    "name": "ipython",
    "version": 3
   },
   "file_extension": ".py",
   "mimetype": "text/x-python",
   "name": "python",
   "nbconvert_exporter": "python",
   "pygments_lexer": "ipython3",
   "version": "3.8.5"
  }
 },
 "nbformat": 4,
 "nbformat_minor": 4
}
