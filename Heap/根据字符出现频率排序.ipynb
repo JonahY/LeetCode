{
 "cells": [
  {
   "cell_type": "markdown",
   "metadata": {},
   "source": [
    "**[LeetCode Link](https://leetcode-cn.com/problems/sort-characters-by-frequency/solution/python-counterda-ding-dui-tong-pai-xu-by-cui-jin-h/)**"
   ]
  },
  {
   "cell_type": "markdown",
   "metadata": {},
   "source": [
    "## sorted"
   ]
  },
  {
   "cell_type": "code",
   "execution_count": null,
   "metadata": {
    "ExecuteTime": {
     "end_time": "2020-08-03T06:05:20.497555Z",
     "start_time": "2020-08-03T06:05:20.493595Z"
    }
   },
   "outputs": [],
   "source": [
    "class Solution:\n",
    "    def frequencySort(self, s: str) -> str:\n",
    "        hashmap = collections.defaultdict(int)\n",
    "        for i in list(s):\n",
    "            hashmap[i] += 1\n",
    "        return ''.join([i[0] * i[1] for i in sorted(hashmap.items(), key=lambda item:item[1], reverse=True)])"
   ]
  },
  {
   "cell_type": "markdown",
   "metadata": {},
   "source": [
    "## 大顶堆"
   ]
  },
  {
   "cell_type": "code",
   "execution_count": null,
   "metadata": {},
   "outputs": [],
   "source": [
    "class Solution:\n",
    "    def frequencySort(self, s: str) -> str:\n",
    "        # 大顶堆\n",
    "        countFrequency = collections.defaultdict(int)\n",
    "        for i in s:\n",
    "            countFrequency[i] += 1\n",
    "        lst = []\n",
    "        heapq.heapify(lst)\n",
    "        for i in countFrequency:\n",
    "            for j in range(countFrequency[i]):\n",
    "                heapq.heappush(lst, (-countFrequency[i], i))\n",
    "        \n",
    "        return ''.join([heapq.heappop(lst)[1] for _ in range(len(s))])"
   ]
  },
  {
   "cell_type": "markdown",
   "metadata": {},
   "source": [
    "## 桶排序"
   ]
  },
  {
   "cell_type": "code",
   "execution_count": null,
   "metadata": {},
   "outputs": [],
   "source": [
    "class Solution:\n",
    "    def frequencySort(self, s: str) -> str:\n",
    "        # 桶排序\n",
    "        ret = []\n",
    "        countFrequency = collections.defaultdict(int)\n",
    "        for i in s:\n",
    "            countFrequency[i] += 1\n",
    "        buckets = [[] for _ in range(len(s) + 1)]\n",
    "        for i in countFrequency:\n",
    "            buckets[countFrequency[i]].extend(i*countFrequency[i])\n",
    "        for i in buckets[::-1]:\n",
    "            if(i):\n",
    "                ret.extend(i)\n",
    "        return ''.join(ret)"
   ]
  }
 ],
 "metadata": {
  "kernelspec": {
   "display_name": "Python [conda root]",
   "language": "python",
   "name": "conda-root-py"
  },
  "language_info": {
   "codemirror_mode": {
    "name": "ipython",
    "version": 3
   },
   "file_extension": ".py",
   "mimetype": "text/x-python",
   "name": "python",
   "nbconvert_exporter": "python",
   "pygments_lexer": "ipython3",
   "version": "3.6.5"
  },
  "varInspector": {
   "cols": {
    "lenName": 16,
    "lenType": 16,
    "lenVar": 40
   },
   "kernels_config": {
    "python": {
     "delete_cmd_postfix": "",
     "delete_cmd_prefix": "del ",
     "library": "var_list.py",
     "varRefreshCmd": "print(var_dic_list())"
    },
    "r": {
     "delete_cmd_postfix": ") ",
     "delete_cmd_prefix": "rm(",
     "library": "var_list.r",
     "varRefreshCmd": "cat(var_dic_list()) "
    }
   },
   "types_to_exclude": [
    "module",
    "function",
    "builtin_function_or_method",
    "instance",
    "_Feature"
   ],
   "window_display": false
  }
 },
 "nbformat": 4,
 "nbformat_minor": 2
}
