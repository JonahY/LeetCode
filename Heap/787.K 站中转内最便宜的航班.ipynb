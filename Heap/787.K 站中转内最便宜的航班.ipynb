{
 "cells": [
  {
   "cell_type": "markdown",
   "metadata": {},
   "source": [
    "## **[LeetCode Link](https://leetcode-cn.com/problems/cheapest-flights-within-k-stops/solution/k-zhan-zhong-zhuan-nei-zui-bian-yi-de-hang-ban-b-2/)**"
   ]
  },
  {
   "cell_type": "markdown",
   "metadata": {},
   "source": [
    "## Bellman-Ford 算法（动态规划）**[LeetCode Link](https://leetcode-cn.com/problems/cheapest-flights-within-k-stops/solution/k-zhan-zhong-zhuan-nei-zui-bian-yi-de-hang-ban-b-2/718368)**\n",
    "动态规划解法的 dp[i][k] 表示从 src 到节点 i，在最多换乘 k 站的情况下，最小的费用。\n",
    "\n",
    "初始值是 dp[src][k] = 0，也就是从 src 到 src，不管换乘站是多少，费用都为 0，另外如果 flights 中某个航班 flight 是从 src 站飞往目的地 flight[1]，那么也要初始化 dp[flight[1][0] = flight[2]，也就是要初始化和 src 直接相连的节点。\n",
    "\n",
    "有了 dp 数组和初始值之后，状态转移方程如下： dp[flight[1]][k] = max(dp[flight[1]][k], dp[flight[0]][k - 1] + flight[2])\n",
    "\n",
    "其实上述解法就是从 0 个换乘站开始，找到从 src 经过 0 个换乘站到达其余各站的最小花费（也就是和 src 直接相连的点），然后接着就是求从 src 经过 1 个换乘站到达其余各站的最小花费，依次类推，最后求出从 src 经过 k 个换乘站到达其余各站的最小花费。然后 dp[dst][k] 就是我们所要求的。"
   ]
  },
  {
   "cell_type": "code",
   "execution_count": 1,
   "metadata": {
    "ExecuteTime": {
     "end_time": "2021-06-10T05:41:48.726601Z",
     "start_time": "2021-06-10T05:41:48.717633Z"
    }
   },
   "outputs": [],
   "source": [
    "class Solution(object):\n",
    "    def findCheapestPrice(self, n, flights, src, dst, k):\n",
    "        dist = [float('inf')] * n  # dist[v]表示到达v的最小花费\n",
    "        dist[src] = 0\n",
    "\n",
    "        for i in range(k + 1):  # 对每条边做 k+1 次松弛操作\n",
    "            dist_old = [_ for _ in dist]\n",
    "            for u, v, w in flights:\n",
    "                dist[v] = min(dist[v], dist_old[u] + w)\n",
    "\n",
    "        return dist[dst] if dist[dst] != float('inf') else -1"
   ]
  },
  {
   "cell_type": "code",
   "execution_count": null,
   "metadata": {},
   "outputs": [],
   "source": [
    "public class CheapestFlightsWithinKStops {\n",
    "    public int findCheapestPrice(int n, int[][] flights, int src, int dst, int K) {\n",
    "        // dp[i][k]是经过k个中转站后到达站 i 的最小费用\n",
    "        int[][] dp = new int[n][K + 1];\n",
    "\n",
    "        // 循环初始化整个二维数组。\n",
    "        for(int i = 0; i < n; ++i) Arrays.fill(dp[i], Integer.MAX_VALUE);\n",
    "\n",
    "        // 利用flights中的信息初始化src可直达的班次\n",
    "        for(int[] flight : flights) {\n",
    "            if(flight[0] == src){\n",
    "                dp[flight[1]][0] = flight[2];\n",
    "            }\n",
    "        }\n",
    "\n",
    "        // 循环初始化数组中dst == src的行\n",
    "        for(int i = 0; i <= K; i++){\n",
    "            dp[src][i] = 0;\n",
    "        }\n",
    "\n",
    "        //动态规划状态转移方程，开始填表\n",
    "        //直达的已经初始化了（即k = 0的情况），现在从k = 1 的开始，即只有一个中转站开始\n",
    "        for(int k = 1; k <= K; k++){\n",
    "            for(int[] flight : flights){\n",
    "                //结合题目理解\n",
    "                if(dp[flight[0]][k - 1] != Integer.MAX_VALUE){\n",
    "                    dp[flight[1]][k] = Math.min(dp[flight[1]][k], dp[flight[0]][k - 1] + flight[2]);\n",
    "                }\n",
    "            }\n",
    "        }\n",
    "        return dp[dst][K] == Integer.MAX_VALUE? -1: dp[dst][K];\n",
    "    }\n",
    "}"
   ]
  },
  {
   "cell_type": "markdown",
   "metadata": {},
   "source": [
    "## BFS"
   ]
  },
  {
   "cell_type": "code",
   "execution_count": null,
   "metadata": {},
   "outputs": [],
   "source": [
    "class Solution:\n",
    "\tdef findCheapestPrice(self, n: int, flights: List[List[int]], src: int, dst: int, K: int) -> int:\n",
    "\t\t# K => bfs\n",
    "\t\tif flights == [] or src == dst : return 0 # special case\n",
    "\t\tqueue = collections.deque([(src, 0)])\n",
    "\t\tcost = [float('inf')] * n\n",
    "\t\tcost[src] = 0\n",
    "\t\tadjList = collections.defaultdict(list)\n",
    "\t\tcostList = collections.defaultdict(tuple)\n",
    "\t\tfor x, y, c in flights:\n",
    "\t\t\tadjList[x].append(y)\n",
    "\t\t\tcostList[(x, y)] = c\n",
    "\t\t\t\n",
    "\t\tfor _ in range(K + 1):\n",
    "\t\t\tlength = len(queue)\n",
    "\t\t\tfor i in range(length):\n",
    "\t\t\t\ttop, c = queue.popleft()\n",
    "\t\t\t\tfor nei in adjList[top]:\n",
    "\t\t\t\t\tif costList[(top, nei)] + c < cost[nei]:\n",
    "\t\t\t\t\t\tcost[nei] = costList[(top, nei)] + c\n",
    "\t\t\t\t\t\tqueue.append((nei, cost[nei]))\n",
    "\t\treturn cost[dst] if cost[dst] != float('inf') else -1"
   ]
  },
  {
   "cell_type": "markdown",
   "metadata": {},
   "source": [
    "## DFS"
   ]
  },
  {
   "cell_type": "code",
   "execution_count": null,
   "metadata": {},
   "outputs": [],
   "source": [
    "from collections import defaultdict\n",
    "import heapq\n",
    "\n",
    "class Solution:\n",
    "    def findCheapestPrice(self, n: int, flights: List[List[int]], src: int, dst: int, K: int) -> int:\n",
    "        if not flights:\n",
    "            return -1\n",
    "        src2dst = defaultdict(list)\n",
    "        for u, v, w in flights:\n",
    "            src2dst[u].append((v, w))\n",
    "        # prices, number of stops, current stop\n",
    "        heap = [(0, 0, src)]\n",
    "        res = float('inf')\n",
    "\n",
    "        while heap:\n",
    "            price, stop, cur = heapq.heappop(heap)\n",
    "            if cur == dst:\n",
    "                res = min(res, price)\n",
    "                break\n",
    "            if stop > K:\n",
    "                continue\n",
    "            for nxt, cost in src2dst[cur]:\n",
    "                heapq.heappush(heap, (price + cost, stop + 1, nxt))\n",
    "            # print(heap)\n",
    "        return res if res != float('inf') else -1"
   ]
  },
  {
   "cell_type": "code",
   "execution_count": null,
   "metadata": {},
   "outputs": [],
   "source": [
    "class Solution {\n",
    "   public int findCheapestPrice(int n, int[][] flights, int src, int dst, int K) {\n",
    "        int[][] g = new int[n][n];\n",
    "        for (int[] f : flights) {\n",
    "            g[f[0]][f[1]] = f[2];\n",
    "        }\n",
    "        PriorityQueue<int[]> heap = new PriorityQueue<>((a, b) -> a[0] - b[0]);\n",
    "        heap.add(new int[]{0, src, K + 1});\n",
    "\n",
    "        while (!heap.isEmpty()) {\n",
    "            int[] cur = heap.poll();\n",
    "            int price = cur[0], place = cur[1], remainStops = cur[2];\n",
    "            if (place == dst) {\n",
    "                return price;\n",
    "            }\n",
    "            if (remainStops > 0) {\n",
    "                for (int i = 0; i < n; i++) {\n",
    "                    if (g[place][i] > 0) {\n",
    "                        heap.offer(new int[]{price + g[place][i], i, remainStops - 1});\n",
    "                    }\n",
    "                }\n",
    "            }\n",
    "        }\n",
    "        return -1;\n",
    "    }\n",
    "}"
   ]
  }
 ],
 "metadata": {
  "kernelspec": {
   "display_name": "Python 3",
   "language": "python",
   "name": "python3"
  },
  "language_info": {
   "codemirror_mode": {
    "name": "ipython",
    "version": 3
   },
   "file_extension": ".py",
   "mimetype": "text/x-python",
   "name": "python",
   "nbconvert_exporter": "python",
   "pygments_lexer": "ipython3",
   "version": "3.8.5"
  },
  "toc": {
   "base_numbering": 1,
   "nav_menu": {},
   "number_sections": true,
   "sideBar": true,
   "skip_h1_title": false,
   "title_cell": "Table of Contents",
   "title_sidebar": "Contents",
   "toc_cell": false,
   "toc_position": {},
   "toc_section_display": true,
   "toc_window_display": false
  },
  "varInspector": {
   "cols": {
    "lenName": 16,
    "lenType": 16,
    "lenVar": 40
   },
   "kernels_config": {
    "python": {
     "delete_cmd_postfix": "",
     "delete_cmd_prefix": "del ",
     "library": "var_list.py",
     "varRefreshCmd": "print(var_dic_list())"
    },
    "r": {
     "delete_cmd_postfix": ") ",
     "delete_cmd_prefix": "rm(",
     "library": "var_list.r",
     "varRefreshCmd": "cat(var_dic_list()) "
    }
   },
   "types_to_exclude": [
    "module",
    "function",
    "builtin_function_or_method",
    "instance",
    "_Feature"
   ],
   "window_display": false
  }
 },
 "nbformat": 4,
 "nbformat_minor": 4
}
