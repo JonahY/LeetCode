{
 "cells": [
  {
   "cell_type": "markdown",
   "metadata": {},
   "source": [
    "## **[LeetCode Link](https://leetcode-cn.com/problems/cheapest-flights-within-k-stops/solution/k-zhan-zhong-zhuan-nei-zui-bian-yi-de-hang-ban-b-2/)**"
   ]
  },
  {
   "cell_type": "markdown",
   "metadata": {},
   "source": [
    "## BFS"
   ]
  },
  {
   "cell_type": "code",
   "execution_count": null,
   "metadata": {},
   "outputs": [],
   "source": [
    "class Solution:\n",
    "\tdef findCheapestPrice(self, n: int, flights: List[List[int]], src: int, dst: int, K: int) -> int:\n",
    "\t\t# K => bfs\n",
    "\t\tif flights == [] or src == dst : return 0 # special case\n",
    "\t\tqueue = collections.deque([(src, 0)])\n",
    "\t\tcost = [float('inf')] * n\n",
    "\t\tcost[src] = 0\n",
    "\t\tadjList = collections.defaultdict(list)\n",
    "\t\tcostList = collections.defaultdict(tuple)\n",
    "\t\tfor x, y, c in flights:\n",
    "\t\t\tadjList[x].append(y)\n",
    "\t\t\tcostList[(x, y)] = c\n",
    "\t\t\t\n",
    "\t\tfor _ in range(K + 1):\n",
    "\t\t\tlength = len(queue)\n",
    "\t\t\tfor i in range(length):\n",
    "\t\t\t\ttop, c = queue.popleft()\n",
    "\t\t\t\tfor nei in adjList[top]:\n",
    "\t\t\t\t\tif costList[(top, nei)] + c < cost[nei]:\n",
    "\t\t\t\t\t\tcost[nei] = costList[(top, nei)] + c\n",
    "\t\t\t\t\t\tqueue.append((nei, cost[nei]))\n",
    "\t\treturn cost[dst] if cost[dst] != float('inf') else -1"
   ]
  },
  {
   "cell_type": "markdown",
   "metadata": {},
   "source": [
    "## DFS"
   ]
  },
  {
   "cell_type": "code",
   "execution_count": null,
   "metadata": {},
   "outputs": [],
   "source": [
    "from collections import defaultdict\n",
    "import heapq\n",
    "\n",
    "class Solution:\n",
    "    def findCheapestPrice(self, n: int, flights: List[List[int]], src: int, dst: int, K: int) -> int:\n",
    "        if not flights:\n",
    "            return -1\n",
    "        src2dst = defaultdict(list)\n",
    "        for u, v, w in flights:\n",
    "            src2dst[u].append((v, w))\n",
    "        # prices, number of stops, current stop\n",
    "        heap = [(0, 0, src)]\n",
    "        res = float('inf')\n",
    "\n",
    "        while heap:\n",
    "            price, stop, cur = heapq.heappop(heap)\n",
    "            if cur == dst:\n",
    "                res = min(res, price)\n",
    "                break\n",
    "            if stop > K:\n",
    "                continue\n",
    "            for nxt, cost in src2dst[cur]:\n",
    "                heapq.heappush(heap, (price + cost, stop + 1, nxt))\n",
    "            # print(heap)\n",
    "        return res if res != float('inf') else -1"
   ]
  }
 ],
 "metadata": {
  "kernelspec": {
   "display_name": "Python [conda env:root] *",
   "language": "python",
   "name": "conda-root-py"
  },
  "language_info": {
   "codemirror_mode": {
    "name": "ipython",
    "version": 3
   },
   "file_extension": ".py",
   "mimetype": "text/x-python",
   "name": "python",
   "nbconvert_exporter": "python",
   "pygments_lexer": "ipython3",
   "version": "3.8.3"
  },
  "varInspector": {
   "cols": {
    "lenName": 16,
    "lenType": 16,
    "lenVar": 40
   },
   "kernels_config": {
    "python": {
     "delete_cmd_postfix": "",
     "delete_cmd_prefix": "del ",
     "library": "var_list.py",
     "varRefreshCmd": "print(var_dic_list())"
    },
    "r": {
     "delete_cmd_postfix": ") ",
     "delete_cmd_prefix": "rm(",
     "library": "var_list.r",
     "varRefreshCmd": "cat(var_dic_list()) "
    }
   },
   "types_to_exclude": [
    "module",
    "function",
    "builtin_function_or_method",
    "instance",
    "_Feature"
   ],
   "window_display": false
  }
 },
 "nbformat": 4,
 "nbformat_minor": 4
}
