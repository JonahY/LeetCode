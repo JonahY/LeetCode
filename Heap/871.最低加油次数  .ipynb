{
 "cells": [
  {
   "cell_type": "markdown",
   "metadata": {},
   "source": [
    "### **[LeetCode Link](https://leetcode-cn.com/problems/minimum-number-of-refueling-stops/solution/zui-di-jia-you-ci-shu-by-leetcode/)**"
   ]
  },
  {
   "cell_type": "markdown",
   "metadata": {},
   "source": [
    "## 栈\n",
    "### 思路\n",
    "每驶过一个加油站，记住这个加油站有多少油。不需要立即决定要不要在这个加油站加油，如果后面有油量更多的加油站显然优先选择后面的加油。\n",
    "如果当前油量不够抵达下一个加油站，必须得从之前的加油站中找一个来加油，贪心选择最大油量储备的加油站就好了。\n",
    "### 算法\n",
    "* 定义 $pq$（优先队列）为一个保存了驶过加油站油量的最大堆，定义当前油量为 $tank$。\n",
    "* 如果当前油量为负数（意味着当前油量不够抵达当前位置），那就必须在驶过的加油站找一个油量储备最大来加油。\n",
    "* 如果在某个位置油量为负，且没有加油站可用了，那就不可能完成这个任务。\n",
    "### 复杂度分析\n",
    "* 时间复杂度： $\\mathcal{O}(N \\log N)$，其中 $N$ 为加油站的个数。\n",
    "* 空间复杂度： $\\mathcal{O}(N)$， $pq$ 数组占用的空间。"
   ]
  },
  {
   "cell_type": "code",
   "execution_count": null,
   "metadata": {},
   "outputs": [],
   "source": [
    "class Solution(object):\n",
    "    def minRefuelStops(self, target, tank, stations):\n",
    "        pq = []  # A maxheap is simulated using negative values\n",
    "        stations.append((target, float('inf')))\n",
    "\n",
    "        ans = prev = 0\n",
    "        for location, capacity in stations:\n",
    "            tank -= location - prev\n",
    "            while pq and tank < 0:  # must refuel in past\n",
    "                tank += -heapq.heappop(pq)\n",
    "                ans += 1\n",
    "            if tank < 0: return -1\n",
    "            heapq.heappush(pq, -capacity)\n",
    "            prev = location\n",
    "        return ans"
   ]
  },
  {
   "cell_type": "code",
   "execution_count": null,
   "metadata": {},
   "outputs": [],
   "source": [
    "class Solution {\n",
    "    public int minRefuelStops(int target, int startFuel, int[][] stations) {\n",
    "        int res = 0;\n",
    "        int prev = 0;\n",
    "        PriorityQueue<Integer> heap = new PriorityQueue<>((a, b) -> b - a);\n",
    "        int[][] stations_new = new int[stations.length + 1][2];\n",
    "        System.arraycopy(stations, 0, stations_new, 0, stations.length);\n",
    "        stations_new[stations.length] = new int[]{target, (int) Double.POSITIVE_INFINITY};\n",
    "\n",
    "        for (int[] station : stations_new) {\n",
    "            int location = station[0], capacity = station[1];\n",
    "            startFuel -= location - prev;\n",
    "            while (!heap.isEmpty() && (startFuel < 0)) {\n",
    "                startFuel += heap.poll();\n",
    "                res += 1;\n",
    "            }\n",
    "            if (startFuel < 0) return -1;\n",
    "            heap.offer(capacity);\n",
    "            prev = location;\n",
    "        }\n",
    "        return res;\n",
    "    }\n",
    "}"
   ]
  },
  {
   "cell_type": "markdown",
   "metadata": {},
   "source": [
    "## 动态规划\n",
    "### 思路\n",
    "$dp[i]$ 为加 $i$ 次油能走的最远距离，需要满足 $dp[i] >= target$ 的最小 $i$。\n",
    "### 算法\n",
    "* 依次计算每个 $dp[i]$，对于 $dp[0]$，就只用初始的油量 $startFuel$ 看能走多远。\n",
    "* 每多一个加油站 $station[i] = (location, capacity)$，如果之前可以通过加 $t$ 次油到达这个加油站，现在就可以加 $t+1$ 次油得到 $capcity$ 的油量。\n",
    "* 举个例子，原本加一次油可以行驶的最远距离为 $15$，现在位置 $10$ 有一个加油站，有 $30$ 升油量储备，那么显然现在可以加两次油行驶 $45$ 距离。\n",
    "\n",
    "### 复杂度分析\n",
    "* 时间复杂度： $\\mathcal{O}(N^2)$，其中 $N$ 为加油站的个数。\n",
    "* 空间复杂度： $\\mathcal{O}(N)$，$dp$ 数组占用的空间。"
   ]
  },
  {
   "cell_type": "code",
   "execution_count": 9,
   "metadata": {
    "ExecuteTime": {
     "end_time": "2020-09-07T08:45:33.505904Z",
     "start_time": "2020-09-07T08:45:33.496920Z"
    }
   },
   "outputs": [
    {
     "data": {
      "text/plain": [
       "[[10, 60, 0]]"
      ]
     },
     "execution_count": 9,
     "metadata": {},
     "output_type": "execute_result"
    }
   ],
   "source": [
    "class Solution(object):\n",
    "    def minRefuelStops(self, target, startFuel, stations):\n",
    "        dp = [startFuel] + [0] * len(stations)\n",
    "        for i, (location, capacity) in enumerate(stations):\n",
    "            for t in range(i, -1, -1):\n",
    "                if dp[t] >= location:\n",
    "                    dp[t+1] = max(dp[t+1], dp[t] + capacity)\n",
    "        for i, d in enumerate(dp):\n",
    "            if d >= target: return i\n",
    "        return -1"
   ]
  },
  {
   "cell_type": "code",
   "execution_count": null,
   "metadata": {},
   "outputs": [],
   "source": [
    "class Solution {\n",
    "    public int minRefuelStops(int target, int startFuel, int[][] stations) {\n",
    "        int[] dp = new int[stations.length + 1];\n",
    "        dp[0] = startFuel;\n",
    "        for (int i = 0; i < stations.length; i++) {\n",
    "            int location = stations[i][0];\n",
    "            int capacity = stations[i][1];\n",
    "            for (int t = i; t > -1; t--) {\n",
    "                if (dp[t] >= location) {\n",
    "                    dp[t+1] = Math.max(dp[t+1], dp[t] + capacity);\n",
    "                }\n",
    "            }\n",
    "        }\n",
    "        for (int i = 0; i < dp.length; i++) {\n",
    "            if (dp[i] >= target) return i;\n",
    "        }\n",
    "\n",
    "        return -1;\n",
    "    }\n",
    "}"
   ]
  }
 ],
 "metadata": {
  "kernelspec": {
   "display_name": "Python 3",
   "language": "python",
   "name": "python3"
  },
  "language_info": {
   "codemirror_mode": {
    "name": "ipython",
    "version": 3
   },
   "file_extension": ".py",
   "mimetype": "text/x-python",
   "name": "python",
   "nbconvert_exporter": "python",
   "pygments_lexer": "ipython3",
   "version": "3.8.5"
  },
  "toc": {
   "base_numbering": 1,
   "nav_menu": {},
   "number_sections": true,
   "sideBar": true,
   "skip_h1_title": false,
   "title_cell": "Table of Contents",
   "title_sidebar": "Contents",
   "toc_cell": false,
   "toc_position": {},
   "toc_section_display": true,
   "toc_window_display": false
  },
  "varInspector": {
   "cols": {
    "lenName": 16,
    "lenType": 16,
    "lenVar": 40
   },
   "kernels_config": {
    "python": {
     "delete_cmd_postfix": "",
     "delete_cmd_prefix": "del ",
     "library": "var_list.py",
     "varRefreshCmd": "print(var_dic_list())"
    },
    "r": {
     "delete_cmd_postfix": ") ",
     "delete_cmd_prefix": "rm(",
     "library": "var_list.r",
     "varRefreshCmd": "cat(var_dic_list()) "
    }
   },
   "types_to_exclude": [
    "module",
    "function",
    "builtin_function_or_method",
    "instance",
    "_Feature"
   ],
   "window_display": false
  }
 },
 "nbformat": 4,
 "nbformat_minor": 4
}
