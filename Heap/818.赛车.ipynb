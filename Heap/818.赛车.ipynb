{
 "cells": [
  {
   "cell_type": "markdown",
   "metadata": {},
   "source": [
    "## **[LeetCode Link](https://leetcode-cn.com/problems/race-car/solution/di-gui-dong-tai-gui-hua-jie-jue-sai-che-wen-ti-by-/)**"
   ]
  },
  {
   "cell_type": "markdown",
   "metadata": {},
   "source": [
    "## 动态规划\n",
    "> ***n个A指令可以走到位置2^n-1，执行一次R即为反向。***\n",
    "\n",
    "通过 $\\mathcal{log_2(target})$ 求出 $n$ 后，两种情况：\n",
    "  * 如果 $target$ 正好为 $\\mathcal{2^{n-1}}$，则执行 $n$ 次 $A$ 即可；\n",
    "  * 不正好的话，有两种走法：\n",
    "    1. 直接前进通过 $target$ ：$n$ 次 $A$ 走到$\\mathcal{2^{n-1}}$,然后 1 次 $R$ 反向，递归走剩余的 $\\mathcal{2^{n-1}-target}$;\n",
    "    2. 前进直到下一次会通过 $target$ ： $n-1$ 次 $A$ 走到 $\\mathcal{2^{n-1}-1}$，然后 1 次 $R$ 反向，反向走 $m$ 个 $A$ ，再 1 次 $R$ 反向，递归走剩余的 $\\mathcal{2^{n-1}-1-2^m}$。"
   ]
  },
  {
   "cell_type": "code",
   "execution_count": null,
   "metadata": {},
   "outputs": [],
   "source": [
    "from math import log\n",
    "class Solution:\n",
    "    def racecar(self, target: int) -> int:\n",
    "        dp = [float('-inf')] * (target+10)\n",
    "        \n",
    "        def helper(target):\n",
    "            if dp[target] > 0 : return dp[target]\n",
    "            n = int(log(target,2)) +1 \n",
    "            if target == 2**n-1:\n",
    "                dp[target] = n\n",
    "            else:\n",
    "                dp[target] = n + 1 + helper( (2**n) - 1 -target )\n",
    "                for m in range(n-1):\n",
    "                    dp[target]= min(dp[target], n + m + 1 + helper(target - (2**(n - 1)) + (2**m)))\n",
    "            return dp[target]\n",
    "        \n",
    "        return helper(target)"
   ]
  }
 ],
 "metadata": {
  "kernelspec": {
   "display_name": "Python 3",
   "language": "python",
   "name": "python3"
  },
  "language_info": {
   "codemirror_mode": {
    "name": "ipython",
    "version": 3
   },
   "file_extension": ".py",
   "mimetype": "text/x-python",
   "name": "python",
   "nbconvert_exporter": "python",
   "pygments_lexer": "ipython3",
   "version": "3.8.5"
  }
 },
 "nbformat": 4,
 "nbformat_minor": 4
}
