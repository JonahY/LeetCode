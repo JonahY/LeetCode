{
 "cells": [
  {
   "cell_type": "markdown",
   "metadata": {},
   "source": [
    "**[LeetCode Link](https://leetcode-cn.com/problems/find-k-th-smallest-pair-distance/solution/hei-ming-dan-zhong-de-sui-ji-shu-by-leetcode/)**"
   ]
  },
  {
   "cell_type": "markdown",
   "metadata": {},
   "source": [
    "## 二分查找 + 双指针\n",
    "### 方法\n",
    "我们可以使用双指针来计算出所有小于等于 `mid` 的距离对数目。我们维护 `left` 和 `right`，其中 `right` 通过循环逐渐递增，`left` 在每次循环中被维护，使得它满足 `nums[right] - nums[left] <= guess` 且最小。这样对于 `nums[right]`，以它为右端的满足距离小于等于 `mid` 的距离对数目即为 `right - left`。我们在循环中对这些 `right - left` 进行累加，就得到了所有小于等于 `mid` 的距离对数目。\n",
    "\n",
    "### 复杂度分析\n",
    "* 时间复杂度：$\\mathcal{O}(N \\log W + N \\log N)$，其中 $N$ 为 `nums` 数组的长度，$W$ 为 `nums` 数组中最大值与最小值的差，即 `nums[nums.length - 1] - nums[0]`（对 `nums` 数组进行排序之后）。其中二分查找的时间复杂度为 \\log WlogW，计算 `possible(guess)` 函数的时间复杂度为 $\\mathcal{O}(N)$，对 `nums` 数组进行排序的时间复杂度为 $\\mathcal{O}(N\\log N)$。\n",
    "* 空间复杂度：$\\mathcal{O}(1)$。"
   ]
  },
  {
   "cell_type": "code",
   "execution_count": null,
   "metadata": {},
   "outputs": [],
   "source": [
    "class Solution:\n",
    "    def smallestDistancePair(self, nums: list, k: int) -> int:\n",
    "        # 二分搜索 + 双指针\n",
    "        # 先将nums进行排序\n",
    "        nums.sort()\n",
    "        # 最大距离为首尾差\n",
    "        # 第k小的距离差必然在 [min_distance, max_distance] 之间\n",
    "        # 通过二分搜索确定距离差\n",
    "        low, high = 0, nums[-1] - nums[0]\n",
    "        while low < high:\n",
    "            mid = (low + high) // 2\n",
    "            # 淘汰策略\n",
    "            # 对于mid而言\n",
    "            # 若小于mid的距离差总数 >= k，则距离差应落在 [low, mid] 之间\n",
    "            # 若大于mid的距离差总数 < k，则距离差应落在 [mid+1, high] 之间\n",
    "            count = self.count_mid_distance(nums, mid)\n",
    "            if count >= k:\n",
    "                high = mid\n",
    "            else:\n",
    "                low = mid + 1\n",
    "        return low\n",
    "\n",
    "    def count_mid_distance(self, nums: list, target: int) -> int:\n",
    "        # 由于数组已有序，所以我们只需要统计差值在target内的数量即可\n",
    "        # 大于target的我们可以直接跳过，以此来减少计算次数\n",
    "        # 依然使用动态窗口机制，我们每次计算至差值 <= target\n",
    "        # 则窗口向右滑动时，两侧元素差值 > target，我们可以直接将左侧元素剔除\n",
    "        left, count = 0, 0\n",
    "        for right in range(1, len(nums)):\n",
    "            # 每次将right与 [left, right] 中的每个元素进行比较\n",
    "            # 由于数组有序，我们只需要将left移动至第一个满足 right-left <= tartget\n",
    "            # 的位置即可，中间的元素即为满足条件的元素\n",
    "            # 若无元素满足条件，则left追上right\n",
    "            while nums[right] - nums[left] > target:\n",
    "                left += 1\n",
    "            count += right - left\n",
    "        return count"
   ]
  },
  {
   "cell_type": "markdown",
   "metadata": {},
   "source": [
    "## 堆（超时）\n",
    "使用堆可以帮我们找到第 k 小值。我们将数组排序，此时对于固定的下标 i，从小到大的距离分别为 (i, i + 1)，(i, i + 2)，...，(i, N - 1)。因为 (i, j + 1) 的距离不会小于 (i, j)，因此如果 (i, j) 还在堆中，我们没有必要把 (i, j + 1) 放入堆中。\n",
    "\n",
    "因此，我们首先将所有 (i, i + 1) 放入堆中，即 heap = [(i, i + 1) for all i]。每次取出堆中的最小元素 (i, j) 时（元素的大小为 nums[j] - nums[i]，即距离），再把 (i, j + 1) 放入堆中。直到取出 k 个元素，就得到了第 k 小的距离。\n",
    "\n",
    "### 复杂度分析\n",
    "* 时间复杂度：$\\mathcal{O}((k + N) \\log N)$，其中 $N$ 为 nums 数组的长度。因为 k 最大可以达到 $\\mathcal{O}(N^2)$，因此最坏情况下，时间复杂度为 $\\mathcal{O}(N^2 \\log N)$，超出了时间限制。\n",
    "* 空间复杂度：$\\mathcal{O}(N)$。堆中的元素个数是 $\\mathcal{O}(N)$ 的。"
   ]
  },
  {
   "cell_type": "code",
   "execution_count": null,
   "metadata": {},
   "outputs": [],
   "source": [
    "class Solution(object):\n",
    "    def smallestDistancePair(self, nums, k):\n",
    "        nums.sort()\n",
    "        heap = [(nums[i+1] - nums[i], i, i+1)\n",
    "                for i in range(len(nums) - 1)]\n",
    "        heapq.heapify(heap)\n",
    "\n",
    "        for _ in range(k):\n",
    "            d, root, nei = heapq.heappop(heap)\n",
    "            if nei + 1 < len(nums):\n",
    "                heapq.heappush(heap, (nums[nei + 1] - nums[root], root, nei + 1))\n",
    "\n",
    "        return d"
   ]
  }
 ],
 "metadata": {
  "kernelspec": {
   "display_name": "Python [conda root]",
   "language": "python",
   "name": "conda-root-py"
  },
  "language_info": {
   "codemirror_mode": {
    "name": "ipython",
    "version": 3
   },
   "file_extension": ".py",
   "mimetype": "text/x-python",
   "name": "python",
   "nbconvert_exporter": "python",
   "pygments_lexer": "ipython3",
   "version": "3.6.5"
  },
  "varInspector": {
   "cols": {
    "lenName": 16,
    "lenType": 16,
    "lenVar": 40
   },
   "kernels_config": {
    "python": {
     "delete_cmd_postfix": "",
     "delete_cmd_prefix": "del ",
     "library": "var_list.py",
     "varRefreshCmd": "print(var_dic_list())"
    },
    "r": {
     "delete_cmd_postfix": ") ",
     "delete_cmd_prefix": "rm(",
     "library": "var_list.r",
     "varRefreshCmd": "cat(var_dic_list()) "
    }
   },
   "types_to_exclude": [
    "module",
    "function",
    "builtin_function_or_method",
    "instance",
    "_Feature"
   ],
   "window_display": false
  }
 },
 "nbformat": 4,
 "nbformat_minor": 2
}
