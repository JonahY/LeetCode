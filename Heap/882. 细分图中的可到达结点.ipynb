{
 "cells": [
  {
   "cell_type": "markdown",
   "metadata": {},
   "source": [
    "### **[LeetCode Link](https://leetcode-cn.com/problems/reachable-nodes-in-subdivided-graph/solution/xi-fen-tu-zhong-de-ke-dao-da-jie-dian-by-leetcode/)**"
   ]
  },
  {
   "cell_type": "markdown",
   "metadata": {},
   "source": [
    "## Dijkstra 算法\n",
    "### 思路\n",
    "将原始图作为加权无向图处理，我们可以使用 *$Dijkstra$* 算法查找原始图中的所有可到达结点。 但是，这不足以解决仅部分使用细分边的示例。\n",
    "\n",
    "当我们沿着边（沿任一方向）行进时，我们可以跟踪我们使用它的程度。最后，我们想知道我们在原始图中到达的每个结点，以及每条边的利用率之和。\n",
    "### 算法\n",
    "* 我们使用 *$Dijkstra$* 算法 来找出从源到所有目标的最短距离。 \n",
    "* 另外，对于每条（有向）边 `(node，nei)`，我们将跟踪有多少新结点（从原始边细分而来的新结点）被使用。 最后，我们将总结每条边的利用率。\n",
    "\n",
    "### 复杂度分析\n",
    "* 时间复杂度：$\\mathcal{O}(E \\log N)$，其中 $E$ 是 $edges$ 的长度。\n",
    "* 空间复杂度：$\\mathcal{O}(N)$。"
   ]
  },
  {
   "cell_type": "code",
   "execution_count": null,
   "metadata": {},
   "outputs": [],
   "source": [
    "class Solution(object):\n",
    "    def reachableNodes(self, edges, M, N):\n",
    "        graph = collections.defaultdict(dict)\n",
    "        for u, v, w in edges:\n",
    "            graph[u][v] = graph[v][u] = w\n",
    "        # print(graph)\n",
    "        pq = [(0, 0)]\n",
    "        dist = {0: 0}\n",
    "        used = {}\n",
    "        ans = 0\n",
    "\n",
    "        while pq:\n",
    "            d, node = heapq.heappop(pq)\n",
    "            # print(\"d_node: {} {}\".format(d, node))\n",
    "            if d > dist[node]: continue\n",
    "            # Each node is only visited once.  We've reached\n",
    "            # a node in our original graph.\n",
    "            ans += 1\n",
    "            \n",
    "            for nei, weight in graph[node].items():\n",
    "                # print(\"-\"*20)\n",
    "                # print(nei,weight)\n",
    "                # M - d is how much further we can walk from this node;\n",
    "                # weight is how many new nodes there are on this edge.\n",
    "                # v is the maximum utilization of this edge.\n",
    "                v = min(weight, M - d)\n",
    "                used[node, nei] = v\n",
    "                # print(used)\n",
    "                # d2 is the total distance to reach 'nei' (nei***or) node\n",
    "                # in the original graph.\n",
    "                d2 = d + weight + 1\n",
    "                if d2 < dist.get(nei, M+1):\n",
    "                    heapq.heappush(pq, (d2, nei))\n",
    "                    dist[nei] = d2\n",
    "                    # print(pq)\n",
    "                    # print(dist)\n",
    "\n",
    "        # At the end, each edge (u, v, w) can be used with a maximum\n",
    "        # of w new nodes: a max of used[u, v] nodes from one side,\n",
    "        # and used[v, u] nodes from the other.\n",
    "        for u, v, w in edges:\n",
    "            ans += min(w, used.get((u, v), 0) + used.get((v, u), 0))\n",
    "\n",
    "        return ans"
   ]
  }
 ],
 "metadata": {
  "kernelspec": {
   "display_name": "Python 3",
   "language": "python",
   "name": "python3"
  },
  "language_info": {
   "codemirror_mode": {
    "name": "ipython",
    "version": 3
   },
   "file_extension": ".py",
   "mimetype": "text/x-python",
   "name": "python",
   "nbconvert_exporter": "python",
   "pygments_lexer": "ipython3",
   "version": "3.8.5"
  }
 },
 "nbformat": 4,
 "nbformat_minor": 4
}
