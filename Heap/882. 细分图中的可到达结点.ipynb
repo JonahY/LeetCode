{
 "cells": [
  {
   "cell_type": "markdown",
   "metadata": {},
   "source": [
    "### **[LeetCode Link](https://leetcode-cn.com/problems/reachable-nodes-in-subdivided-graph/solution/xi-fen-tu-zhong-de-ke-dao-da-jie-dian-by-leetcode/)**"
   ]
  },
  {
   "cell_type": "markdown",
   "metadata": {},
   "source": [
    "## Dijkstra 算法\n",
    "### 思路\n",
    "将原始图作为加权无向图处理，我们可以使用 *$Dijkstra$* 算法查找原始图中的所有可到达结点。 但是，这不足以解决仅部分使用细分边的示例。\n",
    "\n",
    "当我们沿着边（沿任一方向）行进时，我们可以跟踪我们使用它的程度。最后，我们想知道我们在原始图中到达的每个结点，以及每条边的利用率之和。\n",
    "### 算法\n",
    "* 我们使用 *$Dijkstra$* 算法 来找出从源到所有目标的最短距离。 \n",
    "* 另外，对于每条（有向）边 `(node，nei)`，我们将跟踪有多少新结点（从原始边细分而来的新结点）被使用。 最后，我们将总结每条边的利用率。\n",
    "\n",
    "### 复杂度分析\n",
    "* 时间复杂度：$\\mathcal{O}(E \\log N)$，其中 $E$ 是 $edges$ 的长度。\n",
    "* 空间复杂度：$\\mathcal{O}(N)$。"
   ]
  },
  {
   "cell_type": "code",
   "execution_count": 17,
   "metadata": {
    "ExecuteTime": {
     "end_time": "2021-06-13T14:15:17.847828Z",
     "start_time": "2021-06-13T14:15:17.829796Z"
    }
   },
   "outputs": [],
   "source": [
    "class Solution(object):\n",
    "    def reachableNodes(self, edges, M, N):\n",
    "        graph = collections.defaultdict(dict)\n",
    "        for u, v, w in edges:\n",
    "            graph[u][v] = graph[v][u] = w\n",
    "#         print(graph)\n",
    "        pq = [(0, 0)]\n",
    "        dist = {0: 0}\n",
    "        used = {}\n",
    "        ans = 0\n",
    "\n",
    "        while pq:\n",
    "            d, node = heapq.heappop(pq)\n",
    "#             print(\"d_node: {} {}\".format(d, node))\n",
    "            if d > dist[node]: continue\n",
    "            # Each node is only visited once.  We've reached\n",
    "            # a node in our original graph.\n",
    "            ans += 1\n",
    "            \n",
    "            for nei, weight in graph[node].items():\n",
    "#                 print(\"-\"*20)\n",
    "#                 print(nei,weight)\n",
    "                # M - d is how much further we can walk from this node;\n",
    "                # weight is how many new nodes there are on this edge.\n",
    "                # v is the maximum utilization of this edge.\n",
    "                v = min(weight, M - d)\n",
    "                used[node, nei] = v\n",
    "#                 print(used)\n",
    "                # d2 is the total distance to reach 'nei' (nei***or) node\n",
    "                # in the original graph.\n",
    "                d2 = d + weight + 1\n",
    "                if d2 < dist.get(nei, M+1):\n",
    "                    heapq.heappush(pq, (d2, nei))\n",
    "                    dist[nei] = d2\n",
    "#                     print(pq)\n",
    "#                     print(dist)\n",
    "\n",
    "        # At the end, each edge (u, v, w) can be used with a maximum\n",
    "        # of w new nodes: a max of used[u, v] nodes from one side,\n",
    "        # and used[v, u] nodes from the other.\n",
    "        for u, v, w in edges:\n",
    "            ans += min(w, used.get((u, v), 0) + used.get((v, u), 0))\n",
    "\n",
    "        return ans"
   ]
  },
  {
   "cell_type": "code",
   "execution_count": 18,
   "metadata": {
    "ExecuteTime": {
     "end_time": "2021-06-13T14:15:19.146313Z",
     "start_time": "2021-06-13T14:15:19.132315Z"
    }
   },
   "outputs": [
    {
     "data": {
      "text/plain": [
       "13"
      ]
     },
     "execution_count": 18,
     "metadata": {},
     "output_type": "execute_result"
    }
   ],
   "source": [
    "import collections, heapq\n",
    "solution = Solution()\n",
    "solution.reachableNodes([[0,1,10],[0,2,1],[1,2,2]], 6, 3)"
   ]
  },
  {
   "cell_type": "code",
   "execution_count": null,
   "metadata": {},
   "outputs": [],
   "source": [
    "class Solution {\n",
    "    public int reachableNodes(int[][] edges, int M, int N) {\n",
    "        Map<Integer, Map<Integer, Integer>> graph = new HashMap();\n",
    "        for (int[] edge: edges) {\n",
    "            int u = edge[0], v = edge[1], w = edge[2];\n",
    "            graph.computeIfAbsent(u, x->new HashMap()).put(v, w);\n",
    "            graph.computeIfAbsent(v, x->new HashMap()).put(u, w);\n",
    "        }\n",
    "\n",
    "        PriorityQueue<ANode> pq = new PriorityQueue<ANode>(\n",
    "                (a, b) -> Integer.compare(a.dist, b.dist));\n",
    "        pq.offer(new ANode(0, 0));\n",
    "\n",
    "        Map<Integer, Integer> dist = new HashMap();\n",
    "        dist.put(0, 0);\n",
    "        Map<Integer, Integer> used = new HashMap();\n",
    "        int ans = 0;\n",
    "\n",
    "        while (!pq.isEmpty()) {\n",
    "            ANode anode = pq.poll();\n",
    "            int node = anode.node;\n",
    "            int d = anode.dist;\n",
    "\n",
    "            if (d > dist.getOrDefault(node, 0)) continue;\n",
    "            // Each node is only visited once.  We've reached\n",
    "            // a node in our original graph.\n",
    "            ans++;\n",
    "\n",
    "            if (!graph.containsKey(node)) continue;\n",
    "            for (int nei: graph.get(node).keySet()) {\n",
    "                // M - d is how much further we can walk from this node;\n",
    "                // weight is how many new nodes there are on this edge.\n",
    "                // v is the maximum utilization of this edge.\n",
    "                int weight = graph.get(node).get(nei);\n",
    "                int v = Math.min(weight, M - d);\n",
    "                used.put(N * node + nei, v);\n",
    "\n",
    "                // d2 is the total distance to reach 'nei' (nei***or) node\n",
    "                // in the original graph.\n",
    "                int d2 = d + weight + 1;\n",
    "                if (d2 < dist.getOrDefault(nei, M+1)) {\n",
    "                    pq.offer(new ANode(nei, d2));\n",
    "                    dist.put(nei, d2);\n",
    "                }\n",
    "            }\n",
    "        }\n",
    "\n",
    "        // At the end, each edge (u, v, w) can be used with a maximum\n",
    "        // of w new nodes: a max of used[u, v] nodes from one side,\n",
    "        // and used[v, u] nodes from the other.\n",
    "        // [We use the encoding (u, v) = u * N + v.]\n",
    "        for (int[] edge: edges) {\n",
    "            ans += Math.min(edge[2], used.getOrDefault(edge[0] * N + edge[1], 0) +\n",
    "                    used.getOrDefault(edge[1] * N + edge[0], 0) );\n",
    "        }\n",
    "\n",
    "        return ans;\n",
    "    }\n",
    "\n",
    "    class ANode {\n",
    "        int node, dist;\n",
    "        ANode(int n, int d) {\n",
    "            node = n;\n",
    "            dist = d;\n",
    "        }\n",
    "    }\n",
    "}"
   ]
  }
 ],
 "metadata": {
  "kernelspec": {
   "display_name": "Python 3",
   "language": "python",
   "name": "python3"
  },
  "language_info": {
   "codemirror_mode": {
    "name": "ipython",
    "version": 3
   },
   "file_extension": ".py",
   "mimetype": "text/x-python",
   "name": "python",
   "nbconvert_exporter": "python",
   "pygments_lexer": "ipython3",
   "version": "3.8.5"
  },
  "toc": {
   "base_numbering": 1,
   "nav_menu": {},
   "number_sections": true,
   "sideBar": true,
   "skip_h1_title": false,
   "title_cell": "Table of Contents",
   "title_sidebar": "Contents",
   "toc_cell": false,
   "toc_position": {},
   "toc_section_display": true,
   "toc_window_display": false
  },
  "varInspector": {
   "cols": {
    "lenName": 16,
    "lenType": 16,
    "lenVar": 40
   },
   "kernels_config": {
    "python": {
     "delete_cmd_postfix": "",
     "delete_cmd_prefix": "del ",
     "library": "var_list.py",
     "varRefreshCmd": "print(var_dic_list())"
    },
    "r": {
     "delete_cmd_postfix": ") ",
     "delete_cmd_prefix": "rm(",
     "library": "var_list.r",
     "varRefreshCmd": "cat(var_dic_list()) "
    }
   },
   "types_to_exclude": [
    "module",
    "function",
    "builtin_function_or_method",
    "instance",
    "_Feature"
   ],
   "window_display": false
  }
 },
 "nbformat": 4,
 "nbformat_minor": 4
}
