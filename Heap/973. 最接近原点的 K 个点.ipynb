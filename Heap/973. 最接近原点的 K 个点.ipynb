{
 "cells": [
  {
   "cell_type": "markdown",
   "metadata": {},
   "source": [
    "### **[LeetCode Link](https://leetcode-cn.com/problems/k-closest-points-to-origin/solution/zui-jie-jin-yuan-dian-de-k-ge-dian-by-leetcode/)**"
   ]
  },
  {
   "cell_type": "markdown",
   "metadata": {},
   "source": [
    "## 分治法\n",
    "### 思路\n",
    "* 我们想要一个复杂度比  $N \\log N$ 更低的算法。 显然，做到这件事情的唯一办法就是利用题目中可以按照任何顺序返回 $K$ 个点的条件，否则的话，必要的排序将会话费我们 $N \\log N$ 的时间。\n",
    "* 我们随机地选择一个元素 $x = A[i]$ 然后将数组分为两部分： 一部分是到原点距离小于 $x$ 的，另一部分是到原点距离大于等于 $x$ 的。 这个快速选择的过程与快速排序中选择一个关键元素将数组分为两部分的过程类似。\n",
    "* 如果我们快速选择一些关键元素，那么每次就可以将问题规模缩减为原来的一半，平均下来时间复杂度就是线性的。\n",
    "\n",
    "### 算法\n",
    "* 我们定义一个函数 $work(i, j, K)$，它的功能是部分排序 $(points[i], points[i+1], ..., points[j])$ 使得最小的 $K$ 个元素出现在数组的首部，也就是 $(i, i+1, ..., i+K-1)$。\n",
    "* 首先，我们从数组中选择一个随机的元素作为关键元素，然后使用这个元素将数组分为上述的两部分。为了能使用线性时间的完成这件事，我们需要两个指针 $i$ 与 $j$，然后将它们移动到放错了位置元素的地方，然后交换这些元素。\n",
    "然后，我们就有了两个部分 $[oi, i]$ 与 $[i+1, oj]$，其中 $(oi, oj)$ 是原来调用 $work(i, j, K)$ 时候 $(i, j)$ 的值。假设第一部分有 10 个元，第二部分有 15 个元素。如果 $K = 5$ 的话，我们只需要对第一部分调用 $work(oi, i, 5)$。否则的话，假如说 $K = 17$，那么第一部分的 10 个元素应该都需要被选择，我们只需要对第二部分调用 $work(i+1, oj, 7)$ 就行了。\n",
    "\n",
    "### 复杂度分析\n",
    "时间复杂度：$\\mathcal{O}(N)$ ，这是在平均情况下 的时间复杂度， 其中 $N$ 是给定点的数量。\n",
    "空间复杂度：$\\mathcal{O}(N)$。"
   ]
  },
  {
   "cell_type": "code",
   "execution_count": null,
   "metadata": {},
   "outputs": [],
   "source": [
    "class Solution:\n",
    "    def kClosest(self, points: List[List[int]], K: int) -> List[List[int]]:\n",
    "        distance = lambda i: points[i][0] ** 2 + points[i][1] ** 2\n",
    "        \n",
    "        def work(i, j, K):\n",
    "            if i > j: return\n",
    "            oi, oj = i, j\n",
    "            pivot = distance(oi)\n",
    "            while i != j:\n",
    "                while i < j and distance(j) >= pivot:\n",
    "                    j -= 1\n",
    "                while i < j and distance(i) <= pivot:\n",
    "                    i += 1\n",
    "                if i < j:\n",
    "                    points[i], points[j] = points[j], points[i]\n",
    "                \n",
    "            points[i], points[oi] = points[oi], points[i]\n",
    "            if K <= i - oi + 1:\n",
    "                work(oi, i - 1, K)\n",
    "            else:\n",
    "                work(i + 1, oj, K - (i - oi + 1))\n",
    "                \n",
    "        work(0, len(points) - 1, K)\n",
    "        return points[:K]"
   ]
  },
  {
   "cell_type": "markdown",
   "metadata": {},
   "source": [
    "## 排序\n",
    "### 思路\n",
    "将所有点到原点的距离进行排序，然后输出距离最近的 $K$ 个点。\n",
    "### 复杂度分析\n",
    "时间复杂度：$\\mathcal{O}(N \\log N)$，其中 $N$ 是给定点的数量。\n",
    "空间复杂度：$\\mathcal{O}(N)$。"
   ]
  },
  {
   "cell_type": "code",
   "execution_count": null,
   "metadata": {},
   "outputs": [],
   "source": [
    "class Solution:\n",
    "    def kClosest(self, points: List[List[int]], K: int) -> List[List[int]]:\n",
    "        return sorted(points, key=lambda x:pow(x[0],2)+pow(x[1],2))[:K]"
   ]
  },
  {
   "cell_type": "markdown",
   "metadata": {
    "ExecuteTime": {
     "end_time": "2020-09-08T07:02:24.198073Z",
     "start_time": "2020-09-08T07:02:24.187102Z"
    }
   },
   "source": [
    "## 堆排序\n",
    "这个问题的本质其实就是对于点到原点的距离，求 $Top K$ 元素。那么，除了排序的方法，以及快速排序以外，还可以利用 `堆` 来得到 $Top K$ 的元素。"
   ]
  },
  {
   "cell_type": "code",
   "execution_count": null,
   "metadata": {},
   "outputs": [],
   "source": [
    "class Solution:\n",
    "    def kClosest(self, points: List[List[int]], K: int) -> List[List[int]]:\n",
    "        heap = []\n",
    "        \n",
    "        for x,y in points:\n",
    "            if len(heap)<K:\n",
    "                heapq.heappush(heap,[-(x*x+y*y),[x,y]])\n",
    "            else:\n",
    "                heapq.heappushpop(heap,[-(x*x+y*y),[x,y]])\n",
    "            \n",
    "        return [pair for value,pair in heap]"
   ]
  }
 ],
 "metadata": {
  "kernelspec": {
   "display_name": "Python 3",
   "language": "python",
   "name": "python3"
  },
  "language_info": {
   "codemirror_mode": {
    "name": "ipython",
    "version": 3
   },
   "file_extension": ".py",
   "mimetype": "text/x-python",
   "name": "python",
   "nbconvert_exporter": "python",
   "pygments_lexer": "ipython3",
   "version": "3.8.5"
  }
 },
 "nbformat": 4,
 "nbformat_minor": 4
}
