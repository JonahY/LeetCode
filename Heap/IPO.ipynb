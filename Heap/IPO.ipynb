{
 "cells": [
  {
   "cell_type": "markdown",
   "metadata": {},
   "source": [
    "**[LeetCode Link](https://leetcode-cn.com/problems/ipo/solution/ipo-by-leetcode-3/)**"
   ]
  },
  {
   "cell_type": "markdown",
   "metadata": {},
   "source": [
    "## 贪心\n",
    "### 算法：\n",
    "* 为了加快速度，首先检查是否存在所有项目都可投资且初始资本 W >= max(Capital) 的情况。如果是，返回利润中前 k 个最大元素的和。\n",
    "* 迭代选择 k 个项目，每一次选择：\n",
    "  * 遍历 N 个项目，并在 W>=Capital[j] 的项目之间进行选择，选择 Profits[j] 最大的一个。\n",
    "  * 如果当前资本不足以启动任意一个项目，则 break。\n",
    "  * 更新 W += Profits[idx]，然后标记该项目启动资金为 Capital[j] = float('inf')。\n",
    "* 返回 W。\n",
    "\n",
    "### 复杂度分析\n",
    "* 时间复杂度：若一开始的资本大于全部项目的启动资本则时间复杂度为 $\\mathcal{O}(N \\log k)$。其他情况为 $\\mathcal{O}(\\min(k, N) N)$\n",
    "* 空间复杂度：若一开始的资本大于全部项目的启动资本空间复杂度为：$\\mathcal{O}(1)$。其他情况为 $\\mathcal{O}(1)$。"
   ]
  },
  {
   "cell_type": "code",
   "execution_count": null,
   "metadata": {},
   "outputs": [],
   "source": [
    "from heapq import nlargest\n",
    "class Solution:\n",
    "    def findMaximizedCapital(self, k: int, W: int, Profits: List[int], Capital: List[int]) -> int:\n",
    "        # to speed up: if all projects are available\n",
    "        if W >= max(Capital):\n",
    "            return W + sum(nlargest(k, Profits))\n",
    "        \n",
    "        n = len(Profits)\n",
    "        for i in range(min(n, k)):\n",
    "            idx = -1 \n",
    "            # if there are available projects,\n",
    "            # pick the most profitable one\n",
    "            for j in range(n):\n",
    "                if W >= Capital[j]:\n",
    "                    if idx == -1: \n",
    "                        idx = j\n",
    "                    elif Profits[idx] < Profits[j]: \n",
    "                        idx = j\n",
    "                        \n",
    "            # not enough capital to start any project\n",
    "            if idx == -1:\n",
    "                break\n",
    "            \n",
    "            # add the profit from chosen project\n",
    "            # and remove the project from further consideration\n",
    "            W += Profits[idx]\n",
    "            Capital[idx] = float('inf')\n",
    "            \n",
    "        return  W"
   ]
  },
  {
   "cell_type": "markdown",
   "metadata": {},
   "source": [
    "## 利用堆的贪心算法\n",
    "### 算法：\n",
    "* 为了加快速度，首先检查是否存在所有项目都可投资且初始资本 W >= max(Capital) 的情况。如果是，返回利润中前 k 个最大元素的和。\n",
    "* 构造 projects：\n",
    "  * 包含每个项目的启动资金和利润信息。\n",
    "  * 按启动资金排序。\n",
    "  * 提供 pop 操作以删除已开展的项目。\n",
    "  * 符合以上条件的结构是 Java 中的最小堆和 Python 中的集合数组。\n",
    "* 迭代选择 k 个项目，每一次选择：\n",
    "  * 更新当前资金可用的项目列表。可以选择最大堆存储可用的项目，可以马上得到下一个最赚钱的项目。\n",
    "  * 如果有可投资的项目，选择最赚钱的项目，更新 W 并继续。\n",
    "  * 如果资金不足以启动任何项目就结束。\n",
    "* 返回 W\n",
    "\n",
    "### 复杂度分析\n",
    "* 时间复杂度：最好的情况是一开始所有项目都可以投资，这个时候时间复杂度为 $\\mathcal{O}(N \\log k)$。否则，需要 $\\mathcal{O}(N \\log N)$ 的时间来创建和排序项目，更新可用项目的时间不超过 $\\mathcal{O}(N \\log N)$，计算资本的时间不超过 $\\mathcal{O}(k \\log N)$ 。因此，总的时间复杂度是 $\\mathcal{O}(N \\log N + N \\log N + k \\log N)$，若 $k < N$，则有 $\\mathcal{O}(N \\log N)$。\n",
    "* 空间复杂度：$\\mathcal{O}(N)$。"
   ]
  },
  {
   "cell_type": "code",
   "execution_count": null,
   "metadata": {},
   "outputs": [],
   "source": [
    "from heapq import nlargest, heappop, heappush\n",
    "class Solution:\n",
    "    def findMaximizedCapital(self, k: int, W: int, Profits: List[int], Capital: List[int]) -> int:\n",
    "        # to speed up: if all projects are available\n",
    "        if W >= max(Capital):\n",
    "            return W + sum(nlargest(k, Profits))\n",
    "        \n",
    "        n = len(Profits)\n",
    "        projects = [(Capital[i], Profits[i]) for i in range(n)]\n",
    "        # sort the projects :\n",
    "        # the most available (= the smallest capital) is the last one\n",
    "        projects.sort(key = lambda x : -x[0])\n",
    "        \n",
    "        available = []\n",
    "        while k > 0:\n",
    "            # update available projects\n",
    "            while projects and projects[-1][0] <= W:\n",
    "                heappush(available, -projects.pop()[1])\n",
    "            # if there are available projects,\n",
    "            # pick the most profitable one\n",
    "            if available:\n",
    "                W -= heappop(available)\n",
    "            # not enough capital to start any project\n",
    "            else:\n",
    "                break\n",
    "            k -= 1\n",
    "        return W"
   ]
  }
 ],
 "metadata": {
  "kernelspec": {
   "display_name": "Python [conda root]",
   "language": "python",
   "name": "conda-root-py"
  },
  "language_info": {
   "codemirror_mode": {
    "name": "ipython",
    "version": 3
   },
   "file_extension": ".py",
   "mimetype": "text/x-python",
   "name": "python",
   "nbconvert_exporter": "python",
   "pygments_lexer": "ipython3",
   "version": "3.6.5"
  },
  "varInspector": {
   "cols": {
    "lenName": 16,
    "lenType": 16,
    "lenVar": 40
   },
   "kernels_config": {
    "python": {
     "delete_cmd_postfix": "",
     "delete_cmd_prefix": "del ",
     "library": "var_list.py",
     "varRefreshCmd": "print(var_dic_list())"
    },
    "r": {
     "delete_cmd_postfix": ") ",
     "delete_cmd_prefix": "rm(",
     "library": "var_list.r",
     "varRefreshCmd": "cat(var_dic_list()) "
    }
   },
   "types_to_exclude": [
    "module",
    "function",
    "builtin_function_or_method",
    "instance",
    "_Feature"
   ],
   "window_display": false
  }
 },
 "nbformat": 4,
 "nbformat_minor": 2
}
