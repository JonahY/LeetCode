{
 "cells": [
  {
   "cell_type": "markdown",
   "metadata": {},
   "source": [
    "**[LeetCode Link](https://leetcode-cn.com/problems/trapping-rain-water/solution/jie-yu-shui-by-leetcode/)**"
   ]
  },
  {
   "cell_type": "markdown",
   "metadata": {},
   "source": [
    "## 暴力法\n",
    "对于数组中的每个元素，我们找出下雨后水能达到的最高位置，等于两边最大高度的较小值减去当前高度的值。\n",
    "### 算法\n",
    "* 找到数组中从下标 i 到最左端最高的条形块高度 left_max。\n",
    "* 找到数组中从下标 i 到最左端最高的条形块高度 right_max。\n",
    "* 扫描数组 height 并更新答案：\n",
    "    * 累加 min(max_left[i],max_right[i])−height[i] 到 ans 上\n",
    "    \n",
    "### 复杂性分析\n",
    "* 时间复杂度： O(n)。\n",
    "    * 存储最大高度数组，需要两次遍历，每次 O(n) 。\n",
    "    * 最终使用存储的数据更新ans ，O(n)。\n",
    "* 空间复杂度： O(n)的额外空间。"
   ]
  },
  {
   "cell_type": "code",
   "execution_count": 37,
   "metadata": {},
   "outputs": [],
   "source": [
    "class Solution:\n",
    "    def trap(self, height) -> int:\n",
    "        if len(height) == 0:\n",
    "            return 0\n",
    "        v = 0\n",
    "        l_max = [0] * len(height)\n",
    "        r_max = [0] * len(height)\n",
    "        l_max[0] = height[0]\n",
    "        r_max[-1] = height[-1]\n",
    "        for i in range(1,len(height)):\n",
    "            l_max[i] = max(height[i], l_max[i-1])\n",
    "        for i in range(len(height)-1)[::-1]:\n",
    "            r_max[i] = max(height[i], r_max[i+1])\n",
    "        for i in range(len(height)):\n",
    "            v += min(l_max[i], r_max[i]) - height[i]\n",
    "        return v"
   ]
  },
  {
   "cell_type": "markdown",
   "metadata": {},
   "source": [
    "## 双指针\n",
    "* 只要 right_max[i]>left_max[i] （元素 0 到元素 6），积水高度将由 left_max 决定，类似地 left_max[i]>right_max[i]（元素 8 到元素 11）。\n",
    "* 所以我们可以认为如果一端有更高的条形块（例如右端），积水的高度依赖于当前方向的高度（从左到右）。当我们发现另一侧（右侧）的条形块高度不是最高的，我们则开始从相反的方向遍历（从右到左）。\n",
    "* 我们必须在遍历时维护 left_max 和 right_max ，但是我们现在可以使用两个指针交替进行，实现 1 次遍历即可完成。\n",
    "\n",
    "### 算法\n",
    "* 初始化 left 指针为 0 并且 right 指针为 size-1\n",
    "* While left<right, do:\n",
    "    * If height[left] < height[right]\n",
    "        * If height[left]≥left_max, 更新 left_max\n",
    "        * Else 累加 left_max−height[left] 到 ans\n",
    "        * left = left + 1.\n",
    "    * Else\n",
    "        * If height[right]≥right_max, 更新 right_max\n",
    "        * Else 累加 right_max−height[right] 到 ans\n",
    "        * right = right - 1.\n",
    "        \n",
    "### 复杂性分析\n",
    "* 时间复杂度：O(n)。单次遍历的时间O(n)。\n",
    "* 空间复杂度：O(1) 的额外空间。left, right, left_max 和 right_max 只需要常数的空间。"
   ]
  },
  {
   "cell_type": "code",
   "execution_count": 32,
   "metadata": {},
   "outputs": [],
   "source": [
    "class Solution:\n",
    "    def trap(self, height) -> int:\n",
    "        v = 0\n",
    "        l = 0\n",
    "        r = len(height) - 1\n",
    "        l_max = 0\n",
    "        r_max = 0\n",
    "        while l < r:\n",
    "            if height[l] < height[r]:\n",
    "                if height[l] >= l_max:\n",
    "                    l_max = height[l]\n",
    "                else:\n",
    "                    v += l_max - height[l]\n",
    "                l += 1\n",
    "            else:\n",
    "                if height[r] >= r_max:\n",
    "                    r_max = height[r]\n",
    "                else:\n",
    "                    v += r_max - height[r]\n",
    "                r -= 1\n",
    "        return v"
   ]
  },
  {
   "cell_type": "code",
   "execution_count": 38,
   "metadata": {},
   "outputs": [
    {
     "data": {
      "text/plain": [
       "0"
      ]
     },
     "execution_count": 38,
     "metadata": {},
     "output_type": "execute_result"
    }
   ],
   "source": [
    "solve = Solution()\n",
    "height = []\n",
    "solve.trap(height)"
   ]
  }
 ],
 "metadata": {
  "kernelspec": {
   "display_name": "Python 3",
   "language": "python",
   "name": "python3"
  },
  "language_info": {
   "codemirror_mode": {
    "name": "ipython",
    "version": 3
   },
   "file_extension": ".py",
   "mimetype": "text/x-python",
   "name": "python",
   "nbconvert_exporter": "python",
   "pygments_lexer": "ipython3",
   "version": "3.7.6"
  }
 },
 "nbformat": 4,
 "nbformat_minor": 4
}
