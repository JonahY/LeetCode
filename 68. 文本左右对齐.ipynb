{
 "cells": [
  {
   "cell_type": "markdown",
   "metadata": {},
   "source": [
    "### **[LeetCode Link](https://leetcode-cn.com/problems/text-justification/solution/python334xing-dai-ma-bao-zheng-jian-dan-yi-dong-by/)**"
   ]
  },
  {
   "cell_type": "markdown",
   "metadata": {},
   "source": [
    "这题的主要难度在于细节很多，分行的时候需要考虑，每一行当中单词之间的空格数量又需要考虑，然后是不是最后一行还需要考虑。\n",
    "\n",
    "但是如果我们自己分析一下会发现其实无非也只有两个主要的模块，第一个模块是切分，也就是每一行当中究竟包含哪几个单词。第二个模块是填充，也就是每一行当中的单词怎么安排，使它能够符合题意。\n",
    "\n",
    "我们很容易发现，这两个模块彼此之间是独立的，也就是说，我们在切分的时候不需要考虑填充的逻辑，填充的时候也不用考虑切分。所以我们把它分成两个部分来思考和实现会容易得多。\n",
    "\n",
    "对于切分而言我们当然使用贪心法，也就是每一行尽量多放单词。我们用 `curLen` 和 `curWords` 记录当前已经放置的单词总长度以及单词。这里有一个坑点是由于每两个单词之间至少需要一个空格， 所以我们还需要考虑空格的长度。如果当前的单词 `w` 加入，那么空格的数量就是 `len(curWords)` 。所以我们只需要判断 `len(w) + curLen + len(curWords) <= maxWidth` 即可。\n",
    "\n",
    "切分的逻辑搞定之后，填充也不麻烦。我们确定了单词的数量，也确定了单词的总长和这一行的长度，那么就可以确定空格的数量。空格的数量是 `maxWidth - curLen` 。然后我们用空格的数量除以空隙的数量，就可以得到每个空隙需要安排多少个空格。这样除并不一定能整除，如果不能整除，那么剩下的余数平均分配到前面的空隙当中，每个空隙多安排一个空格。"
   ]
  },
  {
   "cell_type": "code",
   "execution_count": 64,
   "metadata": {
    "ExecuteTime": {
     "end_time": "2020-10-19T02:50:11.866291Z",
     "start_time": "2020-10-19T02:50:11.844291Z"
    }
   },
   "outputs": [],
   "source": [
    "class Solution:\n",
    "    \n",
    "    def process(self, curLen, curWords, maxWidth):\n",
    "        # 空格数量\n",
    "        num_space = maxWidth - curLen\n",
    "        # 如果只有一个单词就没必要考虑分配，直接填充空格即可\n",
    "        if len(curWords) == 1:\n",
    "            return curWords[0] + ' ' * (maxWidth - curLen)\n",
    "        # 每个空隙分到的空格数量\n",
    "        num_sep = num_space // (len(curWords) - 1)\n",
    "        # 分到空格数量多一个的空隙\n",
    "        head_sep = num_space % (len(curWords) - 1)\n",
    "        cur = ''\n",
    "        # 分配\n",
    "        for i in range(len(curWords) - 1):\n",
    "            cur = cur + curWords[i] + (' ' * (num_sep + 1) if i < head_sep else ' ' * num_sep)\n",
    "        # 分配结束之后把最后一个单词连上\n",
    "        cur = cur + curWords[-1]\n",
    "        return cur\n",
    "        \n",
    "    def fullJustify(self, words: List[str], maxWidth: int) -> List[str]:\n",
    "        ret = []\n",
    "        curLen, curWords = 0, []\n",
    "        \n",
    "        for w in words:\n",
    "            # 切分判断的条件，单词长度加上基本的空格长度\n",
    "            if curLen + len(w) + len(curWords) <= maxWidth:\n",
    "                curLen += len(w)\n",
    "                curWords.append(w)\n",
    "            else:\n",
    "                ret.append(self.process(curLen, curWords, maxWidth))\n",
    "                curLen, curWords = len(w), [w]\n",
    "                \n",
    "        # 剩下没有安排的就是最后一行，按照最后一行靠左处理\n",
    "        if len(curWords) > 0:\n",
    "            cur = ''\n",
    "            for i in range(len(curWords) - 1):\n",
    "                cur = cur + curWords[i] + ' '\n",
    "            cur = cur + curWords[-1]\n",
    "            cur += ' ' * (maxWidth - len(cur))\n",
    "            ret.append(cur)\n",
    "        return ret"
   ]
  }
 ],
 "metadata": {
  "kernelspec": {
   "display_name": "Python 3",
   "language": "python",
   "name": "python3"
  },
  "language_info": {
   "codemirror_mode": {
    "name": "ipython",
    "version": 3
   },
   "file_extension": ".py",
   "mimetype": "text/x-python",
   "name": "python",
   "nbconvert_exporter": "python",
   "pygments_lexer": "ipython3",
   "version": "3.8.5"
  }
 },
 "nbformat": 4,
 "nbformat_minor": 4
}
